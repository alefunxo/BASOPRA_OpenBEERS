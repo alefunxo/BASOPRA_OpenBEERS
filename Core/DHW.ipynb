{
 "cells": [
  {
   "cell_type": "code",
   "execution_count": 3,
   "id": "3ea49e3d",
   "metadata": {},
   "outputs": [],
   "source": [
    "import xml.etree.ElementTree as ET\n",
    "import pandas as pd\n",
    "from collections import defaultdict\n"
   ]
  },
  {
   "cell_type": "code",
   "execution_count": 31,
   "id": "c669becc",
   "metadata": {},
   "outputs": [
    {
     "name": "stdout",
     "output_type": "stream",
     "text": [
      "4767.812500000001\n"
     ]
    }
   ],
   "source": [
    "import xml.etree.ElementTree as ET\n",
    "import pandas as pd\n",
    "import numpy as np\n",
    "\n",
    "def get_dhw_profiles(xml_root):\n",
    "    day_profiles = {}\n",
    "    for dp in xml_root.findall(\".//DHWDayProfile\"):\n",
    "        day_profiles[dp.attrib[\"id\"]] = {\n",
    "            \"waterConsumption\": float(dp.attrib[\"waterConsumption\"]),\n",
    "            \"profile\": [float(dp.attrib[f\"p{i}\"]) for i in range(1, 25)]\n",
    "        }\n",
    "\n",
    "    year_profiles = {}\n",
    "    for yp in xml_root.findall(\".//DHWYearProfile\"):\n",
    "        profile = []\n",
    "        for i in range(1, 366):\n",
    "            profile.append(yp.attrib.get(f\"d{i}\"))\n",
    "        year_profiles[yp.attrib[\"id\"]] = profile\n",
    "\n",
    "    return day_profiles, year_profiles\n",
    "\n",
    "def compute_building_dhw(xml_root):\n",
    "    day_profiles, year_profiles = get_dhw_profiles(xml_root)\n",
    "    building_profiles = {}\n",
    "\n",
    "    for b in xml_root.findall(\".//Building\"):\n",
    "        building_name = b.attrib[\"Name\"]\n",
    "        occupants = b.find(\".//Occupants\")\n",
    "        \n",
    "        n_occ = int(occupants.attrib[\"n\"])\n",
    "        dhw_day_id = occupants.attrib[\"DHWType\"]\n",
    "        dhw_year_id = dhw_day_id  # assuming same ID unless specified differently\n",
    "\n",
    "        \n",
    "\n",
    "        daily_profile = day_profiles[dhw_day_id][\"profile\"]\n",
    "        daily_consumption = day_profiles[dhw_day_id][\"waterConsumption\"] * n_occ\n",
    "        yearly_pattern = year_profiles[dhw_year_id]\n",
    "\n",
    "        hourly_values = []\n",
    "        for day_id in yearly_pattern:\n",
    "            \n",
    "            p = day_profiles[day_id][\"profile\"]\n",
    "            c = day_profiles[day_id][\"waterConsumption\"] * n_occ\n",
    "            hourly_values.extend([c * val for val in p])\n",
    "\n",
    "        series = pd.Series(hourly_values, name=building_name)\n",
    "        building_profiles[building_name] = series\n",
    "\n",
    "    return building_profiles\n",
    "def convert_water_to_energy_kwh(series, target_temp=55, inlet_temp=10, c=4180):\n",
    "    delta_T = target_temp - inlet_temp  # °C\n",
    "    energy_kwh = series * c * delta_T / 3_600_000  # J to kWh\n",
    "    return energy_kwh\n",
    "\n",
    "# Load and parse the XML\n",
    "path_to_file = r'C:\\Users\\alejandr.penabell\\Downloads\\simulations (1)\\simulations\\val_de_bagnes_41_climate_contemporary_pv_roof_2025\\simulation.xml'\n",
    "tree = ET.parse(path_to_file)\n",
    "root = tree.getroot()\n",
    "\n",
    "# Compute DHW profiles\n",
    "building_dhw_profiles = compute_building_dhw(root)\n",
    "building_dhw_energy_profiles_kwh = {\n",
    "    name: convert_water_to_energy_kwh(profile)\n",
    "    for name, profile in building_dhw_profiles.items()\n",
    "}\n",
    "\n",
    "# Display a sample building profile as requested\n",
    "sample_profile = next(iter(building_dhw_energy_profiles_kwh.values()))\n",
    "print(sample_profile.sum())\n",
    "\n",
    "# 953 kWh for 50 l per person per year at 55°C\n",
    "\n"
   ]
  },
  {
   "cell_type": "code",
   "execution_count": null,
   "id": "25ef1e1e",
   "metadata": {},
   "outputs": [],
   "source": []
  }
 ],
 "metadata": {
  "kernelspec": {
   "display_name": "psycho_2025",
   "language": "python",
   "name": "python3"
  },
  "language_info": {
   "codemirror_mode": {
    "name": "ipython",
    "version": 3
   },
   "file_extension": ".py",
   "mimetype": "text/x-python",
   "name": "python",
   "nbconvert_exporter": "python",
   "pygments_lexer": "ipython3",
   "version": "3.12.9"
  }
 },
 "nbformat": 4,
 "nbformat_minor": 5
}
