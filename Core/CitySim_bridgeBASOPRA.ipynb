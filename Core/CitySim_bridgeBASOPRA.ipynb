{
 "cells": [
  {
   "cell_type": "markdown",
   "metadata": {},
   "source": [
    "## This script prepares the output from CitySim to convert it into an input for BASOPRA EV-HP\n",
    "### This script uses basopra_updated as environment"
   ]
  },
  {
   "cell_type": "code",
   "execution_count": 38,
   "metadata": {},
   "outputs": [],
   "source": [
    "import pandas as pd\n",
    "import numpy as np\n",
    "import os\n",
    "import csv\n",
    "import re\n",
    "import matplotlib.pyplot as plt"
   ]
  },
  {
   "cell_type": "code",
   "execution_count": 204,
   "metadata": {},
   "outputs": [],
   "source": [
    "df = pd.read_csv('C:/Users/alejandr.penabell/Downloads/20250404_citysim/val_de_bagnes_41_climate_rcp85_pv_roof_walls_2050/simulation_TH.out',sep='\\t')\n",
    "\n"
   ]
  },
  {
   "cell_type": "markdown",
   "metadata": {},
   "source": [
    "## The data\n",
    "The data is in a *1-h resolution*\n",
    "Per building there are the following columns\n",
    "\n",
    "'Cooling(Wh)'\n",
    "\n",
    "'DHWStockTemperature(celsius)'\n",
    "\n",
    "'ElectricConsumption(kWh)'\n",
    "\n",
    "'FuelConsumption(MJ)'\n",
    "\n",
    "'HeatStockTemperature(celsius)'\n",
    "\n",
    "'Heating(Wh)'\n",
    "\n",
    "'MachinePower(W)'\n",
    "\n",
    "'Qi(Wh)'\n",
    "\n",
    "'Qs(Wh)'\n",
    "\n",
    "'SolarPVProduction(Wh)'\n",
    "\n",
    "'SolarThermalProduction(Wh)'\n",
    "\n",
    "'Ta(celsius)'\n",
    "\n",
    "'VdotVent(m³/h)'\n"
   ]
  },
  {
   "cell_type": "code",
   "execution_count": 205,
   "metadata": {},
   "outputs": [
    {
     "data": {
      "text/plain": [
       "#timeStep                                                             3.837318e+07\n",
       "26930(Building-902138-CH895237183088):0:Ta(celsius)                   2.106791e+05\n",
       "26930(Building-902138-CH895237183088):0:Heating(Wh)                   1.228662e+07\n",
       "26930(Building-902138-CH895237183088):0:Cooling(Wh)                  -1.442343e+07\n",
       "26930(Building-902138-CH895237183088):0:Qi(Wh)                        3.038556e+07\n",
       "26930(Building-902138-CH895237183088):0:Qs(Wh)                        1.225080e+07\n",
       "26930(Building-902138-CH895237183088):0:VdotVent(m³/h)                2.822738e+06\n",
       "26930(Building-902138-CH895237183088):DHWStockTemperature(celsius)    5.277900e+05\n",
       "26930(Building-902138-CH895237183088):MachinePower(W)                 1.713556e+07\n",
       "26930(Building-902138-CH895237183088):FuelConsumption(MJ)             6.425831e+04\n",
       "26930(Building-902138-CH895237183088):ElectricConsumption(kWh)        4.594985e+03\n",
       "26930(Building-902138-CH895237183088):SolarPVProduction(Wh)           3.947787e+07\n",
       "26930(Building-902138-CH895237183088):SolarThermalProduction(Wh)      0.000000e+00\n",
       "26931(Building-902142-CH963752308786):0:Ta(celsius)                   2.120975e+05\n",
       "dtype: float64"
      ]
     },
     "execution_count": 205,
     "metadata": {},
     "output_type": "execute_result"
    }
   ],
   "source": [
    "df.sum()[:14]"
   ]
  },
  {
   "cell_type": "code",
   "execution_count": 206,
   "metadata": {},
   "outputs": [
    {
     "name": "stdout",
     "output_type": "stream",
     "text": [
      "Number of buildings: 6\n",
      "Building: 26930(Building-902138-CH895237183088) has outputs: ['Cooling(Wh)', 'DHWStockTemperature(celsius)', 'ElectricConsumption(kWh)', 'FuelConsumption(MJ)', 'Heating(Wh)', 'MachinePower(W)', 'Qi(Wh)', 'Qs(Wh)', 'SolarPVProduction(Wh)', 'SolarThermalProduction(Wh)', 'Ta(celsius)', 'VdotVent(m³/h)']\n",
      "Building: 26931(Building-902142-CH963752308786) has outputs: ['Cooling(Wh)', 'DHWStockTemperature(celsius)', 'ElectricConsumption(kWh)', 'FuelConsumption(MJ)', 'Heating(Wh)', 'MachinePower(W)', 'Qi(Wh)', 'Qs(Wh)', 'SolarPVProduction(Wh)', 'SolarThermalProduction(Wh)', 'Ta(celsius)', 'VdotVent(m³/h)']\n",
      "Building: 26932(Building-190183183-CH113098523737) has outputs: ['Cooling(Wh)', 'DHWStockTemperature(celsius)', 'ElectricConsumption(kWh)', 'FuelConsumption(MJ)', 'Heating(Wh)', 'MachinePower(W)', 'Qi(Wh)', 'Qs(Wh)', 'SolarPVProduction(Wh)', 'SolarThermalProduction(Wh)', 'Ta(celsius)', 'VdotVent(m³/h)']\n",
      "Building: 26933(Building-902139-CH503730975261) has outputs: ['Cooling(Wh)', 'DHWStockTemperature(celsius)', 'ElectricConsumption(kWh)', 'FuelConsumption(MJ)', 'Heating(Wh)', 'MachinePower(W)', 'Qi(Wh)', 'Qs(Wh)', 'SolarPVProduction(Wh)', 'SolarThermalProduction(Wh)', 'Ta(celsius)', 'VdotVent(m³/h)']\n",
      "Building: 26934(Building-902141-CH513082523745) has outputs: ['Cooling(Wh)', 'DHWStockTemperature(celsius)', 'ElectricConsumption(kWh)', 'FuelConsumption(MJ)', 'Heating(Wh)', 'MachinePower(W)', 'Qi(Wh)', 'Qs(Wh)', 'SolarPVProduction(Wh)', 'SolarThermalProduction(Wh)', 'Ta(celsius)', 'VdotVent(m³/h)']\n",
      "Building: Unnamed has outputs: [' 61']\n"
     ]
    }
   ],
   "source": [
    "building_outputs = {}\n",
    "\n",
    "for col in df.columns:\n",
    "    if ':' not in col or col.startswith('#timeStep'):\n",
    "        continue\n",
    "    parts = col.split(':')\n",
    "    building_id = parts[0]\n",
    "    output_type = parts[-1]\n",
    "    building_outputs.setdefault(building_id, set()).add(output_type)\n",
    "\n",
    "print(\"Number of buildings:\", len(building_outputs))\n",
    "for building, outputs in building_outputs.items():\n",
    "    print(\"Building:\", building, \"has outputs:\", sorted(outputs))"
   ]
  },
  {
   "cell_type": "code",
   "execution_count": 207,
   "metadata": {},
   "outputs": [
    {
     "data": {
      "text/plain": [
       "['Cooling(Wh)',\n",
       " 'DHWStockTemperature(celsius)',\n",
       " 'ElectricConsumption(kWh)',\n",
       " 'FuelConsumption(MJ)',\n",
       " 'HeatStockTemperature(celsius)',\n",
       " 'Heating(Wh)',\n",
       " 'MachinePower(W)',\n",
       " 'Qi(Wh)',\n",
       " 'Qs(Wh)',\n",
       " 'SolarPVProduction(Wh)',\n",
       " 'SolarThermalProduction(Wh)',\n",
       " 'Ta(celsius)',\n",
       " 'VdotVent(m³/h)']"
      ]
     },
     "execution_count": 207,
     "metadata": {},
     "output_type": "execute_result"
    }
   ],
   "source": [
    "['Cooling(Wh)', 'DHWStockTemperature(celsius)', 'ElectricConsumption(kWh)', 'FuelConsumption(MJ)', 'HeatStockTemperature(celsius)', 'Heating(Wh)', 'MachinePower(W)', 'Qi(Wh)', 'Qs(Wh)', 'SolarPVProduction(Wh)', 'SolarThermalProduction(Wh)', 'Ta(celsius)', 'VdotVent(m³/h)']"
   ]
  },
  {
   "cell_type": "markdown",
   "metadata": {},
   "source": [
    "## For BASOPRA we are only interested on selected outputs:\n",
    "\n",
    "'SolarPVProduction', 'ElectricConsumption', 'Qs'\n",
    "\n",
    "Now in kWh"
   ]
  },
  {
   "cell_type": "code",
   "execution_count": 208,
   "metadata": {},
   "outputs": [],
   "source": [
    "import pandas as pd\n",
    "import re\n",
    "\n",
    "def process_citysim_output(df):\n",
    "    \"\"\"\n",
    "    Process a citysim output DataFrame to extract building outputs and create summary dictionaries and a summary DataFrame.\n",
    "    \n",
    "    Parameters:\n",
    "        df (pd.DataFrame): Citysim output DataFrame with columns like \n",
    "            '24280(Building-925174-CH913053520904):0:Ta(celsius)'.\n",
    "    \n",
    "    Returns:\n",
    "        building_names (set): Unique building identifiers.\n",
    "        building_outputs (dict): Keys are building names; values are dicts with outputs of interest (as pd.Series).\n",
    "        annual_summary (dict): Keys are building names; values are dicts with annual summed outputs.\n",
    "        summary_df (pd.DataFrame): DataFrame summarizing the annual outputs per building.\n",
    "    \"\"\"\n",
    "    # Extract unique building names.\n",
    "    building_names = set()\n",
    "    pattern_name = re.compile(r'^(\\d+\\([^)]*\\))')\n",
    "    for col in df.columns:\n",
    "        if col.startswith('#') or col.startswith('Unnamed'):\n",
    "            continue\n",
    "        match = pattern_name.match(col)\n",
    "        if match:\n",
    "            building_names.add(match.group(1))\n",
    "    \n",
    "    # Helper to extract building, output, and unit from a column name.\n",
    "    def extract_building_output(col):\n",
    "        pattern = r'^(?P<building>\\d+\\([^)]*\\))(?::\\d+)?\\:(?P<output>\\w+)\\((?P<unit>[^)]+)\\)$'\n",
    "        match = re.match(pattern, col)\n",
    "        if match:\n",
    "            return match.group('building'), match.group('output'), match.group('unit')\n",
    "        return None, None, None\n",
    "\n",
    "    outputs_of_interest = ['SolarPVProduction', 'ElectricConsumption', 'Qs']\n",
    "    building_outputs = {}\n",
    "    for col in df.columns:\n",
    "        if col.startswith('#timeStep') or col.startswith('Unnamed'):\n",
    "            continue\n",
    "        building, output, unit = extract_building_output(col)\n",
    "        if building and output in outputs_of_interest:\n",
    "            if building not in building_outputs:\n",
    "                building_outputs[building] = {}\n",
    "            # Convert from Wh to kWh for SolarPVProduction and Qs.\n",
    "            if output in ['SolarPVProduction', 'Qs'] and unit == 'Wh':\n",
    "                building_outputs[building][output] = df[col] / 1000.0\n",
    "            else:\n",
    "                building_outputs[building][output] = df[col]\n",
    "    \n",
    "    # Create annual summary (summing each output).\n",
    "    annual_summary = {}\n",
    "    for building in building_names:\n",
    "        annual_summary[building] = {}\n",
    "        for output in outputs_of_interest:\n",
    "            if building in building_outputs and output in building_outputs[building]:\n",
    "                annual_summary[building][output] = building_outputs[building][output].sum()\n",
    "            else:\n",
    "                annual_summary[building][output] = None\n",
    "                \n",
    "    summary_df = pd.DataFrame.from_dict(annual_summary, orient='index')\n",
    "    \n",
    "    return building_names, building_outputs, annual_summary, summary_df\n",
    "\n",
    "# Example usage:\n",
    "# building_names, building_outputs, annual_summary, summary_df = process_citysim_output(df)\n",
    "# print(\"Buildings:\", sorted(building_names))\n",
    "# print(\"Annual outputs per building:\")\n",
    "# print(summary_df)\n"
   ]
  },
  {
   "cell_type": "markdown",
   "metadata": {},
   "source": [
    "There are several buildings per output"
   ]
  },
  {
   "cell_type": "code",
   "execution_count": 209,
   "metadata": {},
   "outputs": [],
   "source": [
    "[building_names, building_outputs, annual_summary, summary_df] = process_citysim_output(df)\n"
   ]
  },
  {
   "cell_type": "code",
   "execution_count": 210,
   "metadata": {},
   "outputs": [],
   "source": [
    "import pickle\n",
    "def save_obj(obj, name):\n",
    "    with open('../Input/' + name + '.pkl', 'wb') as f:\n",
    "        pickle.dump(obj, f, pickle.HIGHEST_PROTOCOL)\n"
   ]
  },
  {
   "cell_type": "code",
   "execution_count": 211,
   "metadata": {},
   "outputs": [],
   "source": [
    "save_obj(building_outputs,'val_de_bagnes_41_climate_rcp85_pv_roof_walls_2050')"
   ]
  },
  {
   "cell_type": "code",
   "execution_count": 49,
   "metadata": {},
   "outputs": [
    {
     "data": {
      "text/plain": [
       "5"
      ]
     },
     "execution_count": 49,
     "metadata": {},
     "output_type": "execute_result"
    }
   ],
   "source": [
    "len(building_names)"
   ]
  },
  {
   "cell_type": "code",
   "execution_count": 50,
   "metadata": {},
   "outputs": [
    {
     "data": {
      "text/plain": [
       "{'26930(Building-902138-CH895237183088)',\n",
       " '26931(Building-902142-CH963752308786)',\n",
       " '26932(Building-190183183-CH113098523737)',\n",
       " '26933(Building-902139-CH503730975261)',\n",
       " '26934(Building-902141-CH513082523745)'}"
      ]
     },
     "execution_count": 50,
     "metadata": {},
     "output_type": "execute_result"
    }
   ],
   "source": [
    "building_names"
   ]
  },
  {
   "cell_type": "code",
   "execution_count": 56,
   "metadata": {},
   "outputs": [
    {
     "data": {
      "text/plain": [
       "'24278(Building-925098-CH943052901142)'"
      ]
     },
     "execution_count": 56,
     "metadata": {},
     "output_type": "execute_result"
    }
   ],
   "source": [
    "building"
   ]
  },
  {
   "cell_type": "code",
   "execution_count": 57,
   "metadata": {},
   "outputs": [
    {
     "data": {
      "text/plain": [
       "<Axes: >"
      ]
     },
     "execution_count": 57,
     "metadata": {},
     "output_type": "execute_result"
    },
    {
     "data": {
      "image/png": "[encoded data removed]",
      "text/plain": [
       "<Figure size 640x480 with 1 Axes>"
      ]
     },
     "metadata": {},
     "output_type": "display_data"
    }
   ],
   "source": [
    "pd.DataFrame(building_outputs['24288(Building-9014588-CH729613523003)']).loc[:100,['ElectricConsumption','Qs']].plot()\n"
   ]
  },
  {
   "cell_type": "code",
   "execution_count": 58,
   "metadata": {},
   "outputs": [
    {
     "data": {
      "text/plain": [
       "<Axes: >"
      ]
     },
     "execution_count": 58,
     "metadata": {},
     "output_type": "execute_result"
    },
    {
     "data": {
      "image/png": "[encoded data removed]",
      "text/plain": [
       "<Figure size 640x480 with 1 Axes>"
      ]
     },
     "metadata": {},
     "output_type": "display_data"
    }
   ],
   "source": [
    "pd.DataFrame(building_outputs['24283(Building-925146-CH109630105229)']).loc[:100,['ElectricConsumption','Qs']].plot()"
   ]
  },
  {
   "cell_type": "code",
   "execution_count": 45,
   "metadata": {},
   "outputs": [],
   "source": [
    "pd.DataFrame(building_outputs['24288(Building-9014588-CH729613523003)']).to_csv('example_building_city_sim.csv')"
   ]
  },
  {
   "cell_type": "markdown",
   "metadata": {},
   "source": [
    "For the moment we have only an input from the PV, not yet included in CitySim output"
   ]
  },
  {
   "cell_type": "markdown",
   "metadata": {},
   "source": []
  },
  {
   "cell_type": "code",
   "execution_count": 50,
   "metadata": {},
   "outputs": [],
   "source": [
    "df_pv = pd.read_csv('../Input/baseline_DeepBlue_TH.tsv',sep='\\t')"
   ]
  },
  {
   "cell_type": "code",
   "execution_count": 51,
   "metadata": {},
   "outputs": [
    {
     "data": {
      "text/html": [
       "<div>\n",
       "<style scoped>\n",
       "    .dataframe tbody tr th:only-of-type {\n",
       "        vertical-align: middle;\n",
       "    }\n",
       "\n",
       "    .dataframe tbody tr th {\n",
       "        vertical-align: top;\n",
       "    }\n",
       "\n",
       "    .dataframe thead th {\n",
       "        text-align: right;\n",
       "    }\n",
       "</style>\n",
       "<table border=\"1\" class=\"dataframe\">\n",
       "  <thead>\n",
       "    <tr style=\"text-align: right;\">\n",
       "      <th></th>\n",
       "      <th>#timeStep</th>\n",
       "      <th>1(972666):0:Ta(celsius)</th>\n",
       "      <th>1(972666):0:Heating(Wh)</th>\n",
       "      <th>1(972666):0:Cooling(Wh)</th>\n",
       "      <th>1(972666):0:Qi(Wh)</th>\n",
       "      <th>1(972666):0:Qs(Wh)</th>\n",
       "      <th>1(972666):0:VdotVent(m³/h)</th>\n",
       "      <th>1(972666):HeatStockTemperature(celsius)</th>\n",
       "      <th>1(972666):MachinePower(W)</th>\n",
       "      <th>1(972666):FuelConsumption(MJ)</th>\n",
       "      <th>...</th>\n",
       "      <th>3(972640):0:Qi(Wh)</th>\n",
       "      <th>3(972640):0:Qs(Wh)</th>\n",
       "      <th>3(972640):0:VdotVent(m³/h)</th>\n",
       "      <th>3(972640):HeatStockTemperature(celsius)</th>\n",
       "      <th>3(972640):MachinePower(W)</th>\n",
       "      <th>3(972640):FuelConsumption(MJ)</th>\n",
       "      <th>3(972640):ElectricConsumption(kWh)</th>\n",
       "      <th>3(972640):SolarPVProduction(Wh)</th>\n",
       "      <th>3(972640):SolarThermalProduction(Wh)</th>\n",
       "      <th>Unnamed: 37</th>\n",
       "    </tr>\n",
       "  </thead>\n",
       "  <tbody>\n",
       "    <tr>\n",
       "      <th>0</th>\n",
       "      <td>1</td>\n",
       "      <td>20.0</td>\n",
       "      <td>16343</td>\n",
       "      <td>0</td>\n",
       "      <td>1323</td>\n",
       "      <td>16343</td>\n",
       "      <td>0.0</td>\n",
       "      <td>60.0</td>\n",
       "      <td>24743</td>\n",
       "      <td>92.788</td>\n",
       "      <td>...</td>\n",
       "      <td>1213</td>\n",
       "      <td>15222</td>\n",
       "      <td>0.0</td>\n",
       "      <td>60.0</td>\n",
       "      <td>23622</td>\n",
       "      <td>88.584</td>\n",
       "      <td>0.248</td>\n",
       "      <td>0</td>\n",
       "      <td>0</td>\n",
       "      <td>NaN</td>\n",
       "    </tr>\n",
       "    <tr>\n",
       "      <th>1</th>\n",
       "      <td>2</td>\n",
       "      <td>20.0</td>\n",
       "      <td>16261</td>\n",
       "      <td>0</td>\n",
       "      <td>1323</td>\n",
       "      <td>16261</td>\n",
       "      <td>0.0</td>\n",
       "      <td>60.0</td>\n",
       "      <td>24661</td>\n",
       "      <td>92.477</td>\n",
       "      <td>...</td>\n",
       "      <td>1213</td>\n",
       "      <td>15030</td>\n",
       "      <td>0.0</td>\n",
       "      <td>60.0</td>\n",
       "      <td>23430</td>\n",
       "      <td>87.862</td>\n",
       "      <td>0.248</td>\n",
       "      <td>0</td>\n",
       "      <td>0</td>\n",
       "      <td>NaN</td>\n",
       "    </tr>\n",
       "    <tr>\n",
       "      <th>2</th>\n",
       "      <td>3</td>\n",
       "      <td>20.0</td>\n",
       "      <td>16562</td>\n",
       "      <td>0</td>\n",
       "      <td>1323</td>\n",
       "      <td>16562</td>\n",
       "      <td>0.0</td>\n",
       "      <td>60.0</td>\n",
       "      <td>24962</td>\n",
       "      <td>93.607</td>\n",
       "      <td>...</td>\n",
       "      <td>1213</td>\n",
       "      <td>15309</td>\n",
       "      <td>0.0</td>\n",
       "      <td>60.0</td>\n",
       "      <td>23709</td>\n",
       "      <td>88.909</td>\n",
       "      <td>0.248</td>\n",
       "      <td>0</td>\n",
       "      <td>0</td>\n",
       "      <td>NaN</td>\n",
       "    </tr>\n",
       "    <tr>\n",
       "      <th>3</th>\n",
       "      <td>4</td>\n",
       "      <td>20.0</td>\n",
       "      <td>16768</td>\n",
       "      <td>0</td>\n",
       "      <td>1323</td>\n",
       "      <td>16768</td>\n",
       "      <td>0.0</td>\n",
       "      <td>60.0</td>\n",
       "      <td>25168</td>\n",
       "      <td>94.380</td>\n",
       "      <td>...</td>\n",
       "      <td>1213</td>\n",
       "      <td>15495</td>\n",
       "      <td>0.0</td>\n",
       "      <td>60.0</td>\n",
       "      <td>23895</td>\n",
       "      <td>89.607</td>\n",
       "      <td>0.248</td>\n",
       "      <td>0</td>\n",
       "      <td>0</td>\n",
       "      <td>NaN</td>\n",
       "    </tr>\n",
       "    <tr>\n",
       "      <th>4</th>\n",
       "      <td>5</td>\n",
       "      <td>20.0</td>\n",
       "      <td>16969</td>\n",
       "      <td>0</td>\n",
       "      <td>1323</td>\n",
       "      <td>16969</td>\n",
       "      <td>0.0</td>\n",
       "      <td>60.0</td>\n",
       "      <td>25369</td>\n",
       "      <td>95.135</td>\n",
       "      <td>...</td>\n",
       "      <td>1213</td>\n",
       "      <td>15682</td>\n",
       "      <td>0.0</td>\n",
       "      <td>60.0</td>\n",
       "      <td>24082</td>\n",
       "      <td>90.308</td>\n",
       "      <td>0.248</td>\n",
       "      <td>0</td>\n",
       "      <td>0</td>\n",
       "      <td>NaN</td>\n",
       "    </tr>\n",
       "  </tbody>\n",
       "</table>\n",
       "<p>5 rows × 38 columns</p>\n",
       "</div>"
      ],
      "text/plain": [
       "   #timeStep  1(972666):0:Ta(celsius)  1(972666):0:Heating(Wh)  \\\n",
       "0          1                     20.0                    16343   \n",
       "1          2                     20.0                    16261   \n",
       "2          3                     20.0                    16562   \n",
       "3          4                     20.0                    16768   \n",
       "4          5                     20.0                    16969   \n",
       "\n",
       "   1(972666):0:Cooling(Wh)  1(972666):0:Qi(Wh)  1(972666):0:Qs(Wh)  \\\n",
       "0                        0                1323               16343   \n",
       "1                        0                1323               16261   \n",
       "2                        0                1323               16562   \n",
       "3                        0                1323               16768   \n",
       "4                        0                1323               16969   \n",
       "\n",
       "   1(972666):0:VdotVent(m³/h)  1(972666):HeatStockTemperature(celsius)  \\\n",
       "0                         0.0                                     60.0   \n",
       "1                         0.0                                     60.0   \n",
       "2                         0.0                                     60.0   \n",
       "3                         0.0                                     60.0   \n",
       "4                         0.0                                     60.0   \n",
       "\n",
       "   1(972666):MachinePower(W)  1(972666):FuelConsumption(MJ)  ...  \\\n",
       "0                      24743                         92.788  ...   \n",
       "1                      24661                         92.477  ...   \n",
       "2                      24962                         93.607  ...   \n",
       "3                      25168                         94.380  ...   \n",
       "4                      25369                         95.135  ...   \n",
       "\n",
       "   3(972640):0:Qi(Wh)  3(972640):0:Qs(Wh)  3(972640):0:VdotVent(m³/h)  \\\n",
       "0                1213               15222                         0.0   \n",
       "1                1213               15030                         0.0   \n",
       "2                1213               15309                         0.0   \n",
       "3                1213               15495                         0.0   \n",
       "4                1213               15682                         0.0   \n",
       "\n",
       "   3(972640):HeatStockTemperature(celsius)  3(972640):MachinePower(W)  \\\n",
       "0                                     60.0                      23622   \n",
       "1                                     60.0                      23430   \n",
       "2                                     60.0                      23709   \n",
       "3                                     60.0                      23895   \n",
       "4                                     60.0                      24082   \n",
       "\n",
       "   3(972640):FuelConsumption(MJ)  3(972640):ElectricConsumption(kWh)  \\\n",
       "0                         88.584                               0.248   \n",
       "1                         87.862                               0.248   \n",
       "2                         88.909                               0.248   \n",
       "3                         89.607                               0.248   \n",
       "4                         90.308                               0.248   \n",
       "\n",
       "   3(972640):SolarPVProduction(Wh)  3(972640):SolarThermalProduction(Wh)  \\\n",
       "0                                0                                     0   \n",
       "1                                0                                     0   \n",
       "2                                0                                     0   \n",
       "3                                0                                     0   \n",
       "4                                0                                     0   \n",
       "\n",
       "   Unnamed: 37  \n",
       "0          NaN  \n",
       "1          NaN  \n",
       "2          NaN  \n",
       "3          NaN  \n",
       "4          NaN  \n",
       "\n",
       "[5 rows x 38 columns]"
      ]
     },
     "execution_count": 51,
     "metadata": {},
     "output_type": "execute_result"
    }
   ],
   "source": [
    "df_pv.head()"
   ]
  },
  {
   "cell_type": "code",
   "execution_count": 59,
   "metadata": {},
   "outputs": [],
   "source": [
    "[building_names, building_outputs, annual_summary, summary_df] = process_citysim_output(df_pv)\n"
   ]
  },
  {
   "cell_type": "code",
   "execution_count": 60,
   "metadata": {},
   "outputs": [
    {
     "data": {
      "text/plain": [
       "{'1(972666)', '2(504125937)', '3(972640)'}"
      ]
     },
     "execution_count": 60,
     "metadata": {},
     "output_type": "execute_result"
    }
   ],
   "source": [
    "building_names"
   ]
  },
  {
   "cell_type": "code",
   "execution_count": 61,
   "metadata": {},
   "outputs": [
    {
     "data": {
      "text/plain": [
       "{'1(972666)': {'Qs': 0       16.343\n",
       "  1       16.261\n",
       "  2       16.562\n",
       "  3       16.768\n",
       "  4       16.969\n",
       "           ...  \n",
       "  8755    23.206\n",
       "  8756    23.650\n",
       "  8757    23.339\n",
       "  8758    23.543\n",
       "  8759    25.554\n",
       "  Name: 1(972666):0:Qs(Wh), Length: 8760, dtype: float64,\n",
       "  'ElectricConsumption': 0       0.270\n",
       "  1       0.270\n",
       "  2       0.270\n",
       "  3       0.270\n",
       "  4       0.270\n",
       "          ...  \n",
       "  8755    2.133\n",
       "  8756    1.855\n",
       "  8757    2.318\n",
       "  8758    2.318\n",
       "  8759    0.270\n",
       "  Name: 1(972666):ElectricConsumption(kWh), Length: 8760, dtype: float64,\n",
       "  'SolarPVProduction': 0       0.0\n",
       "  1       0.0\n",
       "  2       0.0\n",
       "  3       0.0\n",
       "  4       0.0\n",
       "         ... \n",
       "  8755    0.0\n",
       "  8756    0.0\n",
       "  8757    0.0\n",
       "  8758    0.0\n",
       "  8759    0.0\n",
       "  Name: 1(972666):SolarPVProduction(Wh), Length: 8760, dtype: float64},\n",
       " '2(504125937)': {'Qs': 0        8.608\n",
       "  1        8.464\n",
       "  2        8.547\n",
       "  3        8.600\n",
       "  4        8.655\n",
       "           ...  \n",
       "  8755    11.391\n",
       "  8756    11.476\n",
       "  8757    11.457\n",
       "  8758    11.545\n",
       "  8759    11.630\n",
       "  Name: 2(504125937):0:Qs(Wh), Length: 8760, dtype: float64,\n",
       "  'ElectricConsumption': 0       0.064\n",
       "  1       0.064\n",
       "  2       0.064\n",
       "  3       0.064\n",
       "  4       0.064\n",
       "          ...  \n",
       "  8755    0.051\n",
       "  8756    0.051\n",
       "  8757    0.064\n",
       "  8758    0.064\n",
       "  8759    0.064\n",
       "  Name: 2(504125937):ElectricConsumption(kWh), Length: 8760, dtype: float64,\n",
       "  'SolarPVProduction': 0       0.0\n",
       "  1       0.0\n",
       "  2       0.0\n",
       "  3       0.0\n",
       "  4       0.0\n",
       "         ... \n",
       "  8755    0.0\n",
       "  8756    0.0\n",
       "  8757    0.0\n",
       "  8758    0.0\n",
       "  8759    0.0\n",
       "  Name: 2(504125937):SolarPVProduction(Wh), Length: 8760, dtype: float64},\n",
       " '3(972640)': {'Qs': 0       15.222\n",
       "  1       15.030\n",
       "  2       15.309\n",
       "  3       15.495\n",
       "  4       15.682\n",
       "           ...  \n",
       "  8755    21.501\n",
       "  8756    21.915\n",
       "  8757    21.636\n",
       "  8758    21.825\n",
       "  8759    23.660\n",
       "  Name: 3(972640):0:Qs(Wh), Length: 8760, dtype: float64,\n",
       "  'ElectricConsumption': 0       0.248\n",
       "  1       0.248\n",
       "  2       0.248\n",
       "  3       0.248\n",
       "  4       0.248\n",
       "          ...  \n",
       "  8755    1.955\n",
       "  8756    1.700\n",
       "  8757    2.125\n",
       "  8758    2.125\n",
       "  8759    0.248\n",
       "  Name: 3(972640):ElectricConsumption(kWh), Length: 8760, dtype: float64,\n",
       "  'SolarPVProduction': 0       0.0\n",
       "  1       0.0\n",
       "  2       0.0\n",
       "  3       0.0\n",
       "  4       0.0\n",
       "         ... \n",
       "  8755    0.0\n",
       "  8756    0.0\n",
       "  8757    0.0\n",
       "  8758    0.0\n",
       "  8759    0.0\n",
       "  Name: 3(972640):SolarPVProduction(Wh), Length: 8760, dtype: float64}}"
      ]
     },
     "execution_count": 61,
     "metadata": {},
     "output_type": "execute_result"
    }
   ],
   "source": [
    "building_outputs"
   ]
  },
  {
   "cell_type": "code",
   "execution_count": null,
   "metadata": {},
   "outputs": [],
   "source": []
  },
  {
   "cell_type": "code",
   "execution_count": 62,
   "metadata": {},
   "outputs": [
    {
     "data": {
      "text/html": [
       "<div>\n",
       "<style scoped>\n",
       "    .dataframe tbody tr th:only-of-type {\n",
       "        vertical-align: middle;\n",
       "    }\n",
       "\n",
       "    .dataframe tbody tr th {\n",
       "        vertical-align: top;\n",
       "    }\n",
       "\n",
       "    .dataframe thead th {\n",
       "        text-align: right;\n",
       "    }\n",
       "</style>\n",
       "<table border=\"1\" class=\"dataframe\">\n",
       "  <thead>\n",
       "    <tr style=\"text-align: right;\">\n",
       "      <th></th>\n",
       "      <th>SolarPVProduction</th>\n",
       "      <th>ElectricConsumption</th>\n",
       "      <th>Qs</th>\n",
       "    </tr>\n",
       "  </thead>\n",
       "  <tbody>\n",
       "    <tr>\n",
       "      <th>1(972666)</th>\n",
       "      <td>18098.170</td>\n",
       "      <td>11025.190</td>\n",
       "      <td>85331.433</td>\n",
       "    </tr>\n",
       "    <tr>\n",
       "      <th>3(972640)</th>\n",
       "      <td>9112.617</td>\n",
       "      <td>10107.945</td>\n",
       "      <td>79952.963</td>\n",
       "    </tr>\n",
       "    <tr>\n",
       "      <th>2(504125937)</th>\n",
       "      <td>0.000</td>\n",
       "      <td>4502.275</td>\n",
       "      <td>39771.509</td>\n",
       "    </tr>\n",
       "  </tbody>\n",
       "</table>\n",
       "</div>"
      ],
      "text/plain": [
       "              SolarPVProduction  ElectricConsumption         Qs\n",
       "1(972666)             18098.170            11025.190  85331.433\n",
       "3(972640)              9112.617            10107.945  79952.963\n",
       "2(504125937)              0.000             4502.275  39771.509"
      ]
     },
     "execution_count": 62,
     "metadata": {},
     "output_type": "execute_result"
    }
   ],
   "source": [
    "summary_df"
   ]
  },
  {
   "cell_type": "code",
   "execution_count": 64,
   "metadata": {},
   "outputs": [],
   "source": [
    "pd.DataFrame(building_outputs['1(972666)']).to_csv('example_Jerome.csv')"
   ]
  },
  {
   "cell_type": "code",
   "execution_count": null,
   "metadata": {},
   "outputs": [],
   "source": []
  }
 ],
 "metadata": {
  "kernelspec": {
   "display_name": "basopra_updated",
   "language": "python",
   "name": "python3"
  },
  "language_info": {
   "codemirror_mode": {
    "name": "ipython",
    "version": 3
   },
   "file_extension": ".py",
   "mimetype": "text/x-python",
   "name": "python",
   "nbconvert_exporter": "python",
   "pygments_lexer": "ipython3",
   "version": "3.9.21"
  }
 },
 "nbformat": 4,
 "nbformat_minor": 2
}
