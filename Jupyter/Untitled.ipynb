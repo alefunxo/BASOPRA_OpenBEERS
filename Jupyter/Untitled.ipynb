{
 "cells": [
  {
   "cell_type": "code",
   "execution_count": 5,
   "metadata": {
    "collapsed": true,
    "jupyter": {
     "outputs_hidden": true
    }
   },
   "outputs": [],
   "source": [
    "import pandas as pd\n",
    "import numpy as np\n",
    "import matplotlib.pyplot as plt\n",
    "from pathlib import Path\n",
    "import itertools\n",
    "import csv\n",
    "import sys\n",
    "import os\n",
    "from typing import Any, Dict, Optional, Tuple"
   ]
  },
  {
   "cell_type": "code",
   "execution_count": 15,
   "metadata": {},
   "outputs": [],
   "source": [
    "project_root = os.path.abspath(os.path.join(os.getcwd(), \"..\"))\n",
    "sys.path.insert(0, project_root)\n"
   ]
  },
  {
   "cell_type": "code",
   "execution_count": 22,
   "metadata": {},
   "outputs": [
    {
     "data": {
      "text/plain": [
       "['.git',\n",
       " '.gitignore',\n",
       " '.ipynb_checkpoints',\n",
       " '.vscode',\n",
       " 'config',\n",
       " 'conthey_2_climate_contemporary_pv_roof_2025.xlsx',\n",
       " 'conthey_46_climate_rcp85_pv_roof_2050.xlsx',\n",
       " 'conthey_48_climate_rcp85_pv_none_2040.xlsx',\n",
       " 'conthey_6_climate_rcp85_pv_none_2050.xlsx',\n",
       " 'conthey_6_climate_rcp85_pv_roof_2040.xlsx',\n",
       " 'Core',\n",
       " 'day8_infeasible.ilp',\n",
       " 'elec_pricer',\n",
       " 'environment.yml',\n",
       " 'feedback on simulations.xlsx',\n",
       " 'heat_pump',\n",
       " 'helper.ipynb',\n",
       " 'Img',\n",
       " 'infeasible.ilp',\n",
       " 'infeasible_model.ilp',\n",
       " 'Input',\n",
       " 'Jupyter',\n",
       " 'latex',\n",
       " 'LICENSE',\n",
       " 'logs',\n",
       " 'monthey_1_climate_rcp85_pv_roof_walls_2050.xlsx',\n",
       " 'monthey_39_climate_rcp85_pv_roof_walls_2040.xlsx',\n",
       " 'monthey_88_climate_rcp26_pv_none_2040.xlsx',\n",
       " 'openbeers-data',\n",
       " 'openbeers-py',\n",
       " 'openbeers_api',\n",
       " 'openbeers_sims',\n",
       " 'openbeers_sims.zip',\n",
       " 'Other',\n",
       " 'out1295614521.csv',\n",
       " 'out9911725226.csv',\n",
       " 'Output',\n",
       " 'outputs_basopra',\n",
       " 'outputs_extraction',\n",
       " 'output_test.csv',\n",
       " 'Postproc',\n",
       " 'README.md',\n",
       " 'temp.ilp',\n",
       " 'Test',\n",
       " 'test_dhw.csv',\n",
       " 'test_dhw_full.csv',\n",
       " 'test_mEV.csv',\n",
       " 'test_mwe_24h.csv',\n",
       " 'test_mwe_24h_twoEVs.csv',\n",
       " 'utils',\n",
       " 'val_de_bagnes_210_climate_rcp85_pv_roof_walls_2040.xlsx',\n",
       " '__pycache__']"
      ]
     },
     "execution_count": 22,
     "metadata": {},
     "output_type": "execute_result"
    }
   ],
   "source": [
    "os.listdir(project_root)"
   ]
  },
  {
   "cell_type": "code",
   "execution_count": 24,
   "metadata": {},
   "outputs": [
    {
     "ename": "FileNotFoundError",
     "evalue": "[WinError 3] Le chemin d’accès spécifié est introuvable: 'config'",
     "output_type": "error",
     "traceback": [
      "\u001b[1;31m---------------------------------------------------------------------------\u001b[0m",
      "\u001b[1;31mFileNotFoundError\u001b[0m                         Traceback (most recent call last)",
      "Cell \u001b[1;32mIn[24], line 1\u001b[0m\n\u001b[1;32m----> 1\u001b[0m \u001b[38;5;28;01mfrom\u001b[39;00m\u001b[38;5;250m \u001b[39m\u001b[38;5;21;01mCore\u001b[39;00m\u001b[38;5;21;01m.\u001b[39;00m\u001b[38;5;21;01mrun\u001b[39;00m\u001b[38;5;250m \u001b[39m\u001b[38;5;28;01mimport\u001b[39;00m extract_simulation_data,input_aggregator,run_basopra_simulation,output_aggregator\n",
      "File \u001b[1;32mc:\\Users\\alejandr.penabell\\OneDrive - HESSO\\OpenBEERS\\Paper1_last\\Core\\run.py:7\u001b[0m\n\u001b[0;32m      5\u001b[0m sys\u001b[38;5;241m.\u001b[39mpath\u001b[38;5;241m.\u001b[39minsert(\u001b[38;5;241m0\u001b[39m, os\u001b[38;5;241m.\u001b[39mpath\u001b[38;5;241m.\u001b[39mabspath(os\u001b[38;5;241m.\u001b[39mpath\u001b[38;5;241m.\u001b[39mjoin(os\u001b[38;5;241m.\u001b[39mpath\u001b[38;5;241m.\u001b[39mdirname(\u001b[38;5;18m__file__\u001b[39m), \u001b[38;5;124m\"\u001b[39m\u001b[38;5;124m..\u001b[39m\u001b[38;5;124m\"\u001b[39m)))\n\u001b[0;32m      6\u001b[0m \u001b[38;5;28;01mimport\u001b[39;00m\u001b[38;5;250m \u001b[39m\u001b[38;5;21;01masyncio\u001b[39;00m\n\u001b[1;32m----> 7\u001b[0m \u001b[38;5;28;01mfrom\u001b[39;00m\u001b[38;5;250m \u001b[39m\u001b[38;5;21;01mconfig\u001b[39;00m\u001b[38;5;21;01m.\u001b[39;00m\u001b[38;5;21;01mloader\u001b[39;00m\u001b[38;5;250m \u001b[39m\u001b[38;5;28;01mimport\u001b[39;00m config\n\u001b[0;32m      8\u001b[0m \u001b[38;5;28;01mfrom\u001b[39;00m\u001b[38;5;250m \u001b[39m\u001b[38;5;21;01mutils\u001b[39;00m\u001b[38;5;21;01m.\u001b[39;00m\u001b[38;5;21;01mlogger\u001b[39;00m\u001b[38;5;250m \u001b[39m\u001b[38;5;28;01mimport\u001b[39;00m logger\n\u001b[0;32m      9\u001b[0m \u001b[38;5;28;01mfrom\u001b[39;00m\u001b[38;5;250m \u001b[39m\u001b[38;5;21;01mopenbeers_api\u001b[39;00m\u001b[38;5;21;01m.\u001b[39;00m\u001b[38;5;21;01mapi\u001b[39;00m\u001b[38;5;250m \u001b[39m\u001b[38;5;28;01mimport\u001b[39;00m ApiWrapper\n",
      "File \u001b[1;32mc:\\Users\\alejandr.penabell\\OneDrive - HESSO\\OpenBEERS\\Paper1_last\\config\\loader.py:45\u001b[0m\n\u001b[0;32m     41\u001b[0m     \u001b[38;5;28;01mreturn\u001b[39;00m Box(merged)\n\u001b[0;32m     43\u001b[0m \u001b[38;5;66;03m# Lazy singleton-style config object\u001b[39;00m\n\u001b[0;32m     44\u001b[0m \u001b[38;5;66;03m# Usage: from config.loader import config\u001b[39;00m\n\u001b[1;32m---> 45\u001b[0m config: Box \u001b[38;5;241m=\u001b[39m \u001b[43m_load_configs\u001b[49m\u001b[43m(\u001b[49m\u001b[43m)\u001b[49m\n",
      "File \u001b[1;32mc:\\Users\\alejandr.penabell\\OneDrive - HESSO\\OpenBEERS\\Paper1_last\\config\\loader.py:28\u001b[0m, in \u001b[0;36m_load_configs\u001b[1;34m(config_dir)\u001b[0m\n\u001b[0;32m     13\u001b[0m \u001b[38;5;250m\u001b[39m\u001b[38;5;124;03m\"\"\"\u001b[39;00m\n\u001b[0;32m     14\u001b[0m \u001b[38;5;124;03mLoad and merge YAML configuration files from a directory into a single config object.\u001b[39;00m\n\u001b[0;32m     15\u001b[0m \n\u001b[1;32m   (...)\u001b[0m\n\u001b[0;32m     24\u001b[0m \u001b[38;5;124;03m    Box: A dictionary-like object with attribute-style access to configuration values.\u001b[39;00m\n\u001b[0;32m     25\u001b[0m \u001b[38;5;124;03m\"\"\"\u001b[39;00m\n\u001b[0;32m     26\u001b[0m merged \u001b[38;5;241m=\u001b[39m {}\n\u001b[1;32m---> 28\u001b[0m \u001b[38;5;28;01mfor\u001b[39;00m filename \u001b[38;5;129;01min\u001b[39;00m \u001b[43mos\u001b[49m\u001b[38;5;241;43m.\u001b[39;49m\u001b[43mlistdir\u001b[49m\u001b[43m(\u001b[49m\u001b[43mconfig_dir\u001b[49m\u001b[43m)\u001b[49m:\n\u001b[0;32m     29\u001b[0m     \u001b[38;5;28;01mif\u001b[39;00m \u001b[38;5;129;01mnot\u001b[39;00m filename\u001b[38;5;241m.\u001b[39mendswith((\u001b[38;5;124m\"\u001b[39m\u001b[38;5;124m.yaml\u001b[39m\u001b[38;5;124m\"\u001b[39m, \u001b[38;5;124m\"\u001b[39m\u001b[38;5;124m.yml\u001b[39m\u001b[38;5;124m\"\u001b[39m)):\n\u001b[0;32m     30\u001b[0m         \u001b[38;5;28;01mcontinue\u001b[39;00m\n",
      "\u001b[1;31mFileNotFoundError\u001b[0m: [WinError 3] Le chemin d’accès spécifié est introuvable: 'config'"
     ]
    }
   ],
   "source": [
    "\n",
    "from Core.run import extract_simulation_data,input_aggregator,run_basopra_simulation,output_aggregator\n"
   ]
  },
  {
   "cell_type": "code",
   "execution_count": null,
   "metadata": {},
   "outputs": [],
   "source": [
    "extraction = await extract_simulation_data(sim, pricer)\n",
    "\n",
    "basopra_input = input_aggregator(extraction)\n",
    "basopra_output = run_basopra_simulation(basopra_input)\n",
    "basopra_output = output_aggregator(basopra_output)"
   ]
  },
  {
   "cell_type": "code",
   "execution_count": null,
   "metadata": {},
   "outputs": [],
   "source": []
  },
  {
   "cell_type": "code",
   "execution_count": null,
   "metadata": {},
   "outputs": [],
   "source": []
  },
  {
   "cell_type": "code",
   "execution_count": null,
   "metadata": {},
   "outputs": [],
   "source": []
  },
  {
   "cell_type": "code",
   "execution_count": null,
   "metadata": {},
   "outputs": [],
   "source": []
  },
  {
   "cell_type": "code",
   "execution_count": null,
   "metadata": {},
   "outputs": [],
   "source": []
  },
  {
   "cell_type": "code",
   "execution_count": null,
   "metadata": {},
   "outputs": [],
   "source": []
  },
  {
   "cell_type": "code",
   "execution_count": null,
   "metadata": {},
   "outputs": [],
   "source": []
  },
  {
   "cell_type": "code",
   "execution_count": null,
   "metadata": {},
   "outputs": [],
   "source": []
  },
  {
   "cell_type": "code",
   "execution_count": null,
   "metadata": {},
   "outputs": [],
   "source": []
  },
  {
   "cell_type": "code",
   "execution_count": null,
   "metadata": {
    "collapsed": false,
    "jupyter": {
     "outputs_hidden": false
    }
   },
   "outputs": [],
   "source": [
    "def back_to_dict(dict_filename,df_filename):\n",
    "    df=pd.read_csv(df_filename,index_col=[0],sep=';|,',engine='python',parse_dates=[0],infer_datetime_format=True)\n",
    "    df.index=df.index.tz_localize('UTC').tz_convert('Europe/Brussels')\n",
    "    df_dict=pd.read_csv(dict_filename,header=None)\n",
    "    new_dict={'df':df}\n",
    "    for i in df_dict.index:\n",
    "        if i not in [4,5,6,8,10,11]:\n",
    "            try:\n",
    "                new_dict.update({str(df_dict.iloc[i,0]):float(df_dict.iloc[i,1])})\n",
    "            except:\n",
    "                new_dict.update({str(df_dict.iloc[i,0]):(df_dict.iloc[i,1])})\n",
    "        else:\n",
    "            try:\n",
    "                a=np.array([float(i) for i in df_dict.iloc[i,1].replace('[','').replace(']','').split()])\n",
    "            except:\n",
    "                a=np.array([float(i) for i in df_dict.iloc[10,1].replace('[','').replace(']','').split(',')])\n",
    "            finally:\n",
    "                new_dict.update({str(df_dict.iloc[i,0]):a})\n",
    "    return new_dict\n",
    "            \n",
    "    "
   ]
  },
  {
   "cell_type": "code",
   "execution_count": 364,
   "metadata": {
    "collapsed": true,
    "jupyter": {
     "outputs_hidden": true
    }
   },
   "outputs": [],
   "source": [
    "\n",
    "\n",
    "def get_table_inputs():\n",
    "    dwellings_US=np.array(['79', '466', '1', '539', '161', '122', '325', '327',\n",
    "                    '538','403', '204', '164'])\n",
    "    dwellings_CH=np.array(['110141955911' ,'1127347129716', '110698529950',\n",
    "                       '1127343129682', '110699130179', '110696328886',\n",
    "                       '110145356508', '110144156211', '110697229401',\n",
    "                       '110697029296', '110698730039','110144756389'])\n",
    "    country=np.hstack((np.tile('CH',12),np.tile('US',12)))\n",
    "    cluster=np.tile(np.arange(0,12),2)\n",
    "    clusters={'hh':np.hstack((dwellings_CH,dwellings_US)),'country':country,\n",
    "              'cluster':cluster}\n",
    "    clusters=pd.DataFrame(clusters)\n",
    "    PV=[{'PV':3.2,'quartile':25,'country':'US'},\n",
    "        {'PV':5,'quartile':50,'country':'US'},\n",
    "        {'PV':6.4,'quartile':75,'country':'US'},\n",
    "        {'PV':3.2,'quartile':25,'country':'CH'},\n",
    "        {'PV':4.8,'quartile':50,'country':'CH'},\n",
    "        {'PV':6.9,'quartile':75,'country':'CH'}]\n",
    "    PV=pd.DataFrame(PV)\n",
    "    App_comb_scenarios=np.array([i for i in itertools.product([False, True],repeat=3)])\n",
    "    App_comb_scenarios=np.insert(App_comb_scenarios,slice(1,2),True,axis=1)\n",
    "    App_comb=pd.DataFrame(App_comb_scenarios)\n",
    "    App_comb=App_comb[0].map(str)+' '+App_comb[1].map(str)+' '+App_comb[2].map(\n",
    "                    str)+' '+App_comb[3].map(str)\n",
    "    App_comb=App_comb.reset_index()\n",
    "    App_comb=App_comb.rename(columns={'index':'App_index',0:'App_comb'})\n",
    "    conf=pd.DataFrame(np.array([[False,True,False,False],[False,True,True,False],[False,True,True,True],[True,True,False,False],[True,True,True,False],[True,True,True,True]]))\n",
    "    conf=conf[0].map(str)+' '+conf[1].map(str)+' '+conf[2].map(\n",
    "                str)+' '+conf[3].map(str)\n",
    "    conf=conf.reset_index()\n",
    "    conf=conf.rename(columns={'index':'conf_index',0:'conf'})\n",
    "    house_types=pd.DataFrame(np.array(['SFH100','SFH45','SFH15']),columns=['House_type'])\n",
    "    hp_types=pd.DataFrame(np.array(['GSHP','ASHP']),columns=['HP_type'])\n",
    "    rad_types=pd.DataFrame(np.array(['under','rad']),columns=['Rad_type'])\n",
    "    clusters.hh=clusters.hh.astype(float)\n",
    "\n",
    "    return[clusters,PV,App_comb,conf,house_types,hp_types,rad_types]\n"
   ]
  },
  {
   "cell_type": "code",
   "execution_count": 390,
   "metadata": {
    "collapsed": false,
    "jupyter": {
     "outputs_hidden": false
    }
   },
   "outputs": [],
   "source": [
    "df_filename=Path('../Output/df_110144756389_CH_PV50_NMC_1111_7.0_0100_mean.csv')\n",
    "dict_filename=Path('../Output/dict_110144756389_CH_PV50_NMC_1111_7.0_0100_mean.csv')\n",
    "dict_res=back_to_dict(dict_filename,df_filename)"
   ]
  },
  {
   "cell_type": "code",
   "execution_count": 391,
   "metadata": {
    "collapsed": false,
    "jupyter": {
     "outputs_hidden": false
    }
   },
   "outputs": [],
   "source": [
    "[clusters,PV,App,conf,house_types,hp_types,rad_types]=get_table_inputs()"
   ]
  },
  {
   "cell_type": "code",
   "execution_count": 393,
   "metadata": {
    "collapsed": false,
    "jupyter": {
     "outputs_hidden": false
    }
   },
   "outputs": [
    {
     "name": "stdout",
     "output_type": "stream",
     "text": [
      "Main results\n"
     ]
    }
   ],
   "source": [
    "print('Main results')\n",
    "df=dict_res['df']\n",
    "App=App.App_index[App.App_comb==str(dict_res['App_comb']).replace(',','').strip(' ').replace('[','').replace(']','')].values\n",
    "conf=conf.conf_index[conf.conf==str(dict_res['conf']).replace(',','').strip(' ').replace('[','').replace(']','')].values\n",
    "\n",
    "\n",
    "df=df.apply(pd.to_numeric, errors='ignore')\n",
    "agg_results=df.sum()\n",
    "agg_results['App_comb']=App[0]\n",
    "agg_results['conf']=conf[0]\n",
    "agg_results=agg_results.drop(['SOC','Inv_P','Conv_P','price',\n",
    "                              'Export_price'])\n",
    "agg_results['SOC_mean']=df['SOC'].mean()/dict_res['Capacity']*100\n",
    "agg_results['SOC_max']=df['SOC'].max()/dict_res['Capacity']*100\n",
    "agg_results['SOC_min']=df['SOC'].min()/dict_res['Capacity']*100\n",
    "agg_results['DoD_mean']=dict_res['DoD'].mean()*100\n",
    "agg_results['DoD_max']=dict_res['DoD'].max()*100\n",
    "agg_results['DoD_min']=dict_res['DoD'].min()*100\n",
    "agg_results['DoD_min']=dict_res['DoD'].min()*100\n",
    "agg_results['last_cap']=dict_res['Cap_arr'][-1]\n",
    "agg_results['cap_fading']=(1-dict_res['Cap_arr'][-1]/\n",
    "           dict_res['Capacity'])*100\n",
    "\n",
    "agg_results['last_SOH']=dict_res['SOH'][-1]\n",
    "agg_results['P_max_year_batt']=dict_res['P_max'].max()\n",
    "agg_results['P_max_year_nbatt']=df['E_demand'].max()*4\n",
    "agg_results['Capacity']=dict_res['Capacity']\n",
    "agg_results['Tech']=dict_res['Tech']\n",
    "agg_results['PV_nom']=dict_res['PV_nom']\n",
    "agg_results['cluster']=clusters[clusters.hh==int(\n",
    "        dict_res['name'].split('_')[0])].cluster.values\n",
    "agg_results['country']=dict_res['name'].split('_')[1]\n",
    "agg_results['quartile']=PV[(PV.PV==dict_res['PV_nom'])&\n",
    "           (PV.country==dict_res['name'].split('_')[1])].quartile.values[0]"
   ]
  },
  {
   "cell_type": "code",
   "execution_count": null,
   "metadata": {
    "collapsed": true,
    "jupyter": {
     "outputs_hidden": true
    }
   },
   "outputs": [],
   "source": []
  },
  {
   "cell_type": "code",
   "execution_count": null,
   "metadata": {
    "collapsed": true,
    "jupyter": {
     "outputs_hidden": true
    }
   },
   "outputs": [],
   "source": []
  },
  {
   "cell_type": "code",
   "execution_count": null,
   "metadata": {
    "collapsed": true,
    "jupyter": {
     "outputs_hidden": true
    }
   },
   "outputs": [],
   "source": []
  },
  {
   "cell_type": "code",
   "execution_count": null,
   "metadata": {
    "collapsed": true,
    "jupyter": {
     "outputs_hidden": true
    }
   },
   "outputs": [],
   "source": []
  },
  {
   "cell_type": "code",
   "execution_count": 380,
   "metadata": {
    "collapsed": false,
    "jupyter": {
     "outputs_hidden": false
    }
   },
   "outputs": [
    {
     "data": {
      "text/plain": [
       "6.31358239"
      ]
     },
     "execution_count": 380,
     "metadata": {},
     "output_type": "execute_result"
    }
   ],
   "source": [
    "agg_results.P_max_year_batt"
   ]
  },
  {
   "cell_type": "code",
   "execution_count": 379,
   "metadata": {
    "collapsed": false,
    "jupyter": {
     "outputs_hidden": false
    }
   },
   "outputs": [
    {
     "data": {
      "text/plain": [
       "4.04"
      ]
     },
     "execution_count": 379,
     "metadata": {},
     "output_type": "execute_result"
    }
   ],
   "source": [
    "agg_results.P_max_year_nbatt"
   ]
  },
  {
   "cell_type": "code",
   "execution_count": 384,
   "metadata": {
    "collapsed": false,
    "jupyter": {
     "outputs_hidden": false
    }
   },
   "outputs": [],
   "source": [
    "PV_cols = [col for col in df.columns if 'PV' in col]\n"
   ]
  },
  {
   "cell_type": "code",
   "execution_count": 385,
   "metadata": {
    "collapsed": false,
    "jupyter": {
     "outputs_hidden": false
    }
   },
   "outputs": [
    {
     "data": {
      "text/plain": [
       "['E_PV_batt',\n",
       " 'E_PV_bu',\n",
       " 'E_PV_bu2',\n",
       " 'E_PV_curt',\n",
       " 'E_PV_grid',\n",
       " 'E_PV_hp',\n",
       " 'E_PV_hp2',\n",
       " 'E_PV_load',\n",
       " 'E_loss_inv_PV',\n",
       " 'E_PV']"
      ]
     },
     "execution_count": 385,
     "metadata": {},
     "output_type": "execute_result"
    }
   ],
   "source": [
    "PV_cols"
   ]
  },
  {
   "cell_type": "code",
   "execution_count": 403,
   "metadata": {
    "collapsed": true,
    "jupyter": {
     "outputs_hidden": true
    }
   },
   "outputs": [],
   "source": [
    "def get_technical_indicators(App,agg_results,country,df,conf):\n",
    "    #TSC\n",
    "    agg_results['TSC']=(agg_results.E_PV_load+agg_results.E_PV_batt+agg_results.E_PV_bu+agg_results.E_PV_bu2+agg_results.E_PV_hp+agg_results.E_PV_hp2)/agg_results.E_PV*100#[%]\n",
    "    agg_results['DSC']=(agg_results.E_PV_load+agg_results.E_PV_bu+agg_results.E_PV_bu2+agg_results.E_PV_hp+agg_results.E_PV_hp2)/agg_results.E_PV*100#[%]\n",
    "    agg_results['ISC']=(agg_results.E_PV_batt)/agg_results.E_PV*100#[%]\n",
    "    agg_results['EFC_nolifetime']=(agg_results.E_dis)/dict_res['Capacity']\n",
    "    print(agg_results.TSC)\n",
    "    print(agg_results.DSC)\n",
    "    print(agg_results.ISC)\n",
    "    print(agg_results.EFC_nolifetime)"
   ]
  },
  {
   "cell_type": "code",
   "execution_count": 404,
   "metadata": {
    "collapsed": false,
    "jupyter": {
     "outputs_hidden": false
    }
   },
   "outputs": [
    {
     "name": "stdout",
     "output_type": "stream",
     "text": [
      "50.67785547929873\n",
      "50.67785547929873\n",
      "0.0\n",
      "0.0\n"
     ]
    }
   ],
   "source": [
    "get_technical_indicators(App,agg_results,'CH',df,3)"
   ]
  },
  {
   "cell_type": "code",
   "execution_count": 405,
   "metadata": {
    "collapsed": false,
    "jupyter": {
     "outputs_hidden": false
    }
   },
   "outputs": [
    {
     "data": {
      "text/plain": [
       "4433.860000000327"
      ]
     },
     "execution_count": 405,
     "metadata": {},
     "output_type": "execute_result"
    }
   ],
   "source": [
    "agg_results.E_demand"
   ]
  },
  {
   "cell_type": "code",
   "execution_count": 408,
   "metadata": {
    "collapsed": false,
    "jupyter": {
     "outputs_hidden": false
    }
   },
   "outputs": [
    {
     "data": {
      "text/plain": [
       "['Bool_hp',\n",
       " 'Bool_hp2',\n",
       " 'E_PV_hp',\n",
       " 'E_PV_hp2',\n",
       " 'E_batt_hp',\n",
       " 'E_batt_hp2',\n",
       " 'E_grid_hp',\n",
       " 'E_grid_hp2',\n",
       " 'E_hp',\n",
       " 'E_hp2',\n",
       " 'E_hp_cooling',\n",
       " 'Q_hp_dhwst',\n",
       " 'Q_hp_sh']"
      ]
     },
     "execution_count": 408,
     "metadata": {},
     "output_type": "execute_result"
    }
   ],
   "source": [
    "[col for col in df.columns if 'hp' in col]\n"
   ]
  },
  {
   "cell_type": "code",
   "execution_count": 409,
   "metadata": {
    "collapsed": false,
    "jupyter": {
     "outputs_hidden": false
    }
   },
   "outputs": [
    {
     "data": {
      "text/plain": [
       "8217.971573496889"
      ]
     },
     "execution_count": 409,
     "metadata": {},
     "output_type": "execute_result"
    }
   ],
   "source": [
    "agg_results.E_hp"
   ]
  },
  {
   "cell_type": "code",
   "execution_count": 410,
   "metadata": {
    "collapsed": false,
    "jupyter": {
     "outputs_hidden": false
    }
   },
   "outputs": [
    {
     "data": {
      "text/plain": [
       "0.0"
      ]
     },
     "execution_count": 410,
     "metadata": {},
     "output_type": "execute_result"
    }
   ],
   "source": [
    "agg_results.E_hp2"
   ]
  },
  {
   "cell_type": "code",
   "execution_count": null,
   "metadata": {
    "collapsed": true,
    "jupyter": {
     "outputs_hidden": true
    }
   },
   "outputs": [],
   "source": []
  },
  {
   "cell_type": "code",
   "execution_count": null,
   "metadata": {
    "collapsed": true,
    "jupyter": {
     "outputs_hidden": true
    }
   },
   "outputs": [],
   "source": []
  },
  {
   "cell_type": "code",
   "execution_count": null,
   "metadata": {
    "collapsed": true,
    "jupyter": {
     "outputs_hidden": true
    }
   },
   "outputs": [],
   "source": []
  },
  {
   "cell_type": "code",
   "execution_count": null,
   "metadata": {
    "collapsed": true,
    "jupyter": {
     "outputs_hidden": true
    }
   },
   "outputs": [],
   "source": []
  },
  {
   "cell_type": "code",
   "execution_count": null,
   "metadata": {
    "collapsed": true,
    "jupyter": {
     "outputs_hidden": true
    }
   },
   "outputs": [],
   "source": []
  },
  {
   "cell_type": "code",
   "execution_count": null,
   "metadata": {
    "collapsed": true,
    "jupyter": {
     "outputs_hidden": true
    }
   },
   "outputs": [],
   "source": []
  },
  {
   "cell_type": "code",
   "execution_count": null,
   "metadata": {
    "collapsed": true,
    "jupyter": {
     "outputs_hidden": true
    }
   },
   "outputs": [],
   "source": []
  },
  {
   "cell_type": "code",
   "execution_count": null,
   "metadata": {
    "collapsed": true,
    "jupyter": {
     "outputs_hidden": true
    }
   },
   "outputs": [],
   "source": []
  },
  {
   "cell_type": "code",
   "execution_count": null,
   "metadata": {
    "collapsed": true,
    "jupyter": {
     "outputs_hidden": true
    }
   },
   "outputs": [],
   "source": []
  },
  {
   "cell_type": "code",
   "execution_count": null,
   "metadata": {
    "collapsed": true,
    "jupyter": {
     "outputs_hidden": true
    }
   },
   "outputs": [],
   "source": []
  },
  {
   "cell_type": "code",
   "execution_count": null,
   "metadata": {
    "collapsed": true,
    "jupyter": {
     "outputs_hidden": true
    }
   },
   "outputs": [],
   "source": []
  },
  {
   "cell_type": "code",
   "execution_count": null,
   "metadata": {
    "collapsed": true,
    "jupyter": {
     "outputs_hidden": true
    }
   },
   "outputs": [],
   "source": []
  },
  {
   "cell_type": "code",
   "execution_count": null,
   "metadata": {
    "collapsed": true,
    "jupyter": {
     "outputs_hidden": true
    }
   },
   "outputs": [],
   "source": []
  },
  {
   "cell_type": "code",
   "execution_count": null,
   "metadata": {
    "collapsed": true,
    "jupyter": {
     "outputs_hidden": true
    }
   },
   "outputs": [],
   "source": []
  },
  {
   "cell_type": "code",
   "execution_count": null,
   "metadata": {
    "collapsed": true,
    "jupyter": {
     "outputs_hidden": true
    }
   },
   "outputs": [],
   "source": []
  },
  {
   "cell_type": "code",
   "execution_count": null,
   "metadata": {
    "collapsed": true,
    "jupyter": {
     "outputs_hidden": true
    }
   },
   "outputs": [],
   "source": []
  },
  {
   "cell_type": "code",
   "execution_count": null,
   "metadata": {
    "collapsed": true,
    "jupyter": {
     "outputs_hidden": true
    }
   },
   "outputs": [],
   "source": []
  },
  {
   "cell_type": "code",
   "execution_count": null,
   "metadata": {
    "collapsed": true,
    "jupyter": {
     "outputs_hidden": true
    }
   },
   "outputs": [],
   "source": []
  },
  {
   "cell_type": "code",
   "execution_count": null,
   "metadata": {
    "collapsed": true,
    "jupyter": {
     "outputs_hidden": true
    }
   },
   "outputs": [],
   "source": []
  },
  {
   "cell_type": "code",
   "execution_count": null,
   "metadata": {
    "collapsed": true,
    "jupyter": {
     "outputs_hidden": true
    }
   },
   "outputs": [],
   "source": []
  },
  {
   "cell_type": "code",
   "execution_count": null,
   "metadata": {
    "collapsed": true,
    "jupyter": {
     "outputs_hidden": true
    }
   },
   "outputs": [],
   "source": []
  },
  {
   "cell_type": "code",
   "execution_count": null,
   "metadata": {
    "collapsed": true,
    "jupyter": {
     "outputs_hidden": true
    }
   },
   "outputs": [],
   "source": []
  },
  {
   "cell_type": "code",
   "execution_count": null,
   "metadata": {
    "collapsed": true,
    "jupyter": {
     "outputs_hidden": true
    }
   },
   "outputs": [],
   "source": []
  }
 ],
 "metadata": {
  "kernelspec": {
   "display_name": "basopra_updated",
   "language": "python",
   "name": "python3"
  },
  "language_info": {
   "codemirror_mode": {
    "name": "ipython",
    "version": 3
   },
   "file_extension": ".py",
   "mimetype": "text/x-python",
   "name": "python",
   "nbconvert_exporter": "python",
   "pygments_lexer": "ipython3",
   "version": "3.9.21"
  }
 },
 "nbformat": 4,
 "nbformat_minor": 4
}
