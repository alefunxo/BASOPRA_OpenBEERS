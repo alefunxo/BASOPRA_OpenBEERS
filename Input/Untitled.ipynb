{
 "cells": [
  {
   "cell_type": "code",
   "execution_count": 1,
   "metadata": {},
   "outputs": [],
   "source": [
    "import pandas as pd"
   ]
  },
  {
   "cell_type": "code",
   "execution_count": 2,
   "metadata": {},
   "outputs": [],
   "source": [
    "df=pd.read_csv('df_CH.csv')"
   ]
  },
  {
   "cell_type": "code",
   "execution_count": 3,
   "metadata": {},
   "outputs": [
    {
     "data": {
      "text/html": [
       "<div>\n",
       "<style scoped>\n",
       "    .dataframe tbody tr th:only-of-type {\n",
       "        vertical-align: middle;\n",
       "    }\n",
       "\n",
       "    .dataframe tbody tr th {\n",
       "        vertical-align: top;\n",
       "    }\n",
       "\n",
       "    .dataframe thead th {\n",
       "        text-align: right;\n",
       "    }\n",
       "</style>\n",
       "<table border=\"1\" class=\"dataframe\">\n",
       "  <thead>\n",
       "    <tr style=\"text-align: right;\">\n",
       "      <th></th>\n",
       "      <th>Unnamed: 0</th>\n",
       "      <th>110141955911</th>\n",
       "      <th>110144756389</th>\n",
       "      <th>1127347129716</th>\n",
       "      <th>110698529950</th>\n",
       "      <th>1127343129682</th>\n",
       "      <th>110699130179</th>\n",
       "      <th>110696328886</th>\n",
       "      <th>110145356508</th>\n",
       "      <th>110144156211</th>\n",
       "      <th>...</th>\n",
       "      <th>Price_DT</th>\n",
       "      <th>Export_price</th>\n",
       "      <th>Hour</th>\n",
       "      <th>Set_T</th>\n",
       "      <th>Req_kWh</th>\n",
       "      <th>Req_kWh_no_Solar</th>\n",
       "      <th>Temp</th>\n",
       "      <th>DHW_kWh</th>\n",
       "      <th>Price_flat_mod</th>\n",
       "      <th>Price_DT_mod</th>\n",
       "    </tr>\n",
       "  </thead>\n",
       "  <tbody>\n",
       "    <tr>\n",
       "      <th>0</th>\n",
       "      <td>2015-01-01 00:00:00+01:00</td>\n",
       "      <td>0.0</td>\n",
       "      <td>0.18</td>\n",
       "      <td>0.01</td>\n",
       "      <td>0.01</td>\n",
       "      <td>0.02</td>\n",
       "      <td>0.04</td>\n",
       "      <td>0.07</td>\n",
       "      <td>0.34</td>\n",
       "      <td>0.18</td>\n",
       "      <td>...</td>\n",
       "      <td>0.1646</td>\n",
       "      <td>0.04494</td>\n",
       "      <td>0.0</td>\n",
       "      <td>16.0</td>\n",
       "      <td>2.34622</td>\n",
       "      <td>2.34622</td>\n",
       "      <td>-2.4</td>\n",
       "      <td>0.028764</td>\n",
       "      <td>0.1716</td>\n",
       "      <td>0.130034</td>\n",
       "    </tr>\n",
       "    <tr>\n",
       "      <th>1</th>\n",
       "      <td>2015-01-01 00:15:00+01:00</td>\n",
       "      <td>0.0</td>\n",
       "      <td>0.17</td>\n",
       "      <td>0.01</td>\n",
       "      <td>0.01</td>\n",
       "      <td>0.02</td>\n",
       "      <td>0.04</td>\n",
       "      <td>0.08</td>\n",
       "      <td>0.12</td>\n",
       "      <td>0.19</td>\n",
       "      <td>...</td>\n",
       "      <td>0.1646</td>\n",
       "      <td>0.04494</td>\n",
       "      <td>0.0</td>\n",
       "      <td>16.0</td>\n",
       "      <td>2.34622</td>\n",
       "      <td>2.34622</td>\n",
       "      <td>-2.4</td>\n",
       "      <td>0.021012</td>\n",
       "      <td>0.1716</td>\n",
       "      <td>0.130034</td>\n",
       "    </tr>\n",
       "    <tr>\n",
       "      <th>2</th>\n",
       "      <td>2015-01-01 00:30:00+01:00</td>\n",
       "      <td>0.0</td>\n",
       "      <td>0.16</td>\n",
       "      <td>0.03</td>\n",
       "      <td>0.01</td>\n",
       "      <td>0.02</td>\n",
       "      <td>0.07</td>\n",
       "      <td>0.08</td>\n",
       "      <td>0.39</td>\n",
       "      <td>0.16</td>\n",
       "      <td>...</td>\n",
       "      <td>0.1646</td>\n",
       "      <td>0.04494</td>\n",
       "      <td>0.0</td>\n",
       "      <td>16.0</td>\n",
       "      <td>2.34622</td>\n",
       "      <td>2.34622</td>\n",
       "      <td>-2.4</td>\n",
       "      <td>0.049076</td>\n",
       "      <td>0.1716</td>\n",
       "      <td>0.130034</td>\n",
       "    </tr>\n",
       "    <tr>\n",
       "      <th>3</th>\n",
       "      <td>2015-01-01 00:45:00+01:00</td>\n",
       "      <td>0.0</td>\n",
       "      <td>0.18</td>\n",
       "      <td>0.00</td>\n",
       "      <td>0.03</td>\n",
       "      <td>0.00</td>\n",
       "      <td>0.07</td>\n",
       "      <td>0.06</td>\n",
       "      <td>0.59</td>\n",
       "      <td>0.16</td>\n",
       "      <td>...</td>\n",
       "      <td>0.1646</td>\n",
       "      <td>0.04494</td>\n",
       "      <td>0.0</td>\n",
       "      <td>16.0</td>\n",
       "      <td>2.34622</td>\n",
       "      <td>2.34622</td>\n",
       "      <td>-2.4</td>\n",
       "      <td>0.023250</td>\n",
       "      <td>0.1716</td>\n",
       "      <td>0.130034</td>\n",
       "    </tr>\n",
       "    <tr>\n",
       "      <th>4</th>\n",
       "      <td>2015-01-01 01:00:00+01:00</td>\n",
       "      <td>0.0</td>\n",
       "      <td>0.17</td>\n",
       "      <td>0.01</td>\n",
       "      <td>0.02</td>\n",
       "      <td>0.00</td>\n",
       "      <td>0.05</td>\n",
       "      <td>0.05</td>\n",
       "      <td>0.11</td>\n",
       "      <td>0.17</td>\n",
       "      <td>...</td>\n",
       "      <td>0.1646</td>\n",
       "      <td>0.04343</td>\n",
       "      <td>1.0</td>\n",
       "      <td>16.0</td>\n",
       "      <td>2.27940</td>\n",
       "      <td>2.27940</td>\n",
       "      <td>-1.8</td>\n",
       "      <td>0.066338</td>\n",
       "      <td>0.1716</td>\n",
       "      <td>0.130034</td>\n",
       "    </tr>\n",
       "  </tbody>\n",
       "</table>\n",
       "<p>5 rows × 25 columns</p>\n",
       "</div>"
      ],
      "text/plain": [
       "                  Unnamed: 0  110141955911  110144756389  1127347129716  \\\n",
       "0  2015-01-01 00:00:00+01:00           0.0          0.18           0.01   \n",
       "1  2015-01-01 00:15:00+01:00           0.0          0.17           0.01   \n",
       "2  2015-01-01 00:30:00+01:00           0.0          0.16           0.03   \n",
       "3  2015-01-01 00:45:00+01:00           0.0          0.18           0.00   \n",
       "4  2015-01-01 01:00:00+01:00           0.0          0.17           0.01   \n",
       "\n",
       "   110698529950  1127343129682  110699130179  110696328886  110145356508  \\\n",
       "0          0.01           0.02          0.04          0.07          0.34   \n",
       "1          0.01           0.02          0.04          0.08          0.12   \n",
       "2          0.01           0.02          0.07          0.08          0.39   \n",
       "3          0.03           0.00          0.07          0.06          0.59   \n",
       "4          0.02           0.00          0.05          0.05          0.11   \n",
       "\n",
       "   110144156211  ...  Price_DT  Export_price  Hour  Set_T  Req_kWh  \\\n",
       "0          0.18  ...    0.1646       0.04494   0.0   16.0  2.34622   \n",
       "1          0.19  ...    0.1646       0.04494   0.0   16.0  2.34622   \n",
       "2          0.16  ...    0.1646       0.04494   0.0   16.0  2.34622   \n",
       "3          0.16  ...    0.1646       0.04494   0.0   16.0  2.34622   \n",
       "4          0.17  ...    0.1646       0.04343   1.0   16.0  2.27940   \n",
       "\n",
       "   Req_kWh_no_Solar  Temp   DHW_kWh  Price_flat_mod  Price_DT_mod  \n",
       "0           2.34622  -2.4  0.028764          0.1716      0.130034  \n",
       "1           2.34622  -2.4  0.021012          0.1716      0.130034  \n",
       "2           2.34622  -2.4  0.049076          0.1716      0.130034  \n",
       "3           2.34622  -2.4  0.023250          0.1716      0.130034  \n",
       "4           2.27940  -1.8  0.066338          0.1716      0.130034  \n",
       "\n",
       "[5 rows x 25 columns]"
      ]
     },
     "execution_count": 3,
     "metadata": {},
     "output_type": "execute_result"
    }
   ],
   "source": [
    "df.head()"
   ]
  },
  {
   "cell_type": "code",
   "execution_count": 12,
   "metadata": {},
   "outputs": [
    {
     "data": {
      "text/plain": [
       "16.336051254632107"
      ]
     },
     "execution_count": 12,
     "metadata": {},
     "output_type": "execute_result"
    }
   ],
   "source": [
    "(df.E_PV).sum().mean()/(1*365*24)*100"
   ]
  },
  {
   "cell_type": "code",
   "execution_count": 13,
   "metadata": {},
   "outputs": [
    {
     "data": {
      "text/plain": [
       "1.061835276738924"
      ]
     },
     "execution_count": 13,
     "metadata": {},
     "output_type": "execute_result"
    }
   ],
   "source": [
    "df.E_PV.max()*4"
   ]
  },
  {
   "cell_type": "code",
   "execution_count": 14,
   "metadata": {},
   "outputs": [
    {
     "data": {
      "text/plain": [
       "1431.0380899057725"
      ]
     },
     "execution_count": 14,
     "metadata": {},
     "output_type": "execute_result"
    }
   ],
   "source": [
    "(df.E_PV).sum()"
   ]
  },
  {
   "cell_type": "code",
   "execution_count": 19,
   "metadata": {},
   "outputs": [
    {
     "data": {
      "text/plain": [
       "16.336051254632103"
      ]
     },
     "execution_count": 19,
     "metadata": {},
     "output_type": "execute_result"
    }
   ],
   "source": [
    "(df.E_PV*4.8).sum().mean()/(4.8*365*24)*100"
   ]
  },
  {
   "cell_type": "code",
   "execution_count": 20,
   "metadata": {},
   "outputs": [
    {
     "data": {
      "text/plain": [
       "5.096809328346835"
      ]
     },
     "execution_count": 20,
     "metadata": {},
     "output_type": "execute_result"
    }
   ],
   "source": [
    "(df.E_PV*4.8).max()*4"
   ]
  },
  {
   "cell_type": "code",
   "execution_count": null,
   "metadata": {},
   "outputs": [],
   "source": []
  }
 ],
 "metadata": {
  "kernelspec": {
   "display_name": "Python 3",
   "language": "python",
   "name": "python3"
  },
  "language_info": {
   "codemirror_mode": {
    "name": "ipython",
    "version": 3
   },
   "file_extension": ".py",
   "mimetype": "text/x-python",
   "name": "python",
   "nbconvert_exporter": "python",
   "pygments_lexer": "ipython3",
   "version": "3.8.1"
  }
 },
 "nbformat": 4,
 "nbformat_minor": 4
}
