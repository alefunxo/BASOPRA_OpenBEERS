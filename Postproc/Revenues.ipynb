{
 "cells": [
  {
   "cell_type": "code",
   "execution_count": 222,
   "metadata": {
    "collapsed": true
   },
   "outputs": [],
   "source": [
    "import post_proc as pp\n",
    "import csv\n",
    "import threading\n",
    "from pathlib import Path\n",
    "import paper_classes as pc\n",
    "import multiprocessing as mp\n",
    "import LP as optim\n",
    "import pyomo\n",
    "import pandas as pd\n",
    "import numpy as np\n",
    "import matplotlib.pyplot as plt\n",
    "import pytest"
   ]
  },
  {
   "cell_type": "code",
   "execution_count": 2,
   "metadata": {
    "collapsed": true
   },
   "outputs": [],
   "source": [
    "df=pd.read_csv('Output/df_110144756389_CH_PV50_NMC_0110_7.0_0111_SFH100.csv',engine='python',sep=',',index_col=[0])\n",
    "df.index=pd.to_datetime(df.index,utc=True)\n",
    "df.index=df.index.tz_convert('Europe/Brussels')"
   ]
  },
  {
   "cell_type": "code",
   "execution_count": 171,
   "metadata": {
    "collapsed": false
   },
   "outputs": [
    {
     "data": {
      "text/plain": [
       "Index(['Bool_char', 'Bool_cons', 'Bool_dis', 'Bool_hp', 'Bool_hpdhw',\n",
       "       'Bool_inj', 'E_PV_batt', 'E_PV_bu', 'E_PV_budhw', 'E_PV_curt',\n",
       "       'E_PV_grid', 'E_PV_hp', 'E_PV_hpdhw', 'E_PV_load', 'E_batt_bu',\n",
       "       'E_batt_budhw', 'E_batt_hp', 'E_batt_hpdhw', 'E_batt_load', 'E_bu',\n",
       "       'E_budhw', 'E_char', 'E_cons', 'E_dis', 'E_grid_batt', 'E_grid_bu',\n",
       "       'E_grid_budhw', 'E_grid_hp', 'E_grid_hpdhw', 'E_grid_load', 'E_hp',\n",
       "       'E_hpdhw', 'E_loss_Batt', 'E_loss_conv', 'E_loss_inv', 'E_loss_inv_PV',\n",
       "       'E_loss_inv_batt', 'E_loss_inv_grid', 'Q_dhwst_hd', 'Q_hp_sh',\n",
       "       'Q_hp_ts', 'Q_loss_dhwst', 'Q_loss_ts', 'Q_ts', 'Q_ts_delta', 'Q_ts_sh',\n",
       "       'SOC', 'T_dhwst', 'T_ts', 'E_demand', 'E_PV', 'Export_price', 'price',\n",
       "       'Inv_P', 'Conv_P', 'Req_kWh', 'Req_kWh_DHW', 'Set_T', 'Temp',\n",
       "       'Temp_supply', 'Temp_supply_tank', 'T_aux_supply', 'COP_tank', 'COP_SH',\n",
       "       'COP_DHW', 'Cooling'],\n",
       "      dtype='object')"
      ]
     },
     "execution_count": 171,
     "metadata": {},
     "output_type": "execute_result"
    }
   ],
   "source": [
    "df.keys()"
   ]
  },
  {
   "cell_type": "code",
   "execution_count": 172,
   "metadata": {
    "collapsed": true
   },
   "outputs": [],
   "source": [
    "def get_revenue(df,conf):\n",
    "    Rev_batt=0\n",
    "    Rev_ts_sh=0\n",
    "    Rev_ts_dhw=0\n",
    "    if conf>=3:\n",
    "        Batt_rev_pvsc=(df.E_dis*.95*df.price-df.E_PV_batt*.98*.95*df.Export_price).sum()\n",
    "        Batt_rev_dls=(df[df.price==df.price.max()].E_dis*.95*df[df.price==df.price.max()].price).sum()-(df[df.price==df.price.min()].E_grid_batt*df[df.price==df.price.min()].price).sum()\n",
    "        Rev_batt=Batt_rev_pvsc+Batt_rev_dls-(df[df.price==df.price.max()].E_dis*.95*df[df.price==df.price.max()].price).sum()\n",
    "    if (conf!=0)&(conf!=3):\n",
    "        # Equivalent electric energy discharged @ peak time that otherwhise would be covered by the HP directly\n",
    "        Ts_dis=df[(df.price==df.price.max())].Q_ts_sh/df[(df.price==df.price.max())].COP_SH\n",
    "\n",
    "        Ts_grid_ts=df[(df.price==df.price.min())&(df.Q_hp_ts>0)].E_grid_hp+df[(df.price==df.price.min())&(df.Q_hp_ts>0)].E_grid_bu # Electricity used to charge the tank @ off peak time\n",
    "\n",
    "        Ts_sh_rev_dls=(Ts_dis*df[(df.price==df.price.max())&(df.Q_ts_sh>0)].price).sum()-(Ts_grid_ts*df[(df.price==df.price.min())&\n",
    "                       (df.Q_hp_ts>0)].price).sum()\n",
    "\n",
    "        # Equivalent electric energy discharged that otherwhise would be covered by the HP directly\n",
    "        Ts_dis=df.Q_ts_sh/df.COP_SH \n",
    "\n",
    "        E_PV_hp=df[(df.Q_hp_ts>0)].E_PV_hp+df[(df.Q_hp_ts>0)].E_PV_bu # Electricity used to charge the tank @ when PV\n",
    "\n",
    "        Ts_sh_rev_pvsc=(Ts_dis*df.price).sum()-(E_PV_hp*df.Export_price).sum()\n",
    "        Rev_ts_sh=Ts_sh_rev_pvsc+Ts_sh_rev_dls-(Ts_dis*df[(df.price==df.price.max())&(df.Q_ts_sh>0)].price).sum()\n",
    "    if (conf==2)|(conf==5):\n",
    "        # Equivalent electric energy discharged @ peak time that otherwhise would be covered by the HP directly\n",
    "        Dhw_dis=df[(df.price==df.price.max())].Q_dhwst_hd/df[(df.price==df.price.max())].COP_DHW \n",
    "\n",
    "        Dhw_grid_ts=df[(df.price==df.price.min())].E_grid_hpdhw+df[(df.price==df.price.min())].E_grid_budhw # Electricity used to charge the tank @ off peak time\n",
    "\n",
    "        Ts_dhw_rev_dls=(Dhw_dis*df[(df.price==df.price.max())&(df.Q_ts_sh>0)].price).sum()-(Dhw_grid_ts*df[(df.price==df.price.min())&\n",
    "                       (df.Q_hp_ts>0)].price).sum()\n",
    "        Rev_ts_sh=Ts_sh_rev_pvsc+Ts_sh_rev_dls-(Ts_dis*df[(df.price==df.price.max())&(df.Q_ts_sh>0)].price).sum()\n",
    "\n",
    "        # Equivalent electric energy discharged that otherwhise would be covered by the HP directly\n",
    "        Dhw_dis=df.Q_dhwst_hd/df.COP_DHW\n",
    "\n",
    "        E_PV_hpdhw=df.E_PV_hpdhw+df[(df.Q_hp_ts>0)].E_PV_budhw # Electricity used to charge the tank @ when PV\n",
    "\n",
    "        Ts_dhw_rev_pvsc=(Dhw_dis*df.price).sum()-(E_PV_hpdhw*df.Export_price).sum()\n",
    "        Rev_ts_dhw=Ts_dhw_rev_dls+Ts_dhw_rev_pvsc-(Dhw_dis*df[(df.price==df.price.max())&(df.Q_ts_sh>0)].price).sum()\n",
    "    return [Rev_batt,Rev_ts_sh,Rev_ts_dhw]"
   ]
  },
  {
   "cell_type": "code",
   "execution_count": 521,
   "metadata": {
    "collapsed": true
   },
   "outputs": [],
   "source": [
    "import os\n",
    "lis=[x for x in os.listdir('./Output') if 'df_' in x ]"
   ]
  },
  {
   "cell_type": "code",
   "execution_count": 522,
   "metadata": {
    "collapsed": false
   },
   "outputs": [
    {
     "data": {
      "text/plain": [
       "['df_110141755829_CH_PV50_NMC_0110_7.0_0100_SFH15.csv',\n",
       " 'df_110141755828_CH_PV25_NMC_0110_7.0_1100_SFH15.csv',\n",
       " 'df_110141755831_CH_PV75_NMC_0110_7.0_0100_SFH15.csv',\n",
       " 'df_110141755828_CH_PV25_NMC_0110_7.0_0100_SFH15.csv',\n",
       " 'df_110141755830_CH_PV50_NMC_0110_7.0_1100_SFH15.csv',\n",
       " 'df_110141755827_CH_PV25_NMC_0110_7.0_0100_SFH15.csv']"
      ]
     },
     "execution_count": 522,
     "metadata": {},
     "output_type": "execute_result"
    }
   ],
   "source": [
    "lis"
   ]
  },
  {
   "cell_type": "code",
   "execution_count": 523,
   "metadata": {
    "collapsed": true
   },
   "outputs": [],
   "source": [
    "def test_balances(df,conf,atol):\n",
    "    \n",
    "    bal_PV=np.isclose((df.E_PV_batt+df.E_PV_bu+df.E_PV_budhw+df.E_PV_curt+df.E_PV_grid+df.E_PV_hp+df.E_PV_hpdhw+df.E_PV_load+df.E_loss_inv_PV+\n",
    "             df.E_loss_conv).sum()/df.E_PV.sum(),1,atol=atol)\n",
    "    if conf>=3:\n",
    "        bal_batt=np.isclose((df.E_batt_bu+df.E_batt_budhw+df.E_batt_hp+df.E_batt_hpdhw+df.E_batt_load+df.E_loss_inv_batt+\n",
    "             df.E_loss_Batt).sum()/df.E_char.sum(),1,atol=atol)\n",
    "        assert bal_batt\n",
    "    bal_grid=np.isclose((df.E_grid_batt+df.E_grid_bu+df.E_grid_budhw+df.E_grid_hp+df.E_grid_hpdhw+df.E_grid_load+\n",
    "              df.E_loss_inv_grid).sum()/df.E_cons.sum(),1,atol=atol)\n",
    "    if (conf==2)|(conf==5):\n",
    "        bal_dhw=np.isclose((df.Q_dhwst_hd+df.Q_loss_dhwst).sum()/(df.E_hpdhw*df.COP_DHW+df.E_budhw).sum(),1,atol=atol)\n",
    "        assert bal_dhw\n",
    "    if (conf!=0)&(conf!=3):\n",
    "        bal_hp=np.isclose(df.Q_hp_ts.sum()/(df.E_hp*df.COP_tank+df.E_bu).sum(),1,atol=atol)\n",
    "        bal_ts=np.isclose((df.Q_loss_ts+df.Q_ts_sh+df.Q_ts_delta).sum()/(df.Q_hp_ts+df.E_bu).sum(),1,atol=atol)\n",
    "        assert bal_hp \n",
    "        assert bal_ts \n",
    "    else:\n",
    "        bal_hp=np.isclose(df.Q_hp_sh.sum()/(df.E_hp*df.COP_SH+df.E_bu).sum(),1,atol=atol)\n",
    "        \n",
    "        assert bal_hp \n",
    "        \n",
    "    \n",
    "    assert bal_PV\n",
    "    assert bal_grid\n",
    "    "
   ]
  },
  {
   "cell_type": "code",
   "execution_count": 524,
   "metadata": {
    "collapsed": false
   },
   "outputs": [
    {
     "name": "stdout",
     "output_type": "stream",
     "text": [
      "Getting bill\n",
      "df_110141755829_CH_PV50_NMC_0110_7.0_0100_SFH15.csv\n",
      "The total bill is 122.35143486597954\n",
      "The revenues due to the battery are 0\n",
      "The revenues due to the SH tank are 0\n",
      "The revenues due to the DHW tank are 0\n",
      "############\n",
      "Getting bill\n",
      "df_110141755828_CH_PV25_NMC_0110_7.0_1100_SFH15.csv\n",
      "The total bill is 45.43914414109573\n",
      "The revenues due to the battery are 44.321635290830585\n",
      "The revenues due to the SH tank are 0\n",
      "The revenues due to the DHW tank are 0\n",
      "############\n",
      "Getting bill\n",
      "df_110141755831_CH_PV75_NMC_0110_7.0_0100_SFH15.csv\n",
      "The total bill is 43.85028883781024\n",
      "The revenues due to the battery are 0\n",
      "The revenues due to the SH tank are 0\n",
      "The revenues due to the DHW tank are 0\n",
      "############\n",
      "Getting bill\n",
      "df_110141755828_CH_PV25_NMC_0110_7.0_0100_SFH15.csv\n",
      "The total bill is 140.76657001478097\n",
      "The revenues due to the battery are 0\n",
      "The revenues due to the SH tank are 0\n",
      "The revenues due to the DHW tank are 0\n",
      "############\n",
      "Getting bill\n",
      "df_110141755830_CH_PV50_NMC_0110_7.0_1100_SFH15.csv\n",
      "The total bill is 13.935934046026242\n",
      "The revenues due to the battery are 49.14067690880874\n",
      "The revenues due to the SH tank are 0\n",
      "The revenues due to the DHW tank are 0\n",
      "############\n",
      "Getting bill\n",
      "df_110141755827_CH_PV25_NMC_0110_7.0_0100_SFH15.csv\n",
      "The total bill is 3105.999550429443\n",
      "The revenues due to the battery are 0\n",
      "The revenues due to the SH tank are 0\n",
      "The revenues due to the DHW tank are 0\n",
      "############\n"
     ]
    }
   ],
   "source": [
    "for file in lis:\n",
    "    df=pd.read_csv('Output/'+file,engine='python',sep=',',index_col=[0])\n",
    "    df.index=pd.to_datetime(df.index,utc=True)\n",
    "    df.index=df.index.tz_convert('Europe/Brussels')\n",
    "    app=file.split('_')[5]\n",
    "    if app=='0110':\n",
    "        app=[0,1,1,0]\n",
    "    elif app=='0111':\n",
    "        app=[0,1,1,1]\n",
    "    conf=file.split('_')[7]\n",
    "    if conf=='0100':\n",
    "        conf=0\n",
    "    elif conf=='0110':\n",
    "        conf=1\n",
    "    elif conf=='0111':\n",
    "        conf=2\n",
    "    elif conf=='1100':\n",
    "        conf=3\n",
    "    elif conf=='1110':\n",
    "        conf=4\n",
    "    elif conf=='1111':\n",
    "        conf=5\n",
    "    #if app[3]==False:\n",
    "    [batt,ts,dhw]=get_revenue(df,conf)\n",
    "    bill=get_bills(app,df)\n",
    "    print(file)\n",
    "    print('The total bill is {}'.format(bill))\n",
    "    test_balances(df,conf,1e-2)\n",
    "    print('The revenues due to the battery are {}'.format(batt))\n",
    "    print('The revenues due to the SH tank are {}'.format(ts))\n",
    "    print('The revenues due to the DHW tank are {}'.format(dhw))\n",
    "    print('############')"
   ]
  },
  {
   "cell_type": "code",
   "execution_count": 504,
   "metadata": {
    "collapsed": true
   },
   "outputs": [],
   "source": [
    "file='df_110144756389_CH_PV50_NMC_0110_7.0_1100_SFH45.csv'\n",
    "df=pd.read_csv('Output/'+file,engine='python',sep=',',index_col=[0])\n",
    "df.index=pd.to_datetime(df.index,utc=True)\n",
    "df.index=df.index.tz_convert('Europe/Brussels')\n",
    "app=file.split('_')[5]\n",
    "if app=='0110':\n",
    "    app=[0,1,1,0]\n",
    "elif app=='0111':\n",
    "    app=[0,1,1,1]\n",
    "conf=file.split('_')[7]\n",
    "if conf=='0100':\n",
    "    conf=0\n",
    "elif conf=='0110':\n",
    "    conf=1\n",
    "elif conf=='0111':\n",
    "    conf=2\n",
    "elif conf=='1100':\n",
    "    conf=3\n",
    "elif conf=='1110':\n",
    "    conf=4\n",
    "elif conf=='1111':\n",
    "    conf=5\n",
    "#if app[3]==False:"
   ]
  },
  {
   "cell_type": "code",
   "execution_count": 505,
   "metadata": {
    "collapsed": false
   },
   "outputs": [
    {
     "name": "stdout",
     "output_type": "stream",
     "text": [
      "Getting bill\n",
      "df_110144756389_CH_PV50_NMC_0110_7.0_1100_SFH45.csv\n",
      "The total bill is 681.7034032412586\n",
      "The revenues due to the battery are 327.12834755825463\n",
      "The revenues due to the SH tank are 0\n",
      "The revenues due to the DHW tank are 0\n",
      "############\n"
     ]
    }
   ],
   "source": [
    "[batt,ts,dhw]=get_revenue(df,conf)\n",
    "bill=get_bills(app,df)\n",
    "print(file)\n",
    "print('The total bill is {}'.format(bill))\n",
    "test_balances(df,conf,1e-4)\n",
    "print('The revenues due to the battery are {}'.format(batt))\n",
    "print('The revenues due to the SH tank are {}'.format(ts))\n",
    "print('The revenues due to the DHW tank are {}'.format(dhw))\n",
    "print('############')"
   ]
  },
  {
   "cell_type": "code",
   "execution_count": 437,
   "metadata": {
    "collapsed": false
   },
   "outputs": [
    {
     "name": "stdout",
     "output_type": "stream",
     "text": [
      "Getting bill\n",
      "df_110144756389_CH_PV50_NMC_0110_7.0_0100_SFH45.csv\n",
      "The total bill is 963.2642314405151\n",
      "The revenues due to the battery are 0\n",
      "The revenues due to the SH tank are 0\n",
      "The revenues due to the DHW tank are 0\n",
      "############\n"
     ]
    }
   ],
   "source": [
    "[batt,ts,dhw]=get_revenue(df,conf)\n",
    "bill=get_bills(app,df)\n",
    "print(file)\n",
    "print('The total bill is {}'.format(bill))\n",
    "test_balances(df,conf,1e-4)\n",
    "print('The revenues due to the battery are {}'.format(batt))\n",
    "print('The revenues due to the SH tank are {}'.format(ts))\n",
    "print('The revenues due to the DHW tank are {}'.format(dhw))\n",
    "print('############')"
   ]
  },
  {
   "cell_type": "code",
   "execution_count": 459,
   "metadata": {
    "collapsed": true
   },
   "outputs": [],
   "source": [
    "df['cons2']=(df.E_demand+df.Req_kWh/df.COP_SH)"
   ]
  },
  {
   "cell_type": "code",
   "execution_count": 473,
   "metadata": {
    "collapsed": false
   },
   "outputs": [
    {
     "data": {
      "text/plain": [
       "1600.9244170866054"
      ]
     },
     "execution_count": 473,
     "metadata": {},
     "output_type": "execute_result"
    }
   ],
   "source": [
    "(df.cons2*df.price).sum()"
   ]
  },
  {
   "cell_type": "code",
   "execution_count": 512,
   "metadata": {
    "collapsed": true
   },
   "outputs": [],
   "source": [
    "clusters=pd.read_csv('Input/clusters.csv',index_col=[0])"
   ]
  },
  {
   "cell_type": "code",
   "execution_count": 514,
   "metadata": {
    "collapsed": false
   },
   "outputs": [
    {
     "data": {
      "text/html": [
       "<div>\n",
       "<style scoped>\n",
       "    .dataframe tbody tr th:only-of-type {\n",
       "        vertical-align: middle;\n",
       "    }\n",
       "\n",
       "    .dataframe tbody tr th {\n",
       "        vertical-align: top;\n",
       "    }\n",
       "\n",
       "    .dataframe thead th {\n",
       "        text-align: right;\n",
       "    }\n",
       "</style>\n",
       "<table border=\"1\" class=\"dataframe\">\n",
       "  <thead>\n",
       "    <tr style=\"text-align: right;\">\n",
       "      <th></th>\n",
       "      <th>name</th>\n",
       "      <th>cluster</th>\n",
       "      <th>country</th>\n",
       "    </tr>\n",
       "  </thead>\n",
       "  <tbody>\n",
       "    <tr>\n",
       "      <th>0</th>\n",
       "      <td>1</td>\n",
       "      <td>2.0</td>\n",
       "      <td>US</td>\n",
       "    </tr>\n",
       "    <tr>\n",
       "      <th>1</th>\n",
       "      <td>2</td>\n",
       "      <td>4.0</td>\n",
       "      <td>US</td>\n",
       "    </tr>\n",
       "    <tr>\n",
       "      <th>2</th>\n",
       "      <td>3</td>\n",
       "      <td>6.0</td>\n",
       "      <td>US</td>\n",
       "    </tr>\n",
       "    <tr>\n",
       "      <th>3</th>\n",
       "      <td>4</td>\n",
       "      <td>2.0</td>\n",
       "      <td>US</td>\n",
       "    </tr>\n",
       "    <tr>\n",
       "      <th>4</th>\n",
       "      <td>5</td>\n",
       "      <td>3.0</td>\n",
       "      <td>US</td>\n",
       "    </tr>\n",
       "  </tbody>\n",
       "</table>\n",
       "</div>"
      ],
      "text/plain": [
       "   name  cluster country\n",
       "0     1      2.0      US\n",
       "1     2      4.0      US\n",
       "2     3      6.0      US\n",
       "3     4      2.0      US\n",
       "4     5      3.0      US"
      ]
     },
     "execution_count": 514,
     "metadata": {},
     "output_type": "execute_result"
    }
   ],
   "source": [
    "clusters.head()"
   ]
  },
  {
   "cell_type": "code",
   "execution_count": 489,
   "metadata": {
    "collapsed": false
   },
   "outputs": [
    {
     "data": {
      "text/plain": [
       "<matplotlib.axes._subplots.AxesSubplot at 0x7f9002423c88>"
      ]
     },
     "execution_count": 489,
     "metadata": {},
     "output_type": "execute_result"
    },
    {
     "data": {
      "image/png": "[encoded data removed]",
      "text/plain": [
       "<Figure size 432x288 with 1 Axes>"
      ]
     },
     "metadata": {
      "needs_background": "light"
     },
     "output_type": "display_data"
    }
   ],
   "source": [
    "df.cons2[400:600].plot()\n",
    "df.E_PV[400:600].plot()\n",
    "(df.cons2-df[['E_PV','cons2']].min(axis=1))[400:600].plot()\n",
    "(-(df.E_PV-df[['E_PV','cons2']].min(axis=1)))[400:600].plot()\n",
    "(-df.E_PV_grid)[400:600].plot()"
   ]
  },
  {
   "cell_type": "markdown",
   "metadata": {},
   "source": [
    "SC"
   ]
  },
  {
   "cell_type": "code",
   "execution_count": 484,
   "metadata": {
    "collapsed": false
   },
   "outputs": [
    {
     "data": {
      "text/plain": [
       "0.039028608115289375"
      ]
     },
     "execution_count": 484,
     "metadata": {},
     "output_type": "execute_result"
    }
   ],
   "source": [
    "df.E_bu.sum()"
   ]
  },
  {
   "cell_type": "code",
   "execution_count": 490,
   "metadata": {
    "collapsed": false
   },
   "outputs": [
    {
     "data": {
      "text/plain": [
       "Index(['Bool_char', 'Bool_cons', 'Bool_dis', 'Bool_hp', 'Bool_hpdhw',\n",
       "       'Bool_inj', 'E_PV_batt', 'E_PV_bu', 'E_PV_budhw', 'E_PV_curt',\n",
       "       'E_PV_grid', 'E_PV_hp', 'E_PV_hpdhw', 'E_PV_load', 'E_batt_bu',\n",
       "       'E_batt_budhw', 'E_batt_hp', 'E_batt_hpdhw', 'E_batt_load', 'E_bu',\n",
       "       'E_budhw', 'E_char', 'E_cons', 'E_dis', 'E_grid_batt', 'E_grid_bu',\n",
       "       'E_grid_budhw', 'E_grid_hp', 'E_grid_hpdhw', 'E_grid_load', 'E_hp',\n",
       "       'E_hpdhw', 'E_loss_Batt', 'E_loss_conv', 'E_loss_inv', 'E_loss_inv_PV',\n",
       "       'E_loss_inv_batt', 'E_loss_inv_grid', 'Q_dhwst_hd', 'Q_hp_sh',\n",
       "       'Q_hp_ts', 'Q_loss_dhwst', 'Q_loss_ts', 'Q_ts', 'Q_ts_delta', 'Q_ts_sh',\n",
       "       'SOC', 'T_dhwst', 'T_ts', 'E_demand', 'E_PV', 'Export_price', 'price',\n",
       "       'Inv_P', 'Conv_P', 'Req_kWh', 'Req_kWh_DHW', 'Set_T', 'Temp',\n",
       "       'Temp_supply', 'Temp_supply_tank', 'T_aux_supply', 'COP_tank', 'COP_SH',\n",
       "       'COP_DHW', 'Cooling', 'cons2'],\n",
       "      dtype='object')"
      ]
     },
     "execution_count": 490,
     "metadata": {},
     "output_type": "execute_result"
    }
   ],
   "source": [
    "df.keys()"
   ]
  },
  {
   "cell_type": "code",
   "execution_count": 493,
   "metadata": {
    "collapsed": false
   },
   "outputs": [
    {
     "data": {
      "text/plain": [
       "78.23143529694167"
      ]
     },
     "execution_count": 493,
     "metadata": {},
     "output_type": "execute_result"
    }
   ],
   "source": [
    "((df.E_loss_inv+df.E_loss_conv)*df.price).sum()"
   ]
  },
  {
   "cell_type": "code",
   "execution_count": 499,
   "metadata": {
    "collapsed": true
   },
   "outputs": [],
   "source": [
    "SC=pd.DataFrame([df.E_PV*.98*.95,df.cons2]).min(axis=0)"
   ]
  },
  {
   "cell_type": "code",
   "execution_count": 503,
   "metadata": {
    "collapsed": false
   },
   "outputs": [
    {
     "data": {
      "text/plain": [
       "945.5640266911338"
      ]
     },
     "execution_count": 503,
     "metadata": {},
     "output_type": "execute_result"
    }
   ],
   "source": [
    "((df.cons2-SC)*df.price-(df.E_PV-SC)*df.Export_price).sum()"
   ]
  },
  {
   "cell_type": "code",
   "execution_count": 468,
   "metadata": {
    "collapsed": false
   },
   "outputs": [
    {
     "data": {
      "text/plain": [
       "<matplotlib.axes._subplots.AxesSubplot at 0x7f9000a8e978>"
      ]
     },
     "execution_count": 468,
     "metadata": {},
     "output_type": "execute_result"
    },
    {
     "data": {
      "image/png": "[encoded data removed]",
      "text/plain": [
       "<Figure size 432x288 with 1 Axes>"
      ]
     },
     "metadata": {
      "needs_background": "light"
     },
     "output_type": "display_data"
    }
   ],
   "source": [
    "df.E_PV[:700].plot()"
   ]
  },
  {
   "cell_type": "code",
   "execution_count": 481,
   "metadata": {
    "collapsed": false
   },
   "outputs": [
    {
     "data": {
      "text/plain": [
       "<matplotlib.legend.Legend at 0x7f9002113fd0>"
      ]
     },
     "execution_count": 481,
     "metadata": {},
     "output_type": "execute_result"
    },
    {
     "data": {
      "image/png": "[encoded data removed]",
      "text/plain": [
       "<Figure size 432x288 with 1 Axes>"
      ]
     },
     "metadata": {
      "needs_background": "light"
     },
     "output_type": "display_data"
    }
   ],
   "source": [
    "(df.cons2-df[['E_PV','cons2']].min(axis=1))[400:600].plot()\n",
    "df.cons2[400:600].plot()\n",
    "df.E_cons[400:600].plot()\n",
    "df.E_PV[400:600].plot()\n",
    "(-df[['E_PV','cons2']].min(axis=1)[400:600]).plot(label='SC')\n",
    "(-(df.E_PV-df[['E_PV','cons2']].min(axis=1))[400:600]).plot(label='to grid')\n",
    "plt.legend()"
   ]
  },
  {
   "cell_type": "code",
   "execution_count": 444,
   "metadata": {
    "collapsed": false
   },
   "outputs": [
    {
     "data": {
      "text/plain": [
       "2970.8873501853427"
      ]
     },
     "execution_count": 444,
     "metadata": {},
     "output_type": "execute_result"
    }
   ],
   "source": [
    "(df.E_hp+df.E_bu).sum()"
   ]
  },
  {
   "cell_type": "code",
   "execution_count": 438,
   "metadata": {
    "collapsed": false
   },
   "outputs": [
    {
     "data": {
      "text/plain": [
       "585.5832142798391"
      ]
     },
     "execution_count": 438,
     "metadata": {},
     "output_type": "execute_result"
    }
   ],
   "source": [
    "df.E_PV_hp.sum()"
   ]
  },
  {
   "cell_type": "code",
   "execution_count": 426,
   "metadata": {
    "collapsed": false
   },
   "outputs": [
    {
     "name": "stdout",
     "output_type": "stream",
     "text": [
      "Getting bill\n",
      "df_110144756389_CH_PV50_NMC_0110_7.0_0110_SFH45.csv\n",
      "The total bill is 813.7789307044491\n",
      "The revenues due to the battery are 0\n",
      "The revenues due to the SH tank are 234.21398856665394\n",
      "The revenues due to the DHW tank are 0\n",
      "############\n"
     ]
    }
   ],
   "source": [
    "[batt,ts,dhw]=get_revenue(df,conf)\n",
    "bill=get_bills(app,df)\n",
    "print(file)\n",
    "print('The total bill is {}'.format(bill))\n",
    "test_balances(df,conf,1e-4)\n",
    "print('The revenues due to the battery are {}'.format(batt))\n",
    "print('The revenues due to the SH tank are {}'.format(ts))\n",
    "print('The revenues due to the DHW tank are {}'.format(dhw))\n",
    "print('############')"
   ]
  },
  {
   "cell_type": "code",
   "execution_count": 427,
   "metadata": {
    "collapsed": true
   },
   "outputs": [],
   "source": [
    "Ts_dis=df[(df.price==df.price.max())].Q_ts_sh/df[(df.price==df.price.max())].COP_SH\n",
    "\n",
    "Ts_grid_ts=df[(df.price==df.price.min())&(df.Q_hp_ts>0)].E_grid_hp+df[(df.price==df.price.min())&(df.Q_hp_ts>0)].E_grid_bu # Electricity used to charge the tank @ off peak time\n",
    "\n",
    "Ts_sh_rev_dls=(Ts_dis*df[(df.price==df.price.max())&(df.Q_ts_sh>0)].price).sum()-(Ts_grid_ts*df[(df.price==df.price.min())&\n",
    "               (df.Q_hp_ts>0)].price).sum()\n",
    "\n",
    "# Equivalent electric energy discharged that otherwhise would be covered by the HP directly\n",
    "Ts_dis=df.Q_ts_sh/df.COP_SH \n",
    "\n",
    "E_PV_hp=df[(df.Q_hp_ts>0)].E_PV_hp+df[(df.Q_hp_ts>0)].E_PV_bu # Electricity used to charge the tank @ when PV\n",
    "\n",
    "Ts_sh_rev_pvsc=(Ts_dis*df.price).sum()-(E_PV_hp*df.Export_price).sum()\n",
    "Rev_ts_sh=Ts_sh_rev_pvsc+Ts_sh_rev_dls-(Ts_dis*df[(df.price==df.price.max())&(df.Q_ts_sh>0)].price).sum()"
   ]
  },
  {
   "cell_type": "code",
   "execution_count": 432,
   "metadata": {
    "collapsed": false
   },
   "outputs": [
    {
     "data": {
      "text/plain": [
       "943.8975513108351"
      ]
     },
     "execution_count": 432,
     "metadata": {},
     "output_type": "execute_result"
    }
   ],
   "source": [
    "df.E_PV_hp.sum()"
   ]
  },
  {
   "cell_type": "code",
   "execution_count": 428,
   "metadata": {
    "collapsed": false
   },
   "outputs": [
    {
     "data": {
      "text/plain": [
       "583.1188650019105"
      ]
     },
     "execution_count": 428,
     "metadata": {},
     "output_type": "execute_result"
    }
   ],
   "source": [
    "Ts_sh_rev_pvsc\n"
   ]
  },
  {
   "cell_type": "code",
   "execution_count": 429,
   "metadata": {
    "collapsed": false
   },
   "outputs": [
    {
     "data": {
      "text/plain": [
       "36.687830679418994"
      ]
     },
     "execution_count": 429,
     "metadata": {},
     "output_type": "execute_result"
    }
   ],
   "source": [
    "Ts_sh_rev_dls"
   ]
  },
  {
   "cell_type": "code",
   "execution_count": 430,
   "metadata": {
    "collapsed": false
   },
   "outputs": [
    {
     "data": {
      "text/plain": [
       "234.21398856665394"
      ]
     },
     "execution_count": 430,
     "metadata": {},
     "output_type": "execute_result"
    }
   ],
   "source": [
    "Rev_ts_sh"
   ]
  },
  {
   "cell_type": "code",
   "execution_count": 421,
   "metadata": {
    "collapsed": true
   },
   "outputs": [],
   "source": [
    "Batt_rev_pvsc=(df.E_dis*.95*df.price-df.E_PV_batt*.95*df.Export_price).sum()\n",
    "Batt_rev_dls=(df[df.price==df.price.max()].E_dis*.95*df[df.price==df.price.max()].price).sum()-(df[df.price==df.price.min()].E_grid_batt*df[df.price==df.price.min()].price).sum()\n",
    "Rev_batt=Batt_rev_pvsc+Batt_rev_dls-(df[df.price==df.price.max()].E_dis*.95*df[df.price==df.price.max()].price).sum()"
   ]
  },
  {
   "cell_type": "code",
   "execution_count": 422,
   "metadata": {
    "collapsed": false
   },
   "outputs": [
    {
     "data": {
      "text/plain": [
       "449.910550405403"
      ]
     },
     "execution_count": 422,
     "metadata": {},
     "output_type": "execute_result"
    }
   ],
   "source": [
    "Batt_rev_pvsc"
   ]
  },
  {
   "cell_type": "code",
   "execution_count": 423,
   "metadata": {
    "collapsed": false
   },
   "outputs": [
    {
     "data": {
      "text/plain": [
       "360.67171802899014"
      ]
     },
     "execution_count": 423,
     "metadata": {},
     "output_type": "execute_result"
    }
   ],
   "source": [
    "Batt_rev_dls"
   ]
  },
  {
   "cell_type": "code",
   "execution_count": 424,
   "metadata": {
    "collapsed": false
   },
   "outputs": [
    {
     "data": {
      "text/plain": [
       "325.9364390381055"
      ]
     },
     "execution_count": 424,
     "metadata": {},
     "output_type": "execute_result"
    }
   ],
   "source": [
    "Batt_rev_pvsc+Batt_rev_dls-(df[df.price==df.price.max()].E_dis*.95*df[df.price==df.price.max()].price).sum()"
   ]
  },
  {
   "cell_type": "code",
   "execution_count": 300,
   "metadata": {
    "collapsed": false
   },
   "outputs": [
    {
     "data": {
      "text/plain": [
       "303.5979419417205"
      ]
     },
     "execution_count": 300,
     "metadata": {},
     "output_type": "execute_result"
    }
   ],
   "source": [
    "Rev_batt"
   ]
  },
  {
   "cell_type": "code",
   "execution_count": 288,
   "metadata": {
    "collapsed": false
   },
   "outputs": [
    {
     "data": {
      "text/plain": [
       "E_loss_inv_PV            334.97\n",
       "E_loss_inv_batt            0.00\n",
       "E_loss_inv_grid            0.00\n",
       "Q_dhwst_hd                 0.00\n",
       "Q_hp_sh                11745.91\n",
       "Q_hp_ts                    0.00\n",
       "Q_loss_dhwst               0.00\n",
       "Q_loss_ts                  0.00\n",
       "Q_ts                       0.00\n",
       "Q_ts_delta                 0.00\n",
       "Q_ts_sh                    0.00\n",
       "SOC                        0.00\n",
       "T_dhwst             10972776.00\n",
       "T_ts                10574833.36\n",
       "E_demand                4433.86\n",
       "E_PV                    6868.98\n",
       "Export_price            1411.32\n",
       "price                   7576.22\n",
       "Inv_P                  24455.21\n",
       "Conv_P                 23115.33\n",
       "Req_kWh                11745.91\n",
       "Req_kWh_DHW             3665.64\n",
       "Set_T               10190216.00\n",
       "Temp                 9935872.80\n",
       "Temp_supply         10364352.34\n",
       "Temp_supply_tank    10415708.56\n",
       "T_aux_supply        10415708.56\n",
       "COP_tank              170060.74\n",
       "COP_SH                172267.41\n",
       "COP_DHW               102936.88\n",
       "Cooling                    0.00\n",
       "dtype: float64"
      ]
     },
     "execution_count": 288,
     "metadata": {},
     "output_type": "execute_result"
    }
   ],
   "source": [
    "df.sum().round(2)[35:]"
   ]
  },
  {
   "cell_type": "code",
   "execution_count": 173,
   "metadata": {
    "collapsed": false
   },
   "outputs": [
    {
     "name": "stdout",
     "output_type": "stream",
     "text": [
      "The revenues due to the battery are 0\n",
      "The revenues due to the SH tank are 72.36720359790738\n",
      "The revenues due to the DHW tank are 0.0\n"
     ]
    }
   ],
   "source": [
    "[batt,ts,dhw]=get_revenue(df,2)\n",
    "print('The revenues due to the battery are {}'.format(batt))\n",
    "print('The revenues due to the SH tank are {}'.format(ts))\n",
    "print('The revenues due to the DHW tank are {}'.format(dhw))"
   ]
  },
  {
   "cell_type": "code",
   "execution_count": 174,
   "metadata": {
    "collapsed": false
   },
   "outputs": [
    {
     "name": "stdout",
     "output_type": "stream",
     "text": [
      "Getting bill\n",
      "The total bill is 516.9449131353759\n"
     ]
    }
   ],
   "source": [
    "bill=get_bills([0,1,1,0],df)\n",
    "print('The total bill is {}'.format(bill))\n"
   ]
  },
  {
   "cell_type": "code",
   "execution_count": 167,
   "metadata": {
    "collapsed": false
   },
   "outputs": [
    {
     "name": "stdout",
     "output_type": "stream",
     "text": [
      "Getting bill\n",
      "The total bill is 561.2956725783357\n"
     ]
    }
   ],
   "source": [
    "bill=get_bills([0,1,1,0],df)\n",
    "print('The total bill is {}'.format(bill))\n"
   ]
  },
  {
   "cell_type": "code",
   "execution_count": 155,
   "metadata": {
    "collapsed": true
   },
   "outputs": [],
   "source": [
    "\n",
    "def get_bills(App_comb,df):\n",
    "    print('Getting bill')\n",
    "    Capacity_tariff=9.39\n",
    "    bill_power=0\n",
    "    if App_comb[3]:\n",
    "\n",
    "        P_max_month=df.groupby([df.index.month]).E_cons.max()*4\n",
    "        bill_power=P_max_month*Capacity_tariff\n",
    "\n",
    "\n",
    "    bill_energy_min=df.E_cons*df.price-df.E_PV_grid*df.Export_price\n",
    "\n",
    "    bill_energy_day=bill_energy_min.groupby([df.index.month, df.index.day]).sum()\n",
    "\n",
    "    bill=bill_energy_day#+bill_power\n",
    "\n",
    "    bill=(bill.unstack().sum(axis=1)+bill_power).reset_index(drop=True)\n",
    "\n",
    "    return bill.sum()"
   ]
  },
  {
   "cell_type": "code",
   "execution_count": null,
   "metadata": {
    "collapsed": true
   },
   "outputs": [],
   "source": []
  },
  {
   "cell_type": "code",
   "execution_count": null,
   "metadata": {
    "collapsed": true
   },
   "outputs": [],
   "source": []
  }
 ],
 "metadata": {
  "kernelspec": {
   "display_name": "Python 3",
   "language": "python",
   "name": "python3"
  },
  "language_info": {
   "codemirror_mode": {
    "name": "ipython",
    "version": 3
   },
   "file_extension": ".py",
   "mimetype": "text/x-python",
   "name": "python",
   "nbconvert_exporter": "python",
   "pygments_lexer": "ipython3",
   "version": "3.6.0"
  }
 },
 "nbformat": 4,
 "nbformat_minor": 2
}
