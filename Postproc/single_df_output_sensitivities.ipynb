{
 "cells": [
  {
   "cell_type": "code",
   "execution_count": 1,
   "metadata": {},
   "outputs": [],
   "source": [
    "%load_ext autoreload\n",
    "%autoreload 2\n",
    "import itertools\n",
    "import pandas as pd\n",
    "import numpy as np\n",
    "import os\n",
    "import csv\n",
    "import matplotlib.pyplot as plt\n",
    "import paper_classes as pc\n",
    "import df_todo as todo\n"
   ]
  },
  {
   "cell_type": "code",
   "execution_count": 5,
   "metadata": {},
   "outputs": [],
   "source": [
    "df_last=pd.read_csv('Output/aggregated_results.csv',sep=';')"
   ]
  },
  {
   "cell_type": "code",
   "execution_count": 6,
   "metadata": {},
   "outputs": [
    {
     "data": {
      "text/html": [
       "<div>\n",
       "<style scoped>\n",
       "    .dataframe tbody tr th:only-of-type {\n",
       "        vertical-align: middle;\n",
       "    }\n",
       "\n",
       "    .dataframe tbody tr th {\n",
       "        vertical-align: top;\n",
       "    }\n",
       "\n",
       "    .dataframe thead th {\n",
       "        text-align: right;\n",
       "    }\n",
       "</style>\n",
       "<table border=\"1\" class=\"dataframe\">\n",
       "  <thead>\n",
       "    <tr style=\"text-align: right;\">\n",
       "      <th></th>\n",
       "      <th>E_PV_batt</th>\n",
       "      <th>E_PV_bu</th>\n",
       "      <th>E_PV_budhw</th>\n",
       "      <th>E_PV_curt</th>\n",
       "      <th>E_PV_grid</th>\n",
       "      <th>E_PV_hp</th>\n",
       "      <th>E_PV_hpdhw</th>\n",
       "      <th>E_PV_load</th>\n",
       "      <th>E_batt_bu</th>\n",
       "      <th>E_batt_budhw</th>\n",
       "      <th>...</th>\n",
       "      <th>SOC_mean</th>\n",
       "      <th>P_drained_max</th>\n",
       "      <th>P_injected_max</th>\n",
       "      <th>last_cap</th>\n",
       "      <th>cap_fading</th>\n",
       "      <th>last_SOH</th>\n",
       "      <th>cycle_to_total</th>\n",
       "      <th>Bill</th>\n",
       "      <th>Bill_noexp</th>\n",
       "      <th>P_max_mean</th>\n",
       "    </tr>\n",
       "  </thead>\n",
       "  <tbody>\n",
       "    <tr>\n",
       "      <th>0</th>\n",
       "      <td>0.0</td>\n",
       "      <td>2.850014</td>\n",
       "      <td>0.0</td>\n",
       "      <td>414.053416</td>\n",
       "      <td>4209.692690</td>\n",
       "      <td>304.900899</td>\n",
       "      <td>0.0</td>\n",
       "      <td>1474.990672</td>\n",
       "      <td>0.0</td>\n",
       "      <td>0.0</td>\n",
       "      <td>...</td>\n",
       "      <td>94.613333</td>\n",
       "      <td>3.120000</td>\n",
       "      <td>3.64</td>\n",
       "      <td>6.86</td>\n",
       "      <td>2.0</td>\n",
       "      <td>0.933516</td>\n",
       "      <td>0.0</td>\n",
       "      <td>710.576694</td>\n",
       "      <td>872.436265</td>\n",
       "      <td>NaN</td>\n",
       "    </tr>\n",
       "    <tr>\n",
       "      <th>1</th>\n",
       "      <td>0.0</td>\n",
       "      <td>2.212511</td>\n",
       "      <td>0.0</td>\n",
       "      <td>412.341582</td>\n",
       "      <td>4124.960275</td>\n",
       "      <td>295.095644</td>\n",
       "      <td>0.0</td>\n",
       "      <td>1571.792089</td>\n",
       "      <td>0.0</td>\n",
       "      <td>0.0</td>\n",
       "      <td>...</td>\n",
       "      <td>94.613333</td>\n",
       "      <td>4.750824</td>\n",
       "      <td>3.80</td>\n",
       "      <td>6.86</td>\n",
       "      <td>2.0</td>\n",
       "      <td>0.933516</td>\n",
       "      <td>0.0</td>\n",
       "      <td>817.877710</td>\n",
       "      <td>975.806238</td>\n",
       "      <td>NaN</td>\n",
       "    </tr>\n",
       "    <tr>\n",
       "      <th>2</th>\n",
       "      <td>0.0</td>\n",
       "      <td>2.934456</td>\n",
       "      <td>0.0</td>\n",
       "      <td>414.190243</td>\n",
       "      <td>4461.943388</td>\n",
       "      <td>312.923888</td>\n",
       "      <td>0.0</td>\n",
       "      <td>1214.502558</td>\n",
       "      <td>0.0</td>\n",
       "      <td>0.0</td>\n",
       "      <td>...</td>\n",
       "      <td>94.613333</td>\n",
       "      <td>4.320000</td>\n",
       "      <td>3.80</td>\n",
       "      <td>6.86</td>\n",
       "      <td>2.0</td>\n",
       "      <td>0.933516</td>\n",
       "      <td>0.0</td>\n",
       "      <td>584.211311</td>\n",
       "      <td>755.106757</td>\n",
       "      <td>NaN</td>\n",
       "    </tr>\n",
       "    <tr>\n",
       "      <th>3</th>\n",
       "      <td>0.0</td>\n",
       "      <td>3.552288</td>\n",
       "      <td>0.0</td>\n",
       "      <td>414.874454</td>\n",
       "      <td>4984.539473</td>\n",
       "      <td>359.589523</td>\n",
       "      <td>0.0</td>\n",
       "      <td>643.973006</td>\n",
       "      <td>0.0</td>\n",
       "      <td>0.0</td>\n",
       "      <td>...</td>\n",
       "      <td>94.613333</td>\n",
       "      <td>6.920000</td>\n",
       "      <td>3.80</td>\n",
       "      <td>6.86</td>\n",
       "      <td>2.0</td>\n",
       "      <td>0.933516</td>\n",
       "      <td>0.0</td>\n",
       "      <td>929.783392</td>\n",
       "      <td>1122.644625</td>\n",
       "      <td>NaN</td>\n",
       "    </tr>\n",
       "    <tr>\n",
       "      <th>4</th>\n",
       "      <td>0.0</td>\n",
       "      <td>2.695771</td>\n",
       "      <td>0.0</td>\n",
       "      <td>412.767174</td>\n",
       "      <td>4486.880550</td>\n",
       "      <td>328.822311</td>\n",
       "      <td>0.0</td>\n",
       "      <td>1175.257574</td>\n",
       "      <td>0.0</td>\n",
       "      <td>0.0</td>\n",
       "      <td>...</td>\n",
       "      <td>94.613333</td>\n",
       "      <td>5.760000</td>\n",
       "      <td>3.76</td>\n",
       "      <td>6.86</td>\n",
       "      <td>2.0</td>\n",
       "      <td>0.933516</td>\n",
       "      <td>0.0</td>\n",
       "      <td>858.260553</td>\n",
       "      <td>1031.176266</td>\n",
       "      <td>NaN</td>\n",
       "    </tr>\n",
       "  </tbody>\n",
       "</table>\n",
       "<p>5 rows × 95 columns</p>\n",
       "</div>"
      ],
      "text/plain": [
       "   E_PV_batt   E_PV_bu  E_PV_budhw   E_PV_curt    E_PV_grid     E_PV_hp  \\\n",
       "0        0.0  2.850014         0.0  414.053416  4209.692690  304.900899   \n",
       "1        0.0  2.212511         0.0  412.341582  4124.960275  295.095644   \n",
       "2        0.0  2.934456         0.0  414.190243  4461.943388  312.923888   \n",
       "3        0.0  3.552288         0.0  414.874454  4984.539473  359.589523   \n",
       "4        0.0  2.695771         0.0  412.767174  4486.880550  328.822311   \n",
       "\n",
       "   E_PV_hpdhw    E_PV_load  E_batt_bu  E_batt_budhw  ...   SOC_mean  \\\n",
       "0         0.0  1474.990672        0.0           0.0  ...  94.613333   \n",
       "1         0.0  1571.792089        0.0           0.0  ...  94.613333   \n",
       "2         0.0  1214.502558        0.0           0.0  ...  94.613333   \n",
       "3         0.0   643.973006        0.0           0.0  ...  94.613333   \n",
       "4         0.0  1175.257574        0.0           0.0  ...  94.613333   \n",
       "\n",
       "   P_drained_max  P_injected_max  last_cap  cap_fading  last_SOH  \\\n",
       "0       3.120000            3.64      6.86         2.0  0.933516   \n",
       "1       4.750824            3.80      6.86         2.0  0.933516   \n",
       "2       4.320000            3.80      6.86         2.0  0.933516   \n",
       "3       6.920000            3.80      6.86         2.0  0.933516   \n",
       "4       5.760000            3.76      6.86         2.0  0.933516   \n",
       "\n",
       "   cycle_to_total        Bill   Bill_noexp  P_max_mean  \n",
       "0             0.0  710.576694   872.436265         NaN  \n",
       "1             0.0  817.877710   975.806238         NaN  \n",
       "2             0.0  584.211311   755.106757         NaN  \n",
       "3             0.0  929.783392  1122.644625         NaN  \n",
       "4             0.0  858.260553  1031.176266         NaN  \n",
       "\n",
       "[5 rows x 95 columns]"
      ]
     },
     "execution_count": 6,
     "metadata": {},
     "output_type": "execute_result"
    }
   ],
   "source": [
    "df_last.head()"
   ]
  },
  {
   "cell_type": "code",
   "execution_count": 8,
   "metadata": {},
   "outputs": [
    {
     "data": {
      "text/plain": [
       "(8235, 95)"
      ]
     },
     "execution_count": 8,
     "metadata": {},
     "output_type": "execute_result"
    }
   ],
   "source": [
    "df_last.shape"
   ]
  },
  {
   "cell_type": "code",
   "execution_count": 19,
   "metadata": {},
   "outputs": [
    {
     "data": {
      "text/plain": [
       "App_comb  house_type  Capacity\n",
       "3.0       SFH100      3.0         549\n",
       "                      5.0         549\n",
       "                      7.0         549\n",
       "                      9.0         549\n",
       "                      11.0        549\n",
       "          SFH15       3.0         549\n",
       "                      5.0         549\n",
       "                      7.0         549\n",
       "                      9.0         549\n",
       "                      11.0        549\n",
       "          SFH45       3.0         549\n",
       "                      5.0         549\n",
       "                      7.0         549\n",
       "                      9.0         549\n",
       "                      11.0        549\n",
       "Name: E_PV, dtype: int64"
      ]
     },
     "execution_count": 19,
     "metadata": {},
     "output_type": "execute_result"
    }
   ],
   "source": [
    "df_last.groupby(['App_comb','house_type','Capacity']).count().E_PV"
   ]
  },
  {
   "cell_type": "code",
   "execution_count": 18,
   "metadata": {},
   "outputs": [
    {
     "data": {
      "text/plain": [
       "App_comb  house_type  Capacity  conf\n",
       "3.0       SFH100      3.0       4.0     549\n",
       "                      5.0       4.0     549\n",
       "                      7.0       2.0     549\n",
       "                      9.0       4.0     549\n",
       "                      11.0      4.0     549\n",
       "          SFH15       3.0       4.0     549\n",
       "                      5.0       4.0     549\n",
       "                      7.0       2.0     549\n",
       "                      9.0       4.0     549\n",
       "                      11.0      4.0     549\n",
       "          SFH45       3.0       4.0     549\n",
       "                      5.0       4.0     549\n",
       "                      7.0       2.0     549\n",
       "                      9.0       4.0     549\n",
       "                      11.0      4.0     549\n",
       "Name: E_PV, dtype: int64"
      ]
     },
     "execution_count": 18,
     "metadata": {},
     "output_type": "execute_result"
    }
   ],
   "source": [
    "df_last.groupby(['App_comb','house_type','Capacity','conf']).count().E_PV"
   ]
  },
  {
   "cell_type": "code",
   "execution_count": 10,
   "metadata": {},
   "outputs": [],
   "source": [
    "df_aggregated=df_last.copy()"
   ]
  },
  {
   "cell_type": "code",
   "execution_count": 20,
   "metadata": {},
   "outputs": [],
   "source": [
    "df_aggregated['CT']=9.39\n",
    "df_aggregated['Tank_size']=0"
   ]
  },
  {
   "cell_type": "code",
   "execution_count": 21,
   "metadata": {},
   "outputs": [],
   "source": [
    "df_aggregated.loc[df_aggregated.Capacity==7,'Tank_size']=3000"
   ]
  },
  {
   "cell_type": "code",
   "execution_count": 23,
   "metadata": {},
   "outputs": [],
   "source": [
    "df_huge=pd.read_csv('Output/aggregated_results_huge_tank.csv',sep=';')"
   ]
  },
  {
   "cell_type": "code",
   "execution_count": 25,
   "metadata": {},
   "outputs": [
    {
     "data": {
      "text/plain": [
       "App_comb  house_type  Capacity  conf\n",
       "3.0       SFH100      7.0       2.0     549\n",
       "          SFH15       7.0       2.0     549\n",
       "          SFH45       7.0       2.0     549\n",
       "Name: E_PV, dtype: int64"
      ]
     },
     "execution_count": 25,
     "metadata": {},
     "output_type": "execute_result"
    }
   ],
   "source": [
    "df_huge.groupby(['App_comb','house_type','Capacity','conf']).count().E_PV"
   ]
  },
  {
   "cell_type": "code",
   "execution_count": 26,
   "metadata": {},
   "outputs": [],
   "source": [
    "df_huge['CT']=9.39\n",
    "df_huge['Tank_size']=9578\n"
   ]
  },
  {
   "cell_type": "code",
   "execution_count": 27,
   "metadata": {},
   "outputs": [],
   "source": [
    "df_aggregated=pd.concat([df_aggregated,df_huge])"
   ]
  },
  {
   "cell_type": "code",
   "execution_count": 28,
   "metadata": {},
   "outputs": [
    {
     "data": {
      "text/plain": [
       "App_comb  house_type  Capacity  conf  CT    Tank_size\n",
       "3.0       SFH100      3.0       4.0   9.39  0            549\n",
       "                      5.0       4.0   9.39  0            549\n",
       "                      7.0       2.0   9.39  3000         549\n",
       "                                            9578         549\n",
       "                      9.0       4.0   9.39  0            549\n",
       "                      11.0      4.0   9.39  0            549\n",
       "          SFH15       3.0       4.0   9.39  0            549\n",
       "                      5.0       4.0   9.39  0            549\n",
       "                      7.0       2.0   9.39  3000         549\n",
       "                                            9578         549\n",
       "                      9.0       4.0   9.39  0            549\n",
       "                      11.0      4.0   9.39  0            549\n",
       "          SFH45       3.0       4.0   9.39  0            549\n",
       "                      5.0       4.0   9.39  0            549\n",
       "                      7.0       2.0   9.39  3000         549\n",
       "                                            9578         549\n",
       "                      9.0       4.0   9.39  0            549\n",
       "                      11.0      4.0   9.39  0            549\n",
       "Name: E_PV, dtype: int64"
      ]
     },
     "execution_count": 28,
     "metadata": {},
     "output_type": "execute_result"
    }
   ],
   "source": [
    "df_aggregated.groupby(['App_comb','house_type','Capacity','conf','CT','Tank_size']).count().E_PV"
   ]
  },
  {
   "cell_type": "code",
   "execution_count": 29,
   "metadata": {},
   "outputs": [],
   "source": [
    "df_quarter=pd.read_csv('Output/aggregated_results_quarter_oct.csv',sep=';')"
   ]
  },
  {
   "cell_type": "code",
   "execution_count": 30,
   "metadata": {},
   "outputs": [],
   "source": [
    "df_quarter['CT']=9.39/4\n",
    "df_quarter['Tank_size']=0\n"
   ]
  },
  {
   "cell_type": "code",
   "execution_count": 31,
   "metadata": {},
   "outputs": [
    {
     "data": {
      "text/plain": [
       "App_comb  house_type  Capacity  conf  CT      Tank_size\n",
       "3.0       SFH100      7.0       2.0   2.3475  0            549\n",
       "                                4.0   2.3475  0            549\n",
       "          SFH15       7.0       2.0   2.3475  0            549\n",
       "                                4.0   2.3475  0            549\n",
       "          SFH45       7.0       2.0   2.3475  0            549\n",
       "                                4.0   2.3475  0            549\n",
       "Name: E_PV, dtype: int64"
      ]
     },
     "execution_count": 31,
     "metadata": {},
     "output_type": "execute_result"
    }
   ],
   "source": [
    "df_quarter.groupby(['App_comb','house_type','Capacity','conf','CT','Tank_size']).count().E_PV"
   ]
  },
  {
   "cell_type": "code",
   "execution_count": 32,
   "metadata": {},
   "outputs": [],
   "source": [
    "df_quarter.loc[(df_quarter.conf==2),'Tank_size']=1500"
   ]
  },
  {
   "cell_type": "code",
   "execution_count": 33,
   "metadata": {},
   "outputs": [
    {
     "data": {
      "text/plain": [
       "App_comb  house_type  Capacity  conf  CT      Tank_size\n",
       "3.0       SFH100      7.0       2.0   2.3475  1500         549\n",
       "                                4.0   2.3475  0            549\n",
       "          SFH15       7.0       2.0   2.3475  1500         549\n",
       "                                4.0   2.3475  0            549\n",
       "          SFH45       7.0       2.0   2.3475  1500         549\n",
       "                                4.0   2.3475  0            549\n",
       "Name: E_PV, dtype: int64"
      ]
     },
     "execution_count": 33,
     "metadata": {},
     "output_type": "execute_result"
    }
   ],
   "source": [
    "df_quarter.groupby(['App_comb','house_type','Capacity','conf','CT','Tank_size']).count().E_PV"
   ]
  },
  {
   "cell_type": "code",
   "execution_count": 34,
   "metadata": {},
   "outputs": [],
   "source": [
    "df_aggregated=pd.concat([df_aggregated,df_quarter])"
   ]
  },
  {
   "cell_type": "code",
   "execution_count": 35,
   "metadata": {},
   "outputs": [
    {
     "data": {
      "text/plain": [
       "App_comb  house_type  Capacity  conf  CT      Tank_size\n",
       "3.0       SFH100      3.0       4.0   9.3900  0            549\n",
       "                      5.0       4.0   9.3900  0            549\n",
       "                      7.0       2.0   2.3475  1500         549\n",
       "                                      9.3900  3000         549\n",
       "                                              9578         549\n",
       "                                4.0   2.3475  0            549\n",
       "                      9.0       4.0   9.3900  0            549\n",
       "                      11.0      4.0   9.3900  0            549\n",
       "          SFH15       3.0       4.0   9.3900  0            549\n",
       "                      5.0       4.0   9.3900  0            549\n",
       "                      7.0       2.0   2.3475  1500         549\n",
       "                                      9.3900  3000         549\n",
       "                                              9578         549\n",
       "                                4.0   2.3475  0            549\n",
       "                      9.0       4.0   9.3900  0            549\n",
       "                      11.0      4.0   9.3900  0            549\n",
       "          SFH45       3.0       4.0   9.3900  0            549\n",
       "                      5.0       4.0   9.3900  0            549\n",
       "                      7.0       2.0   2.3475  1500         549\n",
       "                                      9.3900  3000         549\n",
       "                                              9578         549\n",
       "                                4.0   2.3475  0            549\n",
       "                      9.0       4.0   9.3900  0            549\n",
       "                      11.0      4.0   9.3900  0            549\n",
       "Name: E_PV, dtype: int64"
      ]
     },
     "execution_count": 35,
     "metadata": {},
     "output_type": "execute_result"
    }
   ],
   "source": [
    "df_aggregated.groupby(['App_comb','house_type','Capacity','conf','CT','Tank_size']).count().E_PV"
   ]
  },
  {
   "cell_type": "code",
   "execution_count": 37,
   "metadata": {},
   "outputs": [],
   "source": [
    "df_normal=pd.read_csv('Output/aggregated_results_normal_oct.csv',sep=';')"
   ]
  },
  {
   "cell_type": "code",
   "execution_count": 38,
   "metadata": {},
   "outputs": [],
   "source": [
    "df_normal['CT']=9.39\n",
    "df_normal['Tank_size']=0"
   ]
  },
  {
   "cell_type": "code",
   "execution_count": 40,
   "metadata": {},
   "outputs": [],
   "source": [
    "df_normal.loc[(df_normal.conf==2)|(df_normal.conf==3)|(df_normal.conf==6)|(df_normal.conf==7),'Tank_size']=1500"
   ]
  },
  {
   "cell_type": "code",
   "execution_count": 43,
   "metadata": {},
   "outputs": [
    {
     "data": {
      "text/plain": [
       "App_comb  house_type  Capacity  conf  CT    Tank_size\n",
       "2.0       SFH100      7.0       0.0   9.39  0            549\n",
       "                                1.0   9.39  0            549\n",
       "                                2.0   9.39  1500         549\n",
       "                                3.0   9.39  1500         549\n",
       "                                4.0   9.39  0            549\n",
       "                                5.0   9.39  0            549\n",
       "                                6.0   9.39  1500         549\n",
       "                                7.0   9.39  1500         549\n",
       "          SFH15       7.0       0.0   9.39  0            549\n",
       "                                1.0   9.39  0            549\n",
       "                                2.0   9.39  1500         549\n",
       "                                3.0   9.39  1500         549\n",
       "                                4.0   9.39  0            549\n",
       "                                5.0   9.39  0            549\n",
       "                                6.0   9.39  1500         549\n",
       "                                7.0   9.39  1500         549\n",
       "          SFH45       7.0       0.0   9.39  0            549\n",
       "                                1.0   9.39  0            549\n",
       "                                2.0   9.39  1500         549\n",
       "                                3.0   9.39  1500         549\n",
       "                                4.0   9.39  0            549\n",
       "                                5.0   9.39  0            549\n",
       "                                6.0   9.39  1500         549\n",
       "                                7.0   9.39  1500         549\n",
       "3.0       SFH100      7.0       0.0   9.39  0            549\n",
       "                                1.0   9.39  0            549\n",
       "                                2.0   9.39  1500         549\n",
       "                                3.0   9.39  1500         549\n",
       "                                4.0   9.39  0            549\n",
       "                                5.0   9.39  0            549\n",
       "                                6.0   9.39  1500         549\n",
       "                                7.0   9.39  1500         549\n",
       "          SFH15       7.0       0.0   9.39  0            549\n",
       "                                1.0   9.39  0            549\n",
       "                                2.0   9.39  1500         549\n",
       "                                3.0   9.39  1500         549\n",
       "                                4.0   9.39  0            549\n",
       "                                5.0   9.39  0            549\n",
       "                                6.0   9.39  1500         549\n",
       "                                7.0   9.39  1500         547\n",
       "          SFH45       7.0       0.0   9.39  0            549\n",
       "                                1.0   9.39  0            549\n",
       "                                2.0   9.39  1500         549\n",
       "                                3.0   9.39  1500         549\n",
       "                                4.0   9.39  0            549\n",
       "                                5.0   9.39  0            549\n",
       "                                6.0   9.39  1500         549\n",
       "                                7.0   9.39  1500         545\n",
       "Name: E_PV, dtype: int64"
      ]
     },
     "execution_count": 43,
     "metadata": {},
     "output_type": "execute_result"
    }
   ],
   "source": [
    "df_normal.groupby(['App_comb','house_type','Capacity','conf','CT','Tank_size']).count().E_PV"
   ]
  },
  {
   "cell_type": "code",
   "execution_count": 41,
   "metadata": {},
   "outputs": [
    {
     "name": "stderr",
     "output_type": "stream",
     "text": [
      "/home/alejandropena/.conda/envs/alenv/lib/python3.7/site-packages/ipykernel_launcher.py:1: FutureWarning: Sorting because non-concatenation axis is not aligned. A future version\n",
      "of pandas will change to not sort by default.\n",
      "\n",
      "To accept the future behavior, pass 'sort=False'.\n",
      "\n",
      "To retain the current behavior and silence the warning, pass 'sort=True'.\n",
      "\n",
      "  \"\"\"Entry point for launching an IPython kernel.\n"
     ]
    }
   ],
   "source": [
    "df_aggregated=pd.concat([df_aggregated,df_normal])"
   ]
  },
  {
   "cell_type": "code",
   "execution_count": 46,
   "metadata": {},
   "outputs": [
    {
     "data": {
      "text/plain": [
       "App_comb  house_type  Capacity  conf  CT      Tank_size\n",
       "2.0       SFH100      7.0       0.0   9.3900  0            549\n",
       "                                1.0   9.3900  0            549\n",
       "                                2.0   9.3900  1500         549\n",
       "                                3.0   9.3900  1500         549\n",
       "                                4.0   9.3900  0            549\n",
       "                                5.0   9.3900  0            549\n",
       "                                6.0   9.3900  1500         549\n",
       "                                7.0   9.3900  1500         549\n",
       "          SFH15       7.0       0.0   9.3900  0            549\n",
       "                                1.0   9.3900  0            549\n",
       "                                2.0   9.3900  1500         549\n",
       "                                3.0   9.3900  1500         549\n",
       "                                4.0   9.3900  0            549\n",
       "                                5.0   9.3900  0            549\n",
       "                                6.0   9.3900  1500         549\n",
       "                                7.0   9.3900  1500         549\n",
       "          SFH45       7.0       0.0   9.3900  0            549\n",
       "                                1.0   9.3900  0            549\n",
       "                                2.0   9.3900  1500         549\n",
       "                                3.0   9.3900  1500         549\n",
       "                                4.0   9.3900  0            549\n",
       "                                5.0   9.3900  0            549\n",
       "                                6.0   9.3900  1500         549\n",
       "                                7.0   9.3900  1500         549\n",
       "3.0       SFH100      3.0       4.0   9.3900  0            549\n",
       "                      5.0       4.0   9.3900  0            549\n",
       "                      7.0       0.0   9.3900  0            549\n",
       "                                1.0   9.3900  0            549\n",
       "                                2.0   2.3475  1500         549\n",
       "                                      9.3900  1500         549\n",
       "                                                          ... \n",
       "          SFH15       7.0       0.0   9.3900  0            549\n",
       "                                1.0   9.3900  0            549\n",
       "                                2.0   2.3475  1500         549\n",
       "                                      9.3900  1500         549\n",
       "                                              3000         549\n",
       "                                              9578         549\n",
       "                                3.0   9.3900  1500         549\n",
       "                                4.0   2.3475  0            549\n",
       "                                      9.3900  0            549\n",
       "                                5.0   9.3900  0            549\n",
       "                                6.0   9.3900  1500         549\n",
       "                                7.0   9.3900  1500         547\n",
       "                      9.0       4.0   9.3900  0            549\n",
       "                      11.0      4.0   9.3900  0            549\n",
       "          SFH45       3.0       4.0   9.3900  0            549\n",
       "                      5.0       4.0   9.3900  0            549\n",
       "                      7.0       0.0   9.3900  0            549\n",
       "                                1.0   9.3900  0            549\n",
       "                                2.0   2.3475  1500         549\n",
       "                                      9.3900  1500         549\n",
       "                                              3000         549\n",
       "                                              9578         549\n",
       "                                3.0   9.3900  1500         549\n",
       "                                4.0   2.3475  0            549\n",
       "                                      9.3900  0            549\n",
       "                                5.0   9.3900  0            549\n",
       "                                6.0   9.3900  1500         549\n",
       "                                7.0   9.3900  1500         545\n",
       "                      9.0       4.0   9.3900  0            549\n",
       "                      11.0      4.0   9.3900  0            549\n",
       "Name: E_PV, Length: 72, dtype: int64"
      ]
     },
     "execution_count": 46,
     "metadata": {},
     "output_type": "execute_result"
    }
   ],
   "source": [
    "df_aggregated.groupby(['App_comb','house_type','Capacity','conf','CT','Tank_size']).count().E_PV"
   ]
  },
  {
   "cell_type": "code",
   "execution_count": 47,
   "metadata": {},
   "outputs": [],
   "source": [
    "df_half=pd.read_csv('Output/aggregated_results_half_oct.csv',sep=';')"
   ]
  },
  {
   "cell_type": "code",
   "execution_count": 48,
   "metadata": {},
   "outputs": [],
   "source": [
    "df_half['CT']=9.39/2\n",
    "df_half['Tank_size']=0\n",
    "df_half.loc[(df_half.conf==2)|(df_half.conf==3)|(df_half.conf==6)|(df_half.conf==7),'Tank_size']=1500"
   ]
  },
  {
   "cell_type": "code",
   "execution_count": 49,
   "metadata": {},
   "outputs": [
    {
     "name": "stderr",
     "output_type": "stream",
     "text": [
      "/home/alejandropena/.conda/envs/alenv/lib/python3.7/site-packages/ipykernel_launcher.py:1: FutureWarning: Sorting because non-concatenation axis is not aligned. A future version\n",
      "of pandas will change to not sort by default.\n",
      "\n",
      "To accept the future behavior, pass 'sort=False'.\n",
      "\n",
      "To retain the current behavior and silence the warning, pass 'sort=True'.\n",
      "\n",
      "  \"\"\"Entry point for launching an IPython kernel.\n"
     ]
    }
   ],
   "source": [
    "df_aggregated=pd.concat([df_aggregated,df_half])"
   ]
  },
  {
   "cell_type": "code",
   "execution_count": 51,
   "metadata": {},
   "outputs": [
    {
     "data": {
      "text/plain": [
       "(42816, 97)"
      ]
     },
     "execution_count": 51,
     "metadata": {},
     "output_type": "execute_result"
    }
   ],
   "source": [
    "df_aggregated.shape"
   ]
  },
  {
   "cell_type": "code",
   "execution_count": 50,
   "metadata": {},
   "outputs": [
    {
     "data": {
      "text/plain": [
       "App_comb  house_type  Capacity  conf  CT      Tank_size\n",
       "2.0       SFH100      7.0       0.0   9.3900  0            549\n",
       "                                1.0   9.3900  0            549\n",
       "                                2.0   9.3900  1500         549\n",
       "                                3.0   9.3900  1500         549\n",
       "                                4.0   9.3900  0            549\n",
       "                                5.0   9.3900  0            549\n",
       "                                6.0   9.3900  1500         549\n",
       "                                7.0   9.3900  1500         549\n",
       "          SFH15       7.0       0.0   9.3900  0            549\n",
       "                                1.0   9.3900  0            549\n",
       "                                2.0   9.3900  1500         549\n",
       "                                3.0   9.3900  1500         549\n",
       "                                4.0   9.3900  0            549\n",
       "                                5.0   9.3900  0            549\n",
       "                                6.0   9.3900  1500         549\n",
       "                                7.0   9.3900  1500         549\n",
       "          SFH45       7.0       0.0   9.3900  0            549\n",
       "                                1.0   9.3900  0            549\n",
       "                                2.0   9.3900  1500         549\n",
       "                                3.0   9.3900  1500         549\n",
       "                                4.0   9.3900  0            549\n",
       "                                5.0   9.3900  0            549\n",
       "                                6.0   9.3900  1500         549\n",
       "                                7.0   9.3900  1500         549\n",
       "3.0       SFH100      3.0       4.0   9.3900  0            549\n",
       "                      5.0       4.0   9.3900  0            549\n",
       "                      7.0       0.0   9.3900  0            549\n",
       "                                1.0   9.3900  0            549\n",
       "                                2.0   2.3475  1500         549\n",
       "                                      4.6950  1500         549\n",
       "                                                          ... \n",
       "          SFH15       7.0       2.0   9.3900  1500         549\n",
       "                                              3000         549\n",
       "                                              9578         549\n",
       "                                3.0   9.3900  1500         549\n",
       "                                4.0   2.3475  0            549\n",
       "                                      4.6950  0            549\n",
       "                                      9.3900  0            549\n",
       "                                5.0   9.3900  0            549\n",
       "                                6.0   9.3900  1500         549\n",
       "                                7.0   9.3900  1500         547\n",
       "                      9.0       4.0   9.3900  0            549\n",
       "                      11.0      4.0   9.3900  0            549\n",
       "          SFH45       3.0       4.0   9.3900  0            549\n",
       "                      5.0       4.0   9.3900  0            549\n",
       "                      7.0       0.0   9.3900  0            549\n",
       "                                1.0   9.3900  0            549\n",
       "                                2.0   2.3475  1500         549\n",
       "                                      4.6950  1500         549\n",
       "                                      9.3900  1500         549\n",
       "                                              3000         549\n",
       "                                              9578         549\n",
       "                                3.0   9.3900  1500         549\n",
       "                                4.0   2.3475  0            549\n",
       "                                      4.6950  0            549\n",
       "                                      9.3900  0            549\n",
       "                                5.0   9.3900  0            549\n",
       "                                6.0   9.3900  1500         549\n",
       "                                7.0   9.3900  1500         545\n",
       "                      9.0       4.0   9.3900  0            549\n",
       "                      11.0      4.0   9.3900  0            549\n",
       "Name: E_PV, Length: 78, dtype: int64"
      ]
     },
     "execution_count": 50,
     "metadata": {},
     "output_type": "execute_result"
    }
   ],
   "source": [
    "df_aggregated.groupby(['App_comb','house_type','Capacity','conf','CT','Tank_size']).count().E_PV"
   ]
  },
  {
   "cell_type": "code",
   "execution_count": 52,
   "metadata": {},
   "outputs": [],
   "source": [
    "df_double=pd.read_csv('Output/aggregated_results_double_oct.csv',sep=';')"
   ]
  },
  {
   "cell_type": "code",
   "execution_count": 54,
   "metadata": {},
   "outputs": [],
   "source": [
    "df_double['CT']=9.39*2\n",
    "df_double['Tank_size']=0\n",
    "df_double.loc[(df_double.conf==2)|(df_double.conf==3)|(df_double.conf==6)|(df_double.conf==7),'Tank_size']=1500"
   ]
  },
  {
   "cell_type": "code",
   "execution_count": 55,
   "metadata": {},
   "outputs": [
    {
     "name": "stderr",
     "output_type": "stream",
     "text": [
      "/home/alejandropena/.conda/envs/alenv/lib/python3.7/site-packages/ipykernel_launcher.py:1: FutureWarning: Sorting because non-concatenation axis is not aligned. A future version\n",
      "of pandas will change to not sort by default.\n",
      "\n",
      "To accept the future behavior, pass 'sort=False'.\n",
      "\n",
      "To retain the current behavior and silence the warning, pass 'sort=True'.\n",
      "\n",
      "  \"\"\"Entry point for launching an IPython kernel.\n"
     ]
    }
   ],
   "source": [
    "df_aggregated=pd.concat([df_aggregated,df_double])"
   ]
  },
  {
   "cell_type": "code",
   "execution_count": 56,
   "metadata": {},
   "outputs": [
    {
     "data": {
      "text/plain": [
       "(49404, 97)"
      ]
     },
     "execution_count": 56,
     "metadata": {},
     "output_type": "execute_result"
    }
   ],
   "source": [
    "df_aggregated.shape"
   ]
  },
  {
   "cell_type": "code",
   "execution_count": 61,
   "metadata": {},
   "outputs": [
    {
     "data": {
      "text/plain": [
       "App_comb  house_type  Capacity  conf  CT       Tank_size\n",
       "2.0       SFH100      7.0       0.0   9.3900   0            549\n",
       "                                1.0   9.3900   0            549\n",
       "                                2.0   9.3900   1500         549\n",
       "                                      18.7800  1500         549\n",
       "                                3.0   9.3900   1500         549\n",
       "                                4.0   9.3900   0            549\n",
       "                                      18.7800  0            549\n",
       "                                5.0   9.3900   0            549\n",
       "                                6.0   9.3900   1500         549\n",
       "                                7.0   9.3900   1500         549\n",
       "          SFH15       7.0       0.0   9.3900   0            549\n",
       "                                1.0   9.3900   0            549\n",
       "                                2.0   9.3900   1500         549\n",
       "                                      18.7800  1500         549\n",
       "                                3.0   9.3900   1500         549\n",
       "                                4.0   9.3900   0            549\n",
       "                                      18.7800  0            549\n",
       "                                5.0   9.3900   0            549\n",
       "                                6.0   9.3900   1500         549\n",
       "                                7.0   9.3900   1500         549\n",
       "          SFH45       7.0       0.0   9.3900   0            549\n",
       "                                1.0   9.3900   0            549\n",
       "                                2.0   9.3900   1500         549\n",
       "                                      18.7800  1500         549\n",
       "                                3.0   9.3900   1500         549\n",
       "                                4.0   9.3900   0            549\n",
       "                                      18.7800  0            549\n",
       "                                5.0   9.3900   0            549\n",
       "                                6.0   9.3900   1500         549\n",
       "                                7.0   9.3900   1500         549\n",
       "                                                           ... \n",
       "3.0       SFH15       7.0       3.0   9.3900   1500         549\n",
       "                                4.0   2.3475   0            549\n",
       "                                      4.6950   0            549\n",
       "                                      9.3900   0            549\n",
       "                                      18.7800  0            549\n",
       "                                5.0   9.3900   0            549\n",
       "                                6.0   9.3900   1500         549\n",
       "                                7.0   9.3900   1500         547\n",
       "                      9.0       4.0   9.3900   0            549\n",
       "                      11.0      4.0   9.3900   0            549\n",
       "          SFH45       3.0       4.0   9.3900   0            549\n",
       "                      5.0       4.0   9.3900   0            549\n",
       "                      7.0       0.0   9.3900   0            549\n",
       "                                1.0   9.3900   0            549\n",
       "                                2.0   2.3475   1500         549\n",
       "                                      4.6950   1500         549\n",
       "                                      9.3900   1500         549\n",
       "                                               3000         549\n",
       "                                               9578         549\n",
       "                                      18.7800  1500         549\n",
       "                                3.0   9.3900   1500         549\n",
       "                                4.0   2.3475   0            549\n",
       "                                      4.6950   0            549\n",
       "                                      9.3900   0            549\n",
       "                                      18.7800  0            549\n",
       "                                5.0   9.3900   0            549\n",
       "                                6.0   9.3900   1500         549\n",
       "                                7.0   9.3900   1500         545\n",
       "                      9.0       4.0   9.3900   0            549\n",
       "                      11.0      4.0   9.3900   0            549\n",
       "Name: E_PV, Length: 90, dtype: int64"
      ]
     },
     "execution_count": 61,
     "metadata": {},
     "output_type": "execute_result"
    }
   ],
   "source": [
    "df_aggregated.groupby(['App_comb','house_type','Capacity','conf','CT','Tank_size']).count().E_PV"
   ]
  },
  {
   "cell_type": "code",
   "execution_count": 70,
   "metadata": {},
   "outputs": [
    {
     "data": {
      "text/plain": [
       "App_comb  house_type  Capacity  conf  CT    Tank_size\n",
       "3.0       SFH100      3.0       4.0   9.39  0            10.131226\n",
       "                      5.0       4.0   9.39  0             9.385000\n",
       "                      7.0       4.0   9.39  0             8.667100\n",
       "                      9.0       4.0   9.39  0             8.167200\n",
       "                      11.0      4.0   9.39  0             8.056418\n",
       "          SFH15       3.0       4.0   9.39  0             3.663208\n",
       "                      5.0       4.0   9.39  0             2.962691\n",
       "                      7.0       4.0   9.39  0             2.590422\n",
       "                      9.0       4.0   9.39  0             2.400000\n",
       "                      11.0      4.0   9.39  0             2.400000\n",
       "          SFH45       3.0       4.0   9.39  0             3.966239\n",
       "                      5.0       4.0   9.39  0             3.342062\n",
       "                      7.0       4.0   9.39  0             2.930497\n",
       "                      9.0       4.0   9.39  0             2.712866\n",
       "                      11.0      4.0   9.39  0             2.704487\n",
       "Name: P_drained_max, dtype: float64"
      ]
     },
     "execution_count": 70,
     "metadata": {},
     "output_type": "execute_result"
    }
   ],
   "source": [
    "df_aggregated[(df_aggregated.CT==9.39)&(df_aggregated.App_comb==3)&(df_aggregated.conf==4)].groupby(['App_comb','house_type','Capacity','conf','CT','Tank_size']).median().P_drained_max"
   ]
  },
  {
   "cell_type": "code",
   "execution_count": 66,
   "metadata": {},
   "outputs": [
    {
     "data": {
      "text/plain": [
       "Index(['App_comb', 'BS', 'Bill', 'Bill_noexp', 'COP_DHW', 'COP_SH', 'COP_tank',\n",
       "       'CT', 'CU', 'Capacity', 'DSC', 'EFC_nolifetime', 'E_PV', 'E_PV_batt',\n",
       "       'E_PV_bu', 'E_PV_budhw', 'E_PV_curt', 'E_PV_grid', 'E_PV_hp',\n",
       "       'E_PV_hpdhw', 'E_PV_load', 'E_batt_bu', 'E_batt_budhw', 'E_batt_hp',\n",
       "       'E_batt_hpdhw', 'E_batt_load', 'E_bu', 'E_budhw', 'E_char', 'E_cons',\n",
       "       'E_demand', 'E_demand_hp_pv', 'E_demand_hp_pv_dhw', 'E_demand_pv',\n",
       "       'E_dis', 'E_grid_batt', 'E_grid_bu', 'E_grid_budhw', 'E_grid_hp',\n",
       "       'E_grid_hpdhw', 'E_grid_load', 'E_hp', 'E_hpdhw', 'E_loss_Batt',\n",
       "       'E_loss_conv', 'E_loss_inv', 'E_loss_inv_PV', 'E_loss_inv_batt',\n",
       "       'E_loss_inv_grid', 'HP', 'ISC', 'LS1', 'LS2', 'LS3', 'LS4', 'LS5',\n",
       "       'PS1', 'PS2', 'PS3', 'PS4', 'PS5', 'PV_nom', 'P_drained_max',\n",
       "       'P_injected_max', 'P_max_mean', 'Q_dhwst_hd', 'Q_hp_sh', 'Q_hp_ts',\n",
       "       'Q_loss_dhwst', 'Q_loss_ts', 'Q_ts', 'Q_ts_delta', 'Q_ts_sh', 'Req_kWh',\n",
       "       'Req_kWh_DHW', 'SOC_mean', 'Set_T', 'TSC', 'T_aux_supply', 'T_dhwst',\n",
       "       'T_ts', 'Tank_size', 'Tech', 'Temp', 'Temp_supply', 'Temp_supply_tank',\n",
       "       'cap_fading', 'cases', 'cluster', 'conf', 'country', 'cycle_to_total',\n",
       "       'hh', 'house_type', 'last_SOH', 'last_cap', 'quartile'],\n",
       "      dtype='object')"
      ]
     },
     "execution_count": 66,
     "metadata": {},
     "output_type": "execute_result"
    }
   ],
   "source": [
    "df_aggregated.keys()"
   ]
  },
  {
   "cell_type": "code",
   "execution_count": 69,
   "metadata": {},
   "outputs": [],
   "source": [
    "df_aggregated.to_csv('total_aggregated_results.csv')"
   ]
  },
  {
   "cell_type": "code",
   "execution_count": null,
   "metadata": {},
   "outputs": [],
   "source": []
  }
 ],
 "metadata": {
  "kernelspec": {
   "display_name": "alenv",
   "language": "python",
   "name": "alenv"
  },
  "language_info": {
   "codemirror_mode": {
    "name": "ipython",
    "version": 3
   },
   "file_extension": ".py",
   "mimetype": "text/x-python",
   "name": "python",
   "nbconvert_exporter": "python",
   "pygments_lexer": "ipython3",
   "version": "3.7.2"
  }
 },
 "nbformat": 4,
 "nbformat_minor": 4
}
