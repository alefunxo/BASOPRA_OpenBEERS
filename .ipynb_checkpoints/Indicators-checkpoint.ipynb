{
 "cells": [
  {
   "cell_type": "code",
   "execution_count": 1,
   "metadata": {},
   "outputs": [],
   "source": [
    "%load_ext autoreload\n",
    "%autoreload 2\n",
    "import itertools\n",
    "import pandas as pd\n",
    "import numpy as np\n",
    "import os\n",
    "import csv\n",
    "import matplotlib.pyplot as plt\n",
    "import paper_classes as pc\n",
    "import df_todo as todo\n"
   ]
  },
  {
   "cell_type": "markdown",
   "metadata": {},
   "source": [
    "# Define the input data"
   ]
  },
  {
   "cell_type": "code",
   "execution_count": 107,
   "metadata": {},
   "outputs": [
    {
     "data": {
      "text/plain": [
       "3294"
      ]
     },
     "execution_count": 107,
     "metadata": {},
     "output_type": "execute_result"
    }
   ],
   "source": [
    "1*2*549*3"
   ]
  },
  {
   "cell_type": "code",
   "execution_count": 110,
   "metadata": {},
   "outputs": [
    {
     "name": "stdout",
     "output_type": "stream",
     "text": [
      "(1647, 95)\n"
     ]
    }
   ],
   "source": [
    "df=pd.read_csv('Output/aggregated_results_huge_tank.csv',sep=';').drop_duplicates()\n",
    "print(df.shape)"
   ]
  },
  {
   "cell_type": "code",
   "execution_count": 113,
   "metadata": {},
   "outputs": [
    {
     "name": "stdout",
     "output_type": "stream",
     "text": [
      "3.0\n",
      "2.0\n"
     ]
    }
   ],
   "source": [
    "print(df.App_comb.mean())\n",
    "print(df.conf.mean())"
   ]
  },
  {
   "cell_type": "code",
   "execution_count": 118,
   "metadata": {},
   "outputs": [
    {
     "data": {
      "text/plain": [
       "<matplotlib.axes._subplots.AxesSubplot at 0x7f062aafb198>"
      ]
     },
     "execution_count": 118,
     "metadata": {},
     "output_type": "execute_result"
    },
    {
     "data": {
      "image/png": "[encoded data removed]",
      "text/plain": [
       "<Figure size 432x288 with 1 Axes>"
      ]
     },
     "metadata": {
      "needs_background": "light"
     },
     "output_type": "display_data"
    }
   ],
   "source": [
    "df[(df.App_comb==3)&(df.conf==2)].boxplot(column='P_drained_max',by='house_type')"
   ]
  },
  {
   "cell_type": "code",
   "execution_count": 114,
   "metadata": {},
   "outputs": [],
   "source": [
    "df2=pd.read_csv('Output/aggregated_results_normal_oct.csv',sep=';').drop_duplicates()\n"
   ]
  },
  {
   "cell_type": "code",
   "execution_count": 116,
   "metadata": {},
   "outputs": [
    {
     "data": {
      "text/plain": [
       "<matplotlib.axes._subplots.AxesSubplot at 0x7f062ac82160>"
      ]
     },
     "execution_count": 116,
     "metadata": {},
     "output_type": "execute_result"
    },
    {
     "data": {
      "image/png": "[encoded data removed]",
      "text/plain": [
       "<Figure size 432x288 with 1 Axes>"
      ]
     },
     "metadata": {
      "needs_background": "light"
     },
     "output_type": "display_data"
    }
   ],
   "source": [
    "df2[(df2.App_comb==3)&(df2.conf==2)].boxplot(column='P_drained_max',by='house_type')"
   ]
  },
  {
   "cell_type": "code",
   "execution_count": 75,
   "metadata": {},
   "outputs": [],
   "source": [
    "df['gt'] = np.where(df['P_drained_max']<df['P_injected_max'], True, False)\n"
   ]
  },
  {
   "cell_type": "code",
   "execution_count": 80,
   "metadata": {},
   "outputs": [
    {
     "data": {
      "text/plain": [
       "4173"
      ]
     },
     "execution_count": 80,
     "metadata": {},
     "output_type": "execute_result"
    }
   ],
   "source": [
    "df['gt'].sum()"
   ]
  },
  {
   "cell_type": "code",
   "execution_count": 101,
   "metadata": {},
   "outputs": [
    {
     "data": {
      "text/plain": [
       "App_comb  house_type\n",
       "2.0       SFH100        1479.932795\n",
       "          SFH15          285.096006\n",
       "          SFH45          516.654501\n",
       "3.0       SFH100        2035.538973\n",
       "          SFH15          483.055189\n",
       "          SFH45          716.664140\n",
       "Name: Bill, dtype: float64"
      ]
     },
     "execution_count": 101,
     "metadata": {},
     "output_type": "execute_result"
    }
   ],
   "source": [
    "df.groupby(['App_comb','house_type']).median().Bill"
   ]
  },
  {
   "cell_type": "code",
   "execution_count": 102,
   "metadata": {},
   "outputs": [
    {
     "data": {
      "text/plain": [
       "App_comb  house_type  conf\n",
       "2.0       SFH100      0.0     7976.272679\n",
       "                      1.0     8946.199231\n",
       "                      2.0     7910.284355\n",
       "                      3.0     8707.570228\n",
       "                      4.0     7251.392518\n",
       "                      5.0     8426.322121\n",
       "                      6.0     7445.404763\n",
       "                      7.0     8337.700774\n",
       "          SFH15       0.0     2344.216224\n",
       "                      1.0     2859.510748\n",
       "                      2.0     2297.087509\n",
       "                      3.0     2854.324556\n",
       "                      4.0     1580.700167\n",
       "                      5.0     2277.337219\n",
       "                      6.0     1650.028463\n",
       "                      7.0     2298.330458\n",
       "          SFH45       0.0     3527.722427\n",
       "                      1.0     4048.832646\n",
       "                      2.0     3379.209440\n",
       "                      3.0     3960.656129\n",
       "                      4.0     2768.847608\n",
       "                      5.0     3480.293505\n",
       "                      6.0     2831.828098\n",
       "                      7.0     3474.408091\n",
       "3.0       SFH100      0.0     7976.272679\n",
       "                      1.0     8952.546212\n",
       "                      2.0     7930.330692\n",
       "                      3.0     8725.537584\n",
       "                      4.0     7280.353147\n",
       "                      5.0     8401.948054\n",
       "                      6.0     7380.156327\n",
       "                      7.0     8296.823437\n",
       "          SFH15       0.0     2344.216223\n",
       "                      1.0     2864.335348\n",
       "                      2.0     2301.094618\n",
       "                      3.0     2856.872787\n",
       "                      4.0     1542.839206\n",
       "                      5.0     2221.477137\n",
       "                      6.0     1614.863251\n",
       "                      7.0     2234.499752\n",
       "          SFH45       0.0     3527.722427\n",
       "                      1.0     4052.880980\n",
       "                      2.0     3384.382996\n",
       "                      3.0     3965.114653\n",
       "                      4.0     2711.899661\n",
       "                      5.0     3439.660188\n",
       "                      6.0     2770.134175\n",
       "                      7.0     3428.528150\n",
       "Name: E_cons, dtype: float64"
      ]
     },
     "execution_count": 102,
     "metadata": {},
     "output_type": "execute_result"
    }
   ],
   "source": [
    "df.groupby(['App_comb','house_type','conf']).median().E_cons"
   ]
  },
  {
   "cell_type": "code",
   "execution_count": null,
   "metadata": {},
   "outputs": [],
   "source": [
    "df.groupby('')"
   ]
  },
  {
   "cell_type": "code",
   "execution_count": 90,
   "metadata": {},
   "outputs": [
    {
     "data": {
      "text/plain": [
       "{'whiskers': [<matplotlib.lines.Line2D at 0x7f063191f9b0>,\n",
       "  <matplotlib.lines.Line2D at 0x7f063191fe48>],\n",
       " 'caps': [<matplotlib.lines.Line2D at 0x7f06319160f0>,\n",
       "  <matplotlib.lines.Line2D at 0x7f0631916438>],\n",
       " 'boxes': [<matplotlib.lines.Line2D at 0x7f063191f978>],\n",
       " 'medians': [<matplotlib.lines.Line2D at 0x7f0631916780>],\n",
       " 'fliers': [<matplotlib.lines.Line2D at 0x7f0631916ac8>],\n",
       " 'means': []}"
      ]
     },
     "execution_count": 90,
     "metadata": {},
     "output_type": "execute_result"
    },
    {
     "data": {
      "image/png": "[encoded data removed]",
      "text/plain": [
       "<Figure size 432x288 with 1 Axes>"
      ]
     },
     "metadata": {
      "needs_background": "light"
     },
     "output_type": "display_data"
    }
   ],
   "source": [
    "plt.boxplot(df.loc[df.P_drained_max<df.P_injected_max,'P_drained_max'])\n",
    "plt.boxplot(df.loc[df.P_drained_max<df.P_injected_max,'P_injected_max'])\n"
   ]
  },
  {
   "cell_type": "code",
   "execution_count": 73,
   "metadata": {},
   "outputs": [
    {
     "data": {
      "text/plain": [
       "0        10.320000\n",
       "1         7.236740\n",
       "2         5.675979\n",
       "3        10.000000\n",
       "4         4.480000\n",
       "5         4.207211\n",
       "6         5.895512\n",
       "7         5.868916\n",
       "8         7.381125\n",
       "9         5.257110\n",
       "10        6.518662\n",
       "11       12.677065\n",
       "12       12.145770\n",
       "13       11.532907\n",
       "14       12.917065\n",
       "15        5.794748\n",
       "16        5.569139\n",
       "17        5.558763\n",
       "18        5.398763\n",
       "19        9.847931\n",
       "20        7.700661\n",
       "21        7.888769\n",
       "22        5.380000\n",
       "23        8.133541\n",
       "24        5.207505\n",
       "25       12.427442\n",
       "26        5.260000\n",
       "27       10.880000\n",
       "28        5.228133\n",
       "29        4.575259\n",
       "           ...    \n",
       "26316     3.800000\n",
       "26317     5.598776\n",
       "26318     5.820000\n",
       "26319     5.664567\n",
       "26320     5.424567\n",
       "26321     9.546280\n",
       "26322     3.736358\n",
       "26323     5.867221\n",
       "26324     3.800000\n",
       "26325    22.742717\n",
       "26326     5.878775\n",
       "26327    22.222717\n",
       "26328     3.800000\n",
       "26329     5.780000\n",
       "26330     5.860000\n",
       "26331     5.479222\n",
       "26332     6.000000\n",
       "26333     5.220000\n",
       "26334     5.304567\n",
       "26335     5.600000\n",
       "26336     5.748751\n",
       "26337     6.878776\n",
       "26338     3.800000\n",
       "26339     5.358763\n",
       "26340     3.800000\n",
       "26341     5.464567\n",
       "26342     5.384567\n",
       "26343     3.800000\n",
       "26344     5.704567\n",
       "26345     3.800000\n",
       "Length: 26346, dtype: float64"
      ]
     },
     "execution_count": 73,
     "metadata": {},
     "output_type": "execute_result"
    }
   ],
   "source": [
    "df.loc[:,['P_drained_max','P_injected_max']].max(axis=1)"
   ]
  },
  {
   "cell_type": "code",
   "execution_count": 72,
   "metadata": {},
   "outputs": [
    {
     "data": {
      "text/plain": [
       "Index(['E_PV_batt', 'E_PV_bu', 'E_PV_budhw', 'E_PV_curt', 'E_PV_grid',\n",
       "       'E_PV_hp', 'E_PV_hpdhw', 'E_PV_load', 'E_batt_bu', 'E_batt_budhw',\n",
       "       'E_batt_hp', 'E_batt_hpdhw', 'E_batt_load', 'E_bu', 'E_budhw', 'E_char',\n",
       "       'E_cons', 'E_dis', 'E_grid_batt', 'E_grid_bu', 'E_grid_budhw',\n",
       "       'E_grid_hp', 'E_grid_hpdhw', 'E_grid_load', 'E_hp', 'E_hpdhw',\n",
       "       'E_loss_Batt', 'E_loss_conv', 'E_loss_inv', 'E_loss_inv_PV',\n",
       "       'E_loss_inv_batt', 'E_loss_inv_grid', 'Q_dhwst_hd', 'Q_hp_sh',\n",
       "       'Q_hp_ts', 'Q_loss_dhwst', 'Q_loss_ts', 'Q_ts', 'Q_ts_delta', 'Q_ts_sh',\n",
       "       'T_dhwst', 'T_ts', 'E_demand', 'E_PV', 'Req_kWh', 'Req_kWh_DHW',\n",
       "       'Set_T', 'Temp', 'Temp_supply', 'Temp_supply_tank', 'T_aux_supply',\n",
       "       'COP_tank', 'COP_SH', 'COP_DHW', 'E_demand_hp_pv_dhw', 'E_demand_hp_pv',\n",
       "       'E_demand_pv', 'TSC', 'DSC', 'ISC', 'CU', 'EFC_nolifetime', 'BS', 'LS1',\n",
       "       'LS2', 'LS3', 'LS4', 'LS5', 'PS1', 'PS2', 'PS3', 'PS4', 'PS5',\n",
       "       'App_comb', 'conf', 'Capacity', 'Tech', 'PV_nom', 'cluster', 'hh',\n",
       "       'country', 'quartile', 'cases', 'house_type', 'HP', 'SOC_mean',\n",
       "       'P_drained_max', 'P_injected_max', 'last_cap', 'cap_fading', 'last_SOH',\n",
       "       'cycle_to_total', 'Bill', 'Bill_noexp'],\n",
       "      dtype='object')"
      ]
     },
     "execution_count": 72,
     "metadata": {},
     "output_type": "execute_result"
    }
   ],
   "source": [
    "df.keys()"
   ]
  },
  {
   "cell_type": "code",
   "execution_count": 68,
   "metadata": {},
   "outputs": [
    {
     "data": {
      "text/plain": [
       "{'whiskers': [<matplotlib.lines.Line2D at 0x7f0633af8438>,\n",
       "  <matplotlib.lines.Line2D at 0x7f0633af8780>],\n",
       " 'caps': [<matplotlib.lines.Line2D at 0x7f0633af8ac8>,\n",
       "  <matplotlib.lines.Line2D at 0x7f0633af82e8>],\n",
       " 'boxes': [<matplotlib.lines.Line2D at 0x7f0633af8dd8>],\n",
       " 'medians': [<matplotlib.lines.Line2D at 0x7f063384e588>],\n",
       " 'fliers': [],\n",
       " 'means': []}"
      ]
     },
     "execution_count": 68,
     "metadata": {},
     "output_type": "execute_result"
    },
    {
     "data": {
      "image/png": "[encoded data removed]",
      "text/plain": [
       "<Figure size 432x288 with 1 Axes>"
      ]
     },
     "metadata": {
      "needs_background": "light"
     },
     "output_type": "display_data"
    }
   ],
   "source": [
    "plt.boxplot(df[df.house_type=='SFH100'].P_drained_max,showfliers=False)"
   ]
  },
  {
   "cell_type": "code",
   "execution_count": 23,
   "metadata": {},
   "outputs": [],
   "source": [
    "df=pd.read_csv('Output/aggregated_results_normal_oct.csv',sep=';')"
   ]
  },
  {
   "cell_type": "code",
   "execution_count": null,
   "metadata": {},
   "outputs": [],
   "source": []
  },
  {
   "cell_type": "code",
   "execution_count": 24,
   "metadata": {},
   "outputs": [
    {
     "data": {
      "text/plain": [
       "{'whiskers': [<matplotlib.lines.Line2D at 0x7ff74c9a94e0>,\n",
       "  <matplotlib.lines.Line2D at 0x7ff74c9a9828>],\n",
       " 'caps': [<matplotlib.lines.Line2D at 0x7ff74c9a9b70>,\n",
       "  <matplotlib.lines.Line2D at 0x7ff74c9a9eb8>],\n",
       " 'boxes': [<matplotlib.lines.Line2D at 0x7ff74c9a90b8>],\n",
       " 'medians': [<matplotlib.lines.Line2D at 0x7ff74c9a9f98>],\n",
       " 'fliers': [],\n",
       " 'means': []}"
      ]
     },
     "execution_count": 24,
     "metadata": {},
     "output_type": "execute_result"
    },
    {
     "data": {
      "image/png": "[encoded data removed]",
      "text/plain": [
       "<Figure size 432x288 with 1 Axes>"
      ]
     },
     "metadata": {
      "needs_background": "light"
     },
     "output_type": "display_data"
    }
   ],
   "source": [
    "plt.boxplot(df,by='house_type').Bill,showfliers=False)"
   ]
  },
  {
   "cell_type": "code",
   "execution_count": 4,
   "metadata": {},
   "outputs": [
    {
     "data": {
      "text/plain": [
       "house_type  App_comb\n",
       "SFH100      2.0         9.125770\n",
       "            3.0         7.647200\n",
       "SFH15       2.0         1.221546\n",
       "            3.0         0.895418\n",
       "SFH45       2.0         1.769154\n",
       "            3.0         1.570190\n",
       "Name: P_drained_max, dtype: float64"
      ]
     },
     "execution_count": 4,
     "metadata": {},
     "output_type": "execute_result"
    }
   ],
   "source": [
    "df.groupby(['house_type','App_comb']).min().P_drained_max"
   ]
  },
  {
   "cell_type": "code",
   "execution_count": 5,
   "metadata": {},
   "outputs": [
    {
     "data": {
      "text/plain": [
       "Index(['E_PV_batt', 'E_PV_bu', 'E_PV_budhw', 'E_PV_curt', 'E_PV_grid',\n",
       "       'E_PV_hp', 'E_PV_hpdhw', 'E_PV_load', 'E_batt_bu', 'E_batt_budhw',\n",
       "       'E_batt_hp', 'E_batt_hpdhw', 'E_batt_load', 'E_bu', 'E_budhw', 'E_char',\n",
       "       'E_cons', 'E_dis', 'E_grid_batt', 'E_grid_bu', 'E_grid_budhw',\n",
       "       'E_grid_hp', 'E_grid_hpdhw', 'E_grid_load', 'E_hp', 'E_hpdhw',\n",
       "       'E_loss_Batt', 'E_loss_conv', 'E_loss_inv', 'E_loss_inv_PV',\n",
       "       'E_loss_inv_batt', 'E_loss_inv_grid', 'Q_dhwst_hd', 'Q_hp_sh',\n",
       "       'Q_hp_ts', 'Q_loss_dhwst', 'Q_loss_ts', 'Q_ts', 'Q_ts_delta', 'Q_ts_sh',\n",
       "       'T_dhwst', 'T_ts', 'E_demand', 'E_PV', 'Req_kWh', 'Req_kWh_DHW',\n",
       "       'Set_T', 'Temp', 'Temp_supply', 'Temp_supply_tank', 'T_aux_supply',\n",
       "       'COP_tank', 'COP_SH', 'COP_DHW', 'E_demand_hp_pv_dhw', 'E_demand_hp_pv',\n",
       "       'E_demand_pv', 'TSC', 'DSC', 'ISC', 'CU', 'EFC_nolifetime', 'BS', 'LS1',\n",
       "       'LS2', 'LS3', 'LS4', 'LS5', 'PS1', 'PS2', 'PS3', 'PS4', 'PS5',\n",
       "       'App_comb', 'conf', 'Capacity', 'Tech', 'PV_nom', 'cluster', 'hh',\n",
       "       'country', 'quartile', 'cases', 'house_type', 'HP', 'SOC_mean',\n",
       "       'P_drained_max', 'P_injected_max', 'last_cap', 'cap_fading', 'last_SOH',\n",
       "       'cycle_to_total', 'Bill', 'Bill_noexp'],\n",
       "      dtype='object')"
      ]
     },
     "execution_count": 5,
     "metadata": {},
     "output_type": "execute_result"
    }
   ],
   "source": [
    "df.keys()"
   ]
  },
  {
   "cell_type": "code",
   "execution_count": 6,
   "metadata": {},
   "outputs": [
    {
     "data": {
      "text/plain": [
       "549"
      ]
     },
     "execution_count": 6,
     "metadata": {},
     "output_type": "execute_result"
    }
   ],
   "source": [
    "len(df.hh.unique())"
   ]
  },
  {
   "cell_type": "code",
   "execution_count": 7,
   "metadata": {},
   "outputs": [
    {
     "data": {
      "text/plain": [
       "App_comb  conf  house_type\n",
       "2.0       0.0   SFH100        549\n",
       "                SFH15         549\n",
       "                SFH45         549\n",
       "          1.0   SFH100        549\n",
       "                SFH15         549\n",
       "                SFH45         549\n",
       "          2.0   SFH100        549\n",
       "                SFH15         549\n",
       "                SFH45         549\n",
       "          3.0   SFH100        549\n",
       "                SFH15         549\n",
       "                SFH45         549\n",
       "          4.0   SFH100        549\n",
       "                SFH15         549\n",
       "                SFH45         549\n",
       "          5.0   SFH100        549\n",
       "                SFH15         549\n",
       "                SFH45         549\n",
       "          6.0   SFH100        549\n",
       "                SFH15         549\n",
       "                SFH45         549\n",
       "          7.0   SFH100        549\n",
       "                SFH15         549\n",
       "                SFH45         549\n",
       "3.0       0.0   SFH100        549\n",
       "                SFH15         549\n",
       "                SFH45         549\n",
       "          1.0   SFH100        549\n",
       "                SFH15         549\n",
       "                SFH45         549\n",
       "          2.0   SFH100        549\n",
       "                SFH15         549\n",
       "                SFH45         549\n",
       "          3.0   SFH100        549\n",
       "                SFH15         549\n",
       "                SFH45         549\n",
       "          4.0   SFH100        549\n",
       "                SFH15         549\n",
       "                SFH45         549\n",
       "          5.0   SFH100        549\n",
       "                SFH15         549\n",
       "                SFH45         549\n",
       "          6.0   SFH100        549\n",
       "                SFH15         549\n",
       "                SFH45         549\n",
       "          7.0   SFH100        549\n",
       "                SFH15         547\n",
       "                SFH45         545\n",
       "Name: E_hp, dtype: int64"
      ]
     },
     "execution_count": 7,
     "metadata": {},
     "output_type": "execute_result"
    }
   ],
   "source": [
    "(df.groupby(['App_comb','conf','house_type']).count().E_hp)"
   ]
  },
  {
   "cell_type": "code",
   "execution_count": 8,
   "metadata": {},
   "outputs": [
    {
     "name": "stdout",
     "output_type": "stream",
     "text": [
      "          Capacity  App_comb Tech  PV_nom cluster  hh country cases  conf  \\\n",
      "17572782       7.0       0.0  NMC     4.8     NaN NaN      CH  mean   NaN   \n",
      "17572783       7.0       0.0  NMC     4.8     NaN NaN      CH  mean   NaN   \n",
      "17572784       7.0       0.0  NMC     4.8     NaN NaN      CH  mean   NaN   \n",
      "17572785       7.0       0.0  NMC     4.8     NaN NaN      CH  mean   NaN   \n",
      "17572786       7.0       0.0  NMC     4.8     NaN NaN      CH  mean   NaN   \n",
      "\n",
      "           HP house_type   0          name  \n",
      "17572782  NaN        NaN NaN  110141755827  \n",
      "17572783  NaN        NaN NaN  110141755828  \n",
      "17572784  NaN        NaN NaN  110141755829  \n",
      "17572785  NaN        NaN NaN  110141755830  \n",
      "17572786  NaN        NaN NaN  110141755831  \n"
     ]
    }
   ],
   "source": [
    "df_todo=todo.get_combinations_todo(df)"
   ]
  },
  {
   "cell_type": "code",
   "execution_count": 9,
   "metadata": {},
   "outputs": [],
   "source": [
    "list_exclure=df_todo.hh.unique()"
   ]
  },
  {
   "cell_type": "code",
   "execution_count": 10,
   "metadata": {},
   "outputs": [
    {
     "data": {
      "text/plain": [
       "1"
      ]
     },
     "execution_count": 10,
     "metadata": {},
     "output_type": "execute_result"
    }
   ],
   "source": [
    "len(list_exclure)"
   ]
  },
  {
   "cell_type": "code",
   "execution_count": 11,
   "metadata": {},
   "outputs": [],
   "source": [
    "df=df[~df.hh.isin(list_exclure)].reset_index(drop=True)"
   ]
  },
  {
   "cell_type": "code",
   "execution_count": 12,
   "metadata": {},
   "outputs": [],
   "source": [
    "df_prices=pd.read_csv('Input/Prices_2017.csv')"
   ]
  },
  {
   "cell_type": "code",
   "execution_count": null,
   "metadata": {},
   "outputs": [],
   "source": []
  },
  {
   "cell_type": "code",
   "execution_count": 13,
   "metadata": {},
   "outputs": [
    {
     "data": {
      "text/html": [
       "<div>\n",
       "<style scoped>\n",
       "    .dataframe tbody tr th:only-of-type {\n",
       "        vertical-align: middle;\n",
       "    }\n",
       "\n",
       "    .dataframe tbody tr th {\n",
       "        vertical-align: top;\n",
       "    }\n",
       "\n",
       "    .dataframe thead th {\n",
       "        text-align: right;\n",
       "    }\n",
       "</style>\n",
       "<table border=\"1\" class=\"dataframe\">\n",
       "  <thead>\n",
       "    <tr style=\"text-align: right;\">\n",
       "      <th></th>\n",
       "      <th>E_PV_batt</th>\n",
       "      <th>E_PV_bu</th>\n",
       "      <th>E_PV_budhw</th>\n",
       "      <th>E_PV_curt</th>\n",
       "      <th>E_PV_grid</th>\n",
       "      <th>E_PV_hp</th>\n",
       "      <th>E_PV_hpdhw</th>\n",
       "      <th>E_PV_load</th>\n",
       "      <th>E_batt_bu</th>\n",
       "      <th>E_batt_budhw</th>\n",
       "      <th>...</th>\n",
       "      <th>HP</th>\n",
       "      <th>SOC_mean</th>\n",
       "      <th>P_drained_max</th>\n",
       "      <th>P_injected_max</th>\n",
       "      <th>last_cap</th>\n",
       "      <th>cap_fading</th>\n",
       "      <th>last_SOH</th>\n",
       "      <th>cycle_to_total</th>\n",
       "      <th>Bill</th>\n",
       "      <th>Bill_noexp</th>\n",
       "    </tr>\n",
       "  </thead>\n",
       "  <tbody>\n",
       "    <tr>\n",
       "      <th>0</th>\n",
       "      <td>0.000000</td>\n",
       "      <td>5.384395</td>\n",
       "      <td>0.0</td>\n",
       "      <td>407.201942</td>\n",
       "      <td>4103.369966</td>\n",
       "      <td>1039.610287</td>\n",
       "      <td>0.0</td>\n",
       "      <td>850.578528</td>\n",
       "      <td>0.0</td>\n",
       "      <td>0.0</td>\n",
       "      <td>...</td>\n",
       "      <td>AS</td>\n",
       "      <td>94.613333</td>\n",
       "      <td>10.320000</td>\n",
       "      <td>3.8</td>\n",
       "      <td>6.860000</td>\n",
       "      <td>2.000000</td>\n",
       "      <td>0.933516</td>\n",
       "      <td>0.000000</td>\n",
       "      <td>1441.963458</td>\n",
       "      <td>1590.120087</td>\n",
       "    </tr>\n",
       "    <tr>\n",
       "      <th>1</th>\n",
       "      <td>1457.824314</td>\n",
       "      <td>0.000000</td>\n",
       "      <td>0.0</td>\n",
       "      <td>336.738160</td>\n",
       "      <td>3578.088083</td>\n",
       "      <td>359.765151</td>\n",
       "      <td>0.0</td>\n",
       "      <td>624.158539</td>\n",
       "      <td>0.0</td>\n",
       "      <td>0.0</td>\n",
       "      <td>...</td>\n",
       "      <td>AS</td>\n",
       "      <td>24.840663</td>\n",
       "      <td>7.236740</td>\n",
       "      <td>3.8</td>\n",
       "      <td>6.829796</td>\n",
       "      <td>2.431492</td>\n",
       "      <td>0.919133</td>\n",
       "      <td>0.556164</td>\n",
       "      <td>442.486853</td>\n",
       "      <td>575.272050</td>\n",
       "    </tr>\n",
       "    <tr>\n",
       "      <th>2</th>\n",
       "      <td>1283.167181</td>\n",
       "      <td>0.000000</td>\n",
       "      <td>0.0</td>\n",
       "      <td>337.578581</td>\n",
       "      <td>3440.631650</td>\n",
       "      <td>348.575142</td>\n",
       "      <td>0.0</td>\n",
       "      <td>937.946512</td>\n",
       "      <td>0.0</td>\n",
       "      <td>0.0</td>\n",
       "      <td>...</td>\n",
       "      <td>AS</td>\n",
       "      <td>22.732273</td>\n",
       "      <td>5.675979</td>\n",
       "      <td>3.8</td>\n",
       "      <td>6.835721</td>\n",
       "      <td>2.346837</td>\n",
       "      <td>0.922036</td>\n",
       "      <td>0.408219</td>\n",
       "      <td>400.741482</td>\n",
       "      <td>528.622986</td>\n",
       "    </tr>\n",
       "    <tr>\n",
       "      <th>3</th>\n",
       "      <td>0.000000</td>\n",
       "      <td>5.853062</td>\n",
       "      <td>0.0</td>\n",
       "      <td>407.201942</td>\n",
       "      <td>4291.330589</td>\n",
       "      <td>1037.898626</td>\n",
       "      <td>0.0</td>\n",
       "      <td>663.860899</td>\n",
       "      <td>0.0</td>\n",
       "      <td>0.0</td>\n",
       "      <td>...</td>\n",
       "      <td>AS</td>\n",
       "      <td>94.613333</td>\n",
       "      <td>10.000000</td>\n",
       "      <td>3.8</td>\n",
       "      <td>6.860000</td>\n",
       "      <td>2.000000</td>\n",
       "      <td>0.933516</td>\n",
       "      <td>0.000000</td>\n",
       "      <td>1373.573872</td>\n",
       "      <td>1529.787585</td>\n",
       "    </tr>\n",
       "    <tr>\n",
       "      <th>4</th>\n",
       "      <td>0.000000</td>\n",
       "      <td>11.197173</td>\n",
       "      <td>0.0</td>\n",
       "      <td>407.201957</td>\n",
       "      <td>4613.914332</td>\n",
       "      <td>343.887248</td>\n",
       "      <td>0.0</td>\n",
       "      <td>1029.944408</td>\n",
       "      <td>0.0</td>\n",
       "      <td>0.0</td>\n",
       "      <td>...</td>\n",
       "      <td>AS</td>\n",
       "      <td>94.613333</td>\n",
       "      <td>4.480000</td>\n",
       "      <td>3.8</td>\n",
       "      <td>6.860000</td>\n",
       "      <td>2.000000</td>\n",
       "      <td>0.933516</td>\n",
       "      <td>0.000000</td>\n",
       "      <td>221.378636</td>\n",
       "      <td>400.745252</td>\n",
       "    </tr>\n",
       "  </tbody>\n",
       "</table>\n",
       "<p>5 rows × 94 columns</p>\n",
       "</div>"
      ],
      "text/plain": [
       "     E_PV_batt    E_PV_bu  E_PV_budhw   E_PV_curt    E_PV_grid      E_PV_hp  \\\n",
       "0     0.000000   5.384395         0.0  407.201942  4103.369966  1039.610287   \n",
       "1  1457.824314   0.000000         0.0  336.738160  3578.088083   359.765151   \n",
       "2  1283.167181   0.000000         0.0  337.578581  3440.631650   348.575142   \n",
       "3     0.000000   5.853062         0.0  407.201942  4291.330589  1037.898626   \n",
       "4     0.000000  11.197173         0.0  407.201957  4613.914332   343.887248   \n",
       "\n",
       "   E_PV_hpdhw    E_PV_load  E_batt_bu  E_batt_budhw  ...  HP   SOC_mean  \\\n",
       "0         0.0   850.578528        0.0           0.0  ...  AS  94.613333   \n",
       "1         0.0   624.158539        0.0           0.0  ...  AS  24.840663   \n",
       "2         0.0   937.946512        0.0           0.0  ...  AS  22.732273   \n",
       "3         0.0   663.860899        0.0           0.0  ...  AS  94.613333   \n",
       "4         0.0  1029.944408        0.0           0.0  ...  AS  94.613333   \n",
       "\n",
       "   P_drained_max  P_injected_max  last_cap  cap_fading  last_SOH  \\\n",
       "0      10.320000             3.8  6.860000    2.000000  0.933516   \n",
       "1       7.236740             3.8  6.829796    2.431492  0.919133   \n",
       "2       5.675979             3.8  6.835721    2.346837  0.922036   \n",
       "3      10.000000             3.8  6.860000    2.000000  0.933516   \n",
       "4       4.480000             3.8  6.860000    2.000000  0.933516   \n",
       "\n",
       "   cycle_to_total         Bill   Bill_noexp  \n",
       "0        0.000000  1441.963458  1590.120087  \n",
       "1        0.556164   442.486853   575.272050  \n",
       "2        0.408219   400.741482   528.622986  \n",
       "3        0.000000  1373.573872  1529.787585  \n",
       "4        0.000000   221.378636   400.745252  \n",
       "\n",
       "[5 rows x 94 columns]"
      ]
     },
     "execution_count": 13,
     "metadata": {},
     "output_type": "execute_result"
    }
   ],
   "source": [
    "df.head()"
   ]
  },
  {
   "cell_type": "code",
   "execution_count": 14,
   "metadata": {},
   "outputs": [],
   "source": [
    "title_size=20\n",
    "large_size=18\n",
    "normal_size=16\n",
    "medium_size=14\n",
    "small_size=12\n",
    "project_life=30\n"
   ]
  },
  {
   "cell_type": "code",
   "execution_count": 15,
   "metadata": {},
   "outputs": [],
   "source": [
    "\n",
    "def get_battery_lifetime(row):\n",
    "    if row.loc['cases']=='False':\n",
    "        Batt=pc.Battery_tech(Capacity=row.loc['Capacity'],Technology=row['Tech'])  \n",
    "    else:\n",
    "        Batt=pc.Battery_case(Capacity=row.loc['Capacity'],Technology=row['Tech'],case=row['cases'])  \n",
    "    m=(row.Capacity-row.last_cap)/(0-365)\n",
    "    x=(row.Capacity*0.7-row.Capacity)/m\n",
    "    \n",
    "    #investment=get_investment(row,Batt)\n",
    "    return [min(int(x/365+1),Batt.Battery_cal_life)]"
   ]
  },
  {
   "cell_type": "code",
   "execution_count": 16,
   "metadata": {},
   "outputs": [],
   "source": [
    "df['life_batt']=df.apply(lambda x: get_battery_lifetime(x)[0],axis=1)"
   ]
  },
  {
   "cell_type": "code",
   "execution_count": 17,
   "metadata": {},
   "outputs": [],
   "source": [
    "\n",
    "def get_replacements(CAPEX,row,project_life,device_life,fraction,discount_rate):\n",
    "    \n",
    "    rep=int(np.ceil(project_life/device_life))-1\n",
    "    #print('------')\n",
    "    #print(row.life)\n",
    "    #print(investment)\n",
    "    for i in range(rep):\n",
    "        CAPEX_fut=CAPEX*fraction/(1+discount_rate)**(device_life*(i+1))\n",
    "        investment=CAPEX+CAPEX_fut\n",
    "        #print(Batt.Price_battery)\n",
    "        #print(future_batt)\n",
    "        if (i==rep-1)&(project_life>device_life*rep):\n",
    "            investment=investment-((CAPEX_fut*fraction)/(1+discount_rate)**(device_life*(i+1))/device_life*(\n",
    "                project_life-device_life*(rep+1)))\n",
    "            #print('####')\n",
    "            #print(investment)\n",
    "            #print(rep)\n",
    "    return investment\n",
    "def get_replacements_batt(investment,row,Batt,project_life,fraction,discount_rate):\n",
    "    \n",
    "    rep=int(np.ceil(project_life/row.life_batt))-1\n",
    "    #print('------')\n",
    "    #print(row.life_batt)\n",
    "    #print(investment)\n",
    "    for i in range(rep):\n",
    "        future_batt=Batt.Price_battery*fraction/(1+discount_rate)**(row.life_batt*(i+1))\n",
    "        investment=investment+future_batt\n",
    "        #print(Batt.Price_battery)\n",
    "        #print(future_batt)\n",
    "        if (i==rep-1)&(project_life>row.life_batt*rep):\n",
    "            investment=investment-((future_batt*fraction)/(1+discount_rate)**(row.life_batt*(i+1))/row.life_batt*(\n",
    "                project_life-row.life_batt*(rep+1)))\n",
    "            #print('####')\n",
    "            #print(investment)\n",
    "            #print(rep)\n",
    "    return investment\n",
    "def get_opex(row,project_life,df_prices,discount_rate,EUR_CHF):\n",
    "    opex_hh=row.Bill # i.e. opex_hp+opex_hh\n",
    "    opex_pv=96*row.PV_nom\n",
    "    opex_hp=1.1/100*get_capex_hp(row,20,1,discount_rate,EUR_CHF)# i.e. maintenances costs Fischer\n",
    "    opex_tank=0\n",
    "    opex_DHW=0\n",
    "    opex_batt=0\n",
    "    opex=opex_pv+opex_batt+opex_tank+opex_DHW+opex_hh\n",
    "    opex_present_value=np.npv(discount_rate,np.tile(opex,project_life))\n",
    "    return opex_present_value\n",
    "def get_opex_no_export(row,project_life,df_prices,discount_rate,EUR_CHF):\n",
    "    opex_hh=row.Bill+row.E_PV_grid*df_prices.Export_price.mean() # i.e. opex_hp+opex_hh\n",
    "    opex_pv=96*row.PV_nom\n",
    "    opex_hp=1.1/100*get_capex_hp(row,20,1,discount_rate,EUR_CHF)# i.e. maintenances costs Fischer\n",
    "    opex_tank=0\n",
    "    opex_DHW=0\n",
    "    opex_batt=0\n",
    "    opex=opex_pv+opex_batt+opex_tank+opex_DHW+opex_hh\n",
    "    opex_present_value=np.npv(discount_rate,np.tile(opex,project_life))\n",
    "    return opex_present_value\n",
    "def get_capex_hp(row,project_life,fraction,discount_rate,EUR_CHF):\n",
    "    '''\n",
    "\n",
    "    '''\n",
    "    hp_lifetime=20    \n",
    "    if row.house_type=='SFH15':\n",
    "        hp_power=4\n",
    "    elif row.house_type=='SFH45':\n",
    "        hp_power=6\n",
    "    else:\n",
    "        hp_power=16\n",
    "    cost_hp=1500*hp_power*EUR_CHF #D. Fischer, K.B. Lindberg, H. Madani, C. Wittwer 2016 \n",
    "    bos_hp=2000*EUR_CHF #D. Fischer, K.B. Lindberg, H. Madani, C. Wittwer 2016 only once\n",
    "    if project_life/hp_lifetime>1:\n",
    "        cost_hp=get_replacements(cost_hp,row,project_life,hp_lifetime,fraction,discount_rate)\n",
    "    return cost_hp\n",
    "\n",
    "def get_capex_pv(row,fraction):\n",
    "    '''\n",
    "    '''\n",
    "    cost_pv=1032*row.PV_nom*fraction\n",
    "    bos_pv=(240+529+168+190)*row.PV_nom # bos+labour+others+inverter #PSI and Denholm\n",
    "    return cost_pv+bos_pv\n",
    "def get_capex_batt(row,project_life,fraction,discount_rate,EUR_CHF):\n",
    "    \n",
    "    if row.conf>3:#with battery\n",
    "        batt=pc.Battery_case(Capacity=row.Capacity,Technology=row.Tech,case=row.cases)\n",
    "        bos_batt=(2000+(100+(600-190)/1.2)*row.PV_nom)# \n",
    "        cost_batt=fraction*(bos_batt+batt.Price_battery*EUR_CHF)#T. Baumann, F. Baumgartner 2017, Denholm\n",
    "    \n",
    "        cost_batt=get_replacements_batt(cost_batt,row,batt,\n",
    "                                       project_life,fraction,discount_rate)\n",
    "    else:\n",
    "        cost_batt=0  \n",
    "        bos_batt=0\n",
    "    return cost_batt+bos_batt\n",
    "def get_capex_tank(row,project_life,fraction,discount_rate,EUR_CHF):\n",
    "    tank_lifetime=20\n",
    "    if (row.house_type=='SFH100')&((row.conf==2)|(row.conf==3)|(row.conf==6)|(row.conf==7)):\n",
    "        cost_tank=120*EUR_CHF*(1500*20*0.00116) #i.e. 120 eur/kwh th * 200 liters* 20 delta K * c kWh/(l*K)  #D. Fischer, K.B. Lindberg, H. Madani, C. Wittwer 2016 \n",
    "        bos_tank=0\n",
    "        if project_life/tank_lifetime>1:\n",
    "            cost_tank=get_replacements(cost_tank,row,project_life,tank_lifetime,fraction,discount_rate)\n",
    "    else:\n",
    "        cost_tank=0\n",
    "        bos_tank=0\n",
    "    return cost_tank+bos_tank\n",
    "def get_capex_dhw(row,project_life,fraction,discount_rate,EUR_CHF):\n",
    "    tank_lifetime=20\n",
    "    \n",
    "    if ((row.conf==1)|(row.conf==3)|(row.conf==5)|(row.conf==7)):\n",
    "        cost_DHW=120*EUR_CHF*(200*20*0.00116) #i.e. 120 eur/kwh th * 200 liters* 20 delta K * c kWh/(l*K)  #D. Fischer, K.B. Lindberg, H. Madani, C. Wittwer 2016 \n",
    "        bos_DHW=0\n",
    "        if project_life/tank_lifetime>1:\n",
    "            cost_DHW=get_replacements(cost_DHW,row,project_life,tank_lifetime,fraction,discount_rate)\n",
    "    else:\n",
    "        cost_DHW=0\n",
    "        bos_DHW=0\n",
    "    return cost_DHW+bos_DHW\n",
    "def get_numerator(row,project_life,fraction,discount_rate,df_prices,no_export):\n",
    "    '''\n",
    "    fraction is for the battery future price (1 is 0 fraction)\n",
    "    capex includes the pv, HP, battery and DHW tank (and SH tank for SFH100 if needed)\n",
    "    cost includes replacements and bos\n",
    "    \n",
    "    While the literature uses different definitions of bos, here, bos includes all hardware \n",
    "    (e.g., inverter), software (e.g., energy management system), and services \n",
    "    (e.g., engineering, procurement, and construction) necessary to enable the use of the \n",
    "    battery pack for the respective application. \n",
    "    bos is considered only once (even with replacement)\n",
    "    lifespan of hp 20 y\n",
    "    lifespan of batt variable\n",
    "    lifespan of tanks 20 y\n",
    "    lifespan of \n",
    "    \n",
    "    Change rate from EUR to USD 1.1 as of October 2019\n",
    "    returns \n",
    "    capex in present value\n",
    "    '''\n",
    "    EUR_CHF=1.1 # 1 Euro = 1.1 CHF\n",
    "    if no_export:\n",
    "        opex=get_opex_no_export(row,project_life,df_prices,discount_rate,EUR_CHF)\n",
    "    else:\n",
    "        opex=get_opex(row,project_life,df_prices,discount_rate,EUR_CHF)  \n",
    "    return row['CAPEX']+opex\n",
    "def get_lcoes(row,project_life,fraction,discount_rate,df_prices,no_export):\n",
    "    # working version, not definitive\n",
    "    num=get_numerator(row,project_life,fraction,discount_rate,df_prices,no_export)\n",
    "\n",
    "    E_del_pres=np.npv(discount_rate,np.tile((row.E_hp+row.E_bu+row.E_budhw+row.E_hpdhw+row.E_demand),project_life))\n",
    "    return num/E_del_pres"
   ]
  },
  {
   "cell_type": "code",
   "execution_count": 18,
   "metadata": {},
   "outputs": [],
   "source": [
    "discount_rate=0.04\n",
    "fraction=1\n",
    "fraction_PV=1\n",
    "fraction_hp=1\n",
    "fraction_batt=1"
   ]
  },
  {
   "cell_type": "code",
   "execution_count": 19,
   "metadata": {},
   "outputs": [],
   "source": [
    "df['SS']=(df.E_PV_load+df.E_PV_batt+df.E_PV_bu+df.E_PV_budhw+df.E_PV_hp+df.E_PV_hpdhw)/(df.E_demand+df.E_hp+df.E_hpdhw+df.E_bu+df.E_budhw)*100\n",
    "df['CAPEX_PV']=df.apply(lambda x: get_capex_pv(x,fraction_PV),axis=1)\n",
    "df['CAPEX_hp']=df.apply(lambda x: get_capex_hp(x,project_life,fraction_hp,discount_rate,1.1),axis=1)\n",
    "df['CAPEX_batt']=df.apply(lambda x: get_capex_batt(x,project_life,fraction_batt,discount_rate,1.1),axis=1)\n",
    "df['CAPEX_tank']=df.apply(lambda x: get_capex_tank(x,project_life,fraction,discount_rate,1.1),axis=1)\n",
    "df['CAPEX_DHW']=df.apply(lambda x: get_capex_dhw(x,project_life,fraction,discount_rate,1.1),axis=1)\n",
    "df['CAPEX']=df.CAPEX_batt+df.CAPEX_DHW+df.CAPEX_tank+df.CAPEX_hp+df.CAPEX_PV"
   ]
  },
  {
   "cell_type": "code",
   "execution_count": 20,
   "metadata": {},
   "outputs": [],
   "source": [
    "df['LCOE']=df.apply(lambda x: get_lcoes(x,project_life,fraction,discount_rate,df_prices,True),axis=1)\n"
   ]
  },
  {
   "cell_type": "code",
   "execution_count": 21,
   "metadata": {},
   "outputs": [
    {
     "data": {
      "text/plain": [
       "549"
      ]
     },
     "execution_count": 21,
     "metadata": {},
     "output_type": "execute_result"
    }
   ],
   "source": [
    "len(df.hh.unique())"
   ]
  },
  {
   "cell_type": "code",
   "execution_count": 22,
   "metadata": {},
   "outputs": [
    {
     "data": {
      "text/plain": [
       "11777"
      ]
     },
     "execution_count": 22,
     "metadata": {},
     "output_type": "execute_result"
    }
   ],
   "source": [
    "549*2*4+7385"
   ]
  },
  {
   "cell_type": "code",
   "execution_count": 33,
   "metadata": {},
   "outputs": [],
   "source": [
    "df.to_csv('df_wilcox_paired_original.csv')"
   ]
  },
  {
   "cell_type": "markdown",
   "metadata": {},
   "source": [
    "# ----------------------------------------------------"
   ]
  },
  {
   "cell_type": "markdown",
   "metadata": {},
   "source": [
    "## Now sensitivity analysis of the discount rate"
   ]
  },
  {
   "cell_type": "code",
   "execution_count": 23,
   "metadata": {},
   "outputs": [],
   "source": [
    "cols=['App_comb','conf','house_type','LCOE']\n",
    "df_lc=df.loc[:,cols]"
   ]
  },
  {
   "cell_type": "code",
   "execution_count": 24,
   "metadata": {},
   "outputs": [],
   "source": [
    "df_lc.loc[:,'discount_rate']=0.04"
   ]
  },
  {
   "cell_type": "code",
   "execution_count": 25,
   "metadata": {},
   "outputs": [
    {
     "data": {
      "text/plain": [
       "(26346, 5)"
      ]
     },
     "execution_count": 25,
     "metadata": {},
     "output_type": "execute_result"
    }
   ],
   "source": [
    "df_lc.shape"
   ]
  },
  {
   "cell_type": "code",
   "execution_count": 26,
   "metadata": {},
   "outputs": [],
   "source": [
    "aux=df_lc.copy()"
   ]
  },
  {
   "cell_type": "code",
   "execution_count": 27,
   "metadata": {},
   "outputs": [],
   "source": [
    "discount_rate=0.06\n",
    "aux['discount_rate']=discount_rate\n",
    "aux['LCOE']=df.apply(lambda x: get_lcoes(x,project_life,fraction,discount_rate,df_prices,True),axis=1)"
   ]
  },
  {
   "cell_type": "code",
   "execution_count": 28,
   "metadata": {},
   "outputs": [],
   "source": [
    "aux_aux=pd.concat([df_lc,aux],ignore_index=True)"
   ]
  },
  {
   "cell_type": "code",
   "execution_count": 29,
   "metadata": {},
   "outputs": [],
   "source": [
    "aux=df_lc.copy()"
   ]
  },
  {
   "cell_type": "code",
   "execution_count": 30,
   "metadata": {},
   "outputs": [],
   "source": [
    "discount_rate=0.08\n",
    "aux['discount_rate']=discount_rate\n",
    "aux['LCOE']=df.apply(lambda x: get_lcoes(x,project_life,fraction,discount_rate,df_prices,True),axis=1)\n"
   ]
  },
  {
   "cell_type": "code",
   "execution_count": 31,
   "metadata": {},
   "outputs": [],
   "source": [
    "aux_aux=pd.concat([aux_aux,aux],ignore_index=True)"
   ]
  },
  {
   "cell_type": "code",
   "execution_count": 32,
   "metadata": {},
   "outputs": [],
   "source": [
    "aux=df_lc.copy()"
   ]
  },
  {
   "cell_type": "code",
   "execution_count": 33,
   "metadata": {},
   "outputs": [],
   "source": [
    "discount_rate=0.02\n",
    "aux['discount_rate']=discount_rate\n",
    "aux['LCOE']=df.apply(lambda x: get_lcoes(x,project_life,fraction,discount_rate,df_prices,True),axis=1)"
   ]
  },
  {
   "cell_type": "code",
   "execution_count": 34,
   "metadata": {},
   "outputs": [],
   "source": [
    "aux_aux=pd.concat([aux_aux,aux],ignore_index=True)"
   ]
  },
  {
   "cell_type": "code",
   "execution_count": 606,
   "metadata": {},
   "outputs": [],
   "source": [
    "aux_aux.to_csv('LCOE_sens.csv')"
   ]
  },
  {
   "cell_type": "code",
   "execution_count": 607,
   "metadata": {},
   "outputs": [
    {
     "data": {
      "text/plain": [
       "Index(['App_comb', 'conf', 'house_type', 'LCOE', 'discount_rate'], dtype='object')"
      ]
     },
     "execution_count": 607,
     "metadata": {},
     "output_type": "execute_result"
    }
   ],
   "source": [
    "aux_aux.columns"
   ]
  },
  {
   "cell_type": "code",
   "execution_count": 608,
   "metadata": {},
   "outputs": [
    {
     "data": {
      "text/plain": [
       "array([2., 3.])"
      ]
     },
     "execution_count": 608,
     "metadata": {},
     "output_type": "execute_result"
    }
   ],
   "source": [
    "df_lc.App_comb.unique()"
   ]
  },
  {
   "cell_type": "code",
   "execution_count": 35,
   "metadata": {},
   "outputs": [
    {
     "data": {
      "text/html": [
       "<div>\n",
       "<style scoped>\n",
       "    .dataframe tbody tr th:only-of-type {\n",
       "        vertical-align: middle;\n",
       "    }\n",
       "\n",
       "    .dataframe tbody tr th {\n",
       "        vertical-align: top;\n",
       "    }\n",
       "\n",
       "    .dataframe thead th {\n",
       "        text-align: right;\n",
       "    }\n",
       "</style>\n",
       "<table border=\"1\" class=\"dataframe\">\n",
       "  <thead>\n",
       "    <tr style=\"text-align: right;\">\n",
       "      <th></th>\n",
       "      <th>house_type</th>\n",
       "      <th>SFH100</th>\n",
       "      <th>SFH15</th>\n",
       "      <th>SFH45</th>\n",
       "    </tr>\n",
       "    <tr>\n",
       "      <th>discount_rate</th>\n",
       "      <th>conf</th>\n",
       "      <th></th>\n",
       "      <th></th>\n",
       "      <th></th>\n",
       "    </tr>\n",
       "  </thead>\n",
       "  <tbody>\n",
       "    <tr>\n",
       "      <th rowspan=\"3\" valign=\"top\">0.02</th>\n",
       "      <th>0.0</th>\n",
       "      <td>0.50</td>\n",
       "      <td>0.64</td>\n",
       "      <td>0.55</td>\n",
       "    </tr>\n",
       "    <tr>\n",
       "      <th>2.0</th>\n",
       "      <td>0.49</td>\n",
       "      <td>0.61</td>\n",
       "      <td>0.52</td>\n",
       "    </tr>\n",
       "    <tr>\n",
       "      <th>4.0</th>\n",
       "      <td>0.52</td>\n",
       "      <td>0.69</td>\n",
       "      <td>0.58</td>\n",
       "    </tr>\n",
       "    <tr>\n",
       "      <th rowspan=\"3\" valign=\"top\">0.04</th>\n",
       "      <th>0.0</th>\n",
       "      <td>0.56</td>\n",
       "      <td>0.71</td>\n",
       "      <td>0.61</td>\n",
       "    </tr>\n",
       "    <tr>\n",
       "      <th>2.0</th>\n",
       "      <td>0.56</td>\n",
       "      <td>0.68</td>\n",
       "      <td>0.58</td>\n",
       "    </tr>\n",
       "    <tr>\n",
       "      <th>4.0</th>\n",
       "      <td>0.60</td>\n",
       "      <td>0.80</td>\n",
       "      <td>0.68</td>\n",
       "    </tr>\n",
       "    <tr>\n",
       "      <th rowspan=\"3\" valign=\"top\">0.06</th>\n",
       "      <th>0.0</th>\n",
       "      <td>0.63</td>\n",
       "      <td>0.79</td>\n",
       "      <td>0.68</td>\n",
       "    </tr>\n",
       "    <tr>\n",
       "      <th>2.0</th>\n",
       "      <td>0.64</td>\n",
       "      <td>0.75</td>\n",
       "      <td>0.64</td>\n",
       "    </tr>\n",
       "    <tr>\n",
       "      <th>4.0</th>\n",
       "      <td>0.69</td>\n",
       "      <td>0.92</td>\n",
       "      <td>0.78</td>\n",
       "    </tr>\n",
       "    <tr>\n",
       "      <th rowspan=\"3\" valign=\"top\">0.08</th>\n",
       "      <th>0.0</th>\n",
       "      <td>0.71</td>\n",
       "      <td>0.87</td>\n",
       "      <td>0.76</td>\n",
       "    </tr>\n",
       "    <tr>\n",
       "      <th>2.0</th>\n",
       "      <td>0.72</td>\n",
       "      <td>0.83</td>\n",
       "      <td>0.71</td>\n",
       "    </tr>\n",
       "    <tr>\n",
       "      <th>4.0</th>\n",
       "      <td>0.78</td>\n",
       "      <td>1.05</td>\n",
       "      <td>0.89</td>\n",
       "    </tr>\n",
       "  </tbody>\n",
       "</table>\n",
       "</div>"
      ],
      "text/plain": [
       "house_type          SFH100  SFH15  SFH45\n",
       "discount_rate conf                      \n",
       "0.02          0.0     0.50   0.64   0.55\n",
       "              2.0     0.49   0.61   0.52\n",
       "              4.0     0.52   0.69   0.58\n",
       "0.04          0.0     0.56   0.71   0.61\n",
       "              2.0     0.56   0.68   0.58\n",
       "              4.0     0.60   0.80   0.68\n",
       "0.06          0.0     0.63   0.79   0.68\n",
       "              2.0     0.64   0.75   0.64\n",
       "              4.0     0.69   0.92   0.78\n",
       "0.08          0.0     0.71   0.87   0.76\n",
       "              2.0     0.72   0.83   0.71\n",
       "              4.0     0.78   1.05   0.89"
      ]
     },
     "execution_count": 35,
     "metadata": {},
     "output_type": "execute_result"
    }
   ],
   "source": [
    "aux_aux.loc[((aux_aux.conf==0)|(aux_aux.conf==2)|(aux_aux.conf==4))&(aux_aux.App_comb==3)].groupby(['discount_rate','conf','house_type'])['LCOE'].median().round(2).unstack()"
   ]
  },
  {
   "cell_type": "code",
   "execution_count": 37,
   "metadata": {},
   "outputs": [
    {
     "data": {
      "text/plain": [
       "20553.320576076523"
      ]
     },
     "execution_count": 37,
     "metadata": {},
     "output_type": "execute_result"
    }
   ],
   "source": [
    "df[df.house_type=='SFH100'].Req_kWh[0]"
   ]
  },
  {
   "cell_type": "code",
   "execution_count": 41,
   "metadata": {},
   "outputs": [
    {
     "data": {
      "text/plain": [
       "9136.942463040052"
      ]
     },
     "execution_count": 41,
     "metadata": {},
     "output_type": "execute_result"
    }
   ],
   "source": [
    "df[df.house_type=='SFH45'].Req_kWh[1]"
   ]
  },
  {
   "cell_type": "code",
   "execution_count": 44,
   "metadata": {},
   "outputs": [
    {
     "data": {
      "text/plain": [
       "3814.720685732221"
      ]
     },
     "execution_count": 44,
     "metadata": {},
     "output_type": "execute_result"
    }
   ],
   "source": [
    "df[df.house_type=='SFH15'].Req_kWh[4]"
   ]
  },
  {
   "cell_type": "code",
   "execution_count": 45,
   "metadata": {},
   "outputs": [
    {
     "data": {
      "text/plain": [
       "110.5"
      ]
     },
     "execution_count": 45,
     "metadata": {},
     "output_type": "execute_result"
    }
   ],
   "source": [
    "20553/186"
   ]
  },
  {
   "cell_type": "code",
   "execution_count": 46,
   "metadata": {},
   "outputs": [
    {
     "data": {
      "text/plain": [
       "49.11827956989247"
      ]
     },
     "execution_count": 46,
     "metadata": {},
     "output_type": "execute_result"
    }
   ],
   "source": [
    "9136/186"
   ]
  },
  {
   "cell_type": "code",
   "execution_count": 48,
   "metadata": {},
   "outputs": [
    {
     "data": {
      "text/plain": [
       "20.50537634408602"
      ]
     },
     "execution_count": 48,
     "metadata": {},
     "output_type": "execute_result"
    }
   ],
   "source": [
    "3814/186"
   ]
  },
  {
   "cell_type": "code",
   "execution_count": 38,
   "metadata": {},
   "outputs": [
    {
     "data": {
      "text/plain": [
       "0.0007784630414940263"
      ]
     },
     "execution_count": 38,
     "metadata": {},
     "output_type": "execute_result"
    }
   ],
   "source": [
    "16/20553.32"
   ]
  },
  {
   "cell_type": "markdown",
   "metadata": {},
   "source": [
    "# ---------------------------------------------------------------------------------------------------------"
   ]
  },
  {
   "cell_type": "code",
   "execution_count": 103,
   "metadata": {},
   "outputs": [],
   "source": [
    "df_mod=df.copy()"
   ]
  },
  {
   "cell_type": "code",
   "execution_count": 104,
   "metadata": {},
   "outputs": [],
   "source": [
    "discount_rate=0.04\n",
    "fraction=1\n",
    "fraction_PV=0.5\n",
    "fraction_hp=1\n",
    "fraction_batt=1"
   ]
  },
  {
   "cell_type": "code",
   "execution_count": 105,
   "metadata": {},
   "outputs": [
    {
     "ename": "AttributeError",
     "evalue": "(\"'Series' object has no attribute 'life_batt'\", 'occurred at index 1')",
     "output_type": "error",
     "traceback": [
      "\u001b[0;31m---------------------------------------------------------------------------\u001b[0m",
      "\u001b[0;31mAttributeError\u001b[0m                            Traceback (most recent call last)",
      "\u001b[0;32m<ipython-input-105-1cc885ee4d33>\u001b[0m in \u001b[0;36m<module>\u001b[0;34m\u001b[0m\n\u001b[1;32m      2\u001b[0m \u001b[0mdf\u001b[0m\u001b[0;34m[\u001b[0m\u001b[0;34m'CAPEX_PV'\u001b[0m\u001b[0;34m]\u001b[0m\u001b[0;34m=\u001b[0m\u001b[0mdf\u001b[0m\u001b[0;34m.\u001b[0m\u001b[0mapply\u001b[0m\u001b[0;34m(\u001b[0m\u001b[0;32mlambda\u001b[0m \u001b[0mx\u001b[0m\u001b[0;34m:\u001b[0m \u001b[0mget_capex_pv\u001b[0m\u001b[0;34m(\u001b[0m\u001b[0mx\u001b[0m\u001b[0;34m,\u001b[0m\u001b[0mfraction_PV\u001b[0m\u001b[0;34m)\u001b[0m\u001b[0;34m,\u001b[0m\u001b[0maxis\u001b[0m\u001b[0;34m=\u001b[0m\u001b[0;36m1\u001b[0m\u001b[0;34m)\u001b[0m\u001b[0;34m\u001b[0m\u001b[0;34m\u001b[0m\u001b[0m\n\u001b[1;32m      3\u001b[0m \u001b[0mdf\u001b[0m\u001b[0;34m[\u001b[0m\u001b[0;34m'CAPEX_hp'\u001b[0m\u001b[0;34m]\u001b[0m\u001b[0;34m=\u001b[0m\u001b[0mdf\u001b[0m\u001b[0;34m.\u001b[0m\u001b[0mapply\u001b[0m\u001b[0;34m(\u001b[0m\u001b[0;32mlambda\u001b[0m \u001b[0mx\u001b[0m\u001b[0;34m:\u001b[0m \u001b[0mget_capex_hp\u001b[0m\u001b[0;34m(\u001b[0m\u001b[0mx\u001b[0m\u001b[0;34m,\u001b[0m\u001b[0mproject_life\u001b[0m\u001b[0;34m,\u001b[0m\u001b[0mfraction_hp\u001b[0m\u001b[0;34m,\u001b[0m\u001b[0mdiscount_rate\u001b[0m\u001b[0;34m,\u001b[0m\u001b[0;36m1.1\u001b[0m\u001b[0;34m)\u001b[0m\u001b[0;34m,\u001b[0m\u001b[0maxis\u001b[0m\u001b[0;34m=\u001b[0m\u001b[0;36m1\u001b[0m\u001b[0;34m)\u001b[0m\u001b[0;34m\u001b[0m\u001b[0;34m\u001b[0m\u001b[0m\n\u001b[0;32m----> 4\u001b[0;31m \u001b[0mdf\u001b[0m\u001b[0;34m[\u001b[0m\u001b[0;34m'CAPEX_batt'\u001b[0m\u001b[0;34m]\u001b[0m\u001b[0;34m=\u001b[0m\u001b[0mdf\u001b[0m\u001b[0;34m.\u001b[0m\u001b[0mapply\u001b[0m\u001b[0;34m(\u001b[0m\u001b[0;32mlambda\u001b[0m \u001b[0mx\u001b[0m\u001b[0;34m:\u001b[0m \u001b[0mget_capex_batt\u001b[0m\u001b[0;34m(\u001b[0m\u001b[0mx\u001b[0m\u001b[0;34m,\u001b[0m\u001b[0mproject_life\u001b[0m\u001b[0;34m,\u001b[0m\u001b[0mfraction_batt\u001b[0m\u001b[0;34m,\u001b[0m\u001b[0mdiscount_rate\u001b[0m\u001b[0;34m,\u001b[0m\u001b[0;36m1.1\u001b[0m\u001b[0;34m)\u001b[0m\u001b[0;34m,\u001b[0m\u001b[0maxis\u001b[0m\u001b[0;34m=\u001b[0m\u001b[0;36m1\u001b[0m\u001b[0;34m)\u001b[0m\u001b[0;34m\u001b[0m\u001b[0;34m\u001b[0m\u001b[0m\n\u001b[0m\u001b[1;32m      5\u001b[0m \u001b[0mdf\u001b[0m\u001b[0;34m[\u001b[0m\u001b[0;34m'CAPEX_tank'\u001b[0m\u001b[0;34m]\u001b[0m\u001b[0;34m=\u001b[0m\u001b[0mdf\u001b[0m\u001b[0;34m.\u001b[0m\u001b[0mapply\u001b[0m\u001b[0;34m(\u001b[0m\u001b[0;32mlambda\u001b[0m \u001b[0mx\u001b[0m\u001b[0;34m:\u001b[0m \u001b[0mget_capex_tank\u001b[0m\u001b[0;34m(\u001b[0m\u001b[0mx\u001b[0m\u001b[0;34m,\u001b[0m\u001b[0mproject_life\u001b[0m\u001b[0;34m,\u001b[0m\u001b[0mfraction\u001b[0m\u001b[0;34m,\u001b[0m\u001b[0mdiscount_rate\u001b[0m\u001b[0;34m,\u001b[0m\u001b[0;36m1.1\u001b[0m\u001b[0;34m)\u001b[0m\u001b[0;34m,\u001b[0m\u001b[0maxis\u001b[0m\u001b[0;34m=\u001b[0m\u001b[0;36m1\u001b[0m\u001b[0;34m)\u001b[0m\u001b[0;34m\u001b[0m\u001b[0;34m\u001b[0m\u001b[0m\n\u001b[1;32m      6\u001b[0m \u001b[0mdf\u001b[0m\u001b[0;34m[\u001b[0m\u001b[0;34m'CAPEX_DHW'\u001b[0m\u001b[0;34m]\u001b[0m\u001b[0;34m=\u001b[0m\u001b[0mdf\u001b[0m\u001b[0;34m.\u001b[0m\u001b[0mapply\u001b[0m\u001b[0;34m(\u001b[0m\u001b[0;32mlambda\u001b[0m \u001b[0mx\u001b[0m\u001b[0;34m:\u001b[0m \u001b[0mget_capex_dhw\u001b[0m\u001b[0;34m(\u001b[0m\u001b[0mx\u001b[0m\u001b[0;34m,\u001b[0m\u001b[0mproject_life\u001b[0m\u001b[0;34m,\u001b[0m\u001b[0mfraction\u001b[0m\u001b[0;34m,\u001b[0m\u001b[0mdiscount_rate\u001b[0m\u001b[0;34m,\u001b[0m\u001b[0;36m1.1\u001b[0m\u001b[0;34m)\u001b[0m\u001b[0;34m,\u001b[0m\u001b[0maxis\u001b[0m\u001b[0;34m=\u001b[0m\u001b[0;36m1\u001b[0m\u001b[0;34m)\u001b[0m\u001b[0;34m\u001b[0m\u001b[0;34m\u001b[0m\u001b[0m\n",
      "\u001b[0;32m~/.conda/envs/alenv/lib/python3.7/site-packages/pandas/core/frame.py\u001b[0m in \u001b[0;36mapply\u001b[0;34m(self, func, axis, broadcast, raw, reduce, result_type, args, **kwds)\u001b[0m\n\u001b[1;32m   6485\u001b[0m                          \u001b[0margs\u001b[0m\u001b[0;34m=\u001b[0m\u001b[0margs\u001b[0m\u001b[0;34m,\u001b[0m\u001b[0;34m\u001b[0m\u001b[0;34m\u001b[0m\u001b[0m\n\u001b[1;32m   6486\u001b[0m                          kwds=kwds)\n\u001b[0;32m-> 6487\u001b[0;31m         \u001b[0;32mreturn\u001b[0m \u001b[0mop\u001b[0m\u001b[0;34m.\u001b[0m\u001b[0mget_result\u001b[0m\u001b[0;34m(\u001b[0m\u001b[0;34m)\u001b[0m\u001b[0;34m\u001b[0m\u001b[0;34m\u001b[0m\u001b[0m\n\u001b[0m\u001b[1;32m   6488\u001b[0m \u001b[0;34m\u001b[0m\u001b[0m\n\u001b[1;32m   6489\u001b[0m     \u001b[0;32mdef\u001b[0m \u001b[0mapplymap\u001b[0m\u001b[0;34m(\u001b[0m\u001b[0mself\u001b[0m\u001b[0;34m,\u001b[0m \u001b[0mfunc\u001b[0m\u001b[0;34m)\u001b[0m\u001b[0;34m:\u001b[0m\u001b[0;34m\u001b[0m\u001b[0;34m\u001b[0m\u001b[0m\n",
      "\u001b[0;32m~/.conda/envs/alenv/lib/python3.7/site-packages/pandas/core/apply.py\u001b[0m in \u001b[0;36mget_result\u001b[0;34m(self)\u001b[0m\n\u001b[1;32m    149\u001b[0m             \u001b[0;32mreturn\u001b[0m \u001b[0mself\u001b[0m\u001b[0;34m.\u001b[0m\u001b[0mapply_raw\u001b[0m\u001b[0;34m(\u001b[0m\u001b[0;34m)\u001b[0m\u001b[0;34m\u001b[0m\u001b[0;34m\u001b[0m\u001b[0m\n\u001b[1;32m    150\u001b[0m \u001b[0;34m\u001b[0m\u001b[0m\n\u001b[0;32m--> 151\u001b[0;31m         \u001b[0;32mreturn\u001b[0m \u001b[0mself\u001b[0m\u001b[0;34m.\u001b[0m\u001b[0mapply_standard\u001b[0m\u001b[0;34m(\u001b[0m\u001b[0;34m)\u001b[0m\u001b[0;34m\u001b[0m\u001b[0;34m\u001b[0m\u001b[0m\n\u001b[0m\u001b[1;32m    152\u001b[0m \u001b[0;34m\u001b[0m\u001b[0m\n\u001b[1;32m    153\u001b[0m     \u001b[0;32mdef\u001b[0m \u001b[0mapply_empty_result\u001b[0m\u001b[0;34m(\u001b[0m\u001b[0mself\u001b[0m\u001b[0;34m)\u001b[0m\u001b[0;34m:\u001b[0m\u001b[0;34m\u001b[0m\u001b[0;34m\u001b[0m\u001b[0m\n",
      "\u001b[0;32m~/.conda/envs/alenv/lib/python3.7/site-packages/pandas/core/apply.py\u001b[0m in \u001b[0;36mapply_standard\u001b[0;34m(self)\u001b[0m\n\u001b[1;32m    255\u001b[0m \u001b[0;34m\u001b[0m\u001b[0m\n\u001b[1;32m    256\u001b[0m         \u001b[0;31m# compute the result using the series generator\u001b[0m\u001b[0;34m\u001b[0m\u001b[0;34m\u001b[0m\u001b[0;34m\u001b[0m\u001b[0m\n\u001b[0;32m--> 257\u001b[0;31m         \u001b[0mself\u001b[0m\u001b[0;34m.\u001b[0m\u001b[0mapply_series_generator\u001b[0m\u001b[0;34m(\u001b[0m\u001b[0;34m)\u001b[0m\u001b[0;34m\u001b[0m\u001b[0;34m\u001b[0m\u001b[0m\n\u001b[0m\u001b[1;32m    258\u001b[0m \u001b[0;34m\u001b[0m\u001b[0m\n\u001b[1;32m    259\u001b[0m         \u001b[0;31m# wrap results\u001b[0m\u001b[0;34m\u001b[0m\u001b[0;34m\u001b[0m\u001b[0;34m\u001b[0m\u001b[0m\n",
      "\u001b[0;32m~/.conda/envs/alenv/lib/python3.7/site-packages/pandas/core/apply.py\u001b[0m in \u001b[0;36mapply_series_generator\u001b[0;34m(self)\u001b[0m\n\u001b[1;32m    284\u001b[0m             \u001b[0;32mtry\u001b[0m\u001b[0;34m:\u001b[0m\u001b[0;34m\u001b[0m\u001b[0;34m\u001b[0m\u001b[0m\n\u001b[1;32m    285\u001b[0m                 \u001b[0;32mfor\u001b[0m \u001b[0mi\u001b[0m\u001b[0;34m,\u001b[0m \u001b[0mv\u001b[0m \u001b[0;32min\u001b[0m \u001b[0menumerate\u001b[0m\u001b[0;34m(\u001b[0m\u001b[0mseries_gen\u001b[0m\u001b[0;34m)\u001b[0m\u001b[0;34m:\u001b[0m\u001b[0;34m\u001b[0m\u001b[0;34m\u001b[0m\u001b[0m\n\u001b[0;32m--> 286\u001b[0;31m                     \u001b[0mresults\u001b[0m\u001b[0;34m[\u001b[0m\u001b[0mi\u001b[0m\u001b[0;34m]\u001b[0m \u001b[0;34m=\u001b[0m \u001b[0mself\u001b[0m\u001b[0;34m.\u001b[0m\u001b[0mf\u001b[0m\u001b[0;34m(\u001b[0m\u001b[0mv\u001b[0m\u001b[0;34m)\u001b[0m\u001b[0;34m\u001b[0m\u001b[0;34m\u001b[0m\u001b[0m\n\u001b[0m\u001b[1;32m    287\u001b[0m                     \u001b[0mkeys\u001b[0m\u001b[0;34m.\u001b[0m\u001b[0mappend\u001b[0m\u001b[0;34m(\u001b[0m\u001b[0mv\u001b[0m\u001b[0;34m.\u001b[0m\u001b[0mname\u001b[0m\u001b[0;34m)\u001b[0m\u001b[0;34m\u001b[0m\u001b[0;34m\u001b[0m\u001b[0m\n\u001b[1;32m    288\u001b[0m             \u001b[0;32mexcept\u001b[0m \u001b[0mException\u001b[0m \u001b[0;32mas\u001b[0m \u001b[0me\u001b[0m\u001b[0;34m:\u001b[0m\u001b[0;34m\u001b[0m\u001b[0;34m\u001b[0m\u001b[0m\n",
      "\u001b[0;32m<ipython-input-105-1cc885ee4d33>\u001b[0m in \u001b[0;36m<lambda>\u001b[0;34m(x)\u001b[0m\n\u001b[1;32m      2\u001b[0m \u001b[0mdf\u001b[0m\u001b[0;34m[\u001b[0m\u001b[0;34m'CAPEX_PV'\u001b[0m\u001b[0;34m]\u001b[0m\u001b[0;34m=\u001b[0m\u001b[0mdf\u001b[0m\u001b[0;34m.\u001b[0m\u001b[0mapply\u001b[0m\u001b[0;34m(\u001b[0m\u001b[0;32mlambda\u001b[0m \u001b[0mx\u001b[0m\u001b[0;34m:\u001b[0m \u001b[0mget_capex_pv\u001b[0m\u001b[0;34m(\u001b[0m\u001b[0mx\u001b[0m\u001b[0;34m,\u001b[0m\u001b[0mfraction_PV\u001b[0m\u001b[0;34m)\u001b[0m\u001b[0;34m,\u001b[0m\u001b[0maxis\u001b[0m\u001b[0;34m=\u001b[0m\u001b[0;36m1\u001b[0m\u001b[0;34m)\u001b[0m\u001b[0;34m\u001b[0m\u001b[0;34m\u001b[0m\u001b[0m\n\u001b[1;32m      3\u001b[0m \u001b[0mdf\u001b[0m\u001b[0;34m[\u001b[0m\u001b[0;34m'CAPEX_hp'\u001b[0m\u001b[0;34m]\u001b[0m\u001b[0;34m=\u001b[0m\u001b[0mdf\u001b[0m\u001b[0;34m.\u001b[0m\u001b[0mapply\u001b[0m\u001b[0;34m(\u001b[0m\u001b[0;32mlambda\u001b[0m \u001b[0mx\u001b[0m\u001b[0;34m:\u001b[0m \u001b[0mget_capex_hp\u001b[0m\u001b[0;34m(\u001b[0m\u001b[0mx\u001b[0m\u001b[0;34m,\u001b[0m\u001b[0mproject_life\u001b[0m\u001b[0;34m,\u001b[0m\u001b[0mfraction_hp\u001b[0m\u001b[0;34m,\u001b[0m\u001b[0mdiscount_rate\u001b[0m\u001b[0;34m,\u001b[0m\u001b[0;36m1.1\u001b[0m\u001b[0;34m)\u001b[0m\u001b[0;34m,\u001b[0m\u001b[0maxis\u001b[0m\u001b[0;34m=\u001b[0m\u001b[0;36m1\u001b[0m\u001b[0;34m)\u001b[0m\u001b[0;34m\u001b[0m\u001b[0;34m\u001b[0m\u001b[0m\n\u001b[0;32m----> 4\u001b[0;31m \u001b[0mdf\u001b[0m\u001b[0;34m[\u001b[0m\u001b[0;34m'CAPEX_batt'\u001b[0m\u001b[0;34m]\u001b[0m\u001b[0;34m=\u001b[0m\u001b[0mdf\u001b[0m\u001b[0;34m.\u001b[0m\u001b[0mapply\u001b[0m\u001b[0;34m(\u001b[0m\u001b[0;32mlambda\u001b[0m \u001b[0mx\u001b[0m\u001b[0;34m:\u001b[0m \u001b[0mget_capex_batt\u001b[0m\u001b[0;34m(\u001b[0m\u001b[0mx\u001b[0m\u001b[0;34m,\u001b[0m\u001b[0mproject_life\u001b[0m\u001b[0;34m,\u001b[0m\u001b[0mfraction_batt\u001b[0m\u001b[0;34m,\u001b[0m\u001b[0mdiscount_rate\u001b[0m\u001b[0;34m,\u001b[0m\u001b[0;36m1.1\u001b[0m\u001b[0;34m)\u001b[0m\u001b[0;34m,\u001b[0m\u001b[0maxis\u001b[0m\u001b[0;34m=\u001b[0m\u001b[0;36m1\u001b[0m\u001b[0;34m)\u001b[0m\u001b[0;34m\u001b[0m\u001b[0;34m\u001b[0m\u001b[0m\n\u001b[0m\u001b[1;32m      5\u001b[0m \u001b[0mdf\u001b[0m\u001b[0;34m[\u001b[0m\u001b[0;34m'CAPEX_tank'\u001b[0m\u001b[0;34m]\u001b[0m\u001b[0;34m=\u001b[0m\u001b[0mdf\u001b[0m\u001b[0;34m.\u001b[0m\u001b[0mapply\u001b[0m\u001b[0;34m(\u001b[0m\u001b[0;32mlambda\u001b[0m \u001b[0mx\u001b[0m\u001b[0;34m:\u001b[0m \u001b[0mget_capex_tank\u001b[0m\u001b[0;34m(\u001b[0m\u001b[0mx\u001b[0m\u001b[0;34m,\u001b[0m\u001b[0mproject_life\u001b[0m\u001b[0;34m,\u001b[0m\u001b[0mfraction\u001b[0m\u001b[0;34m,\u001b[0m\u001b[0mdiscount_rate\u001b[0m\u001b[0;34m,\u001b[0m\u001b[0;36m1.1\u001b[0m\u001b[0;34m)\u001b[0m\u001b[0;34m,\u001b[0m\u001b[0maxis\u001b[0m\u001b[0;34m=\u001b[0m\u001b[0;36m1\u001b[0m\u001b[0;34m)\u001b[0m\u001b[0;34m\u001b[0m\u001b[0;34m\u001b[0m\u001b[0m\n\u001b[1;32m      6\u001b[0m \u001b[0mdf\u001b[0m\u001b[0;34m[\u001b[0m\u001b[0;34m'CAPEX_DHW'\u001b[0m\u001b[0;34m]\u001b[0m\u001b[0;34m=\u001b[0m\u001b[0mdf\u001b[0m\u001b[0;34m.\u001b[0m\u001b[0mapply\u001b[0m\u001b[0;34m(\u001b[0m\u001b[0;32mlambda\u001b[0m \u001b[0mx\u001b[0m\u001b[0;34m:\u001b[0m \u001b[0mget_capex_dhw\u001b[0m\u001b[0;34m(\u001b[0m\u001b[0mx\u001b[0m\u001b[0;34m,\u001b[0m\u001b[0mproject_life\u001b[0m\u001b[0;34m,\u001b[0m\u001b[0mfraction\u001b[0m\u001b[0;34m,\u001b[0m\u001b[0mdiscount_rate\u001b[0m\u001b[0;34m,\u001b[0m\u001b[0;36m1.1\u001b[0m\u001b[0;34m)\u001b[0m\u001b[0;34m,\u001b[0m\u001b[0maxis\u001b[0m\u001b[0;34m=\u001b[0m\u001b[0;36m1\u001b[0m\u001b[0;34m)\u001b[0m\u001b[0;34m\u001b[0m\u001b[0;34m\u001b[0m\u001b[0m\n",
      "\u001b[0;32m<ipython-input-17-1cd717dc964a>\u001b[0m in \u001b[0;36mget_capex_batt\u001b[0;34m(row, project_life, fraction, discount_rate, EUR_CHF)\u001b[0m\n\u001b[1;32m     87\u001b[0m \u001b[0;34m\u001b[0m\u001b[0m\n\u001b[1;32m     88\u001b[0m         cost_batt=get_replacements_batt(cost_batt,row,batt,\n\u001b[0;32m---> 89\u001b[0;31m                                        project_life,fraction,discount_rate)\n\u001b[0m\u001b[1;32m     90\u001b[0m     \u001b[0;32melse\u001b[0m\u001b[0;34m:\u001b[0m\u001b[0;34m\u001b[0m\u001b[0;34m\u001b[0m\u001b[0m\n\u001b[1;32m     91\u001b[0m         \u001b[0mcost_batt\u001b[0m\u001b[0;34m=\u001b[0m\u001b[0;36m0\u001b[0m\u001b[0;34m\u001b[0m\u001b[0;34m\u001b[0m\u001b[0m\n",
      "\u001b[0;32m<ipython-input-17-1cd717dc964a>\u001b[0m in \u001b[0;36mget_replacements_batt\u001b[0;34m(investment, row, Batt, project_life, fraction, discount_rate)\u001b[0m\n\u001b[1;32m     20\u001b[0m \u001b[0;32mdef\u001b[0m \u001b[0mget_replacements_batt\u001b[0m\u001b[0;34m(\u001b[0m\u001b[0minvestment\u001b[0m\u001b[0;34m,\u001b[0m\u001b[0mrow\u001b[0m\u001b[0;34m,\u001b[0m\u001b[0mBatt\u001b[0m\u001b[0;34m,\u001b[0m\u001b[0mproject_life\u001b[0m\u001b[0;34m,\u001b[0m\u001b[0mfraction\u001b[0m\u001b[0;34m,\u001b[0m\u001b[0mdiscount_rate\u001b[0m\u001b[0;34m)\u001b[0m\u001b[0;34m:\u001b[0m\u001b[0;34m\u001b[0m\u001b[0;34m\u001b[0m\u001b[0m\n\u001b[1;32m     21\u001b[0m \u001b[0;34m\u001b[0m\u001b[0m\n\u001b[0;32m---> 22\u001b[0;31m     \u001b[0mrep\u001b[0m\u001b[0;34m=\u001b[0m\u001b[0mint\u001b[0m\u001b[0;34m(\u001b[0m\u001b[0mnp\u001b[0m\u001b[0;34m.\u001b[0m\u001b[0mceil\u001b[0m\u001b[0;34m(\u001b[0m\u001b[0mproject_life\u001b[0m\u001b[0;34m/\u001b[0m\u001b[0mrow\u001b[0m\u001b[0;34m.\u001b[0m\u001b[0mlife_batt\u001b[0m\u001b[0;34m)\u001b[0m\u001b[0;34m)\u001b[0m\u001b[0;34m-\u001b[0m\u001b[0;36m1\u001b[0m\u001b[0;34m\u001b[0m\u001b[0;34m\u001b[0m\u001b[0m\n\u001b[0m\u001b[1;32m     23\u001b[0m     \u001b[0;31m#print('------')\u001b[0m\u001b[0;34m\u001b[0m\u001b[0;34m\u001b[0m\u001b[0;34m\u001b[0m\u001b[0m\n\u001b[1;32m     24\u001b[0m     \u001b[0;31m#print(row.life_batt)\u001b[0m\u001b[0;34m\u001b[0m\u001b[0;34m\u001b[0m\u001b[0;34m\u001b[0m\u001b[0m\n",
      "\u001b[0;32m~/.conda/envs/alenv/lib/python3.7/site-packages/pandas/core/generic.py\u001b[0m in \u001b[0;36m__getattr__\u001b[0;34m(self, name)\u001b[0m\n\u001b[1;32m   5065\u001b[0m             \u001b[0;32mif\u001b[0m \u001b[0mself\u001b[0m\u001b[0;34m.\u001b[0m\u001b[0m_info_axis\u001b[0m\u001b[0;34m.\u001b[0m\u001b[0m_can_hold_identifiers_and_holds_name\u001b[0m\u001b[0;34m(\u001b[0m\u001b[0mname\u001b[0m\u001b[0;34m)\u001b[0m\u001b[0;34m:\u001b[0m\u001b[0;34m\u001b[0m\u001b[0;34m\u001b[0m\u001b[0m\n\u001b[1;32m   5066\u001b[0m                 \u001b[0;32mreturn\u001b[0m \u001b[0mself\u001b[0m\u001b[0;34m[\u001b[0m\u001b[0mname\u001b[0m\u001b[0;34m]\u001b[0m\u001b[0;34m\u001b[0m\u001b[0;34m\u001b[0m\u001b[0m\n\u001b[0;32m-> 5067\u001b[0;31m             \u001b[0;32mreturn\u001b[0m \u001b[0mobject\u001b[0m\u001b[0;34m.\u001b[0m\u001b[0m__getattribute__\u001b[0m\u001b[0;34m(\u001b[0m\u001b[0mself\u001b[0m\u001b[0;34m,\u001b[0m \u001b[0mname\u001b[0m\u001b[0;34m)\u001b[0m\u001b[0;34m\u001b[0m\u001b[0;34m\u001b[0m\u001b[0m\n\u001b[0m\u001b[1;32m   5068\u001b[0m \u001b[0;34m\u001b[0m\u001b[0m\n\u001b[1;32m   5069\u001b[0m     \u001b[0;32mdef\u001b[0m \u001b[0m__setattr__\u001b[0m\u001b[0;34m(\u001b[0m\u001b[0mself\u001b[0m\u001b[0;34m,\u001b[0m \u001b[0mname\u001b[0m\u001b[0;34m,\u001b[0m \u001b[0mvalue\u001b[0m\u001b[0;34m)\u001b[0m\u001b[0;34m:\u001b[0m\u001b[0;34m\u001b[0m\u001b[0;34m\u001b[0m\u001b[0m\n",
      "\u001b[0;31mAttributeError\u001b[0m: (\"'Series' object has no attribute 'life_batt'\", 'occurred at index 1')"
     ]
    }
   ],
   "source": [
    "df['SS']=(df.E_PV_load+df.E_PV_batt+df.E_PV_bu+df.E_PV_budhw+df.E_PV_hp+df.E_PV_hpdhw)/(df.E_demand+df.E_hp+df.E_hpdhw+df.E_bu+df.E_budhw)*100\n",
    "df['CAPEX_PV']=df.apply(lambda x: get_capex_pv(x,fraction_PV),axis=1)\n",
    "df['CAPEX_hp']=df.apply(lambda x: get_capex_hp(x,project_life,fraction_hp,discount_rate,1.1),axis=1)\n",
    "df['CAPEX_batt']=df.apply(lambda x: get_capex_batt(x,project_life,fraction_batt,discount_rate,1.1),axis=1)\n",
    "df['CAPEX_tank']=df.apply(lambda x: get_capex_tank(x,project_life,fraction,discount_rate,1.1),axis=1)\n",
    "df['CAPEX_DHW']=df.apply(lambda x: get_capex_dhw(x,project_life,fraction,discount_rate,1.1),axis=1)\n",
    "df['CAPEX']=df.CAPEX_batt+df.CAPEX_DHW+df.CAPEX_tank+df.CAPEX_hp+df.CAPEX_PV"
   ]
  },
  {
   "cell_type": "code",
   "execution_count": null,
   "metadata": {},
   "outputs": [],
   "source": [
    "df.iloc[:4,-7:]"
   ]
  },
  {
   "cell_type": "code",
   "execution_count": 614,
   "metadata": {},
   "outputs": [],
   "source": [
    "df['LCOE']=df.apply(lambda x: get_lcoes(x,project_life,fraction,discount_rate,df_prices,True),axis=1)\n"
   ]
  },
  {
   "cell_type": "code",
   "execution_count": 44,
   "metadata": {},
   "outputs": [],
   "source": [
    "df.to_csv('df_PV_half.csv')"
   ]
  },
  {
   "cell_type": "code",
   "execution_count": null,
   "metadata": {},
   "outputs": [],
   "source": []
  },
  {
   "cell_type": "code",
   "execution_count": 616,
   "metadata": {},
   "outputs": [],
   "source": [
    "discount_rate=0.04\n",
    "fraction=1\n",
    "fraction_PV=1\n",
    "fraction_hp=0.5\n",
    "fraction_batt=1"
   ]
  },
  {
   "cell_type": "code",
   "execution_count": 617,
   "metadata": {},
   "outputs": [],
   "source": [
    "df['SS']=(df.E_PV_load+df.E_PV_batt+df.E_PV_bu+df.E_PV_budhw+df.E_PV_hp+df.E_PV_hpdhw)/(df.E_demand+df.E_hp+df.E_hpdhw+df.E_bu+df.E_budhw)*100\n",
    "df['CAPEX_PV']=df.apply(lambda x: get_capex_pv(x,fraction_PV),axis=1)\n",
    "df['CAPEX_hp']=df.apply(lambda x: get_capex_hp(x,project_life,fraction_hp,discount_rate,1.1),axis=1)\n",
    "df['CAPEX_batt']=df.apply(lambda x: get_capex_batt(x,project_life,fraction_batt,discount_rate,1.1),axis=1)\n",
    "df['CAPEX_tank']=df.apply(lambda x: get_capex_tank(x,project_life,fraction,discount_rate,1.1),axis=1)\n",
    "df['CAPEX_DHW']=df.apply(lambda x: get_capex_dhw(x,project_life,fraction,discount_rate,1.1),axis=1)\n",
    "df['CAPEX']=df.CAPEX_batt+df.CAPEX_DHW+df.CAPEX_tank+df.CAPEX_hp+df.CAPEX_PV"
   ]
  },
  {
   "cell_type": "code",
   "execution_count": 618,
   "metadata": {},
   "outputs": [],
   "source": [
    "df['LCOE']=df.apply(lambda x: get_lcoes(x,project_life,fraction,discount_rate,df_prices,True),axis=1)\n"
   ]
  },
  {
   "cell_type": "code",
   "execution_count": 619,
   "metadata": {},
   "outputs": [],
   "source": [
    "df.to_csv('df_hp_half.csv')"
   ]
  },
  {
   "cell_type": "code",
   "execution_count": 620,
   "metadata": {},
   "outputs": [],
   "source": [
    "discount_rate=0.04\n",
    "fraction=1\n",
    "fraction_PV=1\n",
    "fraction_hp=1\n",
    "fraction_batt=0.5"
   ]
  },
  {
   "cell_type": "code",
   "execution_count": 621,
   "metadata": {},
   "outputs": [],
   "source": [
    "df['SS']=(df.E_PV_load+df.E_PV_batt+df.E_PV_bu+df.E_PV_budhw+df.E_PV_hp+df.E_PV_hpdhw)/(df.E_demand+df.E_hp+df.E_hpdhw+df.E_bu+df.E_budhw)*100\n",
    "df['CAPEX_PV']=df.apply(lambda x: get_capex_pv(x,fraction_PV),axis=1)\n",
    "df['CAPEX_hp']=df.apply(lambda x: get_capex_hp(x,project_life,fraction_hp,discount_rate,1.1),axis=1)\n",
    "df['CAPEX_batt']=df.apply(lambda x: get_capex_batt(x,project_life,fraction_batt,discount_rate,1.1),axis=1)\n",
    "df['CAPEX_tank']=df.apply(lambda x: get_capex_tank(x,project_life,fraction,discount_rate,1.1),axis=1)\n",
    "df['CAPEX_DHW']=df.apply(lambda x: get_capex_dhw(x,project_life,fraction,discount_rate,1.1),axis=1)\n",
    "df['CAPEX']=df.CAPEX_batt+df.CAPEX_DHW+df.CAPEX_tank+df.CAPEX_hp+df.CAPEX_PV"
   ]
  },
  {
   "cell_type": "code",
   "execution_count": 622,
   "metadata": {},
   "outputs": [],
   "source": [
    "df['LCOE']=df.apply(lambda x: get_lcoes(x,project_life,fraction,discount_rate,df_prices,True),axis=1)\n"
   ]
  },
  {
   "cell_type": "code",
   "execution_count": 623,
   "metadata": {},
   "outputs": [],
   "source": [
    "df.to_csv('df_batt_half.csv')"
   ]
  },
  {
   "cell_type": "code",
   "execution_count": 426,
   "metadata": {},
   "outputs": [
    {
     "data": {
      "text/html": [
       "<div>\n",
       "<style scoped>\n",
       "    .dataframe tbody tr th:only-of-type {\n",
       "        vertical-align: middle;\n",
       "    }\n",
       "\n",
       "    .dataframe tbody tr th {\n",
       "        vertical-align: top;\n",
       "    }\n",
       "\n",
       "    .dataframe thead th {\n",
       "        text-align: right;\n",
       "    }\n",
       "</style>\n",
       "<table border=\"1\" class=\"dataframe\">\n",
       "  <thead>\n",
       "    <tr style=\"text-align: right;\">\n",
       "      <th></th>\n",
       "      <th>CAPEX_PV</th>\n",
       "      <th>CAPEX_hp</th>\n",
       "      <th>CAPEX_batt</th>\n",
       "      <th>CAPEX_tank</th>\n",
       "      <th>CAPEX_DHW</th>\n",
       "      <th>CAPEX</th>\n",
       "      <th>LCOE</th>\n",
       "    </tr>\n",
       "  </thead>\n",
       "  <tbody>\n",
       "    <tr>\n",
       "      <th>0</th>\n",
       "      <td>10363.2</td>\n",
       "      <td>41198.030769</td>\n",
       "      <td>0.000000</td>\n",
       "      <td>7168.457354</td>\n",
       "      <td>0</td>\n",
       "      <td>58729.688123</td>\n",
       "      <td>0.541841</td>\n",
       "    </tr>\n",
       "    <tr>\n",
       "      <th>1</th>\n",
       "      <td>10363.2</td>\n",
       "      <td>15449.261538</td>\n",
       "      <td>8649.632998</td>\n",
       "      <td>0.000000</td>\n",
       "      <td>0</td>\n",
       "      <td>34462.094537</td>\n",
       "      <td>0.572671</td>\n",
       "    </tr>\n",
       "    <tr>\n",
       "      <th>2</th>\n",
       "      <td>10363.2</td>\n",
       "      <td>15449.261538</td>\n",
       "      <td>8649.632998</td>\n",
       "      <td>0.000000</td>\n",
       "      <td>0</td>\n",
       "      <td>34462.094537</td>\n",
       "      <td>0.568302</td>\n",
       "    </tr>\n",
       "    <tr>\n",
       "      <th>3</th>\n",
       "      <td>10363.2</td>\n",
       "      <td>41198.030769</td>\n",
       "      <td>0.000000</td>\n",
       "      <td>7168.457354</td>\n",
       "      <td>0</td>\n",
       "      <td>58729.688123</td>\n",
       "      <td>0.559792</td>\n",
       "    </tr>\n",
       "  </tbody>\n",
       "</table>\n",
       "</div>"
      ],
      "text/plain": [
       "   CAPEX_PV      CAPEX_hp   CAPEX_batt   CAPEX_tank  CAPEX_DHW         CAPEX  \\\n",
       "0   10363.2  41198.030769     0.000000  7168.457354          0  58729.688123   \n",
       "1   10363.2  15449.261538  8649.632998     0.000000          0  34462.094537   \n",
       "2   10363.2  15449.261538  8649.632998     0.000000          0  34462.094537   \n",
       "3   10363.2  41198.030769     0.000000  7168.457354          0  58729.688123   \n",
       "\n",
       "       LCOE  \n",
       "0  0.541841  \n",
       "1  0.572671  \n",
       "2  0.568302  \n",
       "3  0.559792  "
      ]
     },
     "execution_count": 426,
     "metadata": {},
     "output_type": "execute_result"
    }
   ],
   "source": [
    "df.iloc[:4,-7:]"
   ]
  },
  {
   "cell_type": "code",
   "execution_count": null,
   "metadata": {},
   "outputs": [],
   "source": []
  },
  {
   "cell_type": "code",
   "execution_count": null,
   "metadata": {},
   "outputs": [],
   "source": []
  },
  {
   "cell_type": "code",
   "execution_count": null,
   "metadata": {},
   "outputs": [],
   "source": []
  },
  {
   "cell_type": "code",
   "execution_count": null,
   "metadata": {},
   "outputs": [],
   "source": []
  },
  {
   "cell_type": "code",
   "execution_count": null,
   "metadata": {},
   "outputs": [],
   "source": []
  },
  {
   "cell_type": "code",
   "execution_count": null,
   "metadata": {},
   "outputs": [],
   "source": []
  },
  {
   "cell_type": "code",
   "execution_count": null,
   "metadata": {},
   "outputs": [],
   "source": []
  },
  {
   "cell_type": "code",
   "execution_count": null,
   "metadata": {},
   "outputs": [],
   "source": []
  },
  {
   "cell_type": "markdown",
   "metadata": {},
   "source": [
    "#### df.to_csv('Output/with_indicators_'+str(fraction)+'_10k.csv')\n",
    "df[~df.hh.isin(list_exclure)].reset_index(drop=True).to_csv('R_plots_wilcox_paired.csv')"
   ]
  },
  {
   "cell_type": "code",
   "execution_count": null,
   "metadata": {},
   "outputs": [],
   "source": []
  },
  {
   "cell_type": "code",
   "execution_count": 275,
   "metadata": {},
   "outputs": [],
   "source": []
  },
  {
   "cell_type": "markdown",
   "metadata": {},
   "source": [
    "# -----------------------------------"
   ]
  },
  {
   "cell_type": "markdown",
   "metadata": {},
   "source": [
    "# Sensitivity analysis of CAPEX"
   ]
  },
  {
   "cell_type": "code",
   "execution_count": 289,
   "metadata": {},
   "outputs": [],
   "source": [
    "cols=['App_comb','conf','house_type','CAPEX']\n",
    "df_cap=df.loc[:,cols]"
   ]
  },
  {
   "cell_type": "code",
   "execution_count": 290,
   "metadata": {},
   "outputs": [],
   "source": [
    "df.groupby(['App_comb','conf','house_type'])['CAPEX','CAPEX_PV', 'CAPEX_hp', 'CAPEX_batt','CAPEX_tank',\n",
    "                   'CAPEX_DHW'].mean().reset_index().to_csv('CAPEX_sens.csv')"
   ]
  },
  {
   "cell_type": "code",
   "execution_count": 303,
   "metadata": {},
   "outputs": [
    {
     "data": {
      "text/html": [
       "<div>\n",
       "<style scoped>\n",
       "    .dataframe tbody tr th:only-of-type {\n",
       "        vertical-align: middle;\n",
       "    }\n",
       "\n",
       "    .dataframe tbody tr th {\n",
       "        vertical-align: top;\n",
       "    }\n",
       "\n",
       "    .dataframe thead th {\n",
       "        text-align: right;\n",
       "    }\n",
       "</style>\n",
       "<table border=\"1\" class=\"dataframe\">\n",
       "  <thead>\n",
       "    <tr style=\"text-align: right;\">\n",
       "      <th></th>\n",
       "      <th></th>\n",
       "      <th></th>\n",
       "      <th>CAPEX</th>\n",
       "      <th>CAPEX_PV</th>\n",
       "      <th>CAPEX_hp</th>\n",
       "      <th>CAPEX_batt</th>\n",
       "      <th>CAPEX_tank</th>\n",
       "      <th>CAPEX_DHW</th>\n",
       "    </tr>\n",
       "    <tr>\n",
       "      <th>App_comb</th>\n",
       "      <th>conf</th>\n",
       "      <th>house_type</th>\n",
       "      <th></th>\n",
       "      <th></th>\n",
       "      <th></th>\n",
       "      <th></th>\n",
       "      <th></th>\n",
       "      <th></th>\n",
       "    </tr>\n",
       "  </thead>\n",
       "  <tbody>\n",
       "    <tr>\n",
       "      <th rowspan=\"9\" valign=\"top\">3.0</th>\n",
       "      <th rowspan=\"3\" valign=\"top\">0.0</th>\n",
       "      <th>SFH100</th>\n",
       "      <td>51561.230769</td>\n",
       "      <td>10363.2</td>\n",
       "      <td>41198.030769</td>\n",
       "      <td>0.000000</td>\n",
       "      <td>0.000000</td>\n",
       "      <td>0</td>\n",
       "    </tr>\n",
       "    <tr>\n",
       "      <th>SFH15</th>\n",
       "      <td>20662.707692</td>\n",
       "      <td>10363.2</td>\n",
       "      <td>10299.507692</td>\n",
       "      <td>0.000000</td>\n",
       "      <td>0.000000</td>\n",
       "      <td>0</td>\n",
       "    </tr>\n",
       "    <tr>\n",
       "      <th>SFH45</th>\n",
       "      <td>25812.461538</td>\n",
       "      <td>10363.2</td>\n",
       "      <td>15449.261538</td>\n",
       "      <td>0.000000</td>\n",
       "      <td>0.000000</td>\n",
       "      <td>0</td>\n",
       "    </tr>\n",
       "    <tr>\n",
       "      <th rowspan=\"3\" valign=\"top\">2.0</th>\n",
       "      <th>SFH100</th>\n",
       "      <td>58729.688123</td>\n",
       "      <td>10363.2</td>\n",
       "      <td>41198.030769</td>\n",
       "      <td>0.000000</td>\n",
       "      <td>7168.457354</td>\n",
       "      <td>0</td>\n",
       "    </tr>\n",
       "    <tr>\n",
       "      <th>SFH15</th>\n",
       "      <td>20662.707692</td>\n",
       "      <td>10363.2</td>\n",
       "      <td>10299.507692</td>\n",
       "      <td>0.000000</td>\n",
       "      <td>0.000000</td>\n",
       "      <td>0</td>\n",
       "    </tr>\n",
       "    <tr>\n",
       "      <th>SFH45</th>\n",
       "      <td>25812.461538</td>\n",
       "      <td>10363.2</td>\n",
       "      <td>15449.261538</td>\n",
       "      <td>0.000000</td>\n",
       "      <td>0.000000</td>\n",
       "      <td>0</td>\n",
       "    </tr>\n",
       "    <tr>\n",
       "      <th rowspan=\"3\" valign=\"top\">4.0</th>\n",
       "      <th>SFH100</th>\n",
       "      <td>60272.981182</td>\n",
       "      <td>10363.2</td>\n",
       "      <td>41198.030769</td>\n",
       "      <td>8711.750413</td>\n",
       "      <td>0.000000</td>\n",
       "      <td>0</td>\n",
       "    </tr>\n",
       "    <tr>\n",
       "      <th>SFH15</th>\n",
       "      <td>28969.381099</td>\n",
       "      <td>10363.2</td>\n",
       "      <td>10299.507692</td>\n",
       "      <td>8306.673406</td>\n",
       "      <td>0.000000</td>\n",
       "      <td>0</td>\n",
       "    </tr>\n",
       "    <tr>\n",
       "      <th>SFH45</th>\n",
       "      <td>34267.400761</td>\n",
       "      <td>10363.2</td>\n",
       "      <td>15449.261538</td>\n",
       "      <td>8454.939223</td>\n",
       "      <td>0.000000</td>\n",
       "      <td>0</td>\n",
       "    </tr>\n",
       "  </tbody>\n",
       "</table>\n",
       "</div>"
      ],
      "text/plain": [
       "                                 CAPEX  CAPEX_PV      CAPEX_hp   CAPEX_batt  \\\n",
       "App_comb conf house_type                                                      \n",
       "3.0      0.0  SFH100      51561.230769   10363.2  41198.030769     0.000000   \n",
       "              SFH15       20662.707692   10363.2  10299.507692     0.000000   \n",
       "              SFH45       25812.461538   10363.2  15449.261538     0.000000   \n",
       "         2.0  SFH100      58729.688123   10363.2  41198.030769     0.000000   \n",
       "              SFH15       20662.707692   10363.2  10299.507692     0.000000   \n",
       "              SFH45       25812.461538   10363.2  15449.261538     0.000000   \n",
       "         4.0  SFH100      60272.981182   10363.2  41198.030769  8711.750413   \n",
       "              SFH15       28969.381099   10363.2  10299.507692  8306.673406   \n",
       "              SFH45       34267.400761   10363.2  15449.261538  8454.939223   \n",
       "\n",
       "                           CAPEX_tank  CAPEX_DHW  \n",
       "App_comb conf house_type                          \n",
       "3.0      0.0  SFH100         0.000000          0  \n",
       "              SFH15          0.000000          0  \n",
       "              SFH45          0.000000          0  \n",
       "         2.0  SFH100      7168.457354          0  \n",
       "              SFH15          0.000000          0  \n",
       "              SFH45          0.000000          0  \n",
       "         4.0  SFH100         0.000000          0  \n",
       "              SFH15          0.000000          0  \n",
       "              SFH45          0.000000          0  "
      ]
     },
     "execution_count": 303,
     "metadata": {},
     "output_type": "execute_result"
    }
   ],
   "source": [
    "df.groupby(['App_comb','conf','house_type'])['CAPEX','CAPEX_PV', 'CAPEX_hp', 'CAPEX_batt','CAPEX_tank',\n",
    "                   'CAPEX_DHW'].mean()"
   ]
  },
  {
   "cell_type": "code",
   "execution_count": 292,
   "metadata": {},
   "outputs": [
    {
     "data": {
      "text/plain": [
       "<matplotlib.axes._subplots.AxesSubplot at 0x7ff0af8bf780>"
      ]
     },
     "execution_count": 292,
     "metadata": {},
     "output_type": "execute_result"
    },
    {
     "data": {
      "image/png": "[encoded data removed]",
      "text/plain": [
       "<Figure size 432x288 with 1 Axes>"
      ]
     },
     "metadata": {
      "needs_background": "light"
     },
     "output_type": "display_data"
    }
   ],
   "source": [
    "df.groupby(['App_comb','conf','house_type'])['CAPEX_PV', 'CAPEX_hp', 'CAPEX_batt','CAPEX_tank',\n",
    "                   'CAPEX_DHW'].mean().plot(kind='bar', stacked=True)"
   ]
  },
  {
   "cell_type": "code",
   "execution_count": 293,
   "metadata": {},
   "outputs": [
    {
     "data": {
      "text/plain": [
       "nan"
      ]
     },
     "execution_count": 293,
     "metadata": {},
     "output_type": "execute_result"
    }
   ],
   "source": [
    "df.loc[(df.CAPEX_DHW!=0)&(df.house_type=='SFH15'),'CAPEX_DHW'].mean()"
   ]
  },
  {
   "cell_type": "markdown",
   "metadata": {},
   "source": [
    "First, the inclusion of DHW leads to significantly lower LCOE values ($p-values \\le  0.05$) when compared with the same configuration without DHW provision. These differences are higher when the household energetic quality is higher. In average the LCOE reduction is of 0.183, 0.103 and 0.055 USD/kWh for SFH15, SFH45 and SFH100, respectively."
   ]
  },
  {
   "cell_type": "code",
   "execution_count": 294,
   "metadata": {},
   "outputs": [],
   "source": [
    "a=df.groupby(['house_type','conf'])['LCOE'].mean().unstack().round(2).diff(axis=1)"
   ]
  },
  {
   "cell_type": "code",
   "execution_count": 295,
   "metadata": {},
   "outputs": [
    {
     "data": {
      "text/html": [
       "<div>\n",
       "<style scoped>\n",
       "    .dataframe tbody tr th:only-of-type {\n",
       "        vertical-align: middle;\n",
       "    }\n",
       "\n",
       "    .dataframe tbody tr th {\n",
       "        vertical-align: top;\n",
       "    }\n",
       "\n",
       "    .dataframe thead th {\n",
       "        text-align: right;\n",
       "    }\n",
       "</style>\n",
       "<table border=\"1\" class=\"dataframe\">\n",
       "  <thead>\n",
       "    <tr style=\"text-align: right;\">\n",
       "      <th>conf</th>\n",
       "      <th>0.0</th>\n",
       "      <th>2.0</th>\n",
       "      <th>4.0</th>\n",
       "    </tr>\n",
       "    <tr>\n",
       "      <th>house_type</th>\n",
       "      <th></th>\n",
       "      <th></th>\n",
       "      <th></th>\n",
       "    </tr>\n",
       "  </thead>\n",
       "  <tbody>\n",
       "    <tr>\n",
       "      <th>SFH100</th>\n",
       "      <td>NaN</td>\n",
       "      <td>0.00</td>\n",
       "      <td>0.01</td>\n",
       "    </tr>\n",
       "    <tr>\n",
       "      <th>SFH15</th>\n",
       "      <td>NaN</td>\n",
       "      <td>-0.04</td>\n",
       "      <td>0.07</td>\n",
       "    </tr>\n",
       "    <tr>\n",
       "      <th>SFH45</th>\n",
       "      <td>NaN</td>\n",
       "      <td>-0.04</td>\n",
       "      <td>0.06</td>\n",
       "    </tr>\n",
       "  </tbody>\n",
       "</table>\n",
       "</div>"
      ],
      "text/plain": [
       "conf        0.0   2.0   4.0\n",
       "house_type                 \n",
       "SFH100      NaN  0.00  0.01\n",
       "SFH15       NaN -0.04  0.07\n",
       "SFH45       NaN -0.04  0.06"
      ]
     },
     "execution_count": 295,
     "metadata": {},
     "output_type": "execute_result"
    }
   ],
   "source": [
    "a"
   ]
  },
  {
   "cell_type": "code",
   "execution_count": 296,
   "metadata": {},
   "outputs": [
    {
     "data": {
      "text/html": [
       "<style  type=\"text/css\" >\n",
       "    #T_6344d5de_f0db_11e9_a812_18602491b52brow0_col1 {\n",
       "            background-color:  yellow;\n",
       "        }    #T_6344d5de_f0db_11e9_a812_18602491b52brow1_col1 {\n",
       "            background-color:  yellow;\n",
       "        }    #T_6344d5de_f0db_11e9_a812_18602491b52brow2_col1 {\n",
       "            background-color:  yellow;\n",
       "        }</style><table id=\"T_6344d5de_f0db_11e9_a812_18602491b52b\" ><thead>    <tr>        <th class=\"index_name level0\" >conf</th>        <th class=\"col_heading level0 col0\" >0.0</th>        <th class=\"col_heading level0 col1\" >2.0</th>        <th class=\"col_heading level0 col2\" >4.0</th>    </tr>    <tr>        <th class=\"index_name level0\" >house_type</th>        <th class=\"blank\" ></th>        <th class=\"blank\" ></th>        <th class=\"blank\" ></th>    </tr></thead><tbody>\n",
       "                <tr>\n",
       "                        <th id=\"T_6344d5de_f0db_11e9_a812_18602491b52blevel0_row0\" class=\"row_heading level0 row0\" >SFH100</th>\n",
       "                        <td id=\"T_6344d5de_f0db_11e9_a812_18602491b52brow0_col0\" class=\"data row0 col0\" >nan</td>\n",
       "                        <td id=\"T_6344d5de_f0db_11e9_a812_18602491b52brow0_col1\" class=\"data row0 col1\" >0</td>\n",
       "                        <td id=\"T_6344d5de_f0db_11e9_a812_18602491b52brow0_col2\" class=\"data row0 col2\" >0.01</td>\n",
       "            </tr>\n",
       "            <tr>\n",
       "                        <th id=\"T_6344d5de_f0db_11e9_a812_18602491b52blevel0_row1\" class=\"row_heading level0 row1\" >SFH15</th>\n",
       "                        <td id=\"T_6344d5de_f0db_11e9_a812_18602491b52brow1_col0\" class=\"data row1 col0\" >nan</td>\n",
       "                        <td id=\"T_6344d5de_f0db_11e9_a812_18602491b52brow1_col1\" class=\"data row1 col1\" >-0.04</td>\n",
       "                        <td id=\"T_6344d5de_f0db_11e9_a812_18602491b52brow1_col2\" class=\"data row1 col2\" >0.07</td>\n",
       "            </tr>\n",
       "            <tr>\n",
       "                        <th id=\"T_6344d5de_f0db_11e9_a812_18602491b52blevel0_row2\" class=\"row_heading level0 row2\" >SFH45</th>\n",
       "                        <td id=\"T_6344d5de_f0db_11e9_a812_18602491b52brow2_col0\" class=\"data row2 col0\" >nan</td>\n",
       "                        <td id=\"T_6344d5de_f0db_11e9_a812_18602491b52brow2_col1\" class=\"data row2 col1\" >-0.04</td>\n",
       "                        <td id=\"T_6344d5de_f0db_11e9_a812_18602491b52brow2_col2\" class=\"data row2 col2\" >0.06</td>\n",
       "            </tr>\n",
       "    </tbody></table>"
      ],
      "text/plain": [
       "<pandas.io.formats.style.Styler at 0x7ff062107828>"
      ]
     },
     "execution_count": 296,
     "metadata": {},
     "output_type": "execute_result"
    }
   ],
   "source": [
    "a.style.highlight_min(axis=1)"
   ]
  },
  {
   "cell_type": "code",
   "execution_count": 297,
   "metadata": {},
   "outputs": [
    {
     "data": {
      "text/plain": [
       "house_type\n",
       "SFH100     NaN\n",
       "SFH15    -0.04\n",
       "SFH45    -0.04\n",
       "dtype: float64"
      ]
     },
     "execution_count": 297,
     "metadata": {},
     "output_type": "execute_result"
    }
   ],
   "source": [
    "a[a<0].mean(axis=1)"
   ]
  },
  {
   "cell_type": "markdown",
   "metadata": {},
   "source": [
    "Second, the LCOE is significantly higher ($p-values \\le  0.05$) in households with very high energetic quality (SFH15), such as Swiss Minergie-P or German Passivhaus, than in renovated (SFH45) or non-renovated buildings (SFH100), in particular, when DHW provision is not considered LCOE differences between SFH15 and SFH100 may reach 0.22 USD/kWh (configuration with PV, heat pump and battery)."
   ]
  },
  {
   "cell_type": "code",
   "execution_count": 298,
   "metadata": {},
   "outputs": [],
   "source": [
    "a=df.groupby(['conf','App_comb','house_type'])['LCOE'].median().unstack().unstack().round(2)"
   ]
  },
  {
   "cell_type": "code",
   "execution_count": 299,
   "metadata": {},
   "outputs": [
    {
     "data": {
      "text/html": [
       "<div>\n",
       "<style scoped>\n",
       "    .dataframe tbody tr th:only-of-type {\n",
       "        vertical-align: middle;\n",
       "    }\n",
       "\n",
       "    .dataframe tbody tr th {\n",
       "        vertical-align: top;\n",
       "    }\n",
       "\n",
       "    .dataframe thead tr th {\n",
       "        text-align: left;\n",
       "    }\n",
       "\n",
       "    .dataframe thead tr:last-of-type th {\n",
       "        text-align: right;\n",
       "    }\n",
       "</style>\n",
       "<table border=\"1\" class=\"dataframe\">\n",
       "  <thead>\n",
       "    <tr>\n",
       "      <th>house_type</th>\n",
       "      <th>SFH100</th>\n",
       "      <th>SFH15</th>\n",
       "      <th>SFH45</th>\n",
       "    </tr>\n",
       "    <tr>\n",
       "      <th>App_comb</th>\n",
       "      <th>3.0</th>\n",
       "      <th>3.0</th>\n",
       "      <th>3.0</th>\n",
       "    </tr>\n",
       "    <tr>\n",
       "      <th>conf</th>\n",
       "      <th></th>\n",
       "      <th></th>\n",
       "      <th></th>\n",
       "    </tr>\n",
       "  </thead>\n",
       "  <tbody>\n",
       "    <tr>\n",
       "      <th>0.0</th>\n",
       "      <td>0.56</td>\n",
       "      <td>0.71</td>\n",
       "      <td>0.61</td>\n",
       "    </tr>\n",
       "    <tr>\n",
       "      <th>2.0</th>\n",
       "      <td>0.56</td>\n",
       "      <td>0.68</td>\n",
       "      <td>0.58</td>\n",
       "    </tr>\n",
       "    <tr>\n",
       "      <th>4.0</th>\n",
       "      <td>0.57</td>\n",
       "      <td>0.73</td>\n",
       "      <td>0.63</td>\n",
       "    </tr>\n",
       "  </tbody>\n",
       "</table>\n",
       "</div>"
      ],
      "text/plain": [
       "house_type SFH100 SFH15 SFH45\n",
       "App_comb      3.0   3.0   3.0\n",
       "conf                         \n",
       "0.0          0.56  0.71  0.61\n",
       "2.0          0.56  0.68  0.58\n",
       "4.0          0.57  0.73  0.63"
      ]
     },
     "execution_count": 299,
     "metadata": {},
     "output_type": "execute_result"
    }
   ],
   "source": [
    "a"
   ]
  },
  {
   "cell_type": "code",
   "execution_count": 300,
   "metadata": {},
   "outputs": [
    {
     "data": {
      "text/html": [
       "<style  type=\"text/css\" >\n",
       "    #T_670fddb2_f0db_11e9_a812_18602491b52brow2_col2 {\n",
       "            background-color:  yellow;\n",
       "        }</style><table id=\"T_670fddb2_f0db_11e9_a812_18602491b52b\" ><thead>    <tr>        <th class=\"index_name level0\" >house_type</th>        <th class=\"col_heading level0 col0\" >SFH100</th>        <th class=\"col_heading level0 col1\" >SFH15</th>        <th class=\"col_heading level0 col2\" >SFH45</th>    </tr>    <tr>        <th class=\"index_name level1\" >App_comb</th>        <th class=\"col_heading level1 col0\" >3.0</th>        <th class=\"col_heading level1 col1\" >3.0</th>        <th class=\"col_heading level1 col2\" >3.0</th>    </tr>    <tr>        <th class=\"index_name level0\" >conf</th>        <th class=\"blank\" ></th>        <th class=\"blank\" ></th>        <th class=\"blank\" ></th>    </tr></thead><tbody>\n",
       "                <tr>\n",
       "                        <th id=\"T_670fddb2_f0db_11e9_a812_18602491b52blevel0_row0\" class=\"row_heading level0 row0\" >0.0</th>\n",
       "                        <td id=\"T_670fddb2_f0db_11e9_a812_18602491b52brow0_col0\" class=\"data row0 col0\" >nan</td>\n",
       "                        <td id=\"T_670fddb2_f0db_11e9_a812_18602491b52brow0_col1\" class=\"data row0 col1\" >nan</td>\n",
       "                        <td id=\"T_670fddb2_f0db_11e9_a812_18602491b52brow0_col2\" class=\"data row0 col2\" >0.05</td>\n",
       "            </tr>\n",
       "            <tr>\n",
       "                        <th id=\"T_670fddb2_f0db_11e9_a812_18602491b52blevel0_row1\" class=\"row_heading level0 row1\" >2.0</th>\n",
       "                        <td id=\"T_670fddb2_f0db_11e9_a812_18602491b52brow1_col0\" class=\"data row1 col0\" >nan</td>\n",
       "                        <td id=\"T_670fddb2_f0db_11e9_a812_18602491b52brow1_col1\" class=\"data row1 col1\" >nan</td>\n",
       "                        <td id=\"T_670fddb2_f0db_11e9_a812_18602491b52brow1_col2\" class=\"data row1 col2\" >0.02</td>\n",
       "            </tr>\n",
       "            <tr>\n",
       "                        <th id=\"T_670fddb2_f0db_11e9_a812_18602491b52blevel0_row2\" class=\"row_heading level0 row2\" >4.0</th>\n",
       "                        <td id=\"T_670fddb2_f0db_11e9_a812_18602491b52brow2_col0\" class=\"data row2 col0\" >nan</td>\n",
       "                        <td id=\"T_670fddb2_f0db_11e9_a812_18602491b52brow2_col1\" class=\"data row2 col1\" >nan</td>\n",
       "                        <td id=\"T_670fddb2_f0db_11e9_a812_18602491b52brow2_col2\" class=\"data row2 col2\" >0.06</td>\n",
       "            </tr>\n",
       "    </tbody></table>"
      ],
      "text/plain": [
       "<pandas.io.formats.style.Styler at 0x7ff0623e0860>"
      ]
     },
     "execution_count": 300,
     "metadata": {},
     "output_type": "execute_result"
    }
   ],
   "source": [
    "a.diff(axis=1,periods=2).style.highlight_max()"
   ]
  },
  {
   "cell_type": "code",
   "execution_count": 301,
   "metadata": {},
   "outputs": [
    {
     "data": {
      "text/html": [
       "<style  type=\"text/css\" >\n",
       "    #T_68682098_f0db_11e9_a812_18602491b52brow2_col2 {\n",
       "            background-color:  yellow;\n",
       "        }</style><table id=\"T_68682098_f0db_11e9_a812_18602491b52b\" ><thead>    <tr>        <th class=\"index_name level0\" >house_type</th>        <th class=\"col_heading level0 col0\" >SFH100</th>        <th class=\"col_heading level0 col1\" >SFH15</th>        <th class=\"col_heading level0 col2\" >SFH45</th>    </tr>    <tr>        <th class=\"index_name level1\" >App_comb</th>        <th class=\"col_heading level1 col0\" >3.0</th>        <th class=\"col_heading level1 col1\" >3.0</th>        <th class=\"col_heading level1 col2\" >3.0</th>    </tr>    <tr>        <th class=\"index_name level0\" >conf</th>        <th class=\"blank\" ></th>        <th class=\"blank\" ></th>        <th class=\"blank\" ></th>    </tr></thead><tbody>\n",
       "                <tr>\n",
       "                        <th id=\"T_68682098_f0db_11e9_a812_18602491b52blevel0_row0\" class=\"row_heading level0 row0\" >0.0</th>\n",
       "                        <td id=\"T_68682098_f0db_11e9_a812_18602491b52brow0_col0\" class=\"data row0 col0\" >nan</td>\n",
       "                        <td id=\"T_68682098_f0db_11e9_a812_18602491b52brow0_col1\" class=\"data row0 col1\" >nan</td>\n",
       "                        <td id=\"T_68682098_f0db_11e9_a812_18602491b52brow0_col2\" class=\"data row0 col2\" >0.05</td>\n",
       "            </tr>\n",
       "            <tr>\n",
       "                        <th id=\"T_68682098_f0db_11e9_a812_18602491b52blevel0_row1\" class=\"row_heading level0 row1\" >2.0</th>\n",
       "                        <td id=\"T_68682098_f0db_11e9_a812_18602491b52brow1_col0\" class=\"data row1 col0\" >nan</td>\n",
       "                        <td id=\"T_68682098_f0db_11e9_a812_18602491b52brow1_col1\" class=\"data row1 col1\" >nan</td>\n",
       "                        <td id=\"T_68682098_f0db_11e9_a812_18602491b52brow1_col2\" class=\"data row1 col2\" >0.02</td>\n",
       "            </tr>\n",
       "            <tr>\n",
       "                        <th id=\"T_68682098_f0db_11e9_a812_18602491b52blevel0_row2\" class=\"row_heading level0 row2\" >4.0</th>\n",
       "                        <td id=\"T_68682098_f0db_11e9_a812_18602491b52brow2_col0\" class=\"data row2 col0\" >nan</td>\n",
       "                        <td id=\"T_68682098_f0db_11e9_a812_18602491b52brow2_col1\" class=\"data row2 col1\" >nan</td>\n",
       "                        <td id=\"T_68682098_f0db_11e9_a812_18602491b52brow2_col2\" class=\"data row2 col2\" >0.06</td>\n",
       "            </tr>\n",
       "    </tbody></table>"
      ],
      "text/plain": [
       "<pandas.io.formats.style.Styler at 0x7ff0625cd898>"
      ]
     },
     "execution_count": 301,
     "metadata": {},
     "output_type": "execute_result"
    }
   ],
   "source": [
    "a[a.index%2!=1].diff(axis=1,periods=2).style.highlight_max()"
   ]
  },
  {
   "cell_type": "code",
   "execution_count": 302,
   "metadata": {},
   "outputs": [
    {
     "data": {
      "text/html": [
       "<style  type=\"text/css\" >\n",
       "    #T_68682099_f0db_11e9_a812_18602491b52brow1_col0 {\n",
       "            background-color:  yellow;\n",
       "        }</style><table id=\"T_68682099_f0db_11e9_a812_18602491b52b\" ><thead>    <tr>        <th class=\"index_name level0\" >house_type</th>        <th class=\"col_heading level0 col0\" >SFH100</th>        <th class=\"col_heading level0 col1\" >SFH15</th>        <th class=\"col_heading level0 col2\" >SFH45</th>    </tr>    <tr>        <th class=\"index_name level1\" >App_comb</th>        <th class=\"col_heading level1 col0\" >3.0</th>        <th class=\"col_heading level1 col1\" >3.0</th>        <th class=\"col_heading level1 col2\" >3.0</th>    </tr>    <tr>        <th class=\"index_name level0\" >conf</th>        <th class=\"blank\" ></th>        <th class=\"blank\" ></th>        <th class=\"blank\" ></th>    </tr></thead><tbody>\n",
       "                <tr>\n",
       "                        <th id=\"T_68682099_f0db_11e9_a812_18602491b52blevel0_row0\" class=\"row_heading level0 row0\" >0.0</th>\n",
       "                        <td id=\"T_68682099_f0db_11e9_a812_18602491b52brow0_col0\" class=\"data row0 col0\" >-0.05</td>\n",
       "                        <td id=\"T_68682099_f0db_11e9_a812_18602491b52brow0_col1\" class=\"data row0 col1\" >nan</td>\n",
       "                        <td id=\"T_68682099_f0db_11e9_a812_18602491b52brow0_col2\" class=\"data row0 col2\" >nan</td>\n",
       "            </tr>\n",
       "            <tr>\n",
       "                        <th id=\"T_68682099_f0db_11e9_a812_18602491b52blevel0_row1\" class=\"row_heading level0 row1\" >2.0</th>\n",
       "                        <td id=\"T_68682099_f0db_11e9_a812_18602491b52brow1_col0\" class=\"data row1 col0\" >-0.02</td>\n",
       "                        <td id=\"T_68682099_f0db_11e9_a812_18602491b52brow1_col1\" class=\"data row1 col1\" >nan</td>\n",
       "                        <td id=\"T_68682099_f0db_11e9_a812_18602491b52brow1_col2\" class=\"data row1 col2\" >nan</td>\n",
       "            </tr>\n",
       "            <tr>\n",
       "                        <th id=\"T_68682099_f0db_11e9_a812_18602491b52blevel0_row2\" class=\"row_heading level0 row2\" >4.0</th>\n",
       "                        <td id=\"T_68682099_f0db_11e9_a812_18602491b52brow2_col0\" class=\"data row2 col0\" >-0.06</td>\n",
       "                        <td id=\"T_68682099_f0db_11e9_a812_18602491b52brow2_col1\" class=\"data row2 col1\" >nan</td>\n",
       "                        <td id=\"T_68682099_f0db_11e9_a812_18602491b52brow2_col2\" class=\"data row2 col2\" >nan</td>\n",
       "            </tr>\n",
       "    </tbody></table>"
      ],
      "text/plain": [
       "<pandas.io.formats.style.Styler at 0x7ff0623e0550>"
      ]
     },
     "execution_count": 302,
     "metadata": {},
     "output_type": "execute_result"
    }
   ],
   "source": [
    "a[a.index%2!=1].diff(axis=1,periods=-2).style.highlight_max()"
   ]
  },
  {
   "cell_type": "markdown",
   "metadata": {},
   "source": [
    "# -----------------------------------------------------------------------------------------"
   ]
  },
  {
   "cell_type": "markdown",
   "metadata": {},
   "source": [
    "Finally, the inclusion of the capacity tariff (and consequently of demand peak shaving) entails a significant increase of the LCOE ($p-values \\le  0.05$). The differences are higher as the energetic quality of the building is improved."
   ]
  },
  {
   "cell_type": "code",
   "execution_count": 238,
   "metadata": {},
   "outputs": [],
   "source": [
    "a=df.groupby(['conf','App_comb','house_type'])['LCOE'].median().unstack().unstack().round(2).diff(axis=1)"
   ]
  },
  {
   "cell_type": "code",
   "execution_count": 239,
   "metadata": {},
   "outputs": [
    {
     "data": {
      "text/plain": [
       "house_type  App_comb\n",
       "SFH100      2.0              NaN\n",
       "            3.0         0.020000\n",
       "SFH15       2.0         0.072500\n",
       "            3.0         0.058571\n",
       "SFH45       2.0        -0.112857\n",
       "            3.0         0.045000\n",
       "dtype: float64"
      ]
     },
     "execution_count": 239,
     "metadata": {},
     "output_type": "execute_result"
    }
   ],
   "source": [
    "a.mean()"
   ]
  },
  {
   "cell_type": "code",
   "execution_count": 240,
   "metadata": {},
   "outputs": [
    {
     "data": {
      "text/plain": [
       "MultiIndex(levels=[['SFH100', 'SFH15', 'SFH45'], [2.0, 3.0]],\n",
       "           codes=[[0, 0, 1, 1, 2, 2], [0, 1, 0, 1, 0, 1]],\n",
       "           names=['house_type', 'App_comb'])"
      ]
     },
     "execution_count": 240,
     "metadata": {},
     "output_type": "execute_result"
    }
   ],
   "source": [
    "a.columns"
   ]
  },
  {
   "cell_type": "code",
   "execution_count": 241,
   "metadata": {},
   "outputs": [
    {
     "data": {
      "text/plain": [
       "house_type  App_comb\n",
       "SFH100      2.0            NaN\n",
       "            3.0            NaN\n",
       "SFH15       2.0         0.0525\n",
       "            3.0        -0.0050\n",
       "SFH45       2.0        -0.2150\n",
       "            3.0         0.1900\n",
       "dtype: float64"
      ]
     },
     "execution_count": 241,
     "metadata": {},
     "output_type": "execute_result"
    }
   ],
   "source": [
    "a[a.index%2==0].diff(axis=1).mean()"
   ]
  },
  {
   "cell_type": "code",
   "execution_count": 242,
   "metadata": {},
   "outputs": [
    {
     "data": {
      "text/plain": [
       "house_type  App_comb\n",
       "SFH100      2.0            NaN\n",
       "            3.0            NaN\n",
       "SFH15       2.0            NaN\n",
       "            3.0         0.0475\n",
       "SFH45       2.0        -0.2200\n",
       "            3.0        -0.0250\n",
       "dtype: float64"
      ]
     },
     "execution_count": 242,
     "metadata": {},
     "output_type": "execute_result"
    }
   ],
   "source": [
    "a[a.index%2==0].diff(axis=1,periods=2).mean()"
   ]
  },
  {
   "cell_type": "code",
   "execution_count": null,
   "metadata": {},
   "outputs": [],
   "source": []
  }
 ],
 "metadata": {
  "kernelspec": {
   "display_name": "alenv",
   "language": "python",
   "name": "alenv"
  },
  "language_info": {
   "codemirror_mode": {
    "name": "ipython",
    "version": 3
   },
   "file_extension": ".py",
   "mimetype": "text/x-python",
   "name": "python",
   "nbconvert_exporter": "python",
   "pygments_lexer": "ipython3",
   "version": "3.7.2"
  }
 },
 "nbformat": 4,
 "nbformat_minor": 4
}
