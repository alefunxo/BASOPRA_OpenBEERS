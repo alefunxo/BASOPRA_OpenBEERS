{
 "cells": [
  {
   "cell_type": "code",
   "execution_count": 1,
   "metadata": {},
   "outputs": [
    {
     "data": {
      "text/plain": [
       "'/data/home/alejandropena/Project1/Paper1_last'"
      ]
     },
     "execution_count": 1,
     "metadata": {},
     "output_type": "execute_result"
    }
   ],
   "source": [
    "import pandas as pd\n",
    "import numpy as np\n",
    "from datetime import timedelta\n",
    "import os\n",
    "os.getcwd()"
   ]
  },
  {
   "cell_type": "code",
   "execution_count": 2,
   "metadata": {},
   "outputs": [],
   "source": [
    "df2=pd.read_csv('../../BASOPRA_IRES/Input/df_CH_Marzia3.csv',engine='python',sep=';|,',index_col=[0],\n",
    "                    parse_dates=[0],infer_datetime_format=True )"
   ]
  },
  {
   "cell_type": "code",
   "execution_count": 3,
   "metadata": {},
   "outputs": [
    {
     "data": {
      "text/html": [
       "<div>\n",
       "<style scoped>\n",
       "    .dataframe tbody tr th:only-of-type {\n",
       "        vertical-align: middle;\n",
       "    }\n",
       "\n",
       "    .dataframe tbody tr th {\n",
       "        vertical-align: top;\n",
       "    }\n",
       "\n",
       "    .dataframe thead th {\n",
       "        text-align: right;\n",
       "    }\n",
       "</style>\n",
       "<table border=\"1\" class=\"dataframe\">\n",
       "  <thead>\n",
       "    <tr style=\"text-align: right;\">\n",
       "      <th></th>\n",
       "      <th>110141755827</th>\n",
       "      <th>110141755828</th>\n",
       "      <th>110141755829</th>\n",
       "      <th>110141755830</th>\n",
       "      <th>110141755831</th>\n",
       "      <th>110141755832</th>\n",
       "      <th>110141755833</th>\n",
       "      <th>110141755834</th>\n",
       "      <th>110141755835</th>\n",
       "      <th>110141755836</th>\n",
       "      <th>...</th>\n",
       "      <th>Price_DT</th>\n",
       "      <th>Export_price</th>\n",
       "      <th>Hour</th>\n",
       "      <th>Set_T</th>\n",
       "      <th>Req_kWh</th>\n",
       "      <th>Req_kWh_no_Solar</th>\n",
       "      <th>Temp</th>\n",
       "      <th>DHW_kWh</th>\n",
       "      <th>Price_flat_mod</th>\n",
       "      <th>Price_DT_mod</th>\n",
       "    </tr>\n",
       "  </thead>\n",
       "  <tbody>\n",
       "    <tr>\n",
       "      <th>2017-01-01 00:00:00+01:00</th>\n",
       "      <td>0.18</td>\n",
       "      <td>0.05</td>\n",
       "      <td>0.04</td>\n",
       "      <td>0.19</td>\n",
       "      <td>0.02</td>\n",
       "      <td>0.02</td>\n",
       "      <td>0.05</td>\n",
       "      <td>0.03</td>\n",
       "      <td>0.13</td>\n",
       "      <td>0.04</td>\n",
       "      <td>...</td>\n",
       "      <td>0.1646</td>\n",
       "      <td>0.05704</td>\n",
       "      <td>0.0</td>\n",
       "      <td>16.0</td>\n",
       "      <td>2.34622</td>\n",
       "      <td>2.34622</td>\n",
       "      <td>-2.4</td>\n",
       "      <td>0.028764</td>\n",
       "      <td>0.1716</td>\n",
       "      <td>0.130034</td>\n",
       "    </tr>\n",
       "    <tr>\n",
       "      <th>2017-01-01 00:15:00+01:00</th>\n",
       "      <td>0.17</td>\n",
       "      <td>0.06</td>\n",
       "      <td>0.02</td>\n",
       "      <td>0.03</td>\n",
       "      <td>0.04</td>\n",
       "      <td>0.00</td>\n",
       "      <td>0.04</td>\n",
       "      <td>0.00</td>\n",
       "      <td>0.10</td>\n",
       "      <td>0.04</td>\n",
       "      <td>...</td>\n",
       "      <td>0.1646</td>\n",
       "      <td>0.05704</td>\n",
       "      <td>0.0</td>\n",
       "      <td>16.0</td>\n",
       "      <td>2.34622</td>\n",
       "      <td>2.34622</td>\n",
       "      <td>-2.4</td>\n",
       "      <td>0.021012</td>\n",
       "      <td>0.1716</td>\n",
       "      <td>0.130034</td>\n",
       "    </tr>\n",
       "    <tr>\n",
       "      <th>2017-01-01 00:30:00+01:00</th>\n",
       "      <td>0.16</td>\n",
       "      <td>0.07</td>\n",
       "      <td>0.04</td>\n",
       "      <td>0.12</td>\n",
       "      <td>0.03</td>\n",
       "      <td>0.01</td>\n",
       "      <td>0.04</td>\n",
       "      <td>0.01</td>\n",
       "      <td>0.09</td>\n",
       "      <td>0.04</td>\n",
       "      <td>...</td>\n",
       "      <td>0.1646</td>\n",
       "      <td>0.05704</td>\n",
       "      <td>0.0</td>\n",
       "      <td>16.0</td>\n",
       "      <td>2.34622</td>\n",
       "      <td>2.34622</td>\n",
       "      <td>-2.4</td>\n",
       "      <td>0.049076</td>\n",
       "      <td>0.1716</td>\n",
       "      <td>0.130034</td>\n",
       "    </tr>\n",
       "    <tr>\n",
       "      <th>2017-01-01 00:45:00+01:00</th>\n",
       "      <td>0.19</td>\n",
       "      <td>0.05</td>\n",
       "      <td>0.03</td>\n",
       "      <td>0.03</td>\n",
       "      <td>0.02</td>\n",
       "      <td>0.02</td>\n",
       "      <td>0.05</td>\n",
       "      <td>0.02</td>\n",
       "      <td>0.14</td>\n",
       "      <td>0.04</td>\n",
       "      <td>...</td>\n",
       "      <td>0.1646</td>\n",
       "      <td>0.05704</td>\n",
       "      <td>0.0</td>\n",
       "      <td>16.0</td>\n",
       "      <td>2.34622</td>\n",
       "      <td>2.34622</td>\n",
       "      <td>-2.4</td>\n",
       "      <td>0.023250</td>\n",
       "      <td>0.1716</td>\n",
       "      <td>0.130034</td>\n",
       "    </tr>\n",
       "    <tr>\n",
       "      <th>2017-01-01 01:00:00+01:00</th>\n",
       "      <td>0.17</td>\n",
       "      <td>0.14</td>\n",
       "      <td>0.03</td>\n",
       "      <td>0.03</td>\n",
       "      <td>0.02</td>\n",
       "      <td>0.01</td>\n",
       "      <td>0.07</td>\n",
       "      <td>0.01</td>\n",
       "      <td>0.12</td>\n",
       "      <td>0.04</td>\n",
       "      <td>...</td>\n",
       "      <td>0.1646</td>\n",
       "      <td>0.05194</td>\n",
       "      <td>1.0</td>\n",
       "      <td>16.0</td>\n",
       "      <td>2.27940</td>\n",
       "      <td>2.27940</td>\n",
       "      <td>-1.8</td>\n",
       "      <td>0.066338</td>\n",
       "      <td>0.1716</td>\n",
       "      <td>0.130034</td>\n",
       "    </tr>\n",
       "  </tbody>\n",
       "</table>\n",
       "<p>5 rows × 679 columns</p>\n",
       "</div>"
      ],
      "text/plain": [
       "                           110141755827  110141755828  110141755829  \\\n",
       "2017-01-01 00:00:00+01:00          0.18          0.05          0.04   \n",
       "2017-01-01 00:15:00+01:00          0.17          0.06          0.02   \n",
       "2017-01-01 00:30:00+01:00          0.16          0.07          0.04   \n",
       "2017-01-01 00:45:00+01:00          0.19          0.05          0.03   \n",
       "2017-01-01 01:00:00+01:00          0.17          0.14          0.03   \n",
       "\n",
       "                           110141755830  110141755831  110141755832  \\\n",
       "2017-01-01 00:00:00+01:00          0.19          0.02          0.02   \n",
       "2017-01-01 00:15:00+01:00          0.03          0.04          0.00   \n",
       "2017-01-01 00:30:00+01:00          0.12          0.03          0.01   \n",
       "2017-01-01 00:45:00+01:00          0.03          0.02          0.02   \n",
       "2017-01-01 01:00:00+01:00          0.03          0.02          0.01   \n",
       "\n",
       "                           110141755833  110141755834  110141755835  \\\n",
       "2017-01-01 00:00:00+01:00          0.05          0.03          0.13   \n",
       "2017-01-01 00:15:00+01:00          0.04          0.00          0.10   \n",
       "2017-01-01 00:30:00+01:00          0.04          0.01          0.09   \n",
       "2017-01-01 00:45:00+01:00          0.05          0.02          0.14   \n",
       "2017-01-01 01:00:00+01:00          0.07          0.01          0.12   \n",
       "\n",
       "                           110141755836  ...  Price_DT  Export_price  Hour  \\\n",
       "2017-01-01 00:00:00+01:00          0.04  ...    0.1646       0.05704   0.0   \n",
       "2017-01-01 00:15:00+01:00          0.04  ...    0.1646       0.05704   0.0   \n",
       "2017-01-01 00:30:00+01:00          0.04  ...    0.1646       0.05704   0.0   \n",
       "2017-01-01 00:45:00+01:00          0.04  ...    0.1646       0.05704   0.0   \n",
       "2017-01-01 01:00:00+01:00          0.04  ...    0.1646       0.05194   1.0   \n",
       "\n",
       "                           Set_T  Req_kWh  Req_kWh_no_Solar  Temp   DHW_kWh  \\\n",
       "2017-01-01 00:00:00+01:00   16.0  2.34622           2.34622  -2.4  0.028764   \n",
       "2017-01-01 00:15:00+01:00   16.0  2.34622           2.34622  -2.4  0.021012   \n",
       "2017-01-01 00:30:00+01:00   16.0  2.34622           2.34622  -2.4  0.049076   \n",
       "2017-01-01 00:45:00+01:00   16.0  2.34622           2.34622  -2.4  0.023250   \n",
       "2017-01-01 01:00:00+01:00   16.0  2.27940           2.27940  -1.8  0.066338   \n",
       "\n",
       "                           Price_flat_mod  Price_DT_mod  \n",
       "2017-01-01 00:00:00+01:00          0.1716      0.130034  \n",
       "2017-01-01 00:15:00+01:00          0.1716      0.130034  \n",
       "2017-01-01 00:30:00+01:00          0.1716      0.130034  \n",
       "2017-01-01 00:45:00+01:00          0.1716      0.130034  \n",
       "2017-01-01 01:00:00+01:00          0.1716      0.130034  \n",
       "\n",
       "[5 rows x 679 columns]"
      ]
     },
     "execution_count": 3,
     "metadata": {},
     "output_type": "execute_result"
    }
   ],
   "source": [
    "df2.head()"
   ]
  },
  {
   "cell_type": "code",
   "execution_count": 6,
   "metadata": {},
   "outputs": [
    {
     "data": {
      "text/plain": [
       "Index(['110141755827', '110141755828', '110141755829', '110141755830',\n",
       "       '110141755831', '110141755832', '110141755833', '110141755834',\n",
       "       '110141755835', '110141755836',\n",
       "       ...\n",
       "       'Price_DT', 'Export_price', 'Hour', 'Set_T', 'Req_kWh',\n",
       "       'Req_kWh_no_Solar', 'Temp', 'DHW_kWh', 'Price_flat_mod',\n",
       "       'Price_DT_mod'],\n",
       "      dtype='object', length=679)"
      ]
     },
     "execution_count": 6,
     "metadata": {},
     "output_type": "execute_result"
    }
   ],
   "source": [
    "df2.keys()"
   ]
  },
  {
   "cell_type": "code",
   "execution_count": 66,
   "metadata": {},
   "outputs": [],
   "source": [
    "df2.iloc[:,:-11].reset_index().to_csv('Input/Electricity_demand_supply_2017.csv')"
   ]
  },
  {
   "cell_type": "code",
   "execution_count": 18,
   "metadata": {},
   "outputs": [
    {
     "data": {
      "text/html": [
       "<div>\n",
       "<style scoped>\n",
       "    .dataframe tbody tr th:only-of-type {\n",
       "        vertical-align: middle;\n",
       "    }\n",
       "\n",
       "    .dataframe tbody tr th {\n",
       "        vertical-align: top;\n",
       "    }\n",
       "\n",
       "    .dataframe thead th {\n",
       "        text-align: right;\n",
       "    }\n",
       "</style>\n",
       "<table border=\"1\" class=\"dataframe\">\n",
       "  <thead>\n",
       "    <tr style=\"text-align: right;\">\n",
       "      <th></th>\n",
       "      <th>Price_flat</th>\n",
       "      <th>Price_DT</th>\n",
       "      <th>Export_price</th>\n",
       "      <th>Hour</th>\n",
       "      <th>Set_T</th>\n",
       "      <th>Req_kWh</th>\n",
       "      <th>Req_kWh_no_Solar</th>\n",
       "      <th>Temp</th>\n",
       "      <th>DHW_kWh</th>\n",
       "      <th>Price_flat_mod</th>\n",
       "      <th>Price_DT_mod</th>\n",
       "    </tr>\n",
       "  </thead>\n",
       "  <tbody>\n",
       "    <tr>\n",
       "      <th>2017-01-01 00:00:00+01:00</th>\n",
       "      <td>0.29</td>\n",
       "      <td>0.1646</td>\n",
       "      <td>0.05704</td>\n",
       "      <td>0.0</td>\n",
       "      <td>16.0</td>\n",
       "      <td>2.34622</td>\n",
       "      <td>2.34622</td>\n",
       "      <td>-2.4</td>\n",
       "      <td>0.028764</td>\n",
       "      <td>0.1716</td>\n",
       "      <td>0.130034</td>\n",
       "    </tr>\n",
       "    <tr>\n",
       "      <th>2017-01-01 00:15:00+01:00</th>\n",
       "      <td>0.29</td>\n",
       "      <td>0.1646</td>\n",
       "      <td>0.05704</td>\n",
       "      <td>0.0</td>\n",
       "      <td>16.0</td>\n",
       "      <td>2.34622</td>\n",
       "      <td>2.34622</td>\n",
       "      <td>-2.4</td>\n",
       "      <td>0.021012</td>\n",
       "      <td>0.1716</td>\n",
       "      <td>0.130034</td>\n",
       "    </tr>\n",
       "    <tr>\n",
       "      <th>2017-01-01 00:30:00+01:00</th>\n",
       "      <td>0.29</td>\n",
       "      <td>0.1646</td>\n",
       "      <td>0.05704</td>\n",
       "      <td>0.0</td>\n",
       "      <td>16.0</td>\n",
       "      <td>2.34622</td>\n",
       "      <td>2.34622</td>\n",
       "      <td>-2.4</td>\n",
       "      <td>0.049076</td>\n",
       "      <td>0.1716</td>\n",
       "      <td>0.130034</td>\n",
       "    </tr>\n",
       "    <tr>\n",
       "      <th>2017-01-01 00:45:00+01:00</th>\n",
       "      <td>0.29</td>\n",
       "      <td>0.1646</td>\n",
       "      <td>0.05704</td>\n",
       "      <td>0.0</td>\n",
       "      <td>16.0</td>\n",
       "      <td>2.34622</td>\n",
       "      <td>2.34622</td>\n",
       "      <td>-2.4</td>\n",
       "      <td>0.023250</td>\n",
       "      <td>0.1716</td>\n",
       "      <td>0.130034</td>\n",
       "    </tr>\n",
       "    <tr>\n",
       "      <th>2017-01-01 01:00:00+01:00</th>\n",
       "      <td>0.29</td>\n",
       "      <td>0.1646</td>\n",
       "      <td>0.05194</td>\n",
       "      <td>1.0</td>\n",
       "      <td>16.0</td>\n",
       "      <td>2.27940</td>\n",
       "      <td>2.27940</td>\n",
       "      <td>-1.8</td>\n",
       "      <td>0.066338</td>\n",
       "      <td>0.1716</td>\n",
       "      <td>0.130034</td>\n",
       "    </tr>\n",
       "  </tbody>\n",
       "</table>\n",
       "</div>"
      ],
      "text/plain": [
       "                           Price_flat  Price_DT  Export_price  Hour  Set_T  \\\n",
       "2017-01-01 00:00:00+01:00        0.29    0.1646       0.05704   0.0   16.0   \n",
       "2017-01-01 00:15:00+01:00        0.29    0.1646       0.05704   0.0   16.0   \n",
       "2017-01-01 00:30:00+01:00        0.29    0.1646       0.05704   0.0   16.0   \n",
       "2017-01-01 00:45:00+01:00        0.29    0.1646       0.05704   0.0   16.0   \n",
       "2017-01-01 01:00:00+01:00        0.29    0.1646       0.05194   1.0   16.0   \n",
       "\n",
       "                           Req_kWh  Req_kWh_no_Solar  Temp   DHW_kWh  \\\n",
       "2017-01-01 00:00:00+01:00  2.34622           2.34622  -2.4  0.028764   \n",
       "2017-01-01 00:15:00+01:00  2.34622           2.34622  -2.4  0.021012   \n",
       "2017-01-01 00:30:00+01:00  2.34622           2.34622  -2.4  0.049076   \n",
       "2017-01-01 00:45:00+01:00  2.34622           2.34622  -2.4  0.023250   \n",
       "2017-01-01 01:00:00+01:00  2.27940           2.27940  -1.8  0.066338   \n",
       "\n",
       "                           Price_flat_mod  Price_DT_mod  \n",
       "2017-01-01 00:00:00+01:00          0.1716      0.130034  \n",
       "2017-01-01 00:15:00+01:00          0.1716      0.130034  \n",
       "2017-01-01 00:30:00+01:00          0.1716      0.130034  \n",
       "2017-01-01 00:45:00+01:00          0.1716      0.130034  \n",
       "2017-01-01 01:00:00+01:00          0.1716      0.130034  "
      ]
     },
     "execution_count": 18,
     "metadata": {},
     "output_type": "execute_result"
    }
   ],
   "source": [
    "df2.iloc[:,-11:].head()"
   ]
  },
  {
   "cell_type": "code",
   "execution_count": 118,
   "metadata": {},
   "outputs": [],
   "source": [
    "pd.concat([df2.iloc[:,-11:-8],df2.iloc[:,-2:]],axis=1).reset_index().to_csv('Input/Prices_2017.csv')"
   ]
  },
  {
   "cell_type": "code",
   "execution_count": 37,
   "metadata": {},
   "outputs": [],
   "source": [
    "df3=pd.read_csv('Input/preprocessed_heat_demand_2.csv',engine='python',sep=';',index_col=[0],\n",
    "                    parse_dates=[0],infer_datetime_format=True )"
   ]
  },
  {
   "cell_type": "code",
   "execution_count": 44,
   "metadata": {},
   "outputs": [],
   "source": [
    "shifted_demand=df3.DHW_kWh.reindex(index=np.roll(df3.DHW_kWh.index,-96*4))"
   ]
  },
  {
   "cell_type": "code",
   "execution_count": 45,
   "metadata": {},
   "outputs": [],
   "source": [
    "shifted_demand.index=df2.index"
   ]
  },
  {
   "cell_type": "code",
   "execution_count": 56,
   "metadata": {},
   "outputs": [
    {
     "data": {
      "text/plain": [
       "2017-01-01 00:00:00+01:00    0.0\n",
       "2017-01-01 00:15:00+01:00    0.0\n",
       "2017-01-01 00:30:00+01:00    0.0\n",
       "2017-01-01 00:45:00+01:00    0.0\n",
       "2017-01-01 01:00:00+01:00    0.0\n",
       "Name: DHW_kWh, dtype: float64"
      ]
     },
     "execution_count": 56,
     "metadata": {},
     "output_type": "execute_result"
    }
   ],
   "source": [
    "shifted_demand.head()"
   ]
  },
  {
   "cell_type": "code",
   "execution_count": 50,
   "metadata": {},
   "outputs": [],
   "source": [
    "df4=pd.read_csv('Input/Heat_demand_new_15.csv',engine='python',sep=';|,',index_col=[0],\n",
    "                    parse_dates=[0],infer_datetime_format=True )"
   ]
  },
  {
   "cell_type": "code",
   "execution_count": 51,
   "metadata": {},
   "outputs": [
    {
     "data": {
      "text/html": [
       "<div>\n",
       "<style scoped>\n",
       "    .dataframe tbody tr th:only-of-type {\n",
       "        vertical-align: middle;\n",
       "    }\n",
       "\n",
       "    .dataframe tbody tr th {\n",
       "        vertical-align: top;\n",
       "    }\n",
       "\n",
       "    .dataframe thead th {\n",
       "        text-align: right;\n",
       "    }\n",
       "</style>\n",
       "<table border=\"1\" class=\"dataframe\">\n",
       "  <thead>\n",
       "    <tr style=\"text-align: right;\">\n",
       "      <th></th>\n",
       "      <th>Hour</th>\n",
       "      <th>Set_T</th>\n",
       "      <th>Temp</th>\n",
       "      <th>SFH15_kWh</th>\n",
       "      <th>SFH45_kWh</th>\n",
       "      <th>SFH100_kWh</th>\n",
       "    </tr>\n",
       "  </thead>\n",
       "  <tbody>\n",
       "    <tr>\n",
       "      <th>2017-01-01 00:00:00+01:00</th>\n",
       "      <td>0</td>\n",
       "      <td>20</td>\n",
       "      <td>-2.0</td>\n",
       "      <td>0.0</td>\n",
       "      <td>0.0</td>\n",
       "      <td>0.137079</td>\n",
       "    </tr>\n",
       "    <tr>\n",
       "      <th>2017-01-01 00:15:00+01:00</th>\n",
       "      <td>0</td>\n",
       "      <td>20</td>\n",
       "      <td>-2.0</td>\n",
       "      <td>0.0</td>\n",
       "      <td>0.0</td>\n",
       "      <td>0.137079</td>\n",
       "    </tr>\n",
       "    <tr>\n",
       "      <th>2017-01-01 00:30:00+01:00</th>\n",
       "      <td>0</td>\n",
       "      <td>20</td>\n",
       "      <td>-2.0</td>\n",
       "      <td>0.0</td>\n",
       "      <td>0.0</td>\n",
       "      <td>0.137079</td>\n",
       "    </tr>\n",
       "    <tr>\n",
       "      <th>2017-01-01 00:45:00+01:00</th>\n",
       "      <td>0</td>\n",
       "      <td>20</td>\n",
       "      <td>-2.0</td>\n",
       "      <td>0.0</td>\n",
       "      <td>0.0</td>\n",
       "      <td>0.137079</td>\n",
       "    </tr>\n",
       "    <tr>\n",
       "      <th>2017-01-01 01:00:00+01:00</th>\n",
       "      <td>1</td>\n",
       "      <td>20</td>\n",
       "      <td>-2.1</td>\n",
       "      <td>0.0</td>\n",
       "      <td>0.0</td>\n",
       "      <td>0.071674</td>\n",
       "    </tr>\n",
       "  </tbody>\n",
       "</table>\n",
       "</div>"
      ],
      "text/plain": [
       "                           Hour  Set_T  Temp  SFH15_kWh  SFH45_kWh  SFH100_kWh\n",
       "2017-01-01 00:00:00+01:00     0     20  -2.0        0.0        0.0    0.137079\n",
       "2017-01-01 00:15:00+01:00     0     20  -2.0        0.0        0.0    0.137079\n",
       "2017-01-01 00:30:00+01:00     0     20  -2.0        0.0        0.0    0.137079\n",
       "2017-01-01 00:45:00+01:00     0     20  -2.0        0.0        0.0    0.137079\n",
       "2017-01-01 01:00:00+01:00     1     20  -2.1        0.0        0.0    0.071674"
      ]
     },
     "execution_count": 51,
     "metadata": {},
     "output_type": "execute_result"
    }
   ],
   "source": [
    "df4.head()"
   ]
  },
  {
   "cell_type": "code",
   "execution_count": 57,
   "metadata": {},
   "outputs": [],
   "source": [
    "df4['DHW_kWh']=shifted_demand"
   ]
  },
  {
   "cell_type": "code",
   "execution_count": 60,
   "metadata": {},
   "outputs": [
    {
     "data": {
      "text/plain": [
       "Hour          153457680.0\n",
       "Set_T            700800.0\n",
       "Temp             396587.0\n",
       "SFH15_kWh          3880.0\n",
       "SFH45_kWh          9876.0\n",
       "SFH100_kWh        22843.0\n",
       "DHW_kWh            3682.0\n",
       "dtype: float64"
      ]
     },
     "execution_count": 60,
     "metadata": {},
     "output_type": "execute_result"
    }
   ],
   "source": [
    "df4.sum().round()"
   ]
  },
  {
   "cell_type": "code",
   "execution_count": 61,
   "metadata": {},
   "outputs": [],
   "source": [
    "df4.to_csv('Input/Heat_demand_new_15.csv')"
   ]
  },
  {
   "cell_type": "code",
   "execution_count": 75,
   "metadata": {},
   "outputs": [],
   "source": [
    "from pathlib import Path\n"
   ]
  },
  {
   "cell_type": "code",
   "execution_count": 97,
   "metadata": {},
   "outputs": [],
   "source": [
    "combinations={'house_type':'SFH100'}"
   ]
  },
  {
   "cell_type": "code",
   "execution_count": 98,
   "metadata": {},
   "outputs": [],
   "source": [
    "if (combinations['house_type']=='SFH15')| (combinations['house_type']=='SFH45'):\n",
    "    aux_name='SFH15_45'\n",
    "else:\n",
    "    aux_name='SFH100'"
   ]
  },
  {
   "cell_type": "code",
   "execution_count": 99,
   "metadata": {},
   "outputs": [
    {
     "data": {
      "text/plain": [
       "PosixPath('Input/preprocessed_heat_demand_2_new.csv')"
      ]
     },
     "execution_count": 99,
     "metadata": {},
     "output_type": "execute_result"
    }
   ],
   "source": [
    "filename_heat"
   ]
  },
  {
   "cell_type": "code",
   "execution_count": 119,
   "metadata": {},
   "outputs": [
    {
     "data": {
      "text/plain": [
       "Index(['index', 'Price_flat', 'Price_DT', 'Export_price', 'Price_flat_mod',\n",
       "       'Price_DT_mod'],\n",
       "      dtype='object')"
      ]
     },
     "execution_count": 119,
     "metadata": {},
     "output_type": "execute_result"
    }
   ],
   "source": [
    "df_prices.keys()"
   ]
  },
  {
   "cell_type": "code",
   "execution_count": 106,
   "metadata": {},
   "outputs": [
    {
     "name": "stdout",
     "output_type": "stream",
     "text": [
      "df_heat read csv\n",
      "                           Set_T  Temp  SFH100_kWh  DHW_kWh  \\\n",
      "index                                                         \n",
      "2017-01-01 00:00:00+01:00     20  -2.0    0.137079      0.0   \n",
      "2017-01-01 00:15:00+01:00     20  -2.0    0.137079      0.0   \n",
      "2017-01-01 00:30:00+01:00     20  -2.0    0.137079      0.0   \n",
      "2017-01-01 00:45:00+01:00     20  -2.0    0.137079      0.0   \n",
      "2017-01-01 01:00:00+01:00     20  -2.1    0.071674      0.0   \n",
      "\n",
      "                           Temp_supply_SFH100  Temp_supply_SFH100_tank  \\\n",
      "index                                                                    \n",
      "2017-01-01 00:00:00+01:00           42.314774                46.084931   \n",
      "2017-01-01 00:15:00+01:00           42.314774                46.084931   \n",
      "2017-01-01 00:30:00+01:00           42.314774                46.084931   \n",
      "2017-01-01 00:45:00+01:00           42.314774                46.084931   \n",
      "2017-01-01 01:00:00+01:00           42.314774                46.084931   \n",
      "\n",
      "                           COP_SFH100  COP_SFH100_tank  COP_SFH100_DHW  \\\n",
      "index                                                                    \n",
      "2017-01-01 00:00:00+01:00        2.06             1.81            1.62   \n",
      "2017-01-01 00:15:00+01:00        2.06             1.81            1.62   \n",
      "2017-01-01 00:30:00+01:00        2.06             1.81            1.62   \n",
      "2017-01-01 00:45:00+01:00        2.06             1.81            1.62   \n",
      "2017-01-01 01:00:00+01:00        2.06             1.81            1.62   \n",
      "\n",
      "                           hp_SFH100_el_cons  hp_SFH100_tank_el_cons  \\\n",
      "index                                                                  \n",
      "2017-01-01 00:00:00+01:00                5.5                     5.8   \n",
      "2017-01-01 00:15:00+01:00                5.5                     5.8   \n",
      "2017-01-01 00:30:00+01:00                5.5                     5.8   \n",
      "2017-01-01 00:45:00+01:00                5.5                     5.8   \n",
      "2017-01-01 01:00:00+01:00                5.5                     5.8   \n",
      "\n",
      "                           hp_SFH100_el_cons_DHW  \n",
      "index                                             \n",
      "2017-01-01 00:00:00+01:00                    5.8  \n",
      "2017-01-01 00:15:00+01:00                    5.8  \n",
      "2017-01-01 00:30:00+01:00                    5.8  \n",
      "2017-01-01 00:45:00+01:00                    5.8  \n",
      "2017-01-01 01:00:00+01:00                    5.8  \n",
      "df_heat\n"
     ]
    }
   ],
   "source": [
    "fields_heat=['index','Set_T','Temp', combinations['house_type']+'_kWh','DHW_kWh', 'Temp_supply_'+aux_name,'Temp_supply_'+aux_name+'_tank',\n",
    "                    'COP_'+combinations['house_type'],'hp_'+combinations['house_type']+'_el_cons','COP_'+combinations['house_type']+'_DHW',\n",
    "                     'hp_'+combinations['house_type']+'_el_cons_DHW','COP_'+combinations['house_type']+'_tank',\n",
    "                     'hp_'+combinations['house_type']+'_tank_el_cons']\n",
    "new_cols=['Set_T','Temp', 'Req_kWh','Req_kWh_DHW','Temp_supply','Temp_supply_tank','COP_SH','COP_tank','COP_DHW',\n",
    "          'hp_sh_cons','hp_tank_cons','hp_dhw_cons']\n",
    "df_heat=pd.read_csv(filename_heat,engine='python',sep=';',index_col=[0],\n",
    "                    parse_dates=[0],infer_datetime_format=True, usecols=fields_heat)\n",
    "print('df_heat read csv')\n",
    "print(df_heat.head())\n",
    "df_heat.columns=new_cols\n",
    "print('df_heat')"
   ]
  },
  {
   "cell_type": "code",
   "execution_count": 108,
   "metadata": {},
   "outputs": [],
   "source": [
    "\n",
    "if np.issubdtype(df_heat.index.dtype, np.datetime64):\n",
    "    df_heat.index=df_heat.index.tz_localize('UTC').tz_convert('Europe/Brussels')\n",
    "else:\n",
    "    df_heat.index=pd.to_datetime(df_heat.index,utc=True)\n",
    "    df_heat.index=df_heat.index.tz_convert('Europe/Brussels')"
   ]
  },
  {
   "cell_type": "code",
   "execution_count": 109,
   "metadata": {},
   "outputs": [
    {
     "data": {
      "text/plain": [
       "Int64Index([  1,   1,   1,   1,   1,   1,   1,   1,   1,   1,\n",
       "            ...\n",
       "            365, 365, 365, 365, 365, 365, 365, 365, 365, 365],\n",
       "           dtype='int64', name='index', length=35040)"
      ]
     },
     "execution_count": 109,
     "metadata": {},
     "output_type": "execute_result"
    }
   ],
   "source": [
    "df_heat.index.dayofyear"
   ]
  },
  {
   "cell_type": "code",
   "execution_count": 110,
   "metadata": {},
   "outputs": [
    {
     "data": {
      "text/html": [
       "<div>\n",
       "<style scoped>\n",
       "    .dataframe tbody tr th:only-of-type {\n",
       "        vertical-align: middle;\n",
       "    }\n",
       "\n",
       "    .dataframe tbody tr th {\n",
       "        vertical-align: top;\n",
       "    }\n",
       "\n",
       "    .dataframe thead th {\n",
       "        text-align: right;\n",
       "    }\n",
       "</style>\n",
       "<table border=\"1\" class=\"dataframe\">\n",
       "  <thead>\n",
       "    <tr style=\"text-align: right;\">\n",
       "      <th></th>\n",
       "      <th>Set_T</th>\n",
       "      <th>Temp</th>\n",
       "      <th>Req_kWh</th>\n",
       "      <th>Req_kWh_DHW</th>\n",
       "      <th>Temp_supply</th>\n",
       "      <th>Temp_supply_tank</th>\n",
       "      <th>COP_SH</th>\n",
       "      <th>COP_tank</th>\n",
       "      <th>COP_DHW</th>\n",
       "      <th>hp_sh_cons</th>\n",
       "      <th>hp_tank_cons</th>\n",
       "      <th>hp_dhw_cons</th>\n",
       "    </tr>\n",
       "    <tr>\n",
       "      <th>index</th>\n",
       "      <th></th>\n",
       "      <th></th>\n",
       "      <th></th>\n",
       "      <th></th>\n",
       "      <th></th>\n",
       "      <th></th>\n",
       "      <th></th>\n",
       "      <th></th>\n",
       "      <th></th>\n",
       "      <th></th>\n",
       "      <th></th>\n",
       "      <th></th>\n",
       "    </tr>\n",
       "  </thead>\n",
       "  <tbody>\n",
       "    <tr>\n",
       "      <th>2017-01-01 00:00:00+01:00</th>\n",
       "      <td>20</td>\n",
       "      <td>-2.0</td>\n",
       "      <td>0.137079</td>\n",
       "      <td>0.0</td>\n",
       "      <td>42.314774</td>\n",
       "      <td>46.084931</td>\n",
       "      <td>2.06</td>\n",
       "      <td>1.81</td>\n",
       "      <td>1.62</td>\n",
       "      <td>5.5</td>\n",
       "      <td>5.8</td>\n",
       "      <td>5.8</td>\n",
       "    </tr>\n",
       "    <tr>\n",
       "      <th>2017-01-01 00:15:00+01:00</th>\n",
       "      <td>20</td>\n",
       "      <td>-2.0</td>\n",
       "      <td>0.137079</td>\n",
       "      <td>0.0</td>\n",
       "      <td>42.314774</td>\n",
       "      <td>46.084931</td>\n",
       "      <td>2.06</td>\n",
       "      <td>1.81</td>\n",
       "      <td>1.62</td>\n",
       "      <td>5.5</td>\n",
       "      <td>5.8</td>\n",
       "      <td>5.8</td>\n",
       "    </tr>\n",
       "    <tr>\n",
       "      <th>2017-01-01 00:30:00+01:00</th>\n",
       "      <td>20</td>\n",
       "      <td>-2.0</td>\n",
       "      <td>0.137079</td>\n",
       "      <td>0.0</td>\n",
       "      <td>42.314774</td>\n",
       "      <td>46.084931</td>\n",
       "      <td>2.06</td>\n",
       "      <td>1.81</td>\n",
       "      <td>1.62</td>\n",
       "      <td>5.5</td>\n",
       "      <td>5.8</td>\n",
       "      <td>5.8</td>\n",
       "    </tr>\n",
       "    <tr>\n",
       "      <th>2017-01-01 00:45:00+01:00</th>\n",
       "      <td>20</td>\n",
       "      <td>-2.0</td>\n",
       "      <td>0.137079</td>\n",
       "      <td>0.0</td>\n",
       "      <td>42.314774</td>\n",
       "      <td>46.084931</td>\n",
       "      <td>2.06</td>\n",
       "      <td>1.81</td>\n",
       "      <td>1.62</td>\n",
       "      <td>5.5</td>\n",
       "      <td>5.8</td>\n",
       "      <td>5.8</td>\n",
       "    </tr>\n",
       "    <tr>\n",
       "      <th>2017-01-01 01:00:00+01:00</th>\n",
       "      <td>20</td>\n",
       "      <td>-2.1</td>\n",
       "      <td>0.071674</td>\n",
       "      <td>0.0</td>\n",
       "      <td>42.314774</td>\n",
       "      <td>46.084931</td>\n",
       "      <td>2.06</td>\n",
       "      <td>1.81</td>\n",
       "      <td>1.62</td>\n",
       "      <td>5.5</td>\n",
       "      <td>5.8</td>\n",
       "      <td>5.8</td>\n",
       "    </tr>\n",
       "  </tbody>\n",
       "</table>\n",
       "</div>"
      ],
      "text/plain": [
       "                           Set_T  Temp   Req_kWh  Req_kWh_DHW  Temp_supply  \\\n",
       "index                                                                        \n",
       "2017-01-01 00:00:00+01:00     20  -2.0  0.137079          0.0    42.314774   \n",
       "2017-01-01 00:15:00+01:00     20  -2.0  0.137079          0.0    42.314774   \n",
       "2017-01-01 00:30:00+01:00     20  -2.0  0.137079          0.0    42.314774   \n",
       "2017-01-01 00:45:00+01:00     20  -2.0  0.137079          0.0    42.314774   \n",
       "2017-01-01 01:00:00+01:00     20  -2.1  0.071674          0.0    42.314774   \n",
       "\n",
       "                           Temp_supply_tank  COP_SH  COP_tank  COP_DHW  \\\n",
       "index                                                                    \n",
       "2017-01-01 00:00:00+01:00         46.084931    2.06      1.81     1.62   \n",
       "2017-01-01 00:15:00+01:00         46.084931    2.06      1.81     1.62   \n",
       "2017-01-01 00:30:00+01:00         46.084931    2.06      1.81     1.62   \n",
       "2017-01-01 00:45:00+01:00         46.084931    2.06      1.81     1.62   \n",
       "2017-01-01 01:00:00+01:00         46.084931    2.06      1.81     1.62   \n",
       "\n",
       "                           hp_sh_cons  hp_tank_cons  hp_dhw_cons  \n",
       "index                                                             \n",
       "2017-01-01 00:00:00+01:00         5.5           5.8          5.8  \n",
       "2017-01-01 00:15:00+01:00         5.5           5.8          5.8  \n",
       "2017-01-01 00:30:00+01:00         5.5           5.8          5.8  \n",
       "2017-01-01 00:45:00+01:00         5.5           5.8          5.8  \n",
       "2017-01-01 01:00:00+01:00         5.5           5.8          5.8  "
      ]
     },
     "execution_count": 110,
     "metadata": {},
     "output_type": "execute_result"
    }
   ],
   "source": [
    "df_heat.head()"
   ]
  },
  {
   "cell_type": "code",
   "execution_count": 107,
   "metadata": {},
   "outputs": [
    {
     "data": {
      "text/html": [
       "<div>\n",
       "<style scoped>\n",
       "    .dataframe tbody tr th:only-of-type {\n",
       "        vertical-align: middle;\n",
       "    }\n",
       "\n",
       "    .dataframe tbody tr th {\n",
       "        vertical-align: top;\n",
       "    }\n",
       "\n",
       "    .dataframe thead th {\n",
       "        text-align: right;\n",
       "    }\n",
       "</style>\n",
       "<table border=\"1\" class=\"dataframe\">\n",
       "  <thead>\n",
       "    <tr style=\"text-align: right;\">\n",
       "      <th></th>\n",
       "      <th>110141755846</th>\n",
       "      <th>E_PV</th>\n",
       "    </tr>\n",
       "    <tr>\n",
       "      <th>index</th>\n",
       "      <th></th>\n",
       "      <th></th>\n",
       "    </tr>\n",
       "  </thead>\n",
       "  <tbody>\n",
       "    <tr>\n",
       "      <th>2017-01-01 00:00:00+01:00</th>\n",
       "      <td>0.01</td>\n",
       "      <td>0.0</td>\n",
       "    </tr>\n",
       "    <tr>\n",
       "      <th>2017-01-01 00:15:00+01:00</th>\n",
       "      <td>0.00</td>\n",
       "      <td>0.0</td>\n",
       "    </tr>\n",
       "    <tr>\n",
       "      <th>2017-01-01 00:30:00+01:00</th>\n",
       "      <td>0.01</td>\n",
       "      <td>0.0</td>\n",
       "    </tr>\n",
       "    <tr>\n",
       "      <th>2017-01-01 00:45:00+01:00</th>\n",
       "      <td>0.02</td>\n",
       "      <td>0.0</td>\n",
       "    </tr>\n",
       "    <tr>\n",
       "      <th>2017-01-01 01:00:00+01:00</th>\n",
       "      <td>0.01</td>\n",
       "      <td>0.0</td>\n",
       "    </tr>\n",
       "  </tbody>\n",
       "</table>\n",
       "</div>"
      ],
      "text/plain": [
       "                           110141755846  E_PV\n",
       "index                                        \n",
       "2017-01-01 00:00:00+01:00          0.01   0.0\n",
       "2017-01-01 00:15:00+01:00          0.00   0.0\n",
       "2017-01-01 00:30:00+01:00          0.01   0.0\n",
       "2017-01-01 00:45:00+01:00          0.02   0.0\n",
       "2017-01-01 01:00:00+01:00          0.01   0.0"
      ]
     },
     "execution_count": 107,
     "metadata": {},
     "output_type": "execute_result"
    }
   ],
   "source": [
    "df_el.head()"
   ]
  },
  {
   "cell_type": "code",
   "execution_count": 113,
   "metadata": {},
   "outputs": [
    {
     "data": {
      "text/plain": [
       "PosixPath('Input/Prices_2017.csv')"
      ]
     },
     "execution_count": 113,
     "metadata": {},
     "output_type": "execute_result"
    }
   ],
   "source": [
    "filename_prices"
   ]
  },
  {
   "cell_type": "code",
   "execution_count": 114,
   "metadata": {},
   "outputs": [],
   "source": [
    "df_prices=pd.read_csv(filename_prices,engine='python',sep=',|;',index_col=[0],\n",
    "                            parse_dates=[0],infer_datetime_format=True )"
   ]
  },
  {
   "cell_type": "code",
   "execution_count": 115,
   "metadata": {},
   "outputs": [
    {
     "data": {
      "text/html": [
       "<div>\n",
       "<style scoped>\n",
       "    .dataframe tbody tr th:only-of-type {\n",
       "        vertical-align: middle;\n",
       "    }\n",
       "\n",
       "    .dataframe tbody tr th {\n",
       "        vertical-align: top;\n",
       "    }\n",
       "\n",
       "    .dataframe thead th {\n",
       "        text-align: right;\n",
       "    }\n",
       "</style>\n",
       "<table border=\"1\" class=\"dataframe\">\n",
       "  <thead>\n",
       "    <tr style=\"text-align: right;\">\n",
       "      <th></th>\n",
       "      <th>index</th>\n",
       "      <th>Price_flat</th>\n",
       "      <th>Price_DT</th>\n",
       "      <th>Export_price</th>\n",
       "      <th>Price_flat_mod</th>\n",
       "      <th>Price_DT_mod</th>\n",
       "    </tr>\n",
       "  </thead>\n",
       "  <tbody>\n",
       "    <tr>\n",
       "      <th>0</th>\n",
       "      <td>2017-01-01 00:00:00+01:00</td>\n",
       "      <td>0.29</td>\n",
       "      <td>0.1646</td>\n",
       "      <td>0.05704</td>\n",
       "      <td>0.1716</td>\n",
       "      <td>0.130034</td>\n",
       "    </tr>\n",
       "    <tr>\n",
       "      <th>1</th>\n",
       "      <td>2017-01-01 00:15:00+01:00</td>\n",
       "      <td>0.29</td>\n",
       "      <td>0.1646</td>\n",
       "      <td>0.05704</td>\n",
       "      <td>0.1716</td>\n",
       "      <td>0.130034</td>\n",
       "    </tr>\n",
       "    <tr>\n",
       "      <th>2</th>\n",
       "      <td>2017-01-01 00:30:00+01:00</td>\n",
       "      <td>0.29</td>\n",
       "      <td>0.1646</td>\n",
       "      <td>0.05704</td>\n",
       "      <td>0.1716</td>\n",
       "      <td>0.130034</td>\n",
       "    </tr>\n",
       "    <tr>\n",
       "      <th>3</th>\n",
       "      <td>2017-01-01 00:45:00+01:00</td>\n",
       "      <td>0.29</td>\n",
       "      <td>0.1646</td>\n",
       "      <td>0.05704</td>\n",
       "      <td>0.1716</td>\n",
       "      <td>0.130034</td>\n",
       "    </tr>\n",
       "    <tr>\n",
       "      <th>4</th>\n",
       "      <td>2017-01-01 01:00:00+01:00</td>\n",
       "      <td>0.29</td>\n",
       "      <td>0.1646</td>\n",
       "      <td>0.05194</td>\n",
       "      <td>0.1716</td>\n",
       "      <td>0.130034</td>\n",
       "    </tr>\n",
       "  </tbody>\n",
       "</table>\n",
       "</div>"
      ],
      "text/plain": [
       "                       index  Price_flat  Price_DT  Export_price  \\\n",
       "0  2017-01-01 00:00:00+01:00        0.29    0.1646       0.05704   \n",
       "1  2017-01-01 00:15:00+01:00        0.29    0.1646       0.05704   \n",
       "2  2017-01-01 00:30:00+01:00        0.29    0.1646       0.05704   \n",
       "3  2017-01-01 00:45:00+01:00        0.29    0.1646       0.05704   \n",
       "4  2017-01-01 01:00:00+01:00        0.29    0.1646       0.05194   \n",
       "\n",
       "   Price_flat_mod  Price_DT_mod  \n",
       "0          0.1716      0.130034  \n",
       "1          0.1716      0.130034  \n",
       "2          0.1716      0.130034  \n",
       "3          0.1716      0.130034  \n",
       "4          0.1716      0.130034  "
      ]
     },
     "execution_count": 115,
     "metadata": {},
     "output_type": "execute_result"
    }
   ],
   "source": [
    "df_prices.head()"
   ]
  },
  {
   "cell_type": "code",
   "execution_count": 112,
   "metadata": {},
   "outputs": [
    {
     "name": "stdout",
     "output_type": "stream",
     "text": [
      "                                                         index  Price_flat  \\\n",
      "1970-01-01 01:00:00+01:00            2017-01-01 00:00:00+01:00        0.29   \n",
      "1970-01-01 01:00:00.000000001+01:00  2017-01-01 00:15:00+01:00        0.29   \n",
      "1970-01-01 01:00:00.000000002+01:00  2017-01-01 00:30:00+01:00        0.29   \n",
      "1970-01-01 01:00:00.000000003+01:00  2017-01-01 00:45:00+01:00        0.29   \n",
      "1970-01-01 01:00:00.000000004+01:00  2017-01-01 01:00:00+01:00        0.29   \n",
      "\n",
      "                                     Price_DT  Export_price  Price_flat_mod  \\\n",
      "1970-01-01 01:00:00+01:00              0.1646       0.05704          0.1716   \n",
      "1970-01-01 01:00:00.000000001+01:00    0.1646       0.05704          0.1716   \n",
      "1970-01-01 01:00:00.000000002+01:00    0.1646       0.05704          0.1716   \n",
      "1970-01-01 01:00:00.000000003+01:00    0.1646       0.05704          0.1716   \n",
      "1970-01-01 01:00:00.000000004+01:00    0.1646       0.05194          0.1716   \n",
      "\n",
      "                                     Price_DT_mod  \n",
      "1970-01-01 01:00:00+01:00                0.130034  \n",
      "1970-01-01 01:00:00.000000001+01:00      0.130034  \n",
      "1970-01-01 01:00:00.000000002+01:00      0.130034  \n",
      "1970-01-01 01:00:00.000000003+01:00      0.130034  \n",
      "1970-01-01 01:00:00.000000004+01:00      0.130034  \n"
     ]
    }
   ],
   "source": [
    "df_prices=pd.read_csv(filename_prices,engine='python',sep=',|;',index_col=[0],\n",
    "                            parse_dates=[0],infer_datetime_format=True )\n",
    "if np.issubdtype(df_prices.index.dtype, np.datetime64):\n",
    "    df_prices.index=df_prices.index.tz_localize('UTC').tz_convert('Europe/Brussels')\n",
    "else:\n",
    "    df_prices.index=pd.to_datetime(df_prices.index,utc=True)\n",
    "    df_prices.index=df_prices.index.tz_convert('Europe/Brussels')\n",
    "print(df_prices.head())"
   ]
  },
  {
   "cell_type": "code",
   "execution_count": 87,
   "metadata": {},
   "outputs": [],
   "source": [
    "df_heat=pd.read_csv('Input/preprocessed_heat_demand_2_new.csv',engine='python',sep=';|,',index_col=[0],\n",
    "                    parse_dates=[0],infer_datetime_format=True)"
   ]
  },
  {
   "cell_type": "code",
   "execution_count": 102,
   "metadata": {},
   "outputs": [],
   "source": [
    "df_el = pd.read_csv(filename_el,engine='python',sep=',|;',index_col=0,\n",
    "                            parse_dates=[0],infer_datetime_format=True, usecols=fields_el)\n",
    "if np.issubdtype(df_el.index.dtype, np.datetime64):\n",
    "    df_el.index=df_el.index.tz_localize('UTC').tz_convert('Europe/Brussels')\n",
    "else:\n",
    "    df_el.index=pd.to_datetime(df_el.index,utc=True)\n",
    "    df_el.index=df_el.index.tz_convert('Europe/Brussels')"
   ]
  },
  {
   "cell_type": "code",
   "execution_count": 104,
   "metadata": {},
   "outputs": [
    {
     "data": {
      "text/plain": [
       "Int64Index([  1,   1,   1,   1,   1,   1,   1,   1,   1,   1,\n",
       "            ...\n",
       "            365, 365, 365, 365, 365, 365, 365, 365, 365, 365],\n",
       "           dtype='int64', name='index', length=35040)"
      ]
     },
     "execution_count": 104,
     "metadata": {},
     "output_type": "execute_result"
    }
   ],
   "source": [
    "df_el.index.dayofyear"
   ]
  },
  {
   "cell_type": "code",
   "execution_count": 88,
   "metadata": {},
   "outputs": [
    {
     "data": {
      "text/html": [
       "<div>\n",
       "<style scoped>\n",
       "    .dataframe tbody tr th:only-of-type {\n",
       "        vertical-align: middle;\n",
       "    }\n",
       "\n",
       "    .dataframe tbody tr th {\n",
       "        vertical-align: top;\n",
       "    }\n",
       "\n",
       "    .dataframe thead th {\n",
       "        text-align: right;\n",
       "    }\n",
       "</style>\n",
       "<table border=\"1\" class=\"dataframe\">\n",
       "  <thead>\n",
       "    <tr style=\"text-align: right;\">\n",
       "      <th></th>\n",
       "      <th>index</th>\n",
       "      <th>Set_T</th>\n",
       "      <th>Temp</th>\n",
       "      <th>SFH15_kWh</th>\n",
       "      <th>SFH45_kWh</th>\n",
       "      <th>SFH100_kWh</th>\n",
       "      <th>DHW_kWh</th>\n",
       "      <th>Temp_supply_SFH15_45</th>\n",
       "      <th>Temp_supply_SFH100</th>\n",
       "      <th>Temp_supply_SFH15_45_tank</th>\n",
       "      <th>...</th>\n",
       "      <th>COP_SFH100_DHW</th>\n",
       "      <th>hp_SFH15_el_cons</th>\n",
       "      <th>hp_SFH45_el_cons</th>\n",
       "      <th>hp_SFH100_el_cons</th>\n",
       "      <th>hp_SFH15_tank_el_cons</th>\n",
       "      <th>hp_SFH45_tank_el_cons</th>\n",
       "      <th>hp_SFH100_tank_el_cons</th>\n",
       "      <th>hp_SFH15_el_cons_DHW</th>\n",
       "      <th>hp_SFH45_el_cons_DHW</th>\n",
       "      <th>hp_SFH100_el_cons_DHW</th>\n",
       "    </tr>\n",
       "  </thead>\n",
       "  <tbody>\n",
       "    <tr>\n",
       "      <th>0</th>\n",
       "      <td>2017-01-01 00:00:00+01:00</td>\n",
       "      <td>20</td>\n",
       "      <td>-2.0</td>\n",
       "      <td>0.0</td>\n",
       "      <td>0.0</td>\n",
       "      <td>0.137079</td>\n",
       "      <td>0.0</td>\n",
       "      <td>30.685779</td>\n",
       "      <td>42.314774</td>\n",
       "      <td>34.267292</td>\n",
       "      <td>...</td>\n",
       "      <td>1.62</td>\n",
       "      <td>1.5</td>\n",
       "      <td>2.0</td>\n",
       "      <td>5.5</td>\n",
       "      <td>1.5</td>\n",
       "      <td>2.0</td>\n",
       "      <td>5.8</td>\n",
       "      <td>2.2</td>\n",
       "      <td>2.5</td>\n",
       "      <td>5.8</td>\n",
       "    </tr>\n",
       "    <tr>\n",
       "      <th>1</th>\n",
       "      <td>2017-01-01 00:15:00+01:00</td>\n",
       "      <td>20</td>\n",
       "      <td>-2.0</td>\n",
       "      <td>0.0</td>\n",
       "      <td>0.0</td>\n",
       "      <td>0.137079</td>\n",
       "      <td>0.0</td>\n",
       "      <td>30.685779</td>\n",
       "      <td>42.314774</td>\n",
       "      <td>34.267292</td>\n",
       "      <td>...</td>\n",
       "      <td>1.62</td>\n",
       "      <td>1.5</td>\n",
       "      <td>2.0</td>\n",
       "      <td>5.5</td>\n",
       "      <td>1.5</td>\n",
       "      <td>2.0</td>\n",
       "      <td>5.8</td>\n",
       "      <td>2.2</td>\n",
       "      <td>2.5</td>\n",
       "      <td>5.8</td>\n",
       "    </tr>\n",
       "    <tr>\n",
       "      <th>2</th>\n",
       "      <td>2017-01-01 00:30:00+01:00</td>\n",
       "      <td>20</td>\n",
       "      <td>-2.0</td>\n",
       "      <td>0.0</td>\n",
       "      <td>0.0</td>\n",
       "      <td>0.137079</td>\n",
       "      <td>0.0</td>\n",
       "      <td>30.685779</td>\n",
       "      <td>42.314774</td>\n",
       "      <td>34.267292</td>\n",
       "      <td>...</td>\n",
       "      <td>1.62</td>\n",
       "      <td>1.5</td>\n",
       "      <td>2.0</td>\n",
       "      <td>5.5</td>\n",
       "      <td>1.5</td>\n",
       "      <td>2.0</td>\n",
       "      <td>5.8</td>\n",
       "      <td>2.2</td>\n",
       "      <td>2.5</td>\n",
       "      <td>5.8</td>\n",
       "    </tr>\n",
       "    <tr>\n",
       "      <th>3</th>\n",
       "      <td>2017-01-01 00:45:00+01:00</td>\n",
       "      <td>20</td>\n",
       "      <td>-2.0</td>\n",
       "      <td>0.0</td>\n",
       "      <td>0.0</td>\n",
       "      <td>0.137079</td>\n",
       "      <td>0.0</td>\n",
       "      <td>30.685779</td>\n",
       "      <td>42.314774</td>\n",
       "      <td>34.267292</td>\n",
       "      <td>...</td>\n",
       "      <td>1.62</td>\n",
       "      <td>1.5</td>\n",
       "      <td>2.0</td>\n",
       "      <td>5.5</td>\n",
       "      <td>1.5</td>\n",
       "      <td>2.0</td>\n",
       "      <td>5.8</td>\n",
       "      <td>2.2</td>\n",
       "      <td>2.5</td>\n",
       "      <td>5.8</td>\n",
       "    </tr>\n",
       "    <tr>\n",
       "      <th>4</th>\n",
       "      <td>2017-01-01 01:00:00+01:00</td>\n",
       "      <td>20</td>\n",
       "      <td>-2.1</td>\n",
       "      <td>0.0</td>\n",
       "      <td>0.0</td>\n",
       "      <td>0.071674</td>\n",
       "      <td>0.0</td>\n",
       "      <td>30.685779</td>\n",
       "      <td>42.314774</td>\n",
       "      <td>34.267292</td>\n",
       "      <td>...</td>\n",
       "      <td>1.62</td>\n",
       "      <td>1.5</td>\n",
       "      <td>2.0</td>\n",
       "      <td>5.5</td>\n",
       "      <td>1.5</td>\n",
       "      <td>2.0</td>\n",
       "      <td>5.8</td>\n",
       "      <td>2.2</td>\n",
       "      <td>2.5</td>\n",
       "      <td>5.8</td>\n",
       "    </tr>\n",
       "  </tbody>\n",
       "</table>\n",
       "<p>5 rows × 29 columns</p>\n",
       "</div>"
      ],
      "text/plain": [
       "                       index  Set_T  Temp  SFH15_kWh  SFH45_kWh  SFH100_kWh  \\\n",
       "0  2017-01-01 00:00:00+01:00     20  -2.0        0.0        0.0    0.137079   \n",
       "1  2017-01-01 00:15:00+01:00     20  -2.0        0.0        0.0    0.137079   \n",
       "2  2017-01-01 00:30:00+01:00     20  -2.0        0.0        0.0    0.137079   \n",
       "3  2017-01-01 00:45:00+01:00     20  -2.0        0.0        0.0    0.137079   \n",
       "4  2017-01-01 01:00:00+01:00     20  -2.1        0.0        0.0    0.071674   \n",
       "\n",
       "   DHW_kWh  Temp_supply_SFH15_45  Temp_supply_SFH100  \\\n",
       "0      0.0             30.685779           42.314774   \n",
       "1      0.0             30.685779           42.314774   \n",
       "2      0.0             30.685779           42.314774   \n",
       "3      0.0             30.685779           42.314774   \n",
       "4      0.0             30.685779           42.314774   \n",
       "\n",
       "   Temp_supply_SFH15_45_tank  ...  COP_SFH100_DHW  hp_SFH15_el_cons  \\\n",
       "0                  34.267292  ...            1.62               1.5   \n",
       "1                  34.267292  ...            1.62               1.5   \n",
       "2                  34.267292  ...            1.62               1.5   \n",
       "3                  34.267292  ...            1.62               1.5   \n",
       "4                  34.267292  ...            1.62               1.5   \n",
       "\n",
       "   hp_SFH45_el_cons  hp_SFH100_el_cons  hp_SFH15_tank_el_cons  \\\n",
       "0               2.0                5.5                    1.5   \n",
       "1               2.0                5.5                    1.5   \n",
       "2               2.0                5.5                    1.5   \n",
       "3               2.0                5.5                    1.5   \n",
       "4               2.0                5.5                    1.5   \n",
       "\n",
       "   hp_SFH45_tank_el_cons  hp_SFH100_tank_el_cons  hp_SFH15_el_cons_DHW  \\\n",
       "0                    2.0                     5.8                   2.2   \n",
       "1                    2.0                     5.8                   2.2   \n",
       "2                    2.0                     5.8                   2.2   \n",
       "3                    2.0                     5.8                   2.2   \n",
       "4                    2.0                     5.8                   2.2   \n",
       "\n",
       "   hp_SFH45_el_cons_DHW  hp_SFH100_el_cons_DHW  \n",
       "0                   2.5                    5.8  \n",
       "1                   2.5                    5.8  \n",
       "2                   2.5                    5.8  \n",
       "3                   2.5                    5.8  \n",
       "4                   2.5                    5.8  \n",
       "\n",
       "[5 rows x 29 columns]"
      ]
     },
     "execution_count": 88,
     "metadata": {},
     "output_type": "execute_result"
    }
   ],
   "source": [
    "df_heat.head()"
   ]
  },
  {
   "cell_type": "code",
   "execution_count": 82,
   "metadata": {},
   "outputs": [],
   "source": [
    "df_heat.DHW_kWh=shifted_demand"
   ]
  },
  {
   "cell_type": "code",
   "execution_count": 84,
   "metadata": {},
   "outputs": [],
   "source": [
    "df_heat.reset_index().to_csv('Input/preprocessed_heat_demand_2_new.csv')"
   ]
  },
  {
   "cell_type": "code",
   "execution_count": 121,
   "metadata": {},
   "outputs": [],
   "source": [
    "\n",
    "df=pd.read_csv('Input/Heat_demand_new.csv',engine='python',sep=';', decimal=',',dtype={'SFH15_kWh':float, 'SFH45_kWh':float, 'SFH100_kWh':float})"
   ]
  },
  {
   "cell_type": "code",
   "execution_count": 122,
   "metadata": {},
   "outputs": [
    {
     "data": {
      "text/plain": [
       "Hour          38373180.00\n",
       "Set_T           175220.00\n",
       "Temp             99155.00\n",
       "SFH15_kWh      3880081.19\n",
       "SFH45_kWh      9876218.50\n",
       "SFH100_kWh    22843298.05\n",
       "dtype: float64"
      ]
     },
     "execution_count": 122,
     "metadata": {},
     "output_type": "execute_result"
    }
   ],
   "source": [
    "df.sum().round(2)"
   ]
  },
  {
   "cell_type": "code",
   "execution_count": 123,
   "metadata": {},
   "outputs": [],
   "source": [
    "df.index=pd.date_range(start='1/1/2017', end='1/01/2018', freq='H',tz='Europe/Brussels')"
   ]
  },
  {
   "cell_type": "code",
   "execution_count": 124,
   "metadata": {},
   "outputs": [
    {
     "data": {
      "text/plain": [
       "Index(['Hour', 'Set_T', 'Temp', 'SFH15_kWh', 'SFH45_kWh', 'SFH100_kWh'], dtype='object')"
      ]
     },
     "execution_count": 124,
     "metadata": {},
     "output_type": "execute_result"
    }
   ],
   "source": [
    "df.keys()"
   ]
  },
  {
   "cell_type": "code",
   "execution_count": 125,
   "metadata": {},
   "outputs": [
    {
     "data": {
      "text/html": [
       "<div>\n",
       "<style scoped>\n",
       "    .dataframe tbody tr th:only-of-type {\n",
       "        vertical-align: middle;\n",
       "    }\n",
       "\n",
       "    .dataframe tbody tr th {\n",
       "        vertical-align: top;\n",
       "    }\n",
       "\n",
       "    .dataframe thead th {\n",
       "        text-align: right;\n",
       "    }\n",
       "</style>\n",
       "<table border=\"1\" class=\"dataframe\">\n",
       "  <thead>\n",
       "    <tr style=\"text-align: right;\">\n",
       "      <th></th>\n",
       "      <th>Hour</th>\n",
       "      <th>Set_T</th>\n",
       "      <th>Temp</th>\n",
       "      <th>SFH15_kWh</th>\n",
       "      <th>SFH45_kWh</th>\n",
       "      <th>SFH100_kWh</th>\n",
       "    </tr>\n",
       "  </thead>\n",
       "  <tbody>\n",
       "    <tr>\n",
       "      <th>2017-01-01 00:00:00+01:00</th>\n",
       "      <td>0</td>\n",
       "      <td>20</td>\n",
       "      <td>-2.0</td>\n",
       "      <td>0.0</td>\n",
       "      <td>0.0</td>\n",
       "      <td>548.317</td>\n",
       "    </tr>\n",
       "    <tr>\n",
       "      <th>2017-01-01 01:00:00+01:00</th>\n",
       "      <td>1</td>\n",
       "      <td>20</td>\n",
       "      <td>-2.1</td>\n",
       "      <td>0.0</td>\n",
       "      <td>0.0</td>\n",
       "      <td>286.698</td>\n",
       "    </tr>\n",
       "    <tr>\n",
       "      <th>2017-01-01 02:00:00+01:00</th>\n",
       "      <td>2</td>\n",
       "      <td>20</td>\n",
       "      <td>-2.2</td>\n",
       "      <td>0.0</td>\n",
       "      <td>0.0</td>\n",
       "      <td>180.757</td>\n",
       "    </tr>\n",
       "    <tr>\n",
       "      <th>2017-01-01 03:00:00+01:00</th>\n",
       "      <td>3</td>\n",
       "      <td>20</td>\n",
       "      <td>-2.3</td>\n",
       "      <td>0.0</td>\n",
       "      <td>0.0</td>\n",
       "      <td>15390.200</td>\n",
       "    </tr>\n",
       "    <tr>\n",
       "      <th>2017-01-01 04:00:00+01:00</th>\n",
       "      <td>4</td>\n",
       "      <td>20</td>\n",
       "      <td>-2.6</td>\n",
       "      <td>0.0</td>\n",
       "      <td>0.0</td>\n",
       "      <td>4041.270</td>\n",
       "    </tr>\n",
       "  </tbody>\n",
       "</table>\n",
       "</div>"
      ],
      "text/plain": [
       "                           Hour  Set_T  Temp  SFH15_kWh  SFH45_kWh  SFH100_kWh\n",
       "2017-01-01 00:00:00+01:00     0     20  -2.0        0.0        0.0     548.317\n",
       "2017-01-01 01:00:00+01:00     1     20  -2.1        0.0        0.0     286.698\n",
       "2017-01-01 02:00:00+01:00     2     20  -2.2        0.0        0.0     180.757\n",
       "2017-01-01 03:00:00+01:00     3     20  -2.3        0.0        0.0   15390.200\n",
       "2017-01-01 04:00:00+01:00     4     20  -2.6        0.0        0.0    4041.270"
      ]
     },
     "execution_count": 125,
     "metadata": {},
     "output_type": "execute_result"
    }
   ],
   "source": [
    "df.head()"
   ]
  },
  {
   "cell_type": "code",
   "execution_count": 126,
   "metadata": {},
   "outputs": [
    {
     "data": {
      "text/html": [
       "<div>\n",
       "<style scoped>\n",
       "    .dataframe tbody tr th:only-of-type {\n",
       "        vertical-align: middle;\n",
       "    }\n",
       "\n",
       "    .dataframe tbody tr th {\n",
       "        vertical-align: top;\n",
       "    }\n",
       "\n",
       "    .dataframe thead th {\n",
       "        text-align: right;\n",
       "    }\n",
       "</style>\n",
       "<table border=\"1\" class=\"dataframe\">\n",
       "  <thead>\n",
       "    <tr style=\"text-align: right;\">\n",
       "      <th></th>\n",
       "      <th>Hour</th>\n",
       "      <th>Set_T</th>\n",
       "      <th>Temp</th>\n",
       "      <th>SFH15_kWh</th>\n",
       "      <th>SFH45_kWh</th>\n",
       "      <th>SFH100_kWh</th>\n",
       "    </tr>\n",
       "  </thead>\n",
       "  <tbody>\n",
       "    <tr>\n",
       "      <th>2017-12-31 20:00:00+01:00</th>\n",
       "      <td>8756</td>\n",
       "      <td>20</td>\n",
       "      <td>10.5</td>\n",
       "      <td>626.277</td>\n",
       "      <td>1046.540</td>\n",
       "      <td>1691.85</td>\n",
       "    </tr>\n",
       "    <tr>\n",
       "      <th>2017-12-31 21:00:00+01:00</th>\n",
       "      <td>8757</td>\n",
       "      <td>20</td>\n",
       "      <td>10.8</td>\n",
       "      <td>614.441</td>\n",
       "      <td>1068.070</td>\n",
       "      <td>1942.30</td>\n",
       "    </tr>\n",
       "    <tr>\n",
       "      <th>2017-12-31 22:00:00+01:00</th>\n",
       "      <td>8758</td>\n",
       "      <td>20</td>\n",
       "      <td>10.8</td>\n",
       "      <td>602.568</td>\n",
       "      <td>987.926</td>\n",
       "      <td>2737.00</td>\n",
       "    </tr>\n",
       "    <tr>\n",
       "      <th>2017-12-31 23:00:00+01:00</th>\n",
       "      <td>8759</td>\n",
       "      <td>20</td>\n",
       "      <td>8.3</td>\n",
       "      <td>592.583</td>\n",
       "      <td>1060.720</td>\n",
       "      <td>1843.08</td>\n",
       "    </tr>\n",
       "    <tr>\n",
       "      <th>2018-01-01 00:00:00+01:00</th>\n",
       "      <td>8760</td>\n",
       "      <td>20</td>\n",
       "      <td>8.3</td>\n",
       "      <td>0.000</td>\n",
       "      <td>0.000</td>\n",
       "      <td>0.00</td>\n",
       "    </tr>\n",
       "  </tbody>\n",
       "</table>\n",
       "</div>"
      ],
      "text/plain": [
       "                           Hour  Set_T  Temp  SFH15_kWh  SFH45_kWh  SFH100_kWh\n",
       "2017-12-31 20:00:00+01:00  8756     20  10.5    626.277   1046.540     1691.85\n",
       "2017-12-31 21:00:00+01:00  8757     20  10.8    614.441   1068.070     1942.30\n",
       "2017-12-31 22:00:00+01:00  8758     20  10.8    602.568    987.926     2737.00\n",
       "2017-12-31 23:00:00+01:00  8759     20   8.3    592.583   1060.720     1843.08\n",
       "2018-01-01 00:00:00+01:00  8760     20   8.3      0.000      0.000        0.00"
      ]
     },
     "execution_count": 126,
     "metadata": {},
     "output_type": "execute_result"
    }
   ],
   "source": [
    "df.tail()"
   ]
  },
  {
   "cell_type": "code",
   "execution_count": 127,
   "metadata": {},
   "outputs": [],
   "source": [
    "df.loc[:,['SFH15_kWh', 'SFH45_kWh', 'SFH100_kWh']]/=4000"
   ]
  },
  {
   "cell_type": "code",
   "execution_count": 128,
   "metadata": {},
   "outputs": [
    {
     "data": {
      "text/html": [
       "<div>\n",
       "<style scoped>\n",
       "    .dataframe tbody tr th:only-of-type {\n",
       "        vertical-align: middle;\n",
       "    }\n",
       "\n",
       "    .dataframe tbody tr th {\n",
       "        vertical-align: top;\n",
       "    }\n",
       "\n",
       "    .dataframe thead th {\n",
       "        text-align: right;\n",
       "    }\n",
       "</style>\n",
       "<table border=\"1\" class=\"dataframe\">\n",
       "  <thead>\n",
       "    <tr style=\"text-align: right;\">\n",
       "      <th></th>\n",
       "      <th>Hour</th>\n",
       "      <th>Set_T</th>\n",
       "      <th>Temp</th>\n",
       "      <th>SFH15_kWh</th>\n",
       "      <th>SFH45_kWh</th>\n",
       "      <th>SFH100_kWh</th>\n",
       "    </tr>\n",
       "  </thead>\n",
       "  <tbody>\n",
       "    <tr>\n",
       "      <th>2017-01-01 00:00:00+01:00</th>\n",
       "      <td>0</td>\n",
       "      <td>20</td>\n",
       "      <td>-2.0</td>\n",
       "      <td>0.0</td>\n",
       "      <td>0.0</td>\n",
       "      <td>0.137079</td>\n",
       "    </tr>\n",
       "    <tr>\n",
       "      <th>2017-01-01 01:00:00+01:00</th>\n",
       "      <td>1</td>\n",
       "      <td>20</td>\n",
       "      <td>-2.1</td>\n",
       "      <td>0.0</td>\n",
       "      <td>0.0</td>\n",
       "      <td>0.071674</td>\n",
       "    </tr>\n",
       "    <tr>\n",
       "      <th>2017-01-01 02:00:00+01:00</th>\n",
       "      <td>2</td>\n",
       "      <td>20</td>\n",
       "      <td>-2.2</td>\n",
       "      <td>0.0</td>\n",
       "      <td>0.0</td>\n",
       "      <td>0.045189</td>\n",
       "    </tr>\n",
       "    <tr>\n",
       "      <th>2017-01-01 03:00:00+01:00</th>\n",
       "      <td>3</td>\n",
       "      <td>20</td>\n",
       "      <td>-2.3</td>\n",
       "      <td>0.0</td>\n",
       "      <td>0.0</td>\n",
       "      <td>3.847550</td>\n",
       "    </tr>\n",
       "    <tr>\n",
       "      <th>2017-01-01 04:00:00+01:00</th>\n",
       "      <td>4</td>\n",
       "      <td>20</td>\n",
       "      <td>-2.6</td>\n",
       "      <td>0.0</td>\n",
       "      <td>0.0</td>\n",
       "      <td>1.010317</td>\n",
       "    </tr>\n",
       "  </tbody>\n",
       "</table>\n",
       "</div>"
      ],
      "text/plain": [
       "                           Hour  Set_T  Temp  SFH15_kWh  SFH45_kWh  SFH100_kWh\n",
       "2017-01-01 00:00:00+01:00     0     20  -2.0        0.0        0.0    0.137079\n",
       "2017-01-01 01:00:00+01:00     1     20  -2.1        0.0        0.0    0.071674\n",
       "2017-01-01 02:00:00+01:00     2     20  -2.2        0.0        0.0    0.045189\n",
       "2017-01-01 03:00:00+01:00     3     20  -2.3        0.0        0.0    3.847550\n",
       "2017-01-01 04:00:00+01:00     4     20  -2.6        0.0        0.0    1.010317"
      ]
     },
     "execution_count": 128,
     "metadata": {},
     "output_type": "execute_result"
    }
   ],
   "source": [
    "df.head()"
   ]
  },
  {
   "cell_type": "code",
   "execution_count": 129,
   "metadata": {},
   "outputs": [
    {
     "data": {
      "text/html": [
       "<div>\n",
       "<style scoped>\n",
       "    .dataframe tbody tr th:only-of-type {\n",
       "        vertical-align: middle;\n",
       "    }\n",
       "\n",
       "    .dataframe tbody tr th {\n",
       "        vertical-align: top;\n",
       "    }\n",
       "\n",
       "    .dataframe thead th {\n",
       "        text-align: right;\n",
       "    }\n",
       "</style>\n",
       "<table border=\"1\" class=\"dataframe\">\n",
       "  <thead>\n",
       "    <tr style=\"text-align: right;\">\n",
       "      <th></th>\n",
       "      <th>Hour</th>\n",
       "      <th>Set_T</th>\n",
       "      <th>Temp</th>\n",
       "      <th>SFH15_kWh</th>\n",
       "      <th>SFH45_kWh</th>\n",
       "      <th>SFH100_kWh</th>\n",
       "    </tr>\n",
       "  </thead>\n",
       "  <tbody>\n",
       "    <tr>\n",
       "      <th>2017-12-31 20:00:00+01:00</th>\n",
       "      <td>8756</td>\n",
       "      <td>20</td>\n",
       "      <td>10.5</td>\n",
       "      <td>0.156569</td>\n",
       "      <td>0.261635</td>\n",
       "      <td>0.422962</td>\n",
       "    </tr>\n",
       "    <tr>\n",
       "      <th>2017-12-31 21:00:00+01:00</th>\n",
       "      <td>8757</td>\n",
       "      <td>20</td>\n",
       "      <td>10.8</td>\n",
       "      <td>0.153610</td>\n",
       "      <td>0.267017</td>\n",
       "      <td>0.485575</td>\n",
       "    </tr>\n",
       "    <tr>\n",
       "      <th>2017-12-31 22:00:00+01:00</th>\n",
       "      <td>8758</td>\n",
       "      <td>20</td>\n",
       "      <td>10.8</td>\n",
       "      <td>0.150642</td>\n",
       "      <td>0.246982</td>\n",
       "      <td>0.684250</td>\n",
       "    </tr>\n",
       "    <tr>\n",
       "      <th>2017-12-31 23:00:00+01:00</th>\n",
       "      <td>8759</td>\n",
       "      <td>20</td>\n",
       "      <td>8.3</td>\n",
       "      <td>0.148146</td>\n",
       "      <td>0.265180</td>\n",
       "      <td>0.460770</td>\n",
       "    </tr>\n",
       "    <tr>\n",
       "      <th>2018-01-01 00:00:00+01:00</th>\n",
       "      <td>8760</td>\n",
       "      <td>20</td>\n",
       "      <td>8.3</td>\n",
       "      <td>0.000000</td>\n",
       "      <td>0.000000</td>\n",
       "      <td>0.000000</td>\n",
       "    </tr>\n",
       "  </tbody>\n",
       "</table>\n",
       "</div>"
      ],
      "text/plain": [
       "                           Hour  Set_T  Temp  SFH15_kWh  SFH45_kWh  SFH100_kWh\n",
       "2017-12-31 20:00:00+01:00  8756     20  10.5   0.156569   0.261635    0.422962\n",
       "2017-12-31 21:00:00+01:00  8757     20  10.8   0.153610   0.267017    0.485575\n",
       "2017-12-31 22:00:00+01:00  8758     20  10.8   0.150642   0.246982    0.684250\n",
       "2017-12-31 23:00:00+01:00  8759     20   8.3   0.148146   0.265180    0.460770\n",
       "2018-01-01 00:00:00+01:00  8760     20   8.3   0.000000   0.000000    0.000000"
      ]
     },
     "execution_count": 129,
     "metadata": {},
     "output_type": "execute_result"
    }
   ],
   "source": [
    "df.tail()"
   ]
  },
  {
   "cell_type": "code",
   "execution_count": 130,
   "metadata": {},
   "outputs": [],
   "source": [
    "df=(df.resample('15T').ffill())"
   ]
  },
  {
   "cell_type": "code",
   "execution_count": 131,
   "metadata": {},
   "outputs": [
    {
     "data": {
      "text/plain": [
       "Hour          153466440.0\n",
       "Set_T            700820.0\n",
       "Temp             396595.0\n",
       "SFH15_kWh          3880.0\n",
       "SFH45_kWh          9876.0\n",
       "SFH100_kWh        22843.0\n",
       "dtype: float64"
      ]
     },
     "execution_count": 131,
     "metadata": {},
     "output_type": "execute_result"
    }
   ],
   "source": [
    "df.sum().round()"
   ]
  },
  {
   "cell_type": "code",
   "execution_count": 132,
   "metadata": {},
   "outputs": [],
   "source": [
    "\n",
    "df=df.iloc[:-1,:]"
   ]
  },
  {
   "cell_type": "code",
   "execution_count": 133,
   "metadata": {},
   "outputs": [
    {
     "data": {
      "text/html": [
       "<div>\n",
       "<style scoped>\n",
       "    .dataframe tbody tr th:only-of-type {\n",
       "        vertical-align: middle;\n",
       "    }\n",
       "\n",
       "    .dataframe tbody tr th {\n",
       "        vertical-align: top;\n",
       "    }\n",
       "\n",
       "    .dataframe thead th {\n",
       "        text-align: right;\n",
       "    }\n",
       "</style>\n",
       "<table border=\"1\" class=\"dataframe\">\n",
       "  <thead>\n",
       "    <tr style=\"text-align: right;\">\n",
       "      <th></th>\n",
       "      <th>Hour</th>\n",
       "      <th>Set_T</th>\n",
       "      <th>Temp</th>\n",
       "      <th>SFH15_kWh</th>\n",
       "      <th>SFH45_kWh</th>\n",
       "      <th>SFH100_kWh</th>\n",
       "    </tr>\n",
       "  </thead>\n",
       "  <tbody>\n",
       "    <tr>\n",
       "      <th>2017-12-31 22:45:00+01:00</th>\n",
       "      <td>8758</td>\n",
       "      <td>20</td>\n",
       "      <td>10.8</td>\n",
       "      <td>0.150642</td>\n",
       "      <td>0.246982</td>\n",
       "      <td>0.68425</td>\n",
       "    </tr>\n",
       "    <tr>\n",
       "      <th>2017-12-31 23:00:00+01:00</th>\n",
       "      <td>8759</td>\n",
       "      <td>20</td>\n",
       "      <td>8.3</td>\n",
       "      <td>0.148146</td>\n",
       "      <td>0.265180</td>\n",
       "      <td>0.46077</td>\n",
       "    </tr>\n",
       "    <tr>\n",
       "      <th>2017-12-31 23:15:00+01:00</th>\n",
       "      <td>8759</td>\n",
       "      <td>20</td>\n",
       "      <td>8.3</td>\n",
       "      <td>0.148146</td>\n",
       "      <td>0.265180</td>\n",
       "      <td>0.46077</td>\n",
       "    </tr>\n",
       "    <tr>\n",
       "      <th>2017-12-31 23:30:00+01:00</th>\n",
       "      <td>8759</td>\n",
       "      <td>20</td>\n",
       "      <td>8.3</td>\n",
       "      <td>0.148146</td>\n",
       "      <td>0.265180</td>\n",
       "      <td>0.46077</td>\n",
       "    </tr>\n",
       "    <tr>\n",
       "      <th>2017-12-31 23:45:00+01:00</th>\n",
       "      <td>8759</td>\n",
       "      <td>20</td>\n",
       "      <td>8.3</td>\n",
       "      <td>0.148146</td>\n",
       "      <td>0.265180</td>\n",
       "      <td>0.46077</td>\n",
       "    </tr>\n",
       "  </tbody>\n",
       "</table>\n",
       "</div>"
      ],
      "text/plain": [
       "                           Hour  Set_T  Temp  SFH15_kWh  SFH45_kWh  SFH100_kWh\n",
       "2017-12-31 22:45:00+01:00  8758     20  10.8   0.150642   0.246982     0.68425\n",
       "2017-12-31 23:00:00+01:00  8759     20   8.3   0.148146   0.265180     0.46077\n",
       "2017-12-31 23:15:00+01:00  8759     20   8.3   0.148146   0.265180     0.46077\n",
       "2017-12-31 23:30:00+01:00  8759     20   8.3   0.148146   0.265180     0.46077\n",
       "2017-12-31 23:45:00+01:00  8759     20   8.3   0.148146   0.265180     0.46077"
      ]
     },
     "execution_count": 133,
     "metadata": {},
     "output_type": "execute_result"
    }
   ],
   "source": [
    "df.tail()"
   ]
  },
  {
   "cell_type": "code",
   "execution_count": 150,
   "metadata": {},
   "outputs": [],
   "source": [
    "df2=pd.read_csv('Input/preprocessed_heat_demand_2.csv',engine='python',sep=';',index_col=[0],\n",
    "                    parse_dates=[0],infer_datetime_format=True )"
   ]
  },
  {
   "cell_type": "code",
   "execution_count": null,
   "metadata": {},
   "outputs": [],
   "source": [
    "df2"
   ]
  },
  {
   "cell_type": "code",
   "execution_count": 143,
   "metadata": {},
   "outputs": [],
   "source": [
    "df['DHW_kWh']=df2.DHW_kWh"
   ]
  },
  {
   "cell_type": "code",
   "execution_count": 134,
   "metadata": {},
   "outputs": [],
   "source": [
    "df.to_csv('Input/Heat_demand_new_15.csv')"
   ]
  },
  {
   "cell_type": "code",
   "execution_count": null,
   "metadata": {},
   "outputs": [],
   "source": []
  },
  {
   "cell_type": "code",
   "execution_count": null,
   "metadata": {},
   "outputs": [],
   "source": []
  },
  {
   "cell_type": "code",
   "execution_count": null,
   "metadata": {},
   "outputs": [],
   "source": []
  },
  {
   "cell_type": "code",
   "execution_count": null,
   "metadata": {},
   "outputs": [],
   "source": []
  },
  {
   "cell_type": "code",
   "execution_count": null,
   "metadata": {},
   "outputs": [],
   "source": []
  },
  {
   "cell_type": "code",
   "execution_count": null,
   "metadata": {},
   "outputs": [],
   "source": []
  },
  {
   "cell_type": "code",
   "execution_count": null,
   "metadata": {},
   "outputs": [],
   "source": []
  },
  {
   "cell_type": "code",
   "execution_count": null,
   "metadata": {},
   "outputs": [],
   "source": []
  },
  {
   "cell_type": "code",
   "execution_count": null,
   "metadata": {},
   "outputs": [],
   "source": []
  },
  {
   "cell_type": "code",
   "execution_count": null,
   "metadata": {},
   "outputs": [],
   "source": []
  },
  {
   "cell_type": "code",
   "execution_count": null,
   "metadata": {},
   "outputs": [],
   "source": []
  },
  {
   "cell_type": "code",
   "execution_count": null,
   "metadata": {},
   "outputs": [],
   "source": []
  },
  {
   "cell_type": "code",
   "execution_count": null,
   "metadata": {},
   "outputs": [],
   "source": []
  }
 ],
 "metadata": {
  "kernelspec": {
   "display_name": "alenv",
   "language": "python",
   "name": "alenv"
  },
  "language_info": {
   "codemirror_mode": {
    "name": "ipython",
    "version": 3
   },
   "file_extension": ".py",
   "mimetype": "text/x-python",
   "name": "python",
   "nbconvert_exporter": "python",
   "pygments_lexer": "ipython3",
   "version": "3.7.2"
  }
 },
 "nbformat": 4,
 "nbformat_minor": 2
}
