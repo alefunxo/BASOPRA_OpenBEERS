{
 "cells": [
  {
   "cell_type": "code",
   "execution_count": 1,
   "metadata": {
    "collapsed": true
   },
   "outputs": [],
   "source": [
    "import itertools\n",
    "import pandas as pd\n",
    "import numpy as np\n",
    "import os\n",
    "import post_proc as pp\n",
    "import csv\n",
    "import threading\n",
    "import multiprocessing as mp\n",
    "import LP as optim\n",
    "import pyomo\n",
    "import matplotlib.pyplot as plt"
   ]
  },
  {
   "cell_type": "code",
   "execution_count": 349,
   "metadata": {
    "collapsed": true
   },
   "outputs": [],
   "source": [
    "import pyomo\n"
   ]
  },
  {
   "cell_type": "code",
   "execution_count": 351,
   "metadata": {
    "collapsed": false
   },
   "outputs": [
    {
     "ename": "AttributeError",
     "evalue": "module 'pyomo' has no attribute '__vesion__'",
     "output_type": "error",
     "traceback": [
      "\u001b[0;31m---------------------------------------------------------------------------\u001b[0m",
      "\u001b[0;31mAttributeError\u001b[0m                            Traceback (most recent call last)",
      "\u001b[0;32m<ipython-input-351-d2162741f4ea>\u001b[0m in \u001b[0;36m<module>\u001b[0;34m\u001b[0m\n\u001b[0;32m----> 1\u001b[0;31m \u001b[0mpyomo\u001b[0m\u001b[0;34m.\u001b[0m\u001b[0m__vesion__\u001b[0m\u001b[0;34m\u001b[0m\u001b[0;34m\u001b[0m\u001b[0m\n\u001b[0m",
      "\u001b[0;31mAttributeError\u001b[0m: module 'pyomo' has no attribute '__vesion__'"
     ]
    }
   ],
   "source": [
    "pyomo.__vesion__"
   ]
  },
  {
   "cell_type": "code",
   "execution_count": 347,
   "metadata": {
    "collapsed": true
   },
   "outputs": [],
   "source": [
    "\n",
    "df=pd.read_csv('Output/df_110144756389_CH_PV50_NMC_1111_7.0_1111_mean.csv',engine='python',sep=',|;',index_col=[0],\n",
    "                    parse_dates=[0],infer_datetime_format=True )\n",
    "df.index=df.index.tz_localize('UTC').tz_convert('Europe/Brussels')"
   ]
  },
  {
   "cell_type": "code",
   "execution_count": 348,
   "metadata": {
    "collapsed": false
   },
   "outputs": [
    {
     "data": {
      "image/png": "[encoded data removed]",
      "text/plain": [
       "<Figure size 432x288 with 1 Axes>"
      ]
     },
     "metadata": {
      "needs_background": "light"
     },
     "output_type": "display_data"
    }
   ],
   "source": [
    "df.E_demand.groupby([df.index.hour,df.index.minute]).mean().plot()\n",
    "df.E_cons.groupby([df.index.hour,df.index.minute]).mean().plot()\n",
    "plt.show()"
   ]
  },
  {
   "cell_type": "code",
   "execution_count": null,
   "metadata": {
    "collapsed": true
   },
   "outputs": [],
   "source": []
  },
  {
   "cell_type": "code",
   "execution_count": 260,
   "metadata": {
    "collapsed": false
   },
   "outputs": [
    {
     "data": {
      "text/plain": [
       "1.8908529991532203e-15"
      ]
     },
     "execution_count": 260,
     "metadata": {},
     "output_type": "execute_result"
    }
   ],
   "source": [
    "df.E_PV_curt.sum()/df.E_PV.sum()*100"
   ]
  },
  {
   "cell_type": "code",
   "execution_count": 261,
   "metadata": {
    "collapsed": false
   },
   "outputs": [
    {
     "data": {
      "text/plain": [
       "Index(['Bool_bu', 'Bool_budhw', 'Bool_hp', 'Bool_hpdhw', 'E_PV_batt',\n",
       "       'E_PV_bu', 'E_PV_budhw', 'E_PV_curt', 'E_PV_grid', 'E_PV_hp',\n",
       "       'E_PV_hpdhw', 'E_PV_load', 'E_batt_bu', 'E_batt_budhw', 'E_batt_hp',\n",
       "       'E_batt_hpdhw', 'E_batt_load', 'E_bu', 'E_budhw', 'E_char', 'E_cons',\n",
       "       'E_dis', 'E_grid_batt', 'E_grid_bu', 'E_grid_budhw', 'E_grid_hp',\n",
       "       'E_grid_hpdhw', 'E_grid_load', 'E_hp', 'E_hp_cooling', 'E_hpdhw',\n",
       "       'E_loss_Batt', 'E_loss_conv', 'E_loss_inv', 'E_loss_inv_PV',\n",
       "       'E_loss_inv_batt', 'E_loss_inv_grid', 'Q_dhwst_hd', 'Q_hp_sh',\n",
       "       'Q_loss_dhwst', 'Q_loss_ts', 'Q_ts', 'Q_ts_delta', 'Q_ts_sh', 'SOC',\n",
       "       'T_dhwst', 'T_ts', 'E_demand', 'E_PV', 'Export_price'],\n",
       "      dtype='object')"
      ]
     },
     "execution_count": 261,
     "metadata": {},
     "output_type": "execute_result"
    }
   ],
   "source": [
    "df.keys()[:50]"
   ]
  },
  {
   "cell_type": "code",
   "execution_count": 262,
   "metadata": {
    "collapsed": false
   },
   "outputs": [
    {
     "data": {
      "text/plain": [
       "1.2099203187250998"
      ]
     },
     "execution_count": 262,
     "metadata": {},
     "output_type": "execute_result"
    }
   ],
   "source": [
    "df.E_hp.max()"
   ]
  },
  {
   "cell_type": "code",
   "execution_count": 263,
   "metadata": {
    "collapsed": false
   },
   "outputs": [
    {
     "data": {
      "text/html": [
       "<div>\n",
       "<style scoped>\n",
       "    .dataframe tbody tr th:only-of-type {\n",
       "        vertical-align: middle;\n",
       "    }\n",
       "\n",
       "    .dataframe tbody tr th {\n",
       "        vertical-align: top;\n",
       "    }\n",
       "\n",
       "    .dataframe thead th {\n",
       "        text-align: right;\n",
       "    }\n",
       "</style>\n",
       "<table border=\"1\" class=\"dataframe\">\n",
       "  <thead>\n",
       "    <tr style=\"text-align: right;\">\n",
       "      <th></th>\n",
       "      <th>E_bu</th>\n",
       "      <th>E_hp</th>\n",
       "      <th>Req_kWh</th>\n",
       "      <th>COP_SH</th>\n",
       "      <th>Q_ts_sh</th>\n",
       "      <th>Temp</th>\n",
       "    </tr>\n",
       "    <tr>\n",
       "      <th>index</th>\n",
       "      <th></th>\n",
       "      <th></th>\n",
       "      <th></th>\n",
       "      <th></th>\n",
       "      <th></th>\n",
       "      <th></th>\n",
       "    </tr>\n",
       "  </thead>\n",
       "  <tbody>\n",
       "    <tr>\n",
       "      <th>2015-01-26 08:00:00+01:00</th>\n",
       "      <td>0.0</td>\n",
       "      <td>1.20992</td>\n",
       "      <td>3.0369</td>\n",
       "      <td>2.51</td>\n",
       "      <td>0.0</td>\n",
       "      <td>269.05</td>\n",
       "    </tr>\n",
       "    <tr>\n",
       "      <th>2015-01-26 08:15:00+01:00</th>\n",
       "      <td>0.0</td>\n",
       "      <td>1.20992</td>\n",
       "      <td>3.0369</td>\n",
       "      <td>2.51</td>\n",
       "      <td>0.0</td>\n",
       "      <td>269.05</td>\n",
       "    </tr>\n",
       "    <tr>\n",
       "      <th>2015-01-26 08:30:00+01:00</th>\n",
       "      <td>0.0</td>\n",
       "      <td>1.20992</td>\n",
       "      <td>3.0369</td>\n",
       "      <td>2.51</td>\n",
       "      <td>0.0</td>\n",
       "      <td>269.05</td>\n",
       "    </tr>\n",
       "    <tr>\n",
       "      <th>2015-01-26 08:45:00+01:00</th>\n",
       "      <td>0.0</td>\n",
       "      <td>1.20992</td>\n",
       "      <td>3.0369</td>\n",
       "      <td>2.51</td>\n",
       "      <td>0.0</td>\n",
       "      <td>269.05</td>\n",
       "    </tr>\n",
       "  </tbody>\n",
       "</table>\n",
       "</div>"
      ],
      "text/plain": [
       "                           E_bu     E_hp  Req_kWh  COP_SH  Q_ts_sh    Temp\n",
       "index                                                                     \n",
       "2015-01-26 08:00:00+01:00   0.0  1.20992   3.0369    2.51      0.0  269.05\n",
       "2015-01-26 08:15:00+01:00   0.0  1.20992   3.0369    2.51      0.0  269.05\n",
       "2015-01-26 08:30:00+01:00   0.0  1.20992   3.0369    2.51      0.0  269.05\n",
       "2015-01-26 08:45:00+01:00   0.0  1.20992   3.0369    2.51      0.0  269.05"
      ]
     },
     "execution_count": 263,
     "metadata": {},
     "output_type": "execute_result"
    }
   ],
   "source": [
    "df.loc[df.E_hp==df.E_hp.max(),['E_bu','E_hp','Req_kWh','COP_SH','Q_ts_sh','Temp']]"
   ]
  },
  {
   "cell_type": "code",
   "execution_count": 264,
   "metadata": {
    "collapsed": false
   },
   "outputs": [
    {
     "data": {
      "text/html": [
       "<div>\n",
       "<style scoped>\n",
       "    .dataframe tbody tr th:only-of-type {\n",
       "        vertical-align: middle;\n",
       "    }\n",
       "\n",
       "    .dataframe tbody tr th {\n",
       "        vertical-align: top;\n",
       "    }\n",
       "\n",
       "    .dataframe thead th {\n",
       "        text-align: right;\n",
       "    }\n",
       "</style>\n",
       "<table border=\"1\" class=\"dataframe\">\n",
       "  <thead>\n",
       "    <tr style=\"text-align: right;\">\n",
       "      <th></th>\n",
       "      <th>E_bu</th>\n",
       "      <th>E_hp</th>\n",
       "      <th>Req_kWh</th>\n",
       "      <th>COP_SH</th>\n",
       "      <th>Q_ts_sh</th>\n",
       "    </tr>\n",
       "    <tr>\n",
       "      <th>index</th>\n",
       "      <th></th>\n",
       "      <th></th>\n",
       "      <th></th>\n",
       "      <th></th>\n",
       "      <th></th>\n",
       "    </tr>\n",
       "  </thead>\n",
       "  <tbody>\n",
       "  </tbody>\n",
       "</table>\n",
       "</div>"
      ],
      "text/plain": [
       "Empty DataFrame\n",
       "Columns: [E_bu, E_hp, Req_kWh, COP_SH, Q_ts_sh]\n",
       "Index: []"
      ]
     },
     "execution_count": 264,
     "metadata": {},
     "output_type": "execute_result"
    }
   ],
   "source": [
    "df.loc[df.E_bu>0.001,['E_bu','E_hp','Req_kWh','COP_SH','Q_ts_sh']]"
   ]
  },
  {
   "cell_type": "code",
   "execution_count": 265,
   "metadata": {
    "collapsed": false
   },
   "outputs": [
    {
     "data": {
      "text/html": [
       "<div>\n",
       "<style scoped>\n",
       "    .dataframe tbody tr th:only-of-type {\n",
       "        vertical-align: middle;\n",
       "    }\n",
       "\n",
       "    .dataframe tbody tr th {\n",
       "        vertical-align: top;\n",
       "    }\n",
       "\n",
       "    .dataframe thead th {\n",
       "        text-align: right;\n",
       "    }\n",
       "</style>\n",
       "<table border=\"1\" class=\"dataframe\">\n",
       "  <thead>\n",
       "    <tr style=\"text-align: right;\">\n",
       "      <th></th>\n",
       "      <th>Bool_bu</th>\n",
       "      <th>Bool_budhw</th>\n",
       "      <th>Bool_hp</th>\n",
       "      <th>Bool_hpdhw</th>\n",
       "      <th>E_PV_batt</th>\n",
       "      <th>E_PV_bu</th>\n",
       "      <th>E_PV_budhw</th>\n",
       "      <th>E_PV_curt</th>\n",
       "      <th>E_PV_grid</th>\n",
       "      <th>E_PV_hp</th>\n",
       "      <th>...</th>\n",
       "      <th>price</th>\n",
       "      <th>Inv_P</th>\n",
       "      <th>Conv_P</th>\n",
       "      <th>Req_kWh</th>\n",
       "      <th>Req_kWh_DHW</th>\n",
       "      <th>Set_T</th>\n",
       "      <th>Temp</th>\n",
       "      <th>COP_SH</th>\n",
       "      <th>COP_DHW</th>\n",
       "      <th>Cooling</th>\n",
       "    </tr>\n",
       "    <tr>\n",
       "      <th>index</th>\n",
       "      <th></th>\n",
       "      <th></th>\n",
       "      <th></th>\n",
       "      <th></th>\n",
       "      <th></th>\n",
       "      <th></th>\n",
       "      <th></th>\n",
       "      <th></th>\n",
       "      <th></th>\n",
       "      <th></th>\n",
       "      <th></th>\n",
       "      <th></th>\n",
       "      <th></th>\n",
       "      <th></th>\n",
       "      <th></th>\n",
       "      <th></th>\n",
       "      <th></th>\n",
       "      <th></th>\n",
       "      <th></th>\n",
       "      <th></th>\n",
       "      <th></th>\n",
       "    </tr>\n",
       "  </thead>\n",
       "  <tbody>\n",
       "    <tr>\n",
       "      <th>2015-01-01 00:00:00+01:00</th>\n",
       "      <td>1.0</td>\n",
       "      <td>0.0</td>\n",
       "      <td>1.0</td>\n",
       "      <td>0.0</td>\n",
       "      <td>0.0</td>\n",
       "      <td>0.0</td>\n",
       "      <td>0.0</td>\n",
       "      <td>0.0</td>\n",
       "      <td>0.0</td>\n",
       "      <td>0.0</td>\n",
       "      <td>...</td>\n",
       "      <td>0.22</td>\n",
       "      <td>0.0</td>\n",
       "      <td>0.0</td>\n",
       "      <td>2.34622</td>\n",
       "      <td>0.000000</td>\n",
       "      <td>289.15</td>\n",
       "      <td>270.75</td>\n",
       "      <td>2.51</td>\n",
       "      <td>1.70</td>\n",
       "      <td>0</td>\n",
       "    </tr>\n",
       "    <tr>\n",
       "      <th>2015-01-01 00:15:00+01:00</th>\n",
       "      <td>1.0</td>\n",
       "      <td>0.0</td>\n",
       "      <td>1.0</td>\n",
       "      <td>0.0</td>\n",
       "      <td>0.0</td>\n",
       "      <td>0.0</td>\n",
       "      <td>0.0</td>\n",
       "      <td>0.0</td>\n",
       "      <td>0.0</td>\n",
       "      <td>0.0</td>\n",
       "      <td>...</td>\n",
       "      <td>0.22</td>\n",
       "      <td>0.0</td>\n",
       "      <td>0.0</td>\n",
       "      <td>2.34622</td>\n",
       "      <td>0.000000</td>\n",
       "      <td>289.15</td>\n",
       "      <td>270.75</td>\n",
       "      <td>2.51</td>\n",
       "      <td>1.70</td>\n",
       "      <td>0</td>\n",
       "    </tr>\n",
       "    <tr>\n",
       "      <th>2015-01-01 00:30:00+01:00</th>\n",
       "      <td>1.0</td>\n",
       "      <td>0.0</td>\n",
       "      <td>1.0</td>\n",
       "      <td>0.0</td>\n",
       "      <td>0.0</td>\n",
       "      <td>0.0</td>\n",
       "      <td>0.0</td>\n",
       "      <td>0.0</td>\n",
       "      <td>0.0</td>\n",
       "      <td>0.0</td>\n",
       "      <td>...</td>\n",
       "      <td>0.22</td>\n",
       "      <td>0.0</td>\n",
       "      <td>0.0</td>\n",
       "      <td>2.34622</td>\n",
       "      <td>0.049076</td>\n",
       "      <td>289.15</td>\n",
       "      <td>270.75</td>\n",
       "      <td>2.51</td>\n",
       "      <td>1.70</td>\n",
       "      <td>0</td>\n",
       "    </tr>\n",
       "    <tr>\n",
       "      <th>2015-01-01 00:45:00+01:00</th>\n",
       "      <td>1.0</td>\n",
       "      <td>0.0</td>\n",
       "      <td>1.0</td>\n",
       "      <td>0.0</td>\n",
       "      <td>0.0</td>\n",
       "      <td>0.0</td>\n",
       "      <td>0.0</td>\n",
       "      <td>0.0</td>\n",
       "      <td>0.0</td>\n",
       "      <td>0.0</td>\n",
       "      <td>...</td>\n",
       "      <td>0.22</td>\n",
       "      <td>0.0</td>\n",
       "      <td>0.0</td>\n",
       "      <td>2.34622</td>\n",
       "      <td>0.023250</td>\n",
       "      <td>289.15</td>\n",
       "      <td>270.75</td>\n",
       "      <td>2.51</td>\n",
       "      <td>1.70</td>\n",
       "      <td>0</td>\n",
       "    </tr>\n",
       "    <tr>\n",
       "      <th>2015-01-01 01:00:00+01:00</th>\n",
       "      <td>1.0</td>\n",
       "      <td>0.0</td>\n",
       "      <td>1.0</td>\n",
       "      <td>0.0</td>\n",
       "      <td>0.0</td>\n",
       "      <td>0.0</td>\n",
       "      <td>0.0</td>\n",
       "      <td>0.0</td>\n",
       "      <td>0.0</td>\n",
       "      <td>0.0</td>\n",
       "      <td>...</td>\n",
       "      <td>0.22</td>\n",
       "      <td>0.0</td>\n",
       "      <td>0.0</td>\n",
       "      <td>2.27940</td>\n",
       "      <td>0.066338</td>\n",
       "      <td>289.15</td>\n",
       "      <td>271.35</td>\n",
       "      <td>2.75</td>\n",
       "      <td>1.81</td>\n",
       "      <td>0</td>\n",
       "    </tr>\n",
       "  </tbody>\n",
       "</table>\n",
       "<p>5 rows × 60 columns</p>\n",
       "</div>"
      ],
      "text/plain": [
       "                           Bool_bu  Bool_budhw  Bool_hp  Bool_hpdhw  \\\n",
       "index                                                                 \n",
       "2015-01-01 00:00:00+01:00      1.0         0.0      1.0         0.0   \n",
       "2015-01-01 00:15:00+01:00      1.0         0.0      1.0         0.0   \n",
       "2015-01-01 00:30:00+01:00      1.0         0.0      1.0         0.0   \n",
       "2015-01-01 00:45:00+01:00      1.0         0.0      1.0         0.0   \n",
       "2015-01-01 01:00:00+01:00      1.0         0.0      1.0         0.0   \n",
       "\n",
       "                           E_PV_batt  E_PV_bu  E_PV_budhw  E_PV_curt  \\\n",
       "index                                                                  \n",
       "2015-01-01 00:00:00+01:00        0.0      0.0         0.0        0.0   \n",
       "2015-01-01 00:15:00+01:00        0.0      0.0         0.0        0.0   \n",
       "2015-01-01 00:30:00+01:00        0.0      0.0         0.0        0.0   \n",
       "2015-01-01 00:45:00+01:00        0.0      0.0         0.0        0.0   \n",
       "2015-01-01 01:00:00+01:00        0.0      0.0         0.0        0.0   \n",
       "\n",
       "                           E_PV_grid  E_PV_hp   ...     price  Inv_P  Conv_P  \\\n",
       "index                                           ...                            \n",
       "2015-01-01 00:00:00+01:00        0.0      0.0   ...      0.22    0.0     0.0   \n",
       "2015-01-01 00:15:00+01:00        0.0      0.0   ...      0.22    0.0     0.0   \n",
       "2015-01-01 00:30:00+01:00        0.0      0.0   ...      0.22    0.0     0.0   \n",
       "2015-01-01 00:45:00+01:00        0.0      0.0   ...      0.22    0.0     0.0   \n",
       "2015-01-01 01:00:00+01:00        0.0      0.0   ...      0.22    0.0     0.0   \n",
       "\n",
       "                           Req_kWh  Req_kWh_DHW   Set_T    Temp  COP_SH  \\\n",
       "index                                                                     \n",
       "2015-01-01 00:00:00+01:00  2.34622     0.000000  289.15  270.75    2.51   \n",
       "2015-01-01 00:15:00+01:00  2.34622     0.000000  289.15  270.75    2.51   \n",
       "2015-01-01 00:30:00+01:00  2.34622     0.049076  289.15  270.75    2.51   \n",
       "2015-01-01 00:45:00+01:00  2.34622     0.023250  289.15  270.75    2.51   \n",
       "2015-01-01 01:00:00+01:00  2.27940     0.066338  289.15  271.35    2.75   \n",
       "\n",
       "                           COP_DHW  Cooling  \n",
       "index                                        \n",
       "2015-01-01 00:00:00+01:00     1.70        0  \n",
       "2015-01-01 00:15:00+01:00     1.70        0  \n",
       "2015-01-01 00:30:00+01:00     1.70        0  \n",
       "2015-01-01 00:45:00+01:00     1.70        0  \n",
       "2015-01-01 01:00:00+01:00     1.81        0  \n",
       "\n",
       "[5 rows x 60 columns]"
      ]
     },
     "execution_count": 265,
     "metadata": {},
     "output_type": "execute_result"
    }
   ],
   "source": [
    "df.head()"
   ]
  },
  {
   "cell_type": "code",
   "execution_count": 266,
   "metadata": {
    "collapsed": false
   },
   "outputs": [
    {
     "data": {
      "image/png": "[encoded data removed]",
      "text/plain": [
       "<Figure size 432x288 with 1 Axes>"
      ]
     },
     "metadata": {
      "needs_background": "light"
     },
     "output_type": "display_data"
    }
   ],
   "source": [
    "df.COP_SH.plot()\n",
    "df.COP_DHW.plot()\n",
    "\n",
    "plt.show()\n"
   ]
  },
  {
   "cell_type": "code",
   "execution_count": 267,
   "metadata": {
    "collapsed": false
   },
   "outputs": [
    {
     "data": {
      "image/png": "[encoded data removed]",
      "text/plain": [
       "<Figure size 432x288 with 1 Axes>"
      ]
     },
     "metadata": {
      "needs_background": "light"
     },
     "output_type": "display_data"
    }
   ],
   "source": [
    "doy=124\n",
    "df[(df.index.dayofyear>=doy)].E_hp_cooling.plot()\n",
    "\n",
    "df[(df.index.dayofyear>=doy)].Q_ts_sh.plot()\n",
    "((df[(df.index.dayofyear>=doy)].T_ts-273.15)/10).plot()\n",
    "df[(df.index.dayofyear>=doy)].Req_kWh.plot()\n",
    "df[(df.index.dayofyear>=doy)].E_PV_hp.plot()\n",
    "plt.legend()\n",
    "plt.show()"
   ]
  },
  {
   "cell_type": "code",
   "execution_count": 291,
   "metadata": {
    "collapsed": false
   },
   "outputs": [
    {
     "data": {
      "image/png": "[encoded data removed]",
      "text/plain": [
       "<Figure size 432x288 with 1 Axes>"
      ]
     },
     "metadata": {
      "needs_background": "light"
     },
     "output_type": "display_data"
    }
   ],
   "source": [
    "doy=164\n",
    "\n",
    "#df[(df.index.dayofyear==doy)].E_PV.plot()\n",
    "df[(df.index.dayofyear==doy)].E_PV_hpdhw.plot()\n",
    "df[(df.index.dayofyear==doy)].E_PV_hp.plot()\n",
    "(-df[(df.index.dayofyear==doy)].E_cons).plot()\n",
    "#df[(df.index.dayofyear==doy)].E_PV_curt.plot()\n",
    "df[(df.index.dayofyear==doy)].E_demand.plot()\n",
    "df[(df.index.dayofyear==doy)].E_hp.plot()\n",
    "df[(df.index.dayofyear==doy)].E_hp_cooling.plot()\n",
    "#df[(df.index.dayofyear==doy)].COP_SH.plot()\n",
    "(df[(df.index.dayofyear==doy)].E_hpdhw*10).plot()\n",
    "(df[(df.index.dayofyear==doy)].Q_dhwst_hd*10).plot()\n",
    "#((df[(df.index.dayofyear==doy)].T_dhwst-273.15)/10).plot()\n",
    "df[(df.index.dayofyear==doy)].Req_kWh.plot()\n",
    "#df[(df.index.dayofyear==doy)].Req_kWh_DHW.plot()\n",
    "plt.legend()\n",
    "plt.show()"
   ]
  },
  {
   "cell_type": "code",
   "execution_count": 331,
   "metadata": {
    "collapsed": true
   },
   "outputs": [],
   "source": [
    "l=[name for name in os.listdir('Output/') if 'df' in name]\n",
    "    "
   ]
  },
  {
   "cell_type": "code",
   "execution_count": 332,
   "metadata": {
    "collapsed": true
   },
   "outputs": [],
   "source": [
    "app=[]\n",
    "conf=[]\n",
    "for i in l:\n",
    "    app.append(i.split('_')[5])\n",
    "    conf.append(i.split('_')[7])\n"
   ]
  },
  {
   "cell_type": "code",
   "execution_count": 333,
   "metadata": {
    "collapsed": false
   },
   "outputs": [
    {
     "data": {
      "text/plain": [
       "46"
      ]
     },
     "execution_count": 333,
     "metadata": {},
     "output_type": "execute_result"
    }
   ],
   "source": [
    "len(l)"
   ]
  },
  {
   "cell_type": "code",
   "execution_count": 334,
   "metadata": {
    "collapsed": true
   },
   "outputs": [],
   "source": [
    "aux=pd.DataFrame(np.array([app,conf]).T,columns=['app','conf'])"
   ]
  },
  {
   "cell_type": "code",
   "execution_count": 335,
   "metadata": {
    "collapsed": true
   },
   "outputs": [],
   "source": [
    "aux.loc[:,'app']=aux.loc[:,'app'].replace('0100',0)\n",
    "aux.loc[:,'app']=aux.loc[:,'app'].replace('0101',1)\n",
    "aux.loc[:,'app']=aux.loc[:,'app'].replace('0110',2)\n",
    "aux.loc[:,'app']=aux.loc[:,'app'].replace('0111',3)\n",
    "aux.loc[:,'app']=aux.loc[:,'app'].replace('1100',4)\n",
    "aux.loc[:,'app']=aux.loc[:,'app'].replace('1101',5)\n",
    "aux.loc[:,'app']=aux.loc[:,'app'].replace('1110',6)\n",
    "aux.loc[:,'app']=aux.loc[:,'app'].replace('1111',7)\n",
    "\n",
    "aux.loc[:,'conf']=aux.loc[:,'conf'].replace('0100',0)\n",
    "aux.loc[:,'conf']=aux.loc[:,'conf'].replace('0110',1)\n",
    "aux.loc[:,'conf']=aux.loc[:,'conf'].replace('0111',2)\n",
    "aux.loc[:,'conf']=aux.loc[:,'conf'].replace('1100',3)\n",
    "aux.loc[:,'conf']=aux.loc[:,'conf'].replace('1110',4)\n",
    "aux.loc[:,'conf']=aux.loc[:,'conf'].replace('1111',5)\n"
   ]
  },
  {
   "cell_type": "code",
   "execution_count": 336,
   "metadata": {
    "collapsed": false
   },
   "outputs": [
    {
     "data": {
      "text/html": [
       "<div>\n",
       "<style scoped>\n",
       "    .dataframe tbody tr th:only-of-type {\n",
       "        vertical-align: middle;\n",
       "    }\n",
       "\n",
       "    .dataframe tbody tr th {\n",
       "        vertical-align: top;\n",
       "    }\n",
       "\n",
       "    .dataframe thead th {\n",
       "        text-align: right;\n",
       "    }\n",
       "</style>\n",
       "<table border=\"1\" class=\"dataframe\">\n",
       "  <thead>\n",
       "    <tr style=\"text-align: right;\">\n",
       "      <th></th>\n",
       "      <th>app</th>\n",
       "      <th>conf</th>\n",
       "    </tr>\n",
       "  </thead>\n",
       "  <tbody>\n",
       "    <tr>\n",
       "      <th>0</th>\n",
       "      <td>6</td>\n",
       "      <td>3</td>\n",
       "    </tr>\n",
       "    <tr>\n",
       "      <th>1</th>\n",
       "      <td>1</td>\n",
       "      <td>4</td>\n",
       "    </tr>\n",
       "    <tr>\n",
       "      <th>2</th>\n",
       "      <td>0</td>\n",
       "      <td>3</td>\n",
       "    </tr>\n",
       "    <tr>\n",
       "      <th>3</th>\n",
       "      <td>1</td>\n",
       "      <td>1</td>\n",
       "    </tr>\n",
       "    <tr>\n",
       "      <th>4</th>\n",
       "      <td>4</td>\n",
       "      <td>2</td>\n",
       "    </tr>\n",
       "    <tr>\n",
       "      <th>5</th>\n",
       "      <td>2</td>\n",
       "      <td>0</td>\n",
       "    </tr>\n",
       "    <tr>\n",
       "      <th>6</th>\n",
       "      <td>2</td>\n",
       "      <td>2</td>\n",
       "    </tr>\n",
       "    <tr>\n",
       "      <th>7</th>\n",
       "      <td>6</td>\n",
       "      <td>0</td>\n",
       "    </tr>\n",
       "    <tr>\n",
       "      <th>8</th>\n",
       "      <td>5</td>\n",
       "      <td>3</td>\n",
       "    </tr>\n",
       "    <tr>\n",
       "      <th>9</th>\n",
       "      <td>1</td>\n",
       "      <td>0</td>\n",
       "    </tr>\n",
       "    <tr>\n",
       "      <th>10</th>\n",
       "      <td>0</td>\n",
       "      <td>4</td>\n",
       "    </tr>\n",
       "    <tr>\n",
       "      <th>11</th>\n",
       "      <td>4</td>\n",
       "      <td>1</td>\n",
       "    </tr>\n",
       "    <tr>\n",
       "      <th>12</th>\n",
       "      <td>2</td>\n",
       "      <td>4</td>\n",
       "    </tr>\n",
       "    <tr>\n",
       "      <th>13</th>\n",
       "      <td>4</td>\n",
       "      <td>3</td>\n",
       "    </tr>\n",
       "    <tr>\n",
       "      <th>14</th>\n",
       "      <td>3</td>\n",
       "      <td>0</td>\n",
       "    </tr>\n",
       "    <tr>\n",
       "      <th>15</th>\n",
       "      <td>0</td>\n",
       "      <td>1</td>\n",
       "    </tr>\n",
       "    <tr>\n",
       "      <th>16</th>\n",
       "      <td>4</td>\n",
       "      <td>4</td>\n",
       "    </tr>\n",
       "    <tr>\n",
       "      <th>17</th>\n",
       "      <td>1</td>\n",
       "      <td>5</td>\n",
       "    </tr>\n",
       "    <tr>\n",
       "      <th>18</th>\n",
       "      <td>6</td>\n",
       "      <td>1</td>\n",
       "    </tr>\n",
       "    <tr>\n",
       "      <th>19</th>\n",
       "      <td>7</td>\n",
       "      <td>3</td>\n",
       "    </tr>\n",
       "    <tr>\n",
       "      <th>20</th>\n",
       "      <td>5</td>\n",
       "      <td>5</td>\n",
       "    </tr>\n",
       "    <tr>\n",
       "      <th>21</th>\n",
       "      <td>3</td>\n",
       "      <td>4</td>\n",
       "    </tr>\n",
       "    <tr>\n",
       "      <th>22</th>\n",
       "      <td>3</td>\n",
       "      <td>3</td>\n",
       "    </tr>\n",
       "    <tr>\n",
       "      <th>23</th>\n",
       "      <td>7</td>\n",
       "      <td>5</td>\n",
       "    </tr>\n",
       "    <tr>\n",
       "      <th>24</th>\n",
       "      <td>0</td>\n",
       "      <td>2</td>\n",
       "    </tr>\n",
       "    <tr>\n",
       "      <th>25</th>\n",
       "      <td>6</td>\n",
       "      <td>2</td>\n",
       "    </tr>\n",
       "    <tr>\n",
       "      <th>26</th>\n",
       "      <td>5</td>\n",
       "      <td>2</td>\n",
       "    </tr>\n",
       "    <tr>\n",
       "      <th>27</th>\n",
       "      <td>3</td>\n",
       "      <td>5</td>\n",
       "    </tr>\n",
       "    <tr>\n",
       "      <th>28</th>\n",
       "      <td>5</td>\n",
       "      <td>1</td>\n",
       "    </tr>\n",
       "    <tr>\n",
       "      <th>29</th>\n",
       "      <td>2</td>\n",
       "      <td>1</td>\n",
       "    </tr>\n",
       "    <tr>\n",
       "      <th>30</th>\n",
       "      <td>3</td>\n",
       "      <td>2</td>\n",
       "    </tr>\n",
       "    <tr>\n",
       "      <th>31</th>\n",
       "      <td>2</td>\n",
       "      <td>5</td>\n",
       "    </tr>\n",
       "    <tr>\n",
       "      <th>32</th>\n",
       "      <td>7</td>\n",
       "      <td>0</td>\n",
       "    </tr>\n",
       "    <tr>\n",
       "      <th>33</th>\n",
       "      <td>6</td>\n",
       "      <td>5</td>\n",
       "    </tr>\n",
       "    <tr>\n",
       "      <th>34</th>\n",
       "      <td>1</td>\n",
       "      <td>3</td>\n",
       "    </tr>\n",
       "    <tr>\n",
       "      <th>35</th>\n",
       "      <td>5</td>\n",
       "      <td>0</td>\n",
       "    </tr>\n",
       "    <tr>\n",
       "      <th>36</th>\n",
       "      <td>4</td>\n",
       "      <td>0</td>\n",
       "    </tr>\n",
       "    <tr>\n",
       "      <th>37</th>\n",
       "      <td>7</td>\n",
       "      <td>4</td>\n",
       "    </tr>\n",
       "    <tr>\n",
       "      <th>38</th>\n",
       "      <td>7</td>\n",
       "      <td>1</td>\n",
       "    </tr>\n",
       "    <tr>\n",
       "      <th>39</th>\n",
       "      <td>2</td>\n",
       "      <td>3</td>\n",
       "    </tr>\n",
       "    <tr>\n",
       "      <th>40</th>\n",
       "      <td>6</td>\n",
       "      <td>4</td>\n",
       "    </tr>\n",
       "    <tr>\n",
       "      <th>41</th>\n",
       "      <td>0</td>\n",
       "      <td>0</td>\n",
       "    </tr>\n",
       "    <tr>\n",
       "      <th>42</th>\n",
       "      <td>1</td>\n",
       "      <td>2</td>\n",
       "    </tr>\n",
       "    <tr>\n",
       "      <th>43</th>\n",
       "      <td>7</td>\n",
       "      <td>2</td>\n",
       "    </tr>\n",
       "    <tr>\n",
       "      <th>44</th>\n",
       "      <td>3</td>\n",
       "      <td>1</td>\n",
       "    </tr>\n",
       "    <tr>\n",
       "      <th>45</th>\n",
       "      <td>5</td>\n",
       "      <td>4</td>\n",
       "    </tr>\n",
       "  </tbody>\n",
       "</table>\n",
       "</div>"
      ],
      "text/plain": [
       "    app  conf\n",
       "0     6     3\n",
       "1     1     4\n",
       "2     0     3\n",
       "3     1     1\n",
       "4     4     2\n",
       "5     2     0\n",
       "6     2     2\n",
       "7     6     0\n",
       "8     5     3\n",
       "9     1     0\n",
       "10    0     4\n",
       "11    4     1\n",
       "12    2     4\n",
       "13    4     3\n",
       "14    3     0\n",
       "15    0     1\n",
       "16    4     4\n",
       "17    1     5\n",
       "18    6     1\n",
       "19    7     3\n",
       "20    5     5\n",
       "21    3     4\n",
       "22    3     3\n",
       "23    7     5\n",
       "24    0     2\n",
       "25    6     2\n",
       "26    5     2\n",
       "27    3     5\n",
       "28    5     1\n",
       "29    2     1\n",
       "30    3     2\n",
       "31    2     5\n",
       "32    7     0\n",
       "33    6     5\n",
       "34    1     3\n",
       "35    5     0\n",
       "36    4     0\n",
       "37    7     4\n",
       "38    7     1\n",
       "39    2     3\n",
       "40    6     4\n",
       "41    0     0\n",
       "42    1     2\n",
       "43    7     2\n",
       "44    3     1\n",
       "45    5     4"
      ]
     },
     "execution_count": 336,
     "metadata": {},
     "output_type": "execute_result"
    }
   ],
   "source": [
    "aux"
   ]
  },
  {
   "cell_type": "code",
   "execution_count": 294,
   "metadata": {
    "collapsed": false
   },
   "outputs": [
    {
     "data": {
      "text/plain": [
       "['dict_110144756389_CH_PV50_NMC_1111_7.0_0110_mean.csv',\n",
       " 'df_110144756389_CH_PV50_NMC_1110_7.0_1100_mean.csv',\n",
       " 'dict_110144756389_CH_PV50_NMC_1110_7.0_1100_mean.csv',\n",
       " 'df_110144756389_CH_PV50_NMC_0101_7.0_1110_mean.csv',\n",
       " 'dict_110144756389_CH_PV50_NMC_1111_7.0_1110_mean.csv',\n",
       " 'df_110144756389_CH_PV50_NMC_0100_7.0_1100_mean.csv',\n",
       " 'df_110144756389_CH_PV50_NMC_0101_7.0_0110_mean.csv',\n",
       " 'df_110144756389_CH_PV50_NMC_1100_7.0_0111_mean.csv',\n",
       " 'df_110144756389_CH_PV50_NMC_0110_7.0_0100_mean.csv',\n",
       " 'df_110144756389_CH_PV50_NMC_0110_7.0_0111_mean.csv',\n",
       " 'dict_110144756389_CH_PV50_NMC_0100_7.0_1100_mean.csv',\n",
       " 'dict_110144756389_CH_PV50_NMC_1101_7.0_0111_mean.csv',\n",
       " 'df_110144756389_CH_PV50_NMC_1110_7.0_0100_mean.csv',\n",
       " 'df_110144756389_CH_PV50_NMC_1101_7.0_1100_mean.csv',\n",
       " 'dict_110144756389_CH_PV50_NMC_1100_7.0_0110_mean.csv',\n",
       " 'dict_110144756389_CH_PV50_NMC_0111_7.0_1110_mean.csv',\n",
       " 'df_110144756389_CH_PV50_NMC_0101_7.0_0100_mean.csv',\n",
       " 'df_110144756389_CH_PV50_NMC_0100_7.0_1110_mean.csv',\n",
       " 'dict_110144756389_CH_PV50_NMC_1111_7.0_0100_mean.csv',\n",
       " 'dict_110144756389_CH_PV50_NMC_0100_7.0_0100_mean.csv',\n",
       " 'df_110144756389_CH_PV50_NMC_1100_7.0_0110_mean.csv',\n",
       " 'df_110144756389_CH_PV50_NMC_0110_7.0_1110_mean.csv',\n",
       " 'df_110144756389_CH_PV50_NMC_1100_7.0_1100_mean.csv',\n",
       " 'df_110144756389_CH_PV50_NMC_0111_7.0_0100_mean.csv',\n",
       " 'dict_110144756389_CH_PV50_NMC_1110_7.0_0110_mean.csv',\n",
       " 'df_110144756389_CH_PV50_NMC_0100_7.0_0110_mean.csv',\n",
       " 'dict_110144756389_CH_PV50_NMC_0110_7.0_0110_mean.csv',\n",
       " 'dict_110144756389_CH_PV50_NMC_0100_7.0_1110_mean.csv',\n",
       " 'df_110144756389_CH_PV50_NMC_1100_7.0_1110_mean.csv',\n",
       " 'dict_110144756389_CH_PV50_NMC_0110_7.0_0100_mean.csv',\n",
       " 'dict_110144756389_CH_PV50_NMC_1111_7.0_1100_mean.csv',\n",
       " 'dict_110144756389_CH_PV50_NMC_0111_7.0_0111_mean.csv',\n",
       " 'dict_110144756389_CH_PV50_NMC_0110_7.0_1111_mean.csv',\n",
       " 'dict_110144756389_CH_PV50_NMC_1100_7.0_1100_mean.csv',\n",
       " 'df_110144756389_CH_PV50_NMC_1110_7.0_0110_mean.csv',\n",
       " 'dict_110144756389_CH_PV50_NMC_1100_7.0_1110_mean.csv',\n",
       " 'df_110144756389_CH_PV50_NMC_1111_7.0_1100_mean.csv',\n",
       " 'dict_110144756389_CH_PV50_NMC_1100_7.0_0100_mean.csv',\n",
       " 'df_110144756389_CH_PV50_NMC_0111_7.0_1110_mean.csv',\n",
       " 'df_110144756389_CH_PV50_NMC_0111_7.0_1100_mean.csv',\n",
       " 'dict_110144756389_CH_PV50_NMC_1110_7.0_1110_mean.csv',\n",
       " 'dict_110144756389_CH_PV50_NMC_0101_7.0_1110_mean.csv',\n",
       " 'dict_110144756389_CH_PV50_NMC_0101_7.0_0111_mean.csv',\n",
       " 'dict_110144756389_CH_PV50_NMC_1110_7.0_0100_mean.csv',\n",
       " 'dict_110144756389_CH_PV50_NMC_0101_7.0_0110_mean.csv',\n",
       " 'df_110144756389_CH_PV50_NMC_0100_7.0_0111_mean.csv',\n",
       " 'df_110144756389_CH_PV50_NMC_1110_7.0_0111_mean.csv',\n",
       " 'df_110144756389_CH_PV50_NMC_1101_7.0_0111_mean.csv',\n",
       " 'dict_110144756389_CH_PV50_NMC_1110_7.0_0111_mean.csv',\n",
       " 'dict_110144756389_CH_PV50_NMC_1101_7.0_0110_mean.csv',\n",
       " 'dict_110144756389_CH_PV50_NMC_0111_7.0_1100_mean.csv',\n",
       " '.ipynb_checkpoints',\n",
       " 'df_110144756389_CH_PV50_NMC_1101_7.0_0110_mean.csv',\n",
       " 'df_110144756389_CH_PV50_NMC_0110_7.0_0110_mean.csv',\n",
       " 'df_110144756389_CH_PV50_NMC_0111_7.0_0111_mean.csv',\n",
       " 'dict_110144756389_CH_PV50_NMC_1101_7.0_1110_mean.csv',\n",
       " 'dict_110144756389_CH_PV50_NMC_1110_7.0_1111_mean.csv',\n",
       " 'df_110144756389_CH_PV50_NMC_0110_7.0_1111_mean.csv',\n",
       " 'df_110144756389_CH_PV50_NMC_1111_7.0_0100_mean.csv',\n",
       " 'df_110144756389_CH_PV50_NMC_1110_7.0_1111_mean.csv',\n",
       " 'dict_110144756389_CH_PV50_NMC_0100_7.0_0111_mean.csv',\n",
       " 'dict_110144756389_CH_PV50_NMC_0111_7.0_0110_mean.csv',\n",
       " 'df_110144756389_CH_PV50_NMC_0101_7.0_1100_mean.csv',\n",
       " 'aggregated_results.csv',\n",
       " 'dict_110144756389_CH_PV50_NMC_1111_7.0_0111_mean.csv',\n",
       " 'dict_110144756389_CH_PV50_NMC_1101_7.0_1100_mean.csv',\n",
       " 'df_110144756389_CH_PV50_NMC_1101_7.0_0100_mean.csv',\n",
       " 'df_110144756389_CH_PV50_NMC_1100_7.0_0100_mean.csv',\n",
       " 'df_110144756389_CH_PV50_NMC_1111_7.0_1110_mean.csv',\n",
       " 'df_110144756389_CH_PV50_NMC_1111_7.0_0110_mean.csv',\n",
       " 'df_110144756389_CH_PV50_NMC_0110_7.0_1100_mean.csv',\n",
       " 'df_110144756389_CH_PV50_NMC_1110_7.0_1110_mean.csv',\n",
       " 'dict_110144756389_CH_PV50_NMC_0100_7.0_0110_mean.csv',\n",
       " 'df_110144756389_CH_PV50_NMC_0100_7.0_0100_mean.csv',\n",
       " 'df_110144756389_CH_PV50_NMC_0101_7.0_0111_mean.csv',\n",
       " 'dict_110144756389_CH_PV50_NMC_0110_7.0_0111_mean.csv',\n",
       " 'dict_110144756389_CH_PV50_NMC_0101_7.0_0100_mean.csv',\n",
       " 'dict_110144756389_CH_PV50_NMC_0110_7.0_1100_mean.csv',\n",
       " 'dict_110144756389_CH_PV50_NMC_0110_7.0_1110_mean.csv',\n",
       " 'dict_110144756389_CH_PV50_NMC_1101_7.0_0100_mean.csv',\n",
       " 'dict_110144756389_CH_PV50_NMC_0101_7.0_1100_mean.csv',\n",
       " 'df_110144756389_CH_PV50_NMC_1111_7.0_0111_mean.csv',\n",
       " 'df_110144756389_CH_PV50_NMC_0111_7.0_0110_mean.csv',\n",
       " 'dict_110144756389_CH_PV50_NMC_0111_7.0_0100_mean.csv',\n",
       " 'dict_110144756389_CH_PV50_NMC_1100_7.0_0111_mean.csv',\n",
       " 'df_110144756389_CH_PV50_NMC_1101_7.0_1110_mean.csv']"
      ]
     },
     "execution_count": 294,
     "metadata": {},
     "output_type": "execute_result"
    }
   ],
   "source": [
    "os.listdir('Output/')"
   ]
  },
  {
   "cell_type": "code",
   "execution_count": null,
   "metadata": {
    "collapsed": true
   },
   "outputs": [],
   "source": []
  },
  {
   "cell_type": "code",
   "execution_count": null,
   "metadata": {
    "collapsed": true
   },
   "outputs": [],
   "source": []
  },
  {
   "cell_type": "code",
   "execution_count": 222,
   "metadata": {
    "collapsed": false
   },
   "outputs": [
    {
     "data": {
      "text/plain": [
       "1111.3"
      ]
     },
     "execution_count": 222,
     "metadata": {},
     "output_type": "execute_result"
    }
   ],
   "source": [
    "df.E_hpdhw.sum().round(1)"
   ]
  },
  {
   "cell_type": "code",
   "execution_count": 223,
   "metadata": {
    "collapsed": false
   },
   "outputs": [
    {
     "data": {
      "text/plain": [
       "26102.0"
      ]
     },
     "execution_count": 223,
     "metadata": {},
     "output_type": "execute_result"
    }
   ],
   "source": [
    "df[df.Q_ts_sh>0].Q_ts_sh.sum().round(1)"
   ]
  },
  {
   "cell_type": "code",
   "execution_count": 224,
   "metadata": {
    "collapsed": false
   },
   "outputs": [
    {
     "data": {
      "text/plain": [
       "-5728.3"
      ]
     },
     "execution_count": 224,
     "metadata": {},
     "output_type": "execute_result"
    }
   ],
   "source": [
    "df[df.Q_ts_sh<0].Q_ts_sh.sum().round(1)"
   ]
  },
  {
   "cell_type": "code",
   "execution_count": 225,
   "metadata": {
    "collapsed": false
   },
   "outputs": [
    {
     "data": {
      "text/plain": [
       "31830.3"
      ]
     },
     "execution_count": 225,
     "metadata": {},
     "output_type": "execute_result"
    }
   ],
   "source": [
    "26102.0+5728.3"
   ]
  },
  {
   "cell_type": "code",
   "execution_count": 226,
   "metadata": {
    "collapsed": false
   },
   "outputs": [
    {
     "data": {
      "text/plain": [
       "1111.3"
      ]
     },
     "execution_count": 226,
     "metadata": {},
     "output_type": "execute_result"
    }
   ],
   "source": [
    "df.E_hpdhw.sum().round(1)"
   ]
  },
  {
   "cell_type": "code",
   "execution_count": 227,
   "metadata": {
    "collapsed": false
   },
   "outputs": [
    {
     "data": {
      "text/plain": [
       "Bool_bu               35040.0\n",
       "Bool_budhw                0.0\n",
       "Bool_hp               19052.0\n",
       "Bool_hpdhw            15988.0\n",
       "E_PV_batt                 0.0\n",
       "E_PV_bu                  16.6\n",
       "E_PV_budhw                0.0\n",
       "E_PV_curt               159.4\n",
       "E_PV_grid              2694.6\n",
       "E_PV_hp                1676.6\n",
       "E_PV_hpdhw              590.3\n",
       "E_PV_load              1412.0\n",
       "E_batt_bu                 0.0\n",
       "E_batt_budhw              0.0\n",
       "E_batt_hp                 0.0\n",
       "E_batt_hpdhw              0.0\n",
       "E_batt_load               0.0\n",
       "E_bu                      0.0\n",
       "E_budhw                   0.0\n",
       "E_char                    0.0\n",
       "E_cons                 7801.3\n",
       "E_dis                     0.0\n",
       "E_grid_batt               0.0\n",
       "E_grid_bu                 0.0\n",
       "E_grid_budhw              0.0\n",
       "E_grid_hp              4258.5\n",
       "E_grid_hpdhw            521.0\n",
       "E_grid_load            3021.8\n",
       "E_hp                   4684.5\n",
       "E_hp_cooling           1250.5\n",
       "                      ...    \n",
       "E_loss_conv               0.0\n",
       "E_loss_inv              319.5\n",
       "E_loss_inv_PV           319.5\n",
       "E_loss_inv_batt           0.0\n",
       "E_loss_inv_grid           0.0\n",
       "Q_dhwst_hd             3648.3\n",
       "Q_hp_dhwst                0.0\n",
       "Q_hp_sh                   0.0\n",
       "Q_loss_dhwst            252.4\n",
       "Q_loss_ts               107.3\n",
       "Q_ts                  96993.7\n",
       "Q_ts_cooling              0.0\n",
       "Q_ts_delta                0.0\n",
       "Q_ts_sh               20373.7\n",
       "SOC                    8584.8\n",
       "T_dhwst            11376231.0\n",
       "T_ts               10694897.6\n",
       "E_demand               4433.9\n",
       "E_PV                   6869.0\n",
       "Export_price           1411.3\n",
       "price                  6012.9\n",
       "Inv_P                 17704.5\n",
       "Conv_P                16426.5\n",
       "Req_kWh               31830.3\n",
       "Req_kWh_DHW            3648.3\n",
       "Set_T              10190216.0\n",
       "Temp                9935872.8\n",
       "COP_SH               196224.0\n",
       "COP_DHW              122990.4\n",
       "Cooling                4128.0\n",
       "Length: 62, dtype: float64"
      ]
     },
     "execution_count": 227,
     "metadata": {},
     "output_type": "execute_result"
    }
   ],
   "source": [
    "df.sum().round(1)"
   ]
  },
  {
   "cell_type": "code",
   "execution_count": 214,
   "metadata": {
    "collapsed": false
   },
   "outputs": [
    {
     "data": {
      "text/plain": [
       "Bool_bu               35040.0\n",
       "Bool_budhw                0.0\n",
       "Bool_hp               19966.0\n",
       "Bool_hpdhw            15074.0\n",
       "E_PV_batt               875.2\n",
       "E_PV_bu                  -0.0\n",
       "E_PV_budhw                0.0\n",
       "E_PV_curt                89.3\n",
       "E_PV_grid              1710.8\n",
       "E_PV_hp                1970.9\n",
       "E_PV_hpdhw              517.3\n",
       "E_PV_load              1302.9\n",
       "E_batt_bu                 2.8\n",
       "E_batt_budhw              0.0\n",
       "E_batt_hp               110.7\n",
       "E_batt_hpdhw             59.3\n",
       "E_batt_load             567.2\n",
       "E_bu                      0.0\n",
       "E_budhw                   0.0\n",
       "E_char                  875.2\n",
       "E_cons                 9143.2\n",
       "E_dis                   778.9\n",
       "E_grid_batt               0.0\n",
       "E_grid_bu                 0.0\n",
       "E_grid_budhw              0.0\n",
       "E_grid_hp              6044.7\n",
       "E_grid_hpdhw            534.7\n",
       "E_grid_load            2563.8\n",
       "E_hp                   6305.9\n",
       "E_hp_cooling           1820.3\n",
       "                      ...    \n",
       "E_loss_conv             127.5\n",
       "E_loss_inv              314.0\n",
       "E_loss_inv_PV           275.1\n",
       "E_loss_inv_batt          38.9\n",
       "E_loss_inv_grid           0.0\n",
       "Q_dhwst_hd             3648.3\n",
       "Q_hp_dhwst                0.0\n",
       "Q_hp_sh                   0.0\n",
       "Q_loss_dhwst            252.0\n",
       "Q_loss_ts               106.8\n",
       "Q_ts                  92686.4\n",
       "Q_ts_cooling              0.0\n",
       "Q_ts_delta               -0.0\n",
       "Q_ts_sh               20373.7\n",
       "SOC                   31924.9\n",
       "T_dhwst            11374144.5\n",
       "T_ts               10692221.9\n",
       "E_demand               4433.9\n",
       "E_PV                   6869.0\n",
       "Export_price           1411.3\n",
       "price                  6012.9\n",
       "Inv_P                 15579.5\n",
       "Conv_P                16065.6\n",
       "Req_kWh               31830.3\n",
       "Req_kWh_DHW            3648.3\n",
       "Set_T              10190216.0\n",
       "Temp                9935872.8\n",
       "COP_SH               145766.4\n",
       "COP_DHW              122990.4\n",
       "Cooling                4128.0\n",
       "Length: 62, dtype: float64"
      ]
     },
     "execution_count": 214,
     "metadata": {},
     "output_type": "execute_result"
    }
   ],
   "source": [
    "df.sum().round(1)"
   ]
  },
  {
   "cell_type": "code",
   "execution_count": null,
   "metadata": {
    "collapsed": true
   },
   "outputs": [],
   "source": []
  }
 ],
 "metadata": {
  "kernelspec": {
   "display_name": "Python 3",
   "language": "python",
   "name": "python3"
  },
  "language_info": {
   "codemirror_mode": {
    "name": "ipython",
    "version": 3
   },
   "file_extension": ".py",
   "mimetype": "text/x-python",
   "name": "python",
   "nbconvert_exporter": "python",
   "pygments_lexer": "ipython3",
   "version": "3.6.0"
  }
 },
 "nbformat": 4,
 "nbformat_minor": 2
}
